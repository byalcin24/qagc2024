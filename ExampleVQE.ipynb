{
 "cells": [
  {
   "cell_type": "code",
   "execution_count": 29,
   "id": "edb9a9da-ed77-45b7-9610-29760e255987",
   "metadata": {},
   "outputs": [],
   "source": [
    "import numpy as np\n",
    "from qiskit_nature.second_q.operators import FermionicOp\n",
    "from qiskit_nature.second_q.mappers import JordanWignerMapper"
   ]
  },
  {
   "cell_type": "code",
   "execution_count": 24,
   "id": "74b39bc6-64cc-4995-aeed-519147ab9309",
   "metadata": {},
   "outputs": [],
   "source": [
    "n = 10\n",
    "N = 2*n\n",
    "t=1\n",
    "mu=1\n",
    "U=1"
   ]
  },
  {
   "cell_type": "code",
   "execution_count": 25,
   "id": "895d5adb-41ba-4dca-8a05-9c738fd3cbf7",
   "metadata": {},
   "outputs": [],
   "source": [
    "op = FermionicOp(\n",
    "    {\n",
    "        \"+_0 -_0\": 1.0,\n",
    "        \"+_1 -_1\": -1.0,\n",
    "    },\n",
    "    num_spin_orbitals=2,\n",
    ")"
   ]
  },
  {
   "cell_type": "code",
   "execution_count": 26,
   "id": "d7c28209-2bc3-4b57-b2c0-147c98953fab",
   "metadata": {},
   "outputs": [
    {
     "name": "stdout",
     "output_type": "stream",
     "text": [
      "Fermionic Operator\n",
      "number spin orbitals=2, number terms=2\n",
      "  1.0 * ( +_0 -_0 )\n",
      "+ -1.0 * ( +_1 -_1 )\n"
     ]
    }
   ],
   "source": [
    "print(op)"
   ]
  },
  {
   "cell_type": "code",
   "execution_count": 27,
   "id": "2827e220-69f9-4561-8d91-dc1d1cad3040",
   "metadata": {},
   "outputs": [],
   "source": [
    "def qOp(i,j,N=20):\n",
    "    return FermionicOp(\n",
    "    {\n",
    "        \"+_{i} -_{j}\".format(i=i%N,j=j%N): 1.0,\n",
    "    },\n",
    "    num_spin_orbitals=N,\n",
    ")"
   ]
  },
  {
   "cell_type": "code",
   "execution_count": 28,
   "id": "7c3ac5f0-65e7-4744-9975-7b0174319094",
   "metadata": {
    "scrolled": true
   },
   "outputs": [
    {
     "name": "stdout",
     "output_type": "stream",
     "text": [
      "Fermionic Operator\n",
      "number spin orbitals=20, number terms=70\n",
      "  1.0 * ( +_0 -_0 +_1 -_0 )\n",
      "+ 1.0 * ( +_2 -_2 +_3 -_3 )\n",
      "+ 1.0 * ( +_4 -_4 +_5 -_6 )\n",
      "+ 1.0 * ( +_6 -_6 +_7 -_9 )\n",
      "+ 1.0 * ( +_8 -_8 +_9 -_12 )\n",
      "+ 1.0 * ( +_10 -_10 +_11 -_15 )\n",
      "+ 1.0 * ( +_12 -_12 +_13 -_18 )\n",
      "+ 1.0 * ( +_14 -_14 +_15 -_1 )\n",
      "+ 1.0 * ( +_16 -_16 +_17 -_4 )\n",
      "+ 1.0 * ( +_18 -_18 +_19 -_7 )\n",
      "+ -1.0 * ( +_12 -_12 )\n",
      "+ -1.0 * ( +_9 -_9 )\n",
      "+ -1.0 * ( +_5 -_5 )\n",
      "+ -1.0 * ( +_10 -_10 )\n",
      "+ -1.0 * ( +_15 -_15 )\n",
      "+ -1.0 * ( +_4 -_4 )\n",
      "+ -1.0 * ( +_0 -_0 )\n",
      "+ -1.0 * ( +_7 -_7 )\n",
      "+ -1.0 * ( +_3 -_3 )\n",
      "+ -1.0 * ( +_18 -_18 )\n",
      "+ -1.0 * ( +_8 -_8 )\n",
      "+ -1.0 * ( +_13 -_13 )\n",
      "+ -1.0 * ( +_17 -_17 )\n",
      "+ -1.0 * ( +_14 -_14 )\n",
      "+ -1.0 * ( +_2 -_2 )\n",
      "+ -1.0 * ( +_1 -_1 )\n",
      "+ -1.0 * ( +_6 -_6 )\n",
      "+ -1.0 * ( +_16 -_16 )\n",
      "+ -1.0 * ( +_11 -_11 )\n",
      "+ -1.0 * ( +_19 -_19 )\n",
      "+ -1.0 * ( +_19 -_1 )\n",
      "+ -1.0 * ( +_13 -_11 )\n",
      "+ -1.0 * ( +_12 -_14 )\n",
      "+ -1.0 * ( +_18 -_0 )\n",
      "+ -1.0 * ( +_11 -_13 )\n",
      "+ -1.0 * ( +_7 -_9 )\n",
      "+ -1.0 * ( +_17 -_15 )\n",
      "+ -1.0 * ( +_10 -_12 )\n",
      "+ -1.0 * ( +_2 -_4 )\n",
      "+ -1.0 * ( +_16 -_14 )\n",
      "+ -1.0 * ( +_0 -_18 )\n",
      "+ -1.0 * ( +_5 -_7 )\n",
      "+ -1.0 * ( +_2 -_0 )\n",
      "+ -1.0 * ( +_7 -_5 )\n",
      "+ -1.0 * ( +_11 -_9 )\n",
      "+ -1.0 * ( +_17 -_19 )\n",
      "+ -1.0 * ( +_9 -_11 )\n",
      "+ -1.0 * ( +_5 -_3 )\n",
      "+ -1.0 * ( +_19 -_17 )\n",
      "+ -1.0 * ( +_15 -_17 )\n",
      "+ -1.0 * ( +_6 -_4 )\n",
      "+ -1.0 * ( +_14 -_16 )\n",
      "+ -1.0 * ( +_12 -_10 )\n",
      "+ -1.0 * ( +_8 -_10 )\n",
      "+ -1.0 * ( +_3 -_5 )\n",
      "+ -1.0 * ( +_1 -_3 )\n",
      "+ -1.0 * ( +_16 -_18 )\n",
      "+ -1.0 * ( +_13 -_15 )\n",
      "+ -1.0 * ( +_3 -_1 )\n",
      "+ -1.0 * ( +_0 -_2 )\n",
      "+ -1.0 * ( +_4 -_6 )\n",
      "+ -1.0 * ( +_15 -_13 )\n",
      "+ -1.0 * ( +_14 -_12 )\n",
      "+ -1.0 * ( +_18 -_16 )\n",
      "+ -1.0 * ( +_1 -_19 )\n",
      "+ -1.0 * ( +_4 -_2 )\n",
      "+ -1.0 * ( +_9 -_7 )\n",
      "+ -1.0 * ( +_8 -_6 )\n",
      "+ -1.0 * ( +_10 -_8 )\n",
      "+ -1.0 * ( +_6 -_8 )\n"
     ]
    }
   ],
   "source": [
    "t_term = 0\n",
    "mu_term =0\n",
    "U_term =0\n",
    "for i in range(n):\n",
    "    t_term+= qOp(2*i,2*i+2) + qOp(2*i+2,2*i) + qOp(2*i+1,2*i+3) + qOp(2*i+3,2*i+1) \n",
    "    mu_term += qOp(2*i,2*i) + qOp(2*i+1,2*i+1)\n",
    "    U_term += (qOp(2*i,2*i) @ qOp(2*i+1, 2*i+i))\n",
    "H = U * U_term - mu * mu_term - t * t_term\n",
    "\n",
    "print(H)"
   ]
  },
  {
   "cell_type": "code",
   "execution_count": 30,
   "id": "8526ada8-9a5c-4f86-a8e7-0979b5c424c8",
   "metadata": {},
   "outputs": [
    {
     "name": "stdout",
     "output_type": "stream",
     "text": [
      "SparsePauliOp(['IIIIIIIIIIIIIIIIIIII', 'IIIIIIIIIIIIIIIIZIII', 'IIIIIIIIIIIIIIIIIZII', 'IIIIIIIIIIIIIIIIZZII', 'IIIIIIIIIIIIIXYIIIII', 'IIIIIIIIIIIIIYYIIIII', 'IIIIIIIIIIIIIXXIIIII', 'IIIIIIIIIIIIIYXIIIII', 'IIIIIIIIIIIIIXYZIIII', 'IIIIIIIIIIIIIYYZIIII', 'IIIIIIIIIIIIIXXZIIII', 'IIIIIIIIIIIIIYXZIIII', 'IIIIIIIIIIXZYIIIIIII', 'IIIIIIIIIIYZYIIIIIII', 'IIIIIIIIIIXZXIIIIIII', 'IIIIIIIIIIYZXIIIIIII', 'IIIIIIIIIIXZYZIIIIII', 'IIIIIIIIIIYZYZIIIIII', 'IIIIIIIIIIXZXZIIIIII', 'IIIIIIIIIIYZXZIIIIII', 'IIIIIIIXZZYIIIIIIIII', 'IIIIIIIYZZYIIIIIIIII', 'IIIIIIIXZZXIIIIIIIII', 'IIIIIIIYZZXIIIIIIIII', 'IIIIIIIXZZYZIIIIIIII', 'IIIIIIIYZZYZIIIIIIII', 'IIIIIIIXZZXZIIIIIIII', 'IIIIIIIYZZXZIIIIIIII', 'IIIIXZZZYIIIIIIIIIII', 'IIIIYZZZYIIIIIIIIIII', 'IIIIXZZZXIIIIIIIIIII', 'IIIIYZZZXIIIIIIIIIII', 'IIIIXZZZYZIIIIIIIIII', 'IIIIYZZZYZIIIIIIIIII', 'IIIIXZZZXZIIIIIIIIII', 'IIIIYZZZXZIIIIIIIIII', 'IXZZZZYIIIIIIIIIIIII', 'IYZZZZYIIIIIIIIIIIII', 'IXZZZZXIIIIIIIIIIIII', 'IYZZZZXIIIIIIIIIIIII', 'IXZZZZYZIIIIIIIIIIII', 'IYZZZZYZIIIIIIIIIIII', 'IXZZZZXZIIIIIIIIIIII', 'IYZZZZXZIIIIIIIIIIII', 'IIIIXZZZZZZZZZZZZZYI', 'IIIIXZZZZZZZZZZZZZXI', 'IIIIYZZZZZZZZZZZZZYI', 'IIIIYZZZZZZZZZZZZZXI', 'IIIIXIZZZZZZZZZZZZYI', 'IIIIXIZZZZZZZZZZZZXI', 'IIIIYIZZZZZZZZZZZZYI', 'IIIIYIZZZZZZZZZZZZXI', 'IIXZZZZZZZZZZZZYIIII', 'IIXZZZZZZZZZZZZXIIII', 'IIYZZZZZZZZZZZZYIIII', 'IIYZZZZZZZZZZZZXIIII', 'IIXIZZZZZZZZZZZYIIII', 'IIXIZZZZZZZZZZZXIIII', 'IIYIZZZZZZZZZZZYIIII', 'IIYIZZZZZZZZZZZXIIII', 'XZZZZZZZZZZZYIIIIIII', 'XZZZZZZZZZZZXIIIIIII', 'YZZZZZZZZZZZYIIIIIII', 'YZZZZZZZZZZZXIIIIIII', 'XIZZZZZZZZZZYIIIIIII', 'XIZZZZZZZZZZXIIIIIII', 'YIZZZZZZZZZZYIIIIIII', 'YIZZZZZZZZZZXIIIIIII', 'IIIIIIIZIIIIIIIIIIII', 'IIIIIIIIIIZIIIIIIIII', 'IIIIIIIIIIIIIIZIIIII', 'IIIIIIIIIZIIIIIIIIII', 'IIIIZIIIIIIIIIIIIIII', 'IIIIIIIIIIIIIIIZIIII', 'IIIIIIIIIIIIIIIIIIIZ', 'IIIIIIIIIIIIZIIIIIII', 'IZIIIIIIIIIIIIIIIIII', 'IIIIIIIIIIIZIIIIIIII', 'IIIIIIZIIIIIIIIIIIII', 'IIZIIIIIIIIIIIIIIIII', 'IIIIIZIIIIIIIIIIIIII', 'IIIIIIIIIIIIIIIIIIZI', 'IIIIIIIIIIIIIZIIIIII', 'IIIZIIIIIIIIIIIIIIII', 'IIIIIIIIZIIIIIIIIIII', 'ZIIIIIIIIIIIIIIIIIII', 'XZZZZZZZZZZZZZZZZZXI', 'YZZZZZZZZZZZZZZZZZYI', 'IIIIIIXZXIIIIIIIIIII', 'IIIIIIYZYIIIIIIIIIII', 'IIIIIYZYIIIIIIIIIIII', 'IIIIIXZXIIIIIIIIIIII', 'IXZZZZZZZZZZZZZZZZZX', 'IYZZZZZZZZZZZZZZZZZY', 'IIXZXIIIIIIIIIIIIIII', 'IIYZYIIIIIIIIIIIIIII', 'IIIIIIIYZYIIIIIIIIII', 'IIIIIIIXZXIIIIIIIIII', 'IIIIIIIIIIIIIIIYZYII', 'IIIIIIIIIIIIIIIXZXII', 'IIIXZXIIIIIIIIIIIIII', 'IIIYZYIIIIIIIIIIIIII', 'IIIIIIIIIIIIYZYIIIII', 'IIIIIIIIIIIIXZXIIIII', 'IIIIIIIIIIIIIIIIIXZX', 'IIIIIIIIIIIIIIIIIYZY', 'IIIIIIIIXZXIIIIIIIII', 'IIIIIIIIYZYIIIIIIIII', 'YZYIIIIIIIIIIIIIIIII', 'XZXIIIIIIIIIIIIIIIII', 'IIIIIIIIIIIIIIXZXIII', 'IIIIIIIIIIIIIIYZYIII', 'IIIIIIIIIIIIIXZXIIII', 'IIIIIIIIIIIIIYZYIIII', 'IIIIIIIIIYZYIIIIIIII', 'IIIIIIIIIXZXIIIIIIII', 'IIIIIIIIIIIIIIIIYZYI', 'IIIIIIIIIIIIIIIIXZXI', 'IYZYIIIIIIIIIIIIIIII', 'IXZXIIIIIIIIIIIIIIII', 'IIIIYZYIIIIIIIIIIIII', 'IIIIXZXIIIIIIIIIIIII', 'IIIIIIIIIIIXZXIIIIII', 'IIIIIIIIIIIYZYIIIIII'],\n",
      "              coeffs=[-9.75 +0.j   ,  0.25 +0.j   ,  0.25 +0.j   ,  0.25 +0.j   ,  0.   -0.125j,\n",
      "  0.125+0.j   ,  0.125+0.j   ,  0.   +0.125j,  0.   +0.125j, -0.125+0.j   ,\n",
      " -0.125+0.j   ,  0.   -0.125j,  0.   -0.125j, -0.375+0.j   , -0.375+0.j   ,\n",
      "  0.   +0.125j,  0.   +0.125j, -0.125+0.j   , -0.125+0.j   ,  0.   -0.125j,\n",
      "  0.   -0.125j,  0.125+0.j   ,  0.125+0.j   ,  0.   +0.125j,  0.   +0.125j,\n",
      " -0.125+0.j   , -0.125+0.j   ,  0.   -0.125j,  0.   -0.125j,  0.125+0.j   ,\n",
      "  0.125+0.j   ,  0.   +0.125j,  0.   +0.125j, -0.125+0.j   , -0.125+0.j   ,\n",
      "  0.   -0.125j,  0.   -0.125j,  0.125+0.j   ,  0.125+0.j   ,  0.   +0.125j,\n",
      "  0.   +0.125j, -0.125+0.j   , -0.125+0.j   ,  0.   -0.125j,  0.   +0.125j,\n",
      "  0.125+0.j   ,  0.125+0.j   ,  0.   -0.125j,  0.   -0.125j, -0.125+0.j   ,\n",
      " -0.125+0.j   ,  0.   +0.125j,  0.   +0.125j,  0.125+0.j   ,  0.125+0.j   ,\n",
      "  0.   -0.125j,  0.   -0.125j, -0.125+0.j   , -0.125+0.j   ,  0.   +0.125j,\n",
      "  0.   +0.125j,  0.125+0.j   ,  0.125+0.j   ,  0.   -0.125j,  0.   -0.125j,\n",
      " -0.125+0.j   , -0.125+0.j   ,  0.   +0.125j,  0.5  +0.j   ,  0.5  +0.j   ,\n",
      "  0.5  +0.j   ,  0.5  +0.j   ,  0.5  +0.j   ,  0.5  +0.j   ,  0.5  +0.j   ,\n",
      "  0.5  +0.j   ,  0.5  +0.j   ,  0.5  +0.j   ,  0.5  +0.j   ,  0.5  +0.j   ,\n",
      "  0.5  +0.j   ,  0.5  +0.j   ,  0.5  +0.j   ,  0.5  +0.j   ,  0.5  +0.j   ,\n",
      "  0.5  +0.j   , -0.5  +0.j   , -0.5  +0.j   , -0.5  +0.j   , -0.5  +0.j   ,\n",
      " -0.5  +0.j   , -0.5  +0.j   , -0.5  +0.j   , -0.5  +0.j   , -0.5  +0.j   ,\n",
      " -0.5  +0.j   , -0.5  +0.j   , -0.5  +0.j   , -0.5  +0.j   , -0.5  +0.j   ,\n",
      " -0.5  +0.j   , -0.5  +0.j   , -0.5  +0.j   , -0.5  +0.j   , -0.5  +0.j   ,\n",
      " -0.5  +0.j   , -0.5  +0.j   , -0.5  +0.j   , -0.5  +0.j   , -0.5  +0.j   ,\n",
      " -0.5  +0.j   , -0.5  +0.j   , -0.5  +0.j   , -0.5  +0.j   , -0.5  +0.j   ,\n",
      " -0.5  +0.j   , -0.5  +0.j   , -0.5  +0.j   , -0.5  +0.j   , -0.5  +0.j   ,\n",
      " -0.5  +0.j   , -0.5  +0.j   , -0.5  +0.j   , -0.5  +0.j   ])\n"
     ]
    }
   ],
   "source": [
    "mapper = JordanWignerMapper()\n",
    "qubit_jw_op = mapper.map(H)\n",
    "print(qubit_jw_op)"
   ]
  },
  {
   "cell_type": "code",
   "execution_count": null,
   "id": "08cc9232-dc7d-407f-9a4e-a83a0b969554",
   "metadata": {},
   "outputs": [],
   "source": [
    ":)"
   ]
  }
 ],
 "metadata": {
  "kernelspec": {
   "display_name": "Python 3 (ipykernel)",
   "language": "python",
   "name": "python3"
  },
  "language_info": {
   "codemirror_mode": {
    "name": "ipython",
    "version": 3
   },
   "file_extension": ".py",
   "mimetype": "text/x-python",
   "name": "python",
   "nbconvert_exporter": "python",
   "pygments_lexer": "ipython3",
   "version": "3.11.8"
  }
 },
 "nbformat": 4,
 "nbformat_minor": 5
}
