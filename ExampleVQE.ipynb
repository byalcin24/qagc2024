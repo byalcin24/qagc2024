{
 "cells": [
  {
   "cell_type": "code",
   "execution_count": 29,
   "id": "edb9a9da-ed77-45b7-9610-29760e255987",
   "metadata": {},
   "outputs": [],
   "source": [
    "import numpy as np\n",
    "from qiskit_nature.second_q.operators import FermionicOp\n",
    "from qiskit_nature.second_q.mappers import JordanWignerMapper"
   ]
  },
  {
   "cell_type": "code",
   "execution_count": 24,
   "id": "74b39bc6-64cc-4995-aeed-519147ab9309",
   "metadata": {},
   "outputs": [],
   "source": [
    "n = 10\n",
    "N = 2*n\n",
    "t=1\n",
    "mu=1\n",
    "U=1"
   ]
  },
  {
   "cell_type": "code",
   "execution_count": 25,
   "id": "895d5adb-41ba-4dca-8a05-9c738fd3cbf7",
   "metadata": {},
   "outputs": [],
   "source": [
    "op = FermionicOp(\n",
    "    {\n",
    "        \"+_0 -_0\": 1.0,\n",
    "        \"+_1 -_1\": -1.0,\n",
    "    },\n",
    "    num_spin_orbitals=2,\n",
    ")"
   ]
  },
  {
   "cell_type": "code",
   "execution_count": 26,
   "id": "d7c28209-2bc3-4b57-b2c0-147c98953fab",
   "metadata": {},
   "outputs": [
    {
     "name": "stdout",
     "output_type": "stream",
     "text": [
      "Fermionic Operator\n",
      "number spin orbitals=2, number terms=2\n",
      "  1.0 * ( +_0 -_0 )\n",
      "+ -1.0 * ( +_1 -_1 )\n"
     ]
    }
   ],
   "source": [
    "print(op)"
   ]
  },
  {
   "cell_type": "code",
   "execution_count": 27,
   "id": "2827e220-69f9-4561-8d91-dc1d1cad3040",
   "metadata": {},
   "outputs": [],
   "source": [
    "def qOp(i,j,N=20):\n",
    "    return FermionicOp(\n",
    "    {\n",
    "        \"+_{i} -_{j}\".format(i=i%N,j=j%N): 1.0,\n",
    "    },\n",
    "    num_spin_orbitals=N,\n",
    ")"
   ]
  },
  {
   "cell_type": "code",
   "execution_count": 28,
   "id": "7c3ac5f0-65e7-4744-9975-7b0174319094",
   "metadata": {
    "scrolled": true
   },
   "outputs": [
    {
     "name": "stdout",
     "output_type": "stream",
     "text": [
      "Fermionic Operator\n",
      "number spin orbitals=20, number terms=70\n",
      "  1.0 * ( +_0 -_0 +_1 -_0 )\n",
      "+ 1.0 * ( +_2 -_2 +_3 -_3 )\n",
      "+ 1.0 * ( +_4 -_4 +_5 -_6 )\n",
      "+ 1.0 * ( +_6 -_6 +_7 -_9 )\n",
      "+ 1.0 * ( +_8 -_8 +_9 -_12 )\n",
      "+ 1.0 * ( +_10 -_10 +_11 -_15 )\n",
      "+ 1.0 * ( +_12 -_12 +_13 -_18 )\n",
      "+ 1.0 * ( +_14 -_14 +_15 -_1 )\n",
      "+ 1.0 * ( +_16 -_16 +_17 -_4 )\n",
      "+ 1.0 * ( +_18 -_18 +_19 -_7 )\n",
      "+ -1.0 * ( +_12 -_12 )\n",
      "+ -1.0 * ( +_9 -_9 )\n",
      "+ -1.0 * ( +_5 -_5 )\n",
      "+ -1.0 * ( +_10 -_10 )\n",
      "+ -1.0 * ( +_15 -_15 )\n",
      "+ -1.0 * ( +_4 -_4 )\n",
      "+ -1.0 * ( +_0 -_0 )\n",
      "+ -1.0 * ( +_7 -_7 )\n",
      "+ -1.0 * ( +_3 -_3 )\n",
      "+ -1.0 * ( +_18 -_18 )\n",
      "+ -1.0 * ( +_8 -_8 )\n",
      "+ -1.0 * ( +_13 -_13 )\n",
      "+ -1.0 * ( +_17 -_17 )\n",
      "+ -1.0 * ( +_14 -_14 )\n",
      "+ -1.0 * ( +_2 -_2 )\n",
      "+ -1.0 * ( +_1 -_1 )\n",
      "+ -1.0 * ( +_6 -_6 )\n",
      "+ -1.0 * ( +_16 -_16 )\n",
      "+ -1.0 * ( +_11 -_11 )\n",
      "+ -1.0 * ( +_19 -_19 )\n",
      "+ -1.0 * ( +_19 -_1 )\n",
      "+ -1.0 * ( +_13 -_11 )\n",
      "+ -1.0 * ( +_12 -_14 )\n",
      "+ -1.0 * ( +_18 -_0 )\n",
      "+ -1.0 * ( +_11 -_13 )\n",
      "+ -1.0 * ( +_7 -_9 )\n",
      "+ -1.0 * ( +_17 -_15 )\n",
      "+ -1.0 * ( +_10 -_12 )\n",
      "+ -1.0 * ( +_2 -_4 )\n",
      "+ -1.0 * ( +_16 -_14 )\n",
      "+ -1.0 * ( +_0 -_18 )\n",
      "+ -1.0 * ( +_5 -_7 )\n",
      "+ -1.0 * ( +_2 -_0 )\n",
      "+ -1.0 * ( +_7 -_5 )\n",
      "+ -1.0 * ( +_11 -_9 )\n",
      "+ -1.0 * ( +_17 -_19 )\n",
      "+ -1.0 * ( +_9 -_11 )\n",
      "+ -1.0 * ( +_5 -_3 )\n",
      "+ -1.0 * ( +_19 -_17 )\n",
      "+ -1.0 * ( +_15 -_17 )\n",
      "+ -1.0 * ( +_6 -_4 )\n",
      "+ -1.0 * ( +_14 -_16 )\n",
      "+ -1.0 * ( +_12 -_10 )\n",
      "+ -1.0 * ( +_8 -_10 )\n",
      "+ -1.0 * ( +_3 -_5 )\n",
      "+ -1.0 * ( +_1 -_3 )\n",
      "+ -1.0 * ( +_16 -_18 )\n",
      "+ -1.0 * ( +_13 -_15 )\n",
      "+ -1.0 * ( +_3 -_1 )\n",
      "+ -1.0 * ( +_0 -_2 )\n",
      "+ -1.0 * ( +_4 -_6 )\n",
      "+ -1.0 * ( +_15 -_13 )\n",
      "+ -1.0 * ( +_14 -_12 )\n",
      "+ -1.0 * ( +_18 -_16 )\n",
      "+ -1.0 * ( +_1 -_19 )\n",
      "+ -1.0 * ( +_4 -_2 )\n",
      "+ -1.0 * ( +_9 -_7 )\n",
      "+ -1.0 * ( +_8 -_6 )\n",
      "+ -1.0 * ( +_10 -_8 )\n",
      "+ -1.0 * ( +_6 -_8 )\n"
     ]
    }
   ],
   "source": [
    "t_term = 0\n",
    "mu_term =0\n",
    "U_term =0\n",
    "for i in range(n):\n",
    "    t_term+= qOp(2*i,2*i+2) + qOp(2*i+2,2*i) + qOp(2*i+1,2*i+3) + qOp(2*i+3,2*i+1) \n",
    "    mu_term += qOp(2*i,2*i) + qOp(2*i+1,2*i+1)\n",
    "    U_term += (qOp(2*i,2*i) @ qOp(2*i+1, 2*i+i))\n",
    "H = U * U_term - mu * mu_term - t * t_term\n",
    "\n",
    "print(H)"
   ]
  },
  {
   "cell_type": "code",
   "execution_count": 30,
   "id": "8526ada8-9a5c-4f86-a8e7-0979b5c424c8",
   "metadata": {},
   "outputs": [
    {
     "name": "stdout",
     "output_type": "stream",
     "text": [
      "SparsePauliOp(['IIIIIIIIIIIIIIIIIIII', 'IIIIIIIIIIIIIIIIZIII', 'IIIIIIIIIIIIIIIIIZII', 'IIIIIIIIIIIIIIIIZZII', 'IIIIIIIIIIIIIXYIIIII', 'IIIIIIIIIIIIIYYIIIII', 'IIIIIIIIIIIIIXXIIIII', 'IIIIIIIIIIIIIYXIIIII', 'IIIIIIIIIIIIIXYZIIII', 'IIIIIIIIIIIIIYYZIIII', 'IIIIIIIIIIIIIXXZIIII', 'IIIIIIIIIIIIIYXZIIII', 'IIIIIIIIIIXZYIIIIIII', 'IIIIIIIIIIYZYIIIIIII', 'IIIIIIIIIIXZXIIIIIII', 'IIIIIIIIIIYZXIIIIIII', 'IIIIIIIIIIXZYZIIIIII', 'IIIIIIIIIIYZYZIIIIII', 'IIIIIIIIIIXZXZIIIIII', 'IIIIIIIIIIYZXZIIIIII', 'IIIIIIIXZZYIIIIIIIII', 'IIIIIIIYZZYIIIIIIIII', 'IIIIIIIXZZXIIIIIIIII', 'IIIIIIIYZZXIIIIIIIII', 'IIIIIIIXZZYZIIIIIIII', 'IIIIIIIYZZYZIIIIIIII', 'IIIIIIIXZZXZIIIIIIII', 'IIIIIIIYZZXZIIIIIIII', 'IIIIXZZZYIIIIIIIIIII', 'IIIIYZZZYIIIIIIIIIII', 'IIIIXZZZXIIIIIIIIIII', 'IIIIYZZZXIIIIIIIIIII', 'IIIIXZZZYZIIIIIIIIII', 'IIIIYZZZYZIIIIIIIIII', 'IIIIXZZZXZIIIIIIIIII', 'IIIIYZZZXZIIIIIIIIII', 'IXZZZZYIIIIIIIIIIIII', 'IYZZZZYIIIIIIIIIIIII', 'IXZZZZXIIIIIIIIIIIII', 'IYZZZZXIIIIIIIIIIIII', 'IXZZZZYZIIIIIIIIIIII', 'IYZZZZYZIIIIIIIIIIII', 'IXZZZZXZIIIIIIIIIIII', 'IYZZZZXZIIIIIIIIIIII', 'IIIIXZZZZZZZZZZZZZYI', 'IIIIXZZZZZZZZZZZZZXI', 'IIIIYZZZZZZZZZZZZZYI', 'IIIIYZZZZZZZZZZZZZXI', 'IIIIXIZZZZZZZZZZZZYI', 'IIIIXIZZZZZZZZZZZZXI', 'IIIIYIZZZZZZZZZZZZYI', 'IIIIYIZZZZZZZZZZZZXI', 'IIXZZZZZZZZZZZZYIIII', 'IIXZZZZZZZZZZZZXIIII', 'IIYZZZZZZZZZZZZYIIII', 'IIYZZZZZZZZZZZZXIIII', 'IIXIZZZZZZZZZZZYIIII', 'IIXIZZZZZZZZZZZXIIII', 'IIYIZZZZZZZZZZZYIIII', 'IIYIZZZZZZZZZZZXIIII', 'XZZZZZZZZZZZYIIIIIII', 'XZZZZZZZZZZZXIIIIIII', 'YZZZZZZZZZZZYIIIIIII', 'YZZZZZZZZZZZXIIIIIII', 'XIZZZZZZZZZZYIIIIIII', 'XIZZZZZZZZZZXIIIIIII', 'YIZZZZZZZZZZYIIIIIII', 'YIZZZZZZZZZZXIIIIIII', 'IIIIIIIZIIIIIIIIIIII', 'IIIIIIIIIIZIIIIIIIII', 'IIIIIIIIIIIIIIZIIIII', 'IIIIIIIIIZIIIIIIIIII', 'IIIIZIIIIIIIIIIIIIII', 'IIIIIIIIIIIIIIIZIIII', 'IIIIIIIIIIIIIIIIIIIZ', 'IIIIIIIIIIIIZIIIIIII', 'IZIIIIIIIIIIIIIIIIII', 'IIIIIIIIIIIZIIIIIIII', 'IIIIIIZIIIIIIIIIIIII', 'IIZIIIIIIIIIIIIIIIII', 'IIIIIZIIIIIIIIIIIIII', 'IIIIIIIIIIIIIIIIIIZI', 'IIIIIIIIIIIIIZIIIIII', 'IIIZIIIIIIIIIIIIIIII', 'IIIIIIIIZIIIIIIIIIII', 'ZIIIIIIIIIIIIIIIIIII', 'XZZZZZZZZZZZZZZZZZXI', 'YZZZZZZZZZZZZZZZZZYI', 'IIIIIIXZXIIIIIIIIIII', 'IIIIIIYZYIIIIIIIIIII', 'IIIIIYZYIIIIIIIIIIII', 'IIIIIXZXIIIIIIIIIIII', 'IXZZZZZZZZZZZZZZZZZX', 'IYZZZZZZZZZZZZZZZZZY', 'IIXZXIIIIIIIIIIIIIII', 'IIYZYIIIIIIIIIIIIIII', 'IIIIIIIYZYIIIIIIIIII', 'IIIIIIIXZXIIIIIIIIII', 'IIIIIIIIIIIIIIIYZYII', 'IIIIIIIIIIIIIIIXZXII', 'IIIXZXIIIIIIIIIIIIII', 'IIIYZYIIIIIIIIIIIIII', 'IIIIIIIIIIIIYZYIIIII', 'IIIIIIIIIIIIXZXIIIII', 'IIIIIIIIIIIIIIIIIXZX', 'IIIIIIIIIIIIIIIIIYZY', 'IIIIIIIIXZXIIIIIIIII', 'IIIIIIIIYZYIIIIIIIII', 'YZYIIIIIIIIIIIIIIIII', 'XZXIIIIIIIIIIIIIIIII', 'IIIIIIIIIIIIIIXZXIII', 'IIIIIIIIIIIIIIYZYIII', 'IIIIIIIIIIIIIXZXIIII', 'IIIIIIIIIIIIIYZYIIII', 'IIIIIIIIIYZYIIIIIIII', 'IIIIIIIIIXZXIIIIIIII', 'IIIIIIIIIIIIIIIIYZYI', 'IIIIIIIIIIIIIIIIXZXI', 'IYZYIIIIIIIIIIIIIIII', 'IXZXIIIIIIIIIIIIIIII', 'IIIIYZYIIIIIIIIIIIII', 'IIIIXZXIIIIIIIIIIIII', 'IIIIIIIIIIIXZXIIIIII', 'IIIIIIIIIIIYZYIIIIII'],\n",
      "              coeffs=[-9.75 +0.j   ,  0.25 +0.j   ,  0.25 +0.j   ,  0.25 +0.j   ,  0.   -0.125j,\n",
      "  0.125+0.j   ,  0.125+0.j   ,  0.   +0.125j,  0.   +0.125j, -0.125+0.j   ,\n",
      " -0.125+0.j   ,  0.   -0.125j,  0.   -0.125j, -0.375+0.j   , -0.375+0.j   ,\n",
      "  0.   +0.125j,  0.   +0.125j, -0.125+0.j   , -0.125+0.j   ,  0.   -0.125j,\n",
      "  0.   -0.125j,  0.125+0.j   ,  0.125+0.j   ,  0.   +0.125j,  0.   +0.125j,\n",
      " -0.125+0.j   , -0.125+0.j   ,  0.   -0.125j,  0.   -0.125j,  0.125+0.j   ,\n",
      "  0.125+0.j   ,  0.   +0.125j,  0.   +0.125j, -0.125+0.j   , -0.125+0.j   ,\n",
      "  0.   -0.125j,  0.   -0.125j,  0.125+0.j   ,  0.125+0.j   ,  0.   +0.125j,\n",
      "  0.   +0.125j, -0.125+0.j   , -0.125+0.j   ,  0.   -0.125j,  0.   +0.125j,\n",
      "  0.125+0.j   ,  0.125+0.j   ,  0.   -0.125j,  0.   -0.125j, -0.125+0.j   ,\n",
      " -0.125+0.j   ,  0.   +0.125j,  0.   +0.125j,  0.125+0.j   ,  0.125+0.j   ,\n",
      "  0.   -0.125j,  0.   -0.125j, -0.125+0.j   , -0.125+0.j   ,  0.   +0.125j,\n",
      "  0.   +0.125j,  0.125+0.j   ,  0.125+0.j   ,  0.   -0.125j,  0.   -0.125j,\n",
      " -0.125+0.j   , -0.125+0.j   ,  0.   +0.125j,  0.5  +0.j   ,  0.5  +0.j   ,\n",
      "  0.5  +0.j   ,  0.5  +0.j   ,  0.5  +0.j   ,  0.5  +0.j   ,  0.5  +0.j   ,\n",
      "  0.5  +0.j   ,  0.5  +0.j   ,  0.5  +0.j   ,  0.5  +0.j   ,  0.5  +0.j   ,\n",
      "  0.5  +0.j   ,  0.5  +0.j   ,  0.5  +0.j   ,  0.5  +0.j   ,  0.5  +0.j   ,\n",
      "  0.5  +0.j   , -0.5  +0.j   , -0.5  +0.j   , -0.5  +0.j   , -0.5  +0.j   ,\n",
      " -0.5  +0.j   , -0.5  +0.j   , -0.5  +0.j   , -0.5  +0.j   , -0.5  +0.j   ,\n",
      " -0.5  +0.j   , -0.5  +0.j   , -0.5  +0.j   , -0.5  +0.j   , -0.5  +0.j   ,\n",
      " -0.5  +0.j   , -0.5  +0.j   , -0.5  +0.j   , -0.5  +0.j   , -0.5  +0.j   ,\n",
      " -0.5  +0.j   , -0.5  +0.j   , -0.5  +0.j   , -0.5  +0.j   , -0.5  +0.j   ,\n",
      " -0.5  +0.j   , -0.5  +0.j   , -0.5  +0.j   , -0.5  +0.j   , -0.5  +0.j   ,\n",
      " -0.5  +0.j   , -0.5  +0.j   , -0.5  +0.j   , -0.5  +0.j   , -0.5  +0.j   ,\n",
      " -0.5  +0.j   , -0.5  +0.j   , -0.5  +0.j   , -0.5  +0.j   ])\n"
     ]
    }
   ],
   "source": [
    "mapper = JordanWignerMapper()\n",
    "qubit_jw_op = mapper.map(H)\n",
    "print(qubit_jw_op)"
   ]
  },
  {
   "cell_type": "code",
   "execution_count": 31,
   "id": "08cc9232-dc7d-407f-9a4e-a83a0b969554",
   "metadata": {},
   "outputs": [
    {
     "name": "stderr",
     "output_type": "stream",
     "text": [
      "/var/folders/n_/1wl7_2l52y3g1_82hvk9hw3h0000gn/T/ipykernel_30727/2981371494.py:1: DeprecationWarning: ``qiskit.algorithms`` has been migrated to an independent package: https://github.com/qiskit-community/qiskit-algorithms. The ``qiskit.algorithms`` import path is deprecated as of qiskit-terra 0.25.0 and will be removed no earlier than 3 months after the release date. Please run ``pip install qiskit_algorithms`` and use ``import qiskit_algorithms`` instead.\n",
      "  from qiskit.algorithms import MinimumEigensolver, VQEResult\n"
     ]
    }
   ],
   "source": [
    "from qiskit.algorithms import MinimumEigensolver, VQEResult\n",
    "from qiskit.opflow import (\n",
    "    CircuitSampler,\n",
    "    CircuitStateFn,\n",
    "    ExpectationBase,\n",
    "    ExpectationFactory,\n",
    "    ListOp,\n",
    "    OperatorBase,\n",
    "    PauliSumOp,\n",
    "    StateFn,\n",
    ")\n",
    "from typing import Union, List, Dict\n",
    "\n",
    "# Define a custome VQE class to orchestra the ansatz, classical optimizers, \n",
    "# initial point, callback, and final result\n",
    "class CustomVQE(MinimumEigensolver):\n",
    "    \n",
    "    def __init__(self, estimator, circuit, optimizer, callback=None, initial_point = None, sym = True):\n",
    "        self._estimator = estimator\n",
    "        self.ansatz = circuit\n",
    "        self._optimizer = optimizer\n",
    "        self._callback = callback\n",
    "        self._initial_point = initial_point\n",
    "        backend = Aer.get_backend(\"statevector_simulator\")\n",
    "        self._circuit_sampler = CircuitSampler(\n",
    "            backend\n",
    "        )\n",
    "        self._sym = sym\n",
    "     \n",
    "    def _get_eigenstate(self, optimal_parameters) -> Union[List[float], Dict[str, int]]:\n",
    "        \"\"\"Get the simulation outcome of the ansatz, provided with parameters.\"\"\"\n",
    "        optimal_circuit = self.ansatz.bind_parameters(optimal_parameters)\n",
    "        state_fn = self._circuit_sampler.convert(StateFn(optimal_circuit)).eval()\n",
    "        state = state_fn.primitive.data  # VectorStateFn -> Statevector -> np.array\n",
    "        return state\n",
    "    \n",
    "    \n",
    "    def compute_minimum_eigenvalue(self, operators, aux_operators=None):    \n",
    "        num = 0\n",
    "        # Define objective function to classically minimize over\n",
    "        def objective(x, shots = None):\n",
    "            #adjust number of shots\n",
    "            # Execute job with estimator primitive\n",
    "            if shots is not None:\n",
    "                shots = int(shots)\n",
    "                self._estimator.set_options(shots = shots)\n",
    "            else:\n",
    "                self._estimator.set_options(shots = 1024)\n",
    "            job = self._estimator.run([self.ansatz], [operators], [x])\n",
    "            # Get results from jobs\n",
    "            est_result = job.result()\n",
    "            # Get the measured energy value\n",
    "            value = est_result.values[0]\n",
    "            if self._sym:\n",
    "                spinop = TotalSpin(self.ansatz.num_qubits)\n",
    "                job_sym = self._estimator.run([self.ansatz], [spinop], [x])\n",
    "                est_result_sym = job_sym.result()\n",
    "                value_sym = est_result_sym.values[0]\n",
    "                value += 0.5*(value_sym)**2\n",
    "            # Save result information using callback function\n",
    "            if self._callback is not None:\n",
    "                self._callback(value)\n",
    "            return value\n",
    "            \n",
    "        # Select an initial point for the ansatzs' parameters\n",
    "        if self._initial_point is None:  \n",
    "            x0 = np.pi/4 * np.random.rand(self.ansatz.num_parameters)\n",
    "        else:\n",
    "            x0 = self._initial_point\n",
    "        # Run optimization\n",
    "        res = self._optimizer.minimize(objective, x0=x0)\n",
    "        \n",
    "        # Populate VQE result\n",
    "        result = VQEResult()\n",
    "        result.cost_function_evals = res.nit\n",
    "        result.eigenvalue = res.fun[0]\n",
    "        result.optimal_parameters = res.x\n",
    "        result.eigenstate = self._get_eigenstate(result.optimal_parameters)\n",
    "        \n",
    "        return result"
   ]
  },
  {
   "cell_type": "code",
   "execution_count": 33,
   "id": "1ab51ed4-c061-4ea2-b602-86d7fa648415",
   "metadata": {},
   "outputs": [],
   "source": [
    "from qiskit.circuit.library import EfficientSU2\n",
    "\n",
    "    \n",
    "ansatz = EfficientSU2(N, reps=3, skip_final_rotation_layer=True)"
   ]
  },
  {
   "cell_type": "code",
   "execution_count": 34,
   "id": "ddba51df-a5f3-438a-b66a-77a268cecead",
   "metadata": {},
   "outputs": [
    {
     "ename": "TypeError",
     "evalue": "Estimator.__init__() takes 1 positional argument but 3 were given",
     "output_type": "error",
     "traceback": [
      "\u001b[0;31m---------------------------------------------------------------------------\u001b[0m",
      "\u001b[0;31mTypeError\u001b[0m                                 Traceback (most recent call last)",
      "Cell \u001b[0;32mIn[34], line 11\u001b[0m\n\u001b[1;32m      9\u001b[0m \u001b[38;5;66;03m#optimizer = SPSA(maxiter = 400)\u001b[39;00m\n\u001b[1;32m     10\u001b[0m optimizer \u001b[38;5;241m=\u001b[39m COBYLA(maxiter \u001b[38;5;241m=\u001b[39m \u001b[38;5;241m2000\u001b[39m)\n\u001b[0;32m---> 11\u001b[0m estimator \u001b[38;5;241m=\u001b[39m Estimator([ansatz], [H])\n\u001b[1;32m     12\u001b[0m custom_vqe \u001b[38;5;241m=\u001b[39m CustomVQE(estimator, ansatz, optimizer, callback\u001b[38;5;241m=\u001b[39mcallback, sym \u001b[38;5;241m=\u001b[39m \u001b[38;5;28;01mFalse\u001b[39;00m)\n",
      "\u001b[0;31mTypeError\u001b[0m: Estimator.__init__() takes 1 positional argument but 3 were given"
     ]
    }
   ],
   "source": [
    "from qiskit.primitives import Estimator\n",
    "from qiskit.algorithms.optimizers import SPSA, COBYLA\n",
    "from qiskit import Aer\n",
    "from math import ceil,floor\n",
    "# Define a simple callback function\n",
    "def callback(value):\n",
    "        intermediate_info.append(value)\n",
    "\n",
    "#optimizer = SPSA(maxiter = 400)\n",
    "optimizer = COBYLA(maxiter = 2000)\n",
    "estimator = Estimator([ansatz], [H])\n",
    "custom_vqe = CustomVQE(estimator, ansatz, optimizer, callback=callback, sym = False)"
   ]
  },
  {
   "cell_type": "code",
   "execution_count": null,
   "id": "63b6a1b7-835a-4ac5-827c-ff133ea85ec3",
   "metadata": {},
   "outputs": [],
   "source": [
    "from time import time\n",
    "intermediate_info = []\n",
    "start = time()\n",
    "result = custom_vqe.compute_minimum_eigenvalue(ham)\n",
    "end = time()\n",
    "\n",
    "print(result)\n",
    "print(f'execution time (s): {end - start:.2f}')"
   ]
  },
  {
   "cell_type": "code",
   "execution_count": null,
   "id": "811981b4-5e3a-40aa-a18a-89409f884272",
   "metadata": {},
   "outputs": [],
   "source": [
    "plt.plot(intermediate_info, color='purple', lw=2, label='Simulated VQE')\n",
    "plt.ylabel('Energy')\n",
    "plt.xlabel('Iterations')\n",
    "# Exact ground state energy value\n",
    "#plt.axhline(y=gs_energy, color=\"tab:red\", ls=\"--\", lw=2, label=\"Target: \" + str(gs_energy))\n",
    "plt.legend()\n",
    "plt.grid()\n",
    "plt.show()"
   ]
  }
 ],
 "metadata": {
  "kernelspec": {
   "display_name": "Python 3 (ipykernel)",
   "language": "python",
   "name": "python3"
  },
  "language_info": {
   "codemirror_mode": {
    "name": "ipython",
    "version": 3
   },
   "file_extension": ".py",
   "mimetype": "text/x-python",
   "name": "python",
   "nbconvert_exporter": "python",
   "pygments_lexer": "ipython3",
   "version": "3.11.8"
  }
 },
 "nbformat": 4,
 "nbformat_minor": 5
}
