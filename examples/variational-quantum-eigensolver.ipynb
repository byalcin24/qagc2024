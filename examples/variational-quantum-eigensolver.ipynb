{
 "cells": [
  {
   "attachments": {},
   "cell_type": "markdown",
   "id": "a6f69b77",
   "metadata": {},
   "source": [
    "*Usage estimate: 73 minutes on ibm\\_kyiv or 28 minutes on ibm\\_manila. (NOTE: This is an estimate only. Your runtime may vary.)*\n",
    "\n",
    "## Background\n",
    "\n",
    "[Variational quantum algorithms](https://arxiv.org/abs/2012.09265) are promising candidate hybrid-algorithms for observing quantum computation utility on noisy near-term devices. Variational algorithms are characterized by the use of a classical optimization algorithm to iteratively update a parameterized trial solution, or \"ansatz\". Chief among these methods is the Variational Quantum Eigensolver (VQE) that aims to solve for the ground state of a given Hamiltonian represented as a linear combination of Pauli terms, with an ansatz circuit where the number of parameters to optimize over is polynomial in the number of qubits.  Given that the size of the full solution vector is exponential in the number of qubits, successful minimization using VQE requires, in general, additional problem-specific information to define the structure of the ansatz circuit.\n",
    "\n",
    "Executing a VQE algorithm requires the following components:\n",
    "\n",
    "1. Hamiltonian and ansatz (problem specification)\n",
    "2. Qiskit Runtime estimator\n",
    "3. Classical optimizer\n",
    "\n",
    "Although the Hamiltonian and ansatz require domain-specific knowledge to construct, these details are immaterial to the Runtime, and we can execute a wide class of VQE problems in the same manner.\n"
   ]
  },
  {
   "cell_type": "markdown",
   "id": "55b94021",
   "metadata": {},
   "source": [
    "## Requirements\n",
    "\n",
    "Before starting this tutorial, ensure that you have the following installed:\n",
    "\n",
    "* Qiskit SDK 1.0 or later, with visualization support (`pip install 'qiskit[visualization]'`)\n",
    "* Qiskit Runtime (`pip install qiskit-ibm-runtime`) 0.22 or later\n",
    "* SciPy (`python -m pip install scipy`)\n"
   ]
  },
  {
   "attachments": {},
   "cell_type": "markdown",
   "id": "7db2e559",
   "metadata": {},
   "source": [
    "## Setup\n",
    "\n",
    "Here we import the tools needed for a VQE experiment.\n"
   ]
  },
  {
   "cell_type": "code",
   "execution_count": 1,
   "id": "a0a48442",
   "metadata": {},
   "outputs": [],
   "source": [
    "# General imports\n",
    "import numpy as np\n",
    "\n",
    "# Pre-defined ansatz circuit and operator class for Hamiltonian\n",
    "from qiskit.circuit.library import EfficientSU2\n",
    "from qiskit.quantum_info import SparsePauliOp\n",
    "\n",
    "# SciPy minimizer routine\n",
    "from scipy.optimize import minimize\n",
    "\n",
    "# Plotting functions\n",
    "import matplotlib.pyplot as plt"
   ]
  },
  {
   "cell_type": "code",
   "execution_count": 2,
   "metadata": {},
   "outputs": [],
   "source": [
    "N = 8"
   ],
   "id": "730cc2955c3de2a1"
  },
  {
   "cell_type": "code",
   "execution_count": 21,
   "id": "bc380c46",
   "metadata": {},
   "outputs": [
    {
     "name": "stdout",
     "output_type": "stream",
     "text": [
      "<qiskit.providers.fake_provider.generic_backend_v2.GenericBackendV2 object at 0x2b169cf90>\n"
     ]
    }
   ],
   "source": [
    "# runtime imports\n",
    "from qiskit.exceptions import QiskitWarning\n",
    "from qiskit.providers.fake_provider import GenericBackendV2\n",
    "\n",
    "# To run on hardware, select the backend with the fewest number of jobs in the queue\n",
    "backend = GenericBackendV2(num_qubits=N)\n",
    "print(backend)"
   ]
  },
  {
   "attachments": {},
   "cell_type": "markdown",
   "id": "988ee237",
   "metadata": {},
   "source": [
    "## Step 1: Map classical inputs to a quantum problem\n",
    "\n",
    "Although the problem instance in question for the VQE algorithm can come from a variety of domains, the form for execution through Qiskit Runtime is the same. Qiskit provides a convenience class for expressing Hamiltonians in Pauli form, and a collection of widely used ansatz circuits in the [`qiskit.circuit.library`](https://docs.quantum-computing.ibm.com/api/qiskit/circuit_library).\n",
    "\n",
    "This example Hamiltonian is derived from a quantum chemistry problem.\n"
   ]
  },
  {
   "cell_type": "code",
   "execution_count": 4,
   "id": "0ad66539",
   "metadata": {},
   "outputs": [],
   "source": [
    "hamiltonian = SparsePauliOp.from_list(\n",
    "    [(\"YZ\", 0.3980), (\"ZI\", -0.3980), (\"ZZ\", -0.0113), (\"XX\", 0.1810)]\n",
    ")"
   ]
  },
  {
   "attachments": {},
   "cell_type": "markdown",
   "id": "acb83d48",
   "metadata": {},
   "source": [
    "Our choice of ansatz is the `EfficientSU2` that, by default, linearly entangles qubits, making it ideal for quantum hardware with limited connectivity.\n"
   ]
  },
  {
   "cell_type": "code",
   "execution_count": 33,
   "id": "59bffe5e",
   "metadata": {},
   "outputs": [
    {
     "name": "stdout",
     "output_type": "stream",
     "text": [
      "<class 'qiskit.circuit.library.n_local.efficient_su2.EfficientSU2'>\n"
     ]
    },
    {
     "data": {
      "image/png": "[encoded data removed]",
      "text/plain": [
       "<Figure size 1039.79x200.667 with 1 Axes>"
      ]
     },
     "execution_count": 33,
     "metadata": {},
     "output_type": "execute_result"
    }
   ],
   "source": [
    "ansatz = EfficientSU2(hamiltonian.num_qubits)\n",
    "print(type(ansatz))\n",
    "ansatz.decompose().draw(\"mpl\", style=\"iqp\")"
   ]
  },
  {
   "attachments": {},
   "cell_type": "markdown",
   "id": "5bd1f7da",
   "metadata": {},
   "source": [
    "From the previous figure we see that our ansatz circuit is defined by a vector of parameters, $\\theta_{i}$, with the total number given by:\n"
   ]
  },
  {
   "cell_type": "code",
   "execution_count": 6,
   "id": "aa325696",
   "metadata": {},
   "outputs": [
    {
     "data": {
      "text/plain": [
       "16"
      ]
     },
     "execution_count": 6,
     "metadata": {},
     "output_type": "execute_result"
    }
   ],
   "source": [
    "num_params = ansatz.num_parameters\n",
    "num_params"
   ]
  },
  {
   "cell_type": "markdown",
   "id": "ac6f36e3",
   "metadata": {},
   "source": [
    "## Step 2: Optimize problem for quantum execution\n"
   ]
  },
  {
   "cell_type": "markdown",
   "id": "ed01c675-6506-4779-bf71-74f0de9212fb",
   "metadata": {},
   "source": [
    "To reduce the total job execution time, Qiskit primitives only accept circuits (ansatz) and observables (Hamiltonian) that conform to the instructions and connectivity supported by the target system (referred to as instruction set architecture (ISA) circuits and observables).\n"
   ]
  },
  {
   "cell_type": "markdown",
   "id": "3390069d-572c-472c-abb5-9cde12fd82a2",
   "metadata": {},
   "source": [
    "### ISA circuit\n"
   ]
  },
  {
   "cell_type": "markdown",
   "id": "ad6ddd99-b680-4ac4-b2d8-c0ac6266e6e8",
   "metadata": {},
   "source": [
    "Schedule a series of [`qiskit.transpiler`](https://docs.quantum-computing.ibm.com/api/qiskit/transpiler) passes to optimize the circuit for a selected backend and make it compatible with the backend's ISA. This can be easily done with a preset pass manager from `qiskit.transpiler` and its `optimization_level` parameter.\n",
    "\n",
    "The lowest optimization level does the minimum needed to get the circuit running on the device; it maps the circuit qubits to the device qubits and adds swap gates to allow all two-qubit operations. The highest optimization level is much smarter and uses lots of tricks to reduce the overall gate count. Since multi-qubit gates have high error rates and qubits decohere over time, the shorter circuits should give better results.\n"
   ]
  },
  {
   "cell_type": "code",
   "execution_count": 10,
   "id": "1834cb22",
   "metadata": {},
   "outputs": [],
   "source": [
    "from qiskit.transpiler.preset_passmanagers import generate_preset_pass_manager\n",
    "\n",
    "target = backend.target\n",
    "pm = generate_preset_pass_manager(target=target, optimization_level=3)\n",
    "\n",
    "ansatz_isa = pm.run(ansatz)"
   ]
  },
  {
   "cell_type": "code",
   "execution_count": 13,
   "id": "20d9923c",
   "metadata": {},
   "outputs": [
    {
     "data": {
      "image/png": "[encoded data removed]",
      "text/plain": [
       "<Figure size 2095.61x200.667 with 1 Axes>"
      ]
     },
     "execution_count": 13,
     "metadata": {},
     "output_type": "execute_result"
    }
   ],
   "source": [
    "ansatz_isa.draw(output=\"mpl\", idle_wires=False, style=\"iqp\")"
   ]
  },
  {
   "cell_type": "markdown",
   "id": "aab9e309-d643-496f-ad4b-c90173102ad6",
   "metadata": {},
   "source": [
    "### ISA observable\n"
   ]
  },
  {
   "cell_type": "markdown",
   "id": "6c9e5dcd",
   "metadata": {},
   "source": [
    "Transform the Hamiltonian to make it backend-compatible before running jobs with [`Runtime Estimator V2`](https://docs.quantum.ibm.com/api/qiskit-ibm-runtime/qiskit_ibm_runtime.EstimatorV2#run). Perform the transformation by using the `apply_layout` method of `SparsePauliOp` object.\n"
   ]
  },
  {
   "cell_type": "code",
   "execution_count": 14,
   "id": "3451901c",
   "metadata": {},
   "outputs": [],
   "source": [
    "hamiltonian_isa = hamiltonian.apply_layout(layout=ansatz_isa.layout)"
   ]
  },
  {
   "attachments": {},
   "cell_type": "markdown",
   "id": "b4d480b3",
   "metadata": {},
   "source": [
    "## Step 3: Execute using Qiskit Primitives\n",
    "\n",
    "Like many classical optimization problems, the solution to a VQE problem can be formulated as minimization of a scalar cost function.  By definition, VQE looks to find the ground state solution to a Hamiltonian by optimizing the ansatz circuit parameters to minimize the expectation value (energy) of the Hamiltonian.  With the Qiskit Runtime [`Estimator`](https://docs.quantum.ibm.com/api/qiskit-ibm-runtime/qiskit_ibm_runtime.EstimatorV2) directly taking a Hamiltonian and parameterized ansatz, and returning the necessary energy, the cost function for a VQE instance is quite simple.\n",
    "\n",
    "Note that the `run()` method of [Qiskit Runtime `EstimatorV2`](https://docs.quantum.ibm.com/api/qiskit-ibm-runtime/qiskit_ibm_runtime.EstimatorV2)  takes an iterable of `primitive unified blocs (PUBs)`. Each PUB is an iterable in the format `(circuit, observables, parameter_values: Optional, precision: Optional)`.\n"
   ]
  },
  {
   "cell_type": "code",
   "execution_count": 15,
   "metadata": {},
   "outputs": [],
   "source": [
    "cost_history_dict = {\n",
    "    \"prev_vector\": None,\n",
    "    \"iters\": 0,\n",
    "    \"cost_history\": [],\n",
    "}"
   ],
   "id": "6f5c3e496554ea53"
  },
  {
   "cell_type": "code",
   "execution_count": 16,
   "id": "b22a1b00",
   "metadata": {},
   "outputs": [],
   "source": [
    "def cost_func(params, ansatz, hamiltonian, estimator):\n",
    "    \"\"\"Return estimate of energy from estimator\n",
    "\n",
    "    Parameters:\n",
    "        params (ndarray): Array of ansatz parameters\n",
    "        ansatz (QuantumCircuit): Parameterized ansatz circuit\n",
    "        hamiltonian (SparsePauliOp): Operator representation of Hamiltonian\n",
    "        estimator (EstimatorV2): Estimator primitive instance\n",
    "        cost_history_dict: Dictionary for storing intermediate results\n",
    "\n",
    "    Returns:\n",
    "        float: Energy estimate\n",
    "    \"\"\"\n",
    "    pub = (ansatz, [hamiltonian], [params])\n",
    "    result = estimator.run(pubs=[pub]).result()\n",
    "    energy = result[0].data.evs[0]\n",
    "\n",
    "    cost_history_dict[\"iters\"] += 1\n",
    "    cost_history_dict[\"prev_vector\"] = params\n",
    "    cost_history_dict[\"cost_history\"].append(energy)\n",
    "    print(f\"Iters. done: {cost_history_dict['iters']} [Current cost: {energy}]\")\n",
    "\n",
    "    return energy"
   ]
  },
  {
   "attachments": {},
   "cell_type": "markdown",
   "id": "179ba2c4",
   "metadata": {},
   "source": [
    "Note that, in addition to the array of optimization parameters that must be the first argument, we use additional arguments to pass the terms needed in the cost function, such as the `cost_history_dict`. This dictionary stores the current vector at each iteration, for example in case you need to restart the routine due to failure, and also returns the current iteration number and average time per iteration.\n"
   ]
  },
  {
   "cell_type": "markdown",
   "id": "e80ff7d9",
   "metadata": {},
   "source": [
    "We can now use a classical optimizer of our choice to minimize the cost function. Here, we use the [COBYLA routine from SciPy through the `minimize` function](https://docs.scipy.org/doc/scipy/reference/generated/scipy.optimize.minimize.html). Note that when running on real quantum hardware, the choice of optimizer is important, as not all optimizers handle noisy cost function landscapes equally well.\n",
    "\n",
    "To begin the routine, specify a random initial set of parameters:\n"
   ]
  },
  {
   "cell_type": "code",
   "execution_count": 17,
   "id": "d6b90cca",
   "metadata": {},
   "outputs": [],
   "source": [
    "x0 = 2 * np.pi * np.random.random(num_params)"
   ]
  },
  {
   "cell_type": "code",
   "execution_count": 18,
   "id": "d4587c1d-5d59-47aa-b36c-b6d07b5f84e4",
   "metadata": {},
   "outputs": [
    {
     "data": {
      "text/plain": [
       "array([3.76860841, 5.69130339, 6.09390116, 4.94729389, 4.86222977,\n",
       "       5.68373074, 4.24203086, 2.7329912 , 4.38967002, 4.07646703,\n",
       "       1.30169852, 0.95168105, 5.72667187, 4.47600665, 4.00847539,\n",
       "       6.26941375])"
      ]
     },
     "execution_count": 18,
     "metadata": {},
     "output_type": "execute_result"
    }
   ],
   "source": [
    "x0"
   ]
  },
  {
   "cell_type": "markdown",
   "id": "67d09ca9",
   "metadata": {},
   "source": [
    "Because we are sending a large number of jobs that we would like to execute together, we use a [`Session`](https://docs.quantum-computing.ibm.com/api/qiskit-ibm-runtime/qiskit_ibm_runtime.Session) to execute all the generated circuits in one block.  Here `args` is the standard SciPy way to supply the additional parameters needed by the cost function.\n"
   ]
  },
  {
   "cell_type": "code",
   "execution_count": 27,
   "id": "61a802d2-5c58-4495-a617-f15fabef367e",
   "metadata": {},
   "outputs": [
    {
     "name": "stdout",
     "output_type": "stream",
     "text": [
      "10000\n",
      "Iters. done: 1 [Current cost: -0.19564799804687502]\n",
      "Iters. done: 2 [Current cost: -0.3512989257812501]\n",
      "Iters. done: 3 [Current cost: -0.37361328125000004]\n",
      "Iters. done: 4 [Current cost: 0.185226513671875]\n",
      "Iters. done: 5 [Current cost: -0.336203466796875]\n",
      "Iters. done: 6 [Current cost: -0.17028896484375003]\n",
      "Iters. done: 7 [Current cost: -0.33099228515625]\n",
      "Iters. done: 8 [Current cost: -0.303389794921875]\n",
      "Iters. done: 9 [Current cost: 0.06710043945312501]\n",
      "Iters. done: 10 [Current cost: -0.31033291015625003]\n",
      "Iters. done: 11 [Current cost: -0.35982563476562507]\n",
      "Iters. done: 12 [Current cost: -0.38973271484375005]\n",
      "Iters. done: 13 [Current cost: 0.01506870117187499]\n",
      "Iters. done: 14 [Current cost: -0.07404702148437499]\n",
      "Iters. done: 15 [Current cost: -0.396412109375]\n",
      "Iters. done: 16 [Current cost: -0.41892519531249994]\n",
      "Iters. done: 17 [Current cost: -0.370702099609375]\n",
      "Iters. done: 18 [Current cost: -0.49355009765624996]\n",
      "Iters. done: 19 [Current cost: -0.4949658203125]\n",
      "Iters. done: 20 [Current cost: -0.41936137695312503]\n",
      "Iters. done: 21 [Current cost: -0.40987202148437496]\n",
      "Iters. done: 22 [Current cost: -0.48461850585937505]\n"
     ]
    },
    {
     "name": "stderr",
     "output_type": "stream",
     "text": [
      "/Users/batuyalcin/anaconda3/envs/QiskitNew/lib/python3.11/site-packages/qiskit/providers/fake_provider/generic_backend_v2.py:506: RuntimeWarning: Aer not found using BasicSimulator and no noise\n",
      "  warnings.warn(\"Aer not found using BasicSimulator and no noise\", RuntimeWarning)\n"
     ]
    },
    {
     "name": "stdout",
     "output_type": "stream",
     "text": [
      "Iters. done: 23 [Current cost: -0.54668203125]\n",
      "Iters. done: 24 [Current cost: -0.41170053710937504]\n",
      "Iters. done: 25 [Current cost: -0.628230029296875]\n",
      "Iters. done: 26 [Current cost: -0.509243701171875]\n",
      "Iters. done: 27 [Current cost: -0.5751807617187501]\n",
      "Iters. done: 28 [Current cost: -0.61616669921875]\n",
      "Iters. done: 29 [Current cost: -0.645433154296875]\n",
      "Iters. done: 30 [Current cost: -0.5918705078125002]\n",
      "Iters. done: 31 [Current cost: -0.6313354492187501]\n",
      "Iters. done: 32 [Current cost: -0.672654541015625]\n",
      "Iters. done: 33 [Current cost: -0.6703900390625]\n",
      "Iters. done: 34 [Current cost: -0.6521146484375]\n",
      "Iters. done: 35 [Current cost: -0.69104482421875]\n",
      "Iters. done: 36 [Current cost: -0.5044831054687501]\n",
      "Iters. done: 37 [Current cost: -0.584035302734375]\n",
      "Iters. done: 38 [Current cost: -0.6896250000000002]\n",
      "Iters. done: 39 [Current cost: -0.5772233398437501]\n",
      "Iters. done: 40 [Current cost: -0.6893993164062501]\n",
      "Iters. done: 41 [Current cost: -0.6572597656250001]\n",
      "Iters. done: 42 [Current cost: -0.685476416015625]\n",
      "Iters. done: 43 [Current cost: -0.6626706054687501]\n",
      "Iters. done: 44 [Current cost: -0.6821308593750001]\n",
      "Iters. done: 45 [Current cost: -0.668829150390625]\n",
      "Iters. done: 46 [Current cost: -0.68558212890625]\n",
      "Iters. done: 47 [Current cost: -0.663478515625]\n",
      "Iters. done: 48 [Current cost: -0.694522802734375]\n",
      "Iters. done: 49 [Current cost: -0.65308984375]\n",
      "Iters. done: 50 [Current cost: -0.6805372558593751]\n",
      "Iters. done: 51 [Current cost: -0.623626953125]\n",
      "Iters. done: 52 [Current cost: -0.6915488281250001]\n",
      "Iters. done: 53 [Current cost: -0.62384072265625]\n",
      "Iters. done: 54 [Current cost: -0.6986140624999999]\n",
      "Iters. done: 55 [Current cost: -0.58018212890625]\n",
      "Iters. done: 56 [Current cost: -0.6927451171875]\n",
      "Iters. done: 57 [Current cost: -0.6604884277343749]\n",
      "Iters. done: 58 [Current cost: -0.68440048828125]\n",
      "Iters. done: 59 [Current cost: -0.6957442871093751]\n",
      "Iters. done: 60 [Current cost: -0.69750107421875]\n",
      "Iters. done: 61 [Current cost: -0.6949140136718751]\n",
      "Iters. done: 62 [Current cost: -0.6786954101562499]\n",
      "Iters. done: 63 [Current cost: -0.6936263671875]\n",
      "Iters. done: 64 [Current cost: -0.63660224609375]\n",
      "Iters. done: 65 [Current cost: -0.6959676757812501]\n",
      "Iters. done: 66 [Current cost: -0.6900998046875001]\n",
      "Iters. done: 67 [Current cost: -0.69990556640625]\n",
      "Iters. done: 68 [Current cost: -0.6759688964843751]\n",
      "Iters. done: 69 [Current cost: -0.702107666015625]\n",
      "Iters. done: 70 [Current cost: -0.7017617675781249]\n",
      "Iters. done: 71 [Current cost: -0.6858912597656249]\n",
      "Iters. done: 72 [Current cost: -0.690060302734375]\n",
      "Iters. done: 73 [Current cost: -0.6920361328125]\n",
      "Iters. done: 74 [Current cost: -0.6909111816406249]\n",
      "Iters. done: 75 [Current cost: -0.6850216308593751]\n",
      "Iters. done: 76 [Current cost: -0.6946023925781251]\n",
      "Iters. done: 77 [Current cost: -0.705605712890625]\n",
      "Iters. done: 78 [Current cost: -0.6924703613281249]\n",
      "Iters. done: 79 [Current cost: -0.686619580078125]\n",
      "Iters. done: 80 [Current cost: -0.6970573242187501]\n",
      "Iters. done: 81 [Current cost: -0.68417333984375]\n",
      "Iters. done: 82 [Current cost: -0.69569140625]\n",
      "Iters. done: 83 [Current cost: -0.69718330078125]\n",
      "Iters. done: 84 [Current cost: -0.6818023925781249]\n",
      "Iters. done: 85 [Current cost: -0.6891813964843749]\n",
      "Iters. done: 86 [Current cost: -0.6978595703124999]\n",
      "Iters. done: 87 [Current cost: -0.6969565429687501]\n",
      "Iters. done: 88 [Current cost: -0.69774716796875]\n",
      "Iters. done: 89 [Current cost: -0.6878923828125]\n",
      "Iters. done: 90 [Current cost: -0.6902443359375]\n",
      "Iters. done: 91 [Current cost: -0.6919376953125]\n",
      "Iters. done: 92 [Current cost: -0.696318359375]\n",
      "Iters. done: 93 [Current cost: -0.7105453125000001]\n",
      "Iters. done: 94 [Current cost: -0.6869433593750001]\n",
      "Iters. done: 95 [Current cost: -0.699311328125]\n",
      "Iters. done: 96 [Current cost: -0.6906923828125]\n",
      "Iters. done: 97 [Current cost: -0.6926548828125]\n",
      "Iters. done: 98 [Current cost: -0.697497314453125]\n",
      "Iters. done: 99 [Current cost: -0.6974047363281249]\n",
      "Iters. done: 100 [Current cost: -0.7027284179687501]\n",
      "Iters. done: 101 [Current cost: -0.6881215332031251]\n",
      "Iters. done: 102 [Current cost: -0.7013880371093751]\n",
      "Iters. done: 103 [Current cost: -0.6904291992187501]\n",
      "Iters. done: 104 [Current cost: -0.688935986328125]\n",
      "Iters. done: 105 [Current cost: -0.69669189453125]\n",
      "Iters. done: 106 [Current cost: -0.6957009765625001]\n",
      "Iters. done: 107 [Current cost: -0.6915708496093751]\n",
      "Iters. done: 108 [Current cost: -0.6979962890625]\n",
      "Iters. done: 109 [Current cost: -0.706985400390625]\n",
      "Iters. done: 110 [Current cost: -0.695951171875]\n",
      "Iters. done: 111 [Current cost: -0.694435498046875]\n",
      "Iters. done: 112 [Current cost: -0.698087548828125]\n",
      "Iters. done: 113 [Current cost: -0.70097197265625]\n",
      "Iters. done: 114 [Current cost: -0.704712255859375]\n",
      "Iters. done: 115 [Current cost: -0.6836703613281251]\n",
      "Iters. done: 116 [Current cost: -0.69842822265625]\n",
      "Iters. done: 117 [Current cost: -0.6972353515625]\n",
      "Iters. done: 118 [Current cost: -0.6981530273437501]\n",
      "Iters. done: 119 [Current cost: -0.69116806640625]\n",
      "Iters. done: 120 [Current cost: -0.693184228515625]\n",
      "Iters. done: 121 [Current cost: -0.6985266113281251]\n",
      "Iters. done: 122 [Current cost: -0.6964867675781251]\n",
      "Iters. done: 123 [Current cost: -0.685760498046875]\n",
      "Iters. done: 124 [Current cost: -0.692331640625]\n",
      "Iters. done: 125 [Current cost: -0.697910498046875]\n",
      "Iters. done: 126 [Current cost: -0.69134326171875]\n",
      "Iters. done: 127 [Current cost: -0.6846107421875001]\n",
      "Iters. done: 128 [Current cost: -0.692017919921875]\n",
      "Iters. done: 129 [Current cost: -0.68436416015625]\n",
      "Iters. done: 130 [Current cost: -0.6993403320312501]\n",
      "Iters. done: 131 [Current cost: -0.6932901855468749]\n",
      "Iters. done: 132 [Current cost: -0.688510205078125]\n",
      "Iters. done: 133 [Current cost: -0.6748223632812501]\n",
      "Iters. done: 134 [Current cost: -0.69457587890625]\n",
      "Iters. done: 135 [Current cost: -0.6961096679687501]\n",
      "Iters. done: 136 [Current cost: -0.704118310546875]\n",
      "Iters. done: 137 [Current cost: -0.6847483398437502]\n",
      "Iters. done: 138 [Current cost: -0.703895166015625]\n",
      "Iters. done: 139 [Current cost: -0.68339248046875]\n",
      "Iters. done: 140 [Current cost: -0.7009137207031251]\n",
      "Iters. done: 141 [Current cost: -0.690317041015625]\n",
      "Iters. done: 142 [Current cost: -0.6983295410156249]\n",
      "Iters. done: 143 [Current cost: -0.6870399902343749]\n",
      "Iters. done: 144 [Current cost: -0.6983273925781249]\n",
      "Iters. done: 145 [Current cost: -0.684933447265625]\n",
      "Iters. done: 146 [Current cost: -0.6939728515625001]\n",
      "Iters. done: 147 [Current cost: -0.6963671386718749]\n",
      "Iters. done: 148 [Current cost: -0.6913980468750001]\n",
      "Iters. done: 149 [Current cost: -0.698452685546875]\n",
      "Iters. done: 150 [Current cost: -0.70368857421875]\n",
      "Iters. done: 151 [Current cost: -0.692121826171875]\n",
      "Iters. done: 152 [Current cost: -0.69997763671875]\n",
      "Iters. done: 153 [Current cost: -0.6855536621093751]\n",
      "Iters. done: 154 [Current cost: -0.69829072265625]\n",
      "Iters. done: 155 [Current cost: -0.698312353515625]\n",
      "Iters. done: 156 [Current cost: -0.696547314453125]\n",
      "Iters. done: 157 [Current cost: -0.693069580078125]\n",
      "Iters. done: 158 [Current cost: -0.69162373046875]\n",
      "Iters. done: 159 [Current cost: -0.7003789550781251]\n",
      "Iters. done: 160 [Current cost: -0.691820068359375]\n",
      "Iters. done: 161 [Current cost: -0.6997884765625001]\n",
      "Iters. done: 162 [Current cost: -0.6916654296875]\n",
      "Iters. done: 163 [Current cost: -0.6978747558593751]\n",
      "Iters. done: 164 [Current cost: -0.6979625488281249]\n",
      "Iters. done: 165 [Current cost: -0.69130419921875]\n",
      "Iters. done: 166 [Current cost: -0.708108935546875]\n",
      "Iters. done: 167 [Current cost: -0.69091728515625]\n",
      "Iters. done: 168 [Current cost: -0.6990666503906251]\n",
      "Iters. done: 169 [Current cost: -0.7016661621093749]\n",
      "Iters. done: 170 [Current cost: -0.70765576171875]\n",
      "Iters. done: 171 [Current cost: -0.6944169921875]\n",
      "Iters. done: 172 [Current cost: -0.68792861328125]\n",
      "Iters. done: 173 [Current cost: -0.6903586914062501]\n",
      "Iters. done: 174 [Current cost: -0.689937353515625]\n"
     ]
    }
   ],
   "source": [
    "from qiskit.primitives import BackendEstimatorV2\n",
    "estimator = BackendEstimatorV2(backend=backend)\n",
    "estimator.options.default_shots = 10000\n",
    "print(estimator.options.default_shots)\n",
    "res = minimize(\n",
    "        cost_func,\n",
    "        x0,\n",
    "        args=(ansatz_isa, hamiltonian_isa, estimator),\n",
    "        method=\"cobyla\",\n",
    ")"
   ]
  },
  {
   "cell_type": "markdown",
   "id": "937f5a6e",
   "metadata": {},
   "source": [
    "At the terminus of this routine we have a result in the standard SciPy `OptimizeResult` format.  From this we see that it took `nfev` number of cost function evaluations to obtain the solution vector of parameter angles (`x`) that, when plugged into the ansatz circuit, yield the approximate ground state solution we were looking for.\n"
   ]
  },
  {
   "cell_type": "code",
   "execution_count": 28,
   "id": "4e76845a-3fa0-4d12-86b5-de5b2bdee86c",
   "metadata": {},
   "outputs": [
    {
     "data": {
      "text/plain": [
       " message: Optimization terminated successfully.\n",
       " success: True\n",
       "  status: 1\n",
       "     fun: -0.689937353515625\n",
       "       x: [ 5.518e+00  6.933e+00 ...  5.031e+00  6.724e+00]\n",
       "    nfev: 174\n",
       "   maxcv: 0.0"
      ]
     },
     "execution_count": 28,
     "metadata": {},
     "output_type": "execute_result"
    }
   ],
   "source": [
    "res"
   ]
  },
  {
   "cell_type": "markdown",
   "id": "50b94af2",
   "metadata": {},
   "source": [
    "## Step 4: Post-process, return result in classical format\n"
   ]
  },
  {
   "attachments": {},
   "cell_type": "markdown",
   "id": "733431ad",
   "metadata": {},
   "source": [
    "If the procedure terminates correctly, then the `prev_vector` and `iters` values in our `cost_history_dict` dictionary should be equal to the solution vector and total number of function evaluations, respectively.  This is easy to verify:\n"
   ]
  },
  {
   "cell_type": "code",
   "execution_count": 29,
   "id": "31dc35ea-6554-4ca7-9c3b-0b5394c46e4e",
   "metadata": {},
   "outputs": [
    {
     "data": {
      "text/plain": [
       "True"
      ]
     },
     "execution_count": 29,
     "metadata": {},
     "output_type": "execute_result"
    }
   ],
   "source": [
    "all(cost_history_dict[\"prev_vector\"] == res.x)"
   ]
  },
  {
   "cell_type": "code",
   "execution_count": 30,
   "id": "a90d1664-1728-4a8a-bb11-03f15e3f5639",
   "metadata": {},
   "outputs": [
    {
     "data": {
      "text/plain": [
       "True"
      ]
     },
     "execution_count": 30,
     "metadata": {},
     "output_type": "execute_result"
    }
   ],
   "source": [
    "all(cost_history_dict[\"prev_vector\"] == res.x)\n",
    "cost_history_dict[\"iters\"] == res.nfev"
   ]
  },
  {
   "attachments": {},
   "cell_type": "markdown",
   "id": "19459b48",
   "metadata": {},
   "source": [
    "We can also now view the progress toward convergence as monitored by the cost history at each iteration:\n"
   ]
  },
  {
   "cell_type": "code",
   "execution_count": 31,
   "id": "8501d609",
   "metadata": {},
   "outputs": [
    {
     "data": {
      "image/png": "[encoded data removed]",
      "text/plain": [
       "<Figure size 640x480 with 1 Axes>"
      ]
     },
     "metadata": {},
     "output_type": "display_data"
    }
   ],
   "source": [
    "all(cost_history_dict[\"prev_vector\"] == res.x)\n",
    "cost_history_dict[\"iters\"] == res.nfev\n",
    "fig, ax = plt.subplots()\n",
    "ax.plot(range(cost_history_dict[\"iters\"]), cost_history_dict[\"cost_history\"])\n",
    "ax.set_xlabel(\"Iterations\")\n",
    "ax.set_ylabel(\"Cost\")\n",
    "plt.draw()"
   ]
  },
  {
   "cell_type": "code",
   "execution_count": 32,
   "id": "11c9e788",
   "metadata": {},
   "outputs": [
    {
     "data": {
      "text/plain": [
       "'1.1.0'"
      ]
     },
     "execution_count": 32,
     "metadata": {},
     "output_type": "execute_result"
    }
   ],
   "source": [
    "import qiskit\n",
    "\n",
    "qiskit.version.get_version_info()"
   ]
  }
 ],
 "metadata": {
  "kernelspec": {
   "display_name": "Python 3",
   "language": "python",
   "name": "python3"
  },
  "language_info": {
   "codemirror_mode": {
    "name": "ipython",
    "version": 3
   },
   "file_extension": ".py",
   "mimetype": "text/x-python",
   "name": "python",
   "nbconvert_exporter": "python",
   "pygments_lexer": "ipython3",
   "version": "3.11.9"
  }
 },
 "nbformat": 4,
 "nbformat_minor": 5
}
