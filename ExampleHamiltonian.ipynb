{
 "cells": [
  {
   "cell_type": "code",
   "execution_count": 3,
   "id": "edb9a9da-ed77-45b7-9610-29760e255987",
   "metadata": {},
   "outputs": [],
   "source": [
    "import numpy as np\n",
    "from qiskit_nature.second_q.operators import FermionicOp\n",
    "from qiskit_nature.second_q.mappers import JordanWignerMapper"
   ]
  },
  {
   "cell_type": "code",
   "execution_count": 25,
   "id": "74b39bc6-64cc-4995-aeed-519147ab9309",
   "metadata": {},
   "outputs": [],
   "source": [
    "n = 6\n",
    "N = 2*n\n",
    "t=1\n",
    "mu=1\n",
    "U=1"
   ]
  },
  {
   "cell_type": "code",
   "execution_count": 26,
   "id": "895d5adb-41ba-4dca-8a05-9c738fd3cbf7",
   "metadata": {},
   "outputs": [],
   "source": [
    "op = FermionicOp(\n",
    "    {\n",
    "        \"+_0 -_0\": 1.0,\n",
    "        \"+_1 -_1\": -1.0,\n",
    "    },\n",
    "    num_spin_orbitals=2,\n",
    ")"
   ]
  },
  {
   "cell_type": "code",
   "execution_count": 27,
   "id": "d7c28209-2bc3-4b57-b2c0-147c98953fab",
   "metadata": {},
   "outputs": [
    {
     "name": "stdout",
     "output_type": "stream",
     "text": [
      "Fermionic Operator\n",
      "number spin orbitals=2, number terms=2\n",
      "  1.0 * ( +_0 -_0 )\n",
      "+ -1.0 * ( +_1 -_1 )\n"
     ]
    }
   ],
   "source": [
    "print(op)"
   ]
  },
  {
   "cell_type": "code",
   "execution_count": 28,
   "id": "2827e220-69f9-4561-8d91-dc1d1cad3040",
   "metadata": {},
   "outputs": [],
   "source": [
    "def qOp(i,j,N=20):\n",
    "    return FermionicOp(\n",
    "    {\n",
    "        \"+_{i} -_{j}\".format(i=i%N,j=j%N): 1.0,\n",
    "    },\n",
    "    num_spin_orbitals=N,\n",
    ")"
   ]
  },
  {
   "cell_type": "code",
   "execution_count": 29,
   "id": "7c3ac5f0-65e7-4744-9975-7b0174319094",
   "metadata": {
    "scrolled": true
   },
   "outputs": [
    {
     "name": "stdout",
     "output_type": "stream",
     "text": [
      "Fermionic Operator\n",
      "number spin orbitals=20, number terms=42\n",
      "  1.0 * ( +_0 -_0 +_1 -_0 )\n",
      "+ 1.0 * ( +_2 -_2 +_3 -_3 )\n",
      "+ 1.0 * ( +_4 -_4 +_5 -_6 )\n",
      "+ 1.0 * ( +_6 -_6 +_7 -_9 )\n",
      "+ 1.0 * ( +_8 -_8 +_9 -_12 )\n",
      "+ 1.0 * ( +_10 -_10 +_11 -_15 )\n",
      "+ -1.0 * ( +_5 -_5 )\n",
      "+ -1.0 * ( +_6 -_6 )\n",
      "+ -1.0 * ( +_1 -_1 )\n",
      "+ -1.0 * ( +_8 -_8 )\n",
      "+ -1.0 * ( +_2 -_2 )\n",
      "+ -1.0 * ( +_3 -_3 )\n",
      "+ -1.0 * ( +_4 -_4 )\n",
      "+ -1.0 * ( +_9 -_9 )\n",
      "+ -1.0 * ( +_10 -_10 )\n",
      "+ -1.0 * ( +_7 -_7 )\n",
      "+ -1.0 * ( +_0 -_0 )\n",
      "+ -1.0 * ( +_11 -_11 )\n",
      "+ -1.0 * ( +_11 -_13 )\n",
      "+ -1.0 * ( +_2 -_4 )\n",
      "+ -1.0 * ( +_3 -_1 )\n",
      "+ -1.0 * ( +_9 -_7 )\n",
      "+ -1.0 * ( +_7 -_9 )\n",
      "+ -1.0 * ( +_4 -_2 )\n",
      "+ -1.0 * ( +_6 -_8 )\n",
      "+ -1.0 * ( +_0 -_2 )\n",
      "+ -1.0 * ( +_1 -_3 )\n",
      "+ -1.0 * ( +_10 -_8 )\n",
      "+ -1.0 * ( +_7 -_5 )\n",
      "+ -1.0 * ( +_8 -_6 )\n",
      "+ -1.0 * ( +_11 -_9 )\n",
      "+ -1.0 * ( +_9 -_11 )\n",
      "+ -1.0 * ( +_5 -_7 )\n",
      "+ -1.0 * ( +_12 -_10 )\n",
      "+ -1.0 * ( +_3 -_5 )\n",
      "+ -1.0 * ( +_2 -_0 )\n",
      "+ -1.0 * ( +_5 -_3 )\n",
      "+ -1.0 * ( +_13 -_11 )\n",
      "+ -1.0 * ( +_10 -_12 )\n",
      "+ -1.0 * ( +_8 -_10 )\n",
      "+ -1.0 * ( +_6 -_4 )\n",
      "+ -1.0 * ( +_4 -_6 )\n"
     ]
    }
   ],
   "source": [
    "t_term = 0\n",
    "mu_term =0\n",
    "U_term =0\n",
    "for i in range(n):\n",
    "    t_term+= qOp(2*i,2*i+2) + qOp(2*i+2,2*i) + qOp(2*i+1,2*i+3) + qOp(2*i+3,2*i+1) \n",
    "    mu_term += qOp(2*i,2*i) + qOp(2*i+1,2*i+1)\n",
    "    U_term += (qOp(2*i,2*i) @ qOp(2*i+1, 2*i+i))\n",
    "H = U * U_term - mu * mu_term - t * t_term\n",
    "\n",
    "print(H)"
   ]
  },
  {
   "cell_type": "code",
   "execution_count": 35,
   "id": "8526ada8-9a5c-4f86-a8e7-0979b5c424c8",
   "metadata": {},
   "outputs": [
    {
     "name": "stdout",
     "output_type": "stream",
     "text": [
      "SparsePauliOp(['IIIIIIIIIIIIIIIIIIII', 'IIIIIIIIIIIIIIIIZIII', 'IIIIIIIIIIIIIIIIIZII', 'IIIIIIIIIIIIIIIIZZII', 'IIIIIIIIIIIIIXYIIIII', 'IIIIIIIIIIIIIYYIIIII', 'IIIIIIIIIIIIIXXIIIII', 'IIIIIIIIIIIIIYXIIIII', 'IIIIIIIIIIIIIXYZIIII', 'IIIIIIIIIIIIIYYZIIII', 'IIIIIIIIIIIIIXXZIIII', 'IIIIIIIIIIIIIYXZIIII', 'IIIIIIIIIIXZYIIIIIII', 'IIIIIIIIIIYZYIIIIIII', 'IIIIIIIIIIXZXIIIIIII', 'IIIIIIIIIIYZXIIIIIII', 'IIIIIIIIIIXZYZIIIIII', 'IIIIIIIIIIYZYZIIIIII', 'IIIIIIIIIIXZXZIIIIII', 'IIIIIIIIIIYZXZIIIIII', 'IIIIIIIXZZYIIIIIIIII', 'IIIIIIIYZZYIIIIIIIII', 'IIIIIIIXZZXIIIIIIIII', 'IIIIIIIYZZXIIIIIIIII', 'IIIIIIIXZZYZIIIIIIII', 'IIIIIIIYZZYZIIIIIIII', 'IIIIIIIXZZXZIIIIIIII', 'IIIIIIIYZZXZIIIIIIII', 'IIIIXZZZYIIIIIIIIIII', 'IIIIYZZZYIIIIIIIIIII', 'IIIIXZZZXIIIIIIIIIII', 'IIIIYZZZXIIIIIIIIIII', 'IIIIXZZZYZIIIIIIIIII', 'IIIIYZZZYZIIIIIIIIII', 'IIIIXZZZXZIIIIIIIIII', 'IIIIYZZZXZIIIIIIIIII', 'IIIIIIIIIIIIIIZIIIII', 'IIIIIIIIIIIIIZIIIIII', 'IIIIIIIIIIIIIIIIIIZI', 'IIIIIIIIIIIZIIIIIIII', 'IIIIIIIIIIIIIIIZIIII', 'IIIIIIIIIIZIIIIIIIII', 'IIIIIIIIIZIIIIIIIIII', 'IIIIIIIIIIIIZIIIIIII', 'IIIIIIIIIIIIIIIIIIIZ', 'IIIIIIIIZIIIIIIIIIII', 'IIIIIIYZYIIIIIIIIIII', 'IIIIIIXZXIIIIIIIIIII', 'IIIIIIIIIIIIIIIYZYII', 'IIIIIIIIIIIIIIIXZXII', 'IIIIIIIIIIIIIIIIXZXI', 'IIIIIIIIIIIIIIIIYZYI', 'IIIIIIIIIIIYZYIIIIII', 'IIIIIIIIIIIXZXIIIIII', 'IIIIIIIIIIIIIIIIIYZY', 'IIIIIIIIIIIIIIIIIXZX', 'IIIIIIIIIXZXIIIIIIII', 'IIIIIIIIIYZYIIIIIIII', 'IIIIIIIIIIIIXZXIIIII', 'IIIIIIIIIIIIYZYIIIII', 'IIIIIIIIXZXIIIIIIIII', 'IIIIIIIIYZYIIIIIIIII', 'IIIIIIIXZXIIIIIIIIII', 'IIIIIIIYZYIIIIIIIIII', 'IIIIIIIIIIIIIIYZYIII', 'IIIIIIIIIIIIIIXZXIII', 'IIIIIIIIIIIIIXZXIIII', 'IIIIIIIIIIIIIYZYIIII'],\n",
      "              coeffs=[-5.75 +0.j   ,  0.25 +0.j   ,  0.25 +0.j   ,  0.25 +0.j   ,  0.   -0.125j,\n",
      "  0.125+0.j   ,  0.125+0.j   ,  0.   +0.125j,  0.   +0.125j, -0.125+0.j   ,\n",
      " -0.125+0.j   ,  0.   -0.125j,  0.   -0.125j, -0.375+0.j   , -0.375+0.j   ,\n",
      "  0.   +0.125j,  0.   +0.125j, -0.125+0.j   , -0.125+0.j   ,  0.   -0.125j,\n",
      "  0.   -0.125j,  0.125+0.j   ,  0.125+0.j   ,  0.   +0.125j,  0.   +0.125j,\n",
      " -0.125+0.j   , -0.125+0.j   ,  0.   -0.125j,  0.   -0.125j,  0.125+0.j   ,\n",
      "  0.125+0.j   ,  0.   +0.125j,  0.   +0.125j, -0.125+0.j   , -0.125+0.j   ,\n",
      "  0.   -0.125j,  0.5  +0.j   ,  0.5  +0.j   ,  0.5  +0.j   ,  0.5  +0.j   ,\n",
      "  0.5  +0.j   ,  0.5  +0.j   ,  0.5  +0.j   ,  0.5  +0.j   ,  0.5  +0.j   ,\n",
      "  0.5  +0.j   , -0.5  +0.j   , -0.5  +0.j   , -0.5  +0.j   , -0.5  +0.j   ,\n",
      " -0.5  +0.j   , -0.5  +0.j   , -0.5  +0.j   , -0.5  +0.j   , -0.5  +0.j   ,\n",
      " -0.5  +0.j   , -0.5  +0.j   , -0.5  +0.j   , -0.5  +0.j   , -0.5  +0.j   ,\n",
      " -0.5  +0.j   , -0.5  +0.j   , -0.5  +0.j   , -0.5  +0.j   , -0.5  +0.j   ,\n",
      " -0.5  +0.j   , -0.5  +0.j   , -0.5  +0.j   ])\n"
     ]
    }
   ],
   "source": [
    "mapper = JordanWignerMapper()\n",
    "qubit_jw_op = mapper.map(H)\n",
    "print(qubit_jw_op)"
   ]
  },
  {
   "cell_type": "code",
   "execution_count": 31,
   "metadata": {},
   "outputs": [
    {
     "name": "stderr",
     "output_type": "stream",
     "text": [
      "/var/folders/n_/1wl7_2l52y3g1_82hvk9hw3h0000gn/T/ipykernel_8341/2199339818.py:6: DeprecationWarning: The class ``qiskit.algorithms.eigen_solvers.numpy_eigen_solver.NumPyEigensolver`` is deprecated as of qiskit-terra 0.24.0. It will be removed no earlier than 3 months after the release date. Instead, use the class ``qiskit.algorithms.eigensolvers.NumPyEigensolver``. See https://qisk.it/algo_migration for a migration guide.\n",
      "  exact_solver = NumPyEigensolver(k=3)\n",
      "/var/folders/n_/1wl7_2l52y3g1_82hvk9hw3h0000gn/T/ipykernel_8341/2199339818.py:7: DeprecationWarning: The class ``qiskit.opflow.primitive_ops.pauli_sum_op.PauliSumOp`` is deprecated as of qiskit-terra 0.24.0. It will be removed no earlier than 3 months after the release date. For code migration guidelines, visit https://qisk.it/opflow_migration.\n",
      "  qubit_jw_op = PauliSumOp(qubit_jw_op)\n"
     ]
    }
   ],
   "source": [
    "from qiskit.algorithms import NumPyEigensolver\n",
    "from qiskit.visualization import plot_histogram\n",
    "from qiskit.opflow.primitive_ops import PauliSumOp\n",
    "\n",
    "# find the first three (k=3) eigenvalues\n",
    "exact_solver = NumPyEigensolver(k=3)\n",
    "qubit_jw_op1 = PauliSumOp(qubit_jw_op)\n",
    "exact_result = exact_solver.compute_eigenvalues(qubit_jw_op1)\n",
    "\n",
    "# Save ground state energy for later\n",
    "gs_energy = np.round(exact_result.eigenvalues[0], 4)"
   ]
  },
  {
   "cell_type": "code",
   "execution_count": 32,
   "metadata": {},
   "outputs": [
    {
     "name": "stdout",
     "output_type": "stream",
     "text": [
      "(-14.7906+0j)\n"
     ]
    }
   ],
   "source": [
    "print(gs_energy)"
   ]
  },
  {
   "cell_type": "code",
   "execution_count": 33,
   "id": "b4a4b8d8-3c1b-41c7-93b5-a9b71fe77d94",
   "metadata": {},
   "outputs": [],
   "source": [
    "from qiskit_algorithms import VQE\n",
    "from qiskit.primitives import Estimator\n",
    "from qiskit.circuit.library import EfficientSU2\n",
    "from qiskit_algorithms.optimizers import SPSA, COBYLA\n",
    "\n",
    "n = qubit_jw_op.num_qubits\n",
    "est = Estimator()\n",
    "ansatz = EfficientSU2(n)\n",
    "optimizer = SPSA(maxiter = 200)\n",
    "intermediate_info = []\n",
    "def callback(value):\n",
    "        intermediate_info.append(value)\n",
    "\n",
    "vqe = VQE(est,ansatz,optimizer,callback = callback)\n"
   ]
  },
  {
   "cell_type": "code",
   "execution_count": 36,
   "metadata": {},
   "outputs": [
    {
     "ename": "UFuncTypeError",
     "evalue": "Cannot cast ufunc 'add' output from dtype('complex128') to dtype('float64') with casting rule 'same_kind'",
     "output_type": "error",
     "traceback": [
      "\u001b[0;31m---------------------------------------------------------------------------\u001b[0m",
      "\u001b[0;31mUFuncTypeError\u001b[0m                            Traceback (most recent call last)",
      "\u001b[1;32m/Users/batuyalcin/qagc2024/ExampleHamiltonian.ipynb Cell 11\u001b[0m line \u001b[0;36m1\n\u001b[0;32m----> <a href='vscode-notebook-cell:/Users/batuyalcin/qagc2024/ExampleHamiltonian.ipynb#X11sZmlsZQ%3D%3D?line=0'>1</a>\u001b[0m eigen \u001b[39m=\u001b[39m vqe\u001b[39m.\u001b[39mcompute_minimum_eigenvalue(qubit_jw_op)\n",
      "File \u001b[0;32m~/anaconda3/envs/Quantum/lib/python3.11/site-packages/qiskit_algorithms/minimum_eigensolvers/vqe.py:194\u001b[0m, in \u001b[0;36mVQE.compute_minimum_eigenvalue\u001b[0;34m(self, operator, aux_operators)\u001b[0m\n\u001b[1;32m    189\u001b[0m \u001b[39melse\u001b[39;00m:\n\u001b[1;32m    190\u001b[0m     \u001b[39m# we always want to submit as many estimations per job as possible for minimal\u001b[39;00m\n\u001b[1;32m    191\u001b[0m     \u001b[39m# overhead on the hardware\u001b[39;00m\n\u001b[1;32m    192\u001b[0m     was_updated \u001b[39m=\u001b[39m _set_default_batchsize(\u001b[39mself\u001b[39m\u001b[39m.\u001b[39moptimizer)\n\u001b[0;32m--> 194\u001b[0m     optimizer_result \u001b[39m=\u001b[39m \u001b[39mself\u001b[39m\u001b[39m.\u001b[39moptimizer\u001b[39m.\u001b[39mminimize(\n\u001b[1;32m    195\u001b[0m         fun\u001b[39m=\u001b[39mevaluate_energy,  \u001b[39m# type: ignore[arg-type]\u001b[39;00m\n\u001b[1;32m    196\u001b[0m         x0\u001b[39m=\u001b[39minitial_point,\n\u001b[1;32m    197\u001b[0m         jac\u001b[39m=\u001b[39mevaluate_gradient,  \u001b[39m# type: ignore[arg-type]\u001b[39;00m\n\u001b[1;32m    198\u001b[0m         bounds\u001b[39m=\u001b[39mbounds,\n\u001b[1;32m    199\u001b[0m     )\n\u001b[1;32m    201\u001b[0m     \u001b[39m# reset to original value\u001b[39;00m\n\u001b[1;32m    202\u001b[0m     \u001b[39mif\u001b[39;00m was_updated:\n",
      "File \u001b[0;32m~/anaconda3/envs/Quantum/lib/python3.11/site-packages/qiskit_algorithms/optimizers/spsa.py:558\u001b[0m, in \u001b[0;36mSPSA.minimize\u001b[0;34m(self, fun, x0, jac, bounds)\u001b[0m\n\u001b[1;32m    556\u001b[0m iteration_start \u001b[39m=\u001b[39m time()\n\u001b[1;32m    557\u001b[0m \u001b[39m# compute update\u001b[39;00m\n\u001b[0;32m--> 558\u001b[0m fx_estimate, update \u001b[39m=\u001b[39m \u001b[39mself\u001b[39m\u001b[39m.\u001b[39m_compute_update(fun, x, k, \u001b[39mnext\u001b[39m(eps), lse_solver)\n\u001b[1;32m    560\u001b[0m \u001b[39m# trust region\u001b[39;00m\n\u001b[1;32m    561\u001b[0m \u001b[39mif\u001b[39;00m \u001b[39mself\u001b[39m\u001b[39m.\u001b[39mtrust_region:\n",
      "File \u001b[0;32m~/anaconda3/envs/Quantum/lib/python3.11/site-packages/qiskit_algorithms/optimizers/spsa.py:489\u001b[0m, in \u001b[0;36mSPSA._compute_update\u001b[0;34m(self, loss, x, k, eps, lse_solver)\u001b[0m\n\u001b[1;32m    486\u001b[0m     num_samples \u001b[39m=\u001b[39m \u001b[39mself\u001b[39m\u001b[39m.\u001b[39mresamplings\n\u001b[1;32m    488\u001b[0m \u001b[39m# accumulate the number of samples\u001b[39;00m\n\u001b[0;32m--> 489\u001b[0m value, gradient, hessian \u001b[39m=\u001b[39m \u001b[39mself\u001b[39m\u001b[39m.\u001b[39m_point_estimate(loss, x, eps, num_samples)\n\u001b[1;32m    491\u001b[0m \u001b[39m# precondition gradient with inverse Hessian, if specified\u001b[39;00m\n\u001b[1;32m    492\u001b[0m \u001b[39mif\u001b[39;00m \u001b[39mself\u001b[39m\u001b[39m.\u001b[39msecond_order:\n",
      "File \u001b[0;32m~/anaconda3/envs/Quantum/lib/python3.11/site-packages/qiskit_algorithms/optimizers/spsa.py:470\u001b[0m, in \u001b[0;36mSPSA._point_estimate\u001b[0;34m(self, loss, x, eps, num_samples)\u001b[0m\n\u001b[1;32m    466\u001b[0m value_sample, gradient_sample, hessian_sample \u001b[39m=\u001b[39m \u001b[39mself\u001b[39m\u001b[39m.\u001b[39m_point_sample(\n\u001b[1;32m    467\u001b[0m     loss, x, eps, delta1, delta2\n\u001b[1;32m    468\u001b[0m )\n\u001b[1;32m    469\u001b[0m value_estimate \u001b[39m+\u001b[39m\u001b[39m=\u001b[39m value_sample\n\u001b[0;32m--> 470\u001b[0m gradient_estimate \u001b[39m+\u001b[39m\u001b[39m=\u001b[39m gradient_sample\n\u001b[1;32m    472\u001b[0m \u001b[39mif\u001b[39;00m \u001b[39mself\u001b[39m\u001b[39m.\u001b[39msecond_order:\n\u001b[1;32m    473\u001b[0m     hessian_estimate \u001b[39m+\u001b[39m\u001b[39m=\u001b[39m hessian_sample\n",
      "\u001b[0;31mUFuncTypeError\u001b[0m: Cannot cast ufunc 'add' output from dtype('complex128') to dtype('float64') with casting rule 'same_kind'"
     ]
    }
   ],
   "source": [
    "eigen = vqe.compute_minimum_eigenvalue(qubit_jw_op)"
   ]
  },
  {
   "cell_type": "code",
   "execution_count": null,
   "metadata": {},
   "outputs": [],
   "source": [
    "print(eigen.eigenvalue)"
   ]
  }
 ],
 "metadata": {
  "kernelspec": {
   "display_name": "Python 3 (ipykernel)",
   "language": "python",
   "name": "python3"
  },
  "language_info": {
   "codemirror_mode": {
    "name": "ipython",
    "version": 3
   },
   "file_extension": ".py",
   "mimetype": "text/x-python",
   "name": "python",
   "nbconvert_exporter": "python",
   "pygments_lexer": "ipython3",
   "version": "3.11.8"
  }
 },
 "nbformat": 4,
 "nbformat_minor": 5
}
