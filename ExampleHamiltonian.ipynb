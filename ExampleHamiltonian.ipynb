{
 "cells": [
  {
   "cell_type": "code",
   "execution_count": 1,
   "id": "edb9a9da-ed77-45b7-9610-29760e255987",
   "metadata": {},
   "outputs": [],
   "source": [
    "import numpy as np\n",
    "from qiskit_nature.second_q.operators import FermionicOp\n",
    "from qiskit_nature.second_q.mappers import JordanWignerMapper"
   ]
  },
  {
   "cell_type": "code",
   "execution_count": 2,
   "id": "74b39bc6-64cc-4995-aeed-519147ab9309",
   "metadata": {},
   "outputs": [],
   "source": [
    "n = 10\n",
    "N = 2*n\n",
    "t=1\n",
    "mu=1\n",
    "U=1"
   ]
  },
  {
   "cell_type": "code",
   "execution_count": 3,
   "id": "895d5adb-41ba-4dca-8a05-9c738fd3cbf7",
   "metadata": {},
   "outputs": [],
   "source": [
    "op = FermionicOp(\n",
    "    {\n",
    "        \"+_0 -_0\": 1.0,\n",
    "        \"+_1 -_1\": -1.0,\n",
    "    },\n",
    "    num_spin_orbitals=2,\n",
    ")"
   ]
  },
  {
   "cell_type": "code",
   "execution_count": 4,
   "id": "d7c28209-2bc3-4b57-b2c0-147c98953fab",
   "metadata": {},
   "outputs": [
    {
     "name": "stdout",
     "output_type": "stream",
     "text": [
      "Fermionic Operator\n",
      "number spin orbitals=2, number terms=2\n",
      "  1.0 * ( +_0 -_0 )\n",
      "+ -1.0 * ( +_1 -_1 )\n"
     ]
    }
   ],
   "source": [
    "print(op)"
   ]
  },
  {
   "cell_type": "code",
   "execution_count": 5,
   "id": "2827e220-69f9-4561-8d91-dc1d1cad3040",
   "metadata": {},
   "outputs": [],
   "source": [
    "def qOp(i,j,N=20):\n",
    "    return FermionicOp(\n",
    "    {\n",
    "        \"+_{i} -_{j}\".format(i=i%N,j=j%N): 1.0,\n",
    "    },\n",
    "    num_spin_orbitals=N,\n",
    ")"
   ]
  },
  {
   "cell_type": "code",
   "execution_count": 6,
   "id": "7c3ac5f0-65e7-4744-9975-7b0174319094",
   "metadata": {
    "scrolled": true
   },
   "outputs": [
    {
     "name": "stdout",
     "output_type": "stream",
     "text": [
      "Fermionic Operator\n",
      "number spin orbitals=20, number terms=70\n",
      "  1.0 * ( +_0 -_0 +_1 -_0 )\n",
      "+ 1.0 * ( +_2 -_2 +_3 -_3 )\n",
      "+ 1.0 * ( +_4 -_4 +_5 -_6 )\n",
      "+ 1.0 * ( +_6 -_6 +_7 -_9 )\n",
      "+ 1.0 * ( +_8 -_8 +_9 -_12 )\n",
      "+ 1.0 * ( +_10 -_10 +_11 -_15 )\n",
      "+ 1.0 * ( +_12 -_12 +_13 -_18 )\n",
      "+ 1.0 * ( +_14 -_14 +_15 -_1 )\n",
      "+ 1.0 * ( +_16 -_16 +_17 -_4 )\n",
      "+ 1.0 * ( +_18 -_18 +_19 -_7 )\n",
      "+ -1.0 * ( +_17 -_17 )\n",
      "+ -1.0 * ( +_1 -_1 )\n",
      "+ -1.0 * ( +_4 -_4 )\n",
      "+ -1.0 * ( +_19 -_19 )\n",
      "+ -1.0 * ( +_2 -_2 )\n",
      "+ -1.0 * ( +_16 -_16 )\n",
      "+ -1.0 * ( +_5 -_5 )\n",
      "+ -1.0 * ( +_11 -_11 )\n",
      "+ -1.0 * ( +_12 -_12 )\n",
      "+ -1.0 * ( +_9 -_9 )\n",
      "+ -1.0 * ( +_6 -_6 )\n",
      "+ -1.0 * ( +_8 -_8 )\n",
      "+ -1.0 * ( +_10 -_10 )\n",
      "+ -1.0 * ( +_14 -_14 )\n",
      "+ -1.0 * ( +_7 -_7 )\n",
      "+ -1.0 * ( +_15 -_15 )\n",
      "+ -1.0 * ( +_13 -_13 )\n",
      "+ -1.0 * ( +_18 -_18 )\n",
      "+ -1.0 * ( +_3 -_3 )\n",
      "+ -1.0 * ( +_0 -_0 )\n",
      "+ -1.0 * ( +_14 -_12 )\n",
      "+ -1.0 * ( +_6 -_8 )\n",
      "+ -1.0 * ( +_2 -_4 )\n",
      "+ -1.0 * ( +_11 -_9 )\n",
      "+ -1.0 * ( +_17 -_15 )\n",
      "+ -1.0 * ( +_14 -_16 )\n",
      "+ -1.0 * ( +_13 -_15 )\n",
      "+ -1.0 * ( +_17 -_19 )\n",
      "+ -1.0 * ( +_9 -_7 )\n",
      "+ -1.0 * ( +_1 -_19 )\n",
      "+ -1.0 * ( +_5 -_7 )\n",
      "+ -1.0 * ( +_4 -_2 )\n",
      "+ -1.0 * ( +_8 -_10 )\n",
      "+ -1.0 * ( +_11 -_13 )\n",
      "+ -1.0 * ( +_18 -_0 )\n",
      "+ -1.0 * ( +_1 -_3 )\n",
      "+ -1.0 * ( +_7 -_5 )\n",
      "+ -1.0 * ( +_13 -_11 )\n",
      "+ -1.0 * ( +_19 -_17 )\n",
      "+ -1.0 * ( +_3 -_5 )\n",
      "+ -1.0 * ( +_4 -_6 )\n",
      "+ -1.0 * ( +_5 -_3 )\n",
      "+ -1.0 * ( +_15 -_17 )\n",
      "+ -1.0 * ( +_8 -_6 )\n",
      "+ -1.0 * ( +_16 -_14 )\n",
      "+ -1.0 * ( +_7 -_9 )\n",
      "+ -1.0 * ( +_12 -_14 )\n",
      "+ -1.0 * ( +_9 -_11 )\n",
      "+ -1.0 * ( +_10 -_12 )\n",
      "+ -1.0 * ( +_16 -_18 )\n",
      "+ -1.0 * ( +_0 -_2 )\n",
      "+ -1.0 * ( +_15 -_13 )\n",
      "+ -1.0 * ( +_12 -_10 )\n",
      "+ -1.0 * ( +_10 -_8 )\n",
      "+ -1.0 * ( +_19 -_1 )\n",
      "+ -1.0 * ( +_3 -_1 )\n",
      "+ -1.0 * ( +_0 -_18 )\n",
      "+ -1.0 * ( +_18 -_16 )\n",
      "+ -1.0 * ( +_2 -_0 )\n",
      "+ -1.0 * ( +_6 -_4 )\n"
     ]
    }
   ],
   "source": [
    "t_term = 0\n",
    "mu_term =0\n",
    "U_term =0\n",
    "for i in range(n):\n",
    "    t_term+= qOp(2*i,2*i+2) + qOp(2*i+2,2*i) + qOp(2*i+1,2*i+3) + qOp(2*i+3,2*i+1) \n",
    "    mu_term += qOp(2*i,2*i) + qOp(2*i+1,2*i+1)\n",
    "    U_term += (qOp(2*i,2*i) @ qOp(2*i+1, 2*i+1))\n",
    "H = U * U_term - mu * mu_term - t * t_term\n",
    "\n",
    "print(H)"
   ]
  },
  {
   "cell_type": "code",
   "execution_count": 7,
   "id": "8526ada8-9a5c-4f86-a8e7-0979b5c424c8",
   "metadata": {},
   "outputs": [
    {
     "name": "stdout",
     "output_type": "stream",
     "text": [
      "SparsePauliOp(['IIIIIIIIIIIIIIIIIIII', 'IIIIIIIIIIIIIIIIZIII', 'IIIIIIIIIIIIIIIIIZII', 'IIIIIIIIIIIIIIIIZZII', 'IIIIIIIIIIIIIXYIIIII', 'IIIIIIIIIIIIIYYIIIII', 'IIIIIIIIIIIIIXXIIIII', 'IIIIIIIIIIIIIYXIIIII', 'IIIIIIIIIIIIIXYZIIII', 'IIIIIIIIIIIIIYYZIIII', 'IIIIIIIIIIIIIXXZIIII', 'IIIIIIIIIIIIIYXZIIII', 'IIIIIIIIIIXZYIIIIIII', 'IIIIIIIIIIYZYIIIIIII', 'IIIIIIIIIIXZXIIIIIII', 'IIIIIIIIIIYZXIIIIIII', 'IIIIIIIIIIXZYZIIIIII', 'IIIIIIIIIIYZYZIIIIII', 'IIIIIIIIIIXZXZIIIIII', 'IIIIIIIIIIYZXZIIIIII', 'IIIIIIIXZZYIIIIIIIII', 'IIIIIIIYZZYIIIIIIIII', 'IIIIIIIXZZXIIIIIIIII', 'IIIIIIIYZZXIIIIIIIII', 'IIIIIIIXZZYZIIIIIIII', 'IIIIIIIYZZYZIIIIIIII', 'IIIIIIIXZZXZIIIIIIII', 'IIIIIIIYZZXZIIIIIIII', 'IIIIXZZZYIIIIIIIIIII', 'IIIIYZZZYIIIIIIIIIII', 'IIIIXZZZXIIIIIIIIIII', 'IIIIYZZZXIIIIIIIIIII', 'IIIIXZZZYZIIIIIIIIII', 'IIIIYZZZYZIIIIIIIIII', 'IIIIXZZZXZIIIIIIIIII', 'IIIIYZZZXZIIIIIIIIII', 'IXZZZZYIIIIIIIIIIIII', 'IYZZZZYIIIIIIIIIIIII', 'IXZZZZXIIIIIIIIIIIII', 'IYZZZZXIIIIIIIIIIIII', 'IXZZZZYZIIIIIIIIIIII', 'IYZZZZYZIIIIIIIIIIII', 'IXZZZZXZIIIIIIIIIIII', 'IYZZZZXZIIIIIIIIIIII', 'IIIIXZZZZZZZZZZZZZYI', 'IIIIXZZZZZZZZZZZZZXI', 'IIIIYZZZZZZZZZZZZZYI', 'IIIIYZZZZZZZZZZZZZXI', 'IIIIXIZZZZZZZZZZZZYI', 'IIIIXIZZZZZZZZZZZZXI', 'IIIIYIZZZZZZZZZZZZYI', 'IIIIYIZZZZZZZZZZZZXI', 'IIXZZZZZZZZZZZZYIIII', 'IIXZZZZZZZZZZZZXIIII', 'IIYZZZZZZZZZZZZYIIII', 'IIYZZZZZZZZZZZZXIIII', 'IIXIZZZZZZZZZZZYIIII', 'IIXIZZZZZZZZZZZXIIII', 'IIYIZZZZZZZZZZZYIIII', 'IIYIZZZZZZZZZZZXIIII', 'XZZZZZZZZZZZYIIIIIII', 'XZZZZZZZZZZZXIIIIIII', 'YZZZZZZZZZZZYIIIIIII', 'YZZZZZZZZZZZXIIIIIII', 'XIZZZZZZZZZZYIIIIIII', 'XIZZZZZZZZZZXIIIIIII', 'YIZZZZZZZZZZYIIIIIII', 'YIZZZZZZZZZZXIIIIIII', 'IIZIIIIIIIIIIIIIIIII', 'IIIIIIIIIIIIIIIIIIZI', 'IIIIIIIIIIIIIIIZIIII', 'ZIIIIIIIIIIIIIIIIIII', 'IIIZIIIIIIIIIIIIIIII', 'IIIIIIIIIIIIIIZIIIII', 'IIIIIIIIZIIIIIIIIIII', 'IIIIIIIZIIIIIIIIIIII', 'IIIIIIIIIIZIIIIIIIII', 'IIIIIIIIIIIIIZIIIIII', 'IIIIIIIIIIIZIIIIIIII', 'IIIIIIIIIZIIIIIIIIII', 'IIIIIZIIIIIIIIIIIIII', 'IIIIIIIIIIIIZIIIIIII', 'IIIIZIIIIIIIIIIIIIII', 'IIIIIIZIIIIIIIIIIIII', 'IZIIIIIIIIIIIIIIIIII', 'IIIIIIIIIIIIIIIIIIIZ', 'IIIIIXZXIIIIIIIIIIII', 'IIIIIYZYIIIIIIIIIIII', 'IIIIIIIIIIIYZYIIIIII', 'IIIIIIIIIIIXZXIIIIII', 'IIIIIIIIIIIIIIIYZYII', 'IIIIIIIIIIIIIIIXZXII', 'IIIIIIIIXZXIIIIIIIII', 'IIIIIIIIYZYIIIIIIIII', 'IIXZXIIIIIIIIIIIIIII', 'IIYZYIIIIIIIIIIIIIII', 'IIIYZYIIIIIIIIIIIIII', 'IIIXZXIIIIIIIIIIIIII', 'IIIIYZYIIIIIIIIIIIII', 'IIIIXZXIIIIIIIIIIIII', 'YZYIIIIIIIIIIIIIIIII', 'XZXIIIIIIIIIIIIIIIII', 'YZZZZZZZZZZZZZZZZZYI', 'XZZZZZZZZZZZZZZZZZXI', 'IIIIIIIIIIIIYZYIIIII', 'IIIIIIIIIIIIXZXIIIII', 'IIIIIIIIIYZYIIIIIIII', 'IIIIIIIIIXZXIIIIIIII', 'IIIIIIYZYIIIIIIIIIII', 'IIIIIIXZXIIIIIIIIIII', 'IXZZZZZZZZZZZZZZZZZX', 'IYZZZZZZZZZZZZZZZZZY', 'IIIIIIIIIIIIIIIIYZYI', 'IIIIIIIIIIIIIIIIXZXI', 'IIIIIIIIIIIIIIYZYIII', 'IIIIIIIIIIIIIIXZXIII', 'IIIIIIIIIIIIIYZYIIII', 'IIIIIIIIIIIIIXZXIIII', 'IIIIIIIYZYIIIIIIIIII', 'IIIIIIIXZXIIIIIIIIII', 'IYZYIIIIIIIIIIIIIIII', 'IXZXIIIIIIIIIIIIIIII', 'IIIIIIIIIIIIIIIIIYZY', 'IIIIIIIIIIIIIIIIIXZX'],\n",
      "              coeffs=[-9.75 +0.j   ,  0.25 +0.j   ,  0.25 +0.j   ,  0.25 +0.j   ,  0.   -0.125j,\n",
      "  0.125+0.j   ,  0.125+0.j   ,  0.   +0.125j,  0.   +0.125j, -0.125+0.j   ,\n",
      " -0.125+0.j   ,  0.   -0.125j,  0.   -0.125j, -0.375+0.j   , -0.375+0.j   ,\n",
      "  0.   +0.125j,  0.   +0.125j, -0.125+0.j   , -0.125+0.j   ,  0.   -0.125j,\n",
      "  0.   -0.125j,  0.125+0.j   ,  0.125+0.j   ,  0.   +0.125j,  0.   +0.125j,\n",
      " -0.125+0.j   , -0.125+0.j   ,  0.   -0.125j,  0.   -0.125j,  0.125+0.j   ,\n",
      "  0.125+0.j   ,  0.   +0.125j,  0.   +0.125j, -0.125+0.j   , -0.125+0.j   ,\n",
      "  0.   -0.125j,  0.   -0.125j,  0.125+0.j   ,  0.125+0.j   ,  0.   +0.125j,\n",
      "  0.   +0.125j, -0.125+0.j   , -0.125+0.j   ,  0.   -0.125j,  0.   +0.125j,\n",
      "  0.125+0.j   ,  0.125+0.j   ,  0.   -0.125j,  0.   -0.125j, -0.125+0.j   ,\n",
      " -0.125+0.j   ,  0.   +0.125j,  0.   +0.125j,  0.125+0.j   ,  0.125+0.j   ,\n",
      "  0.   -0.125j,  0.   -0.125j, -0.125+0.j   , -0.125+0.j   ,  0.   +0.125j,\n",
      "  0.   +0.125j,  0.125+0.j   ,  0.125+0.j   ,  0.   -0.125j,  0.   -0.125j,\n",
      " -0.125+0.j   , -0.125+0.j   ,  0.   +0.125j,  0.5  +0.j   ,  0.5  +0.j   ,\n",
      "  0.5  +0.j   ,  0.5  +0.j   ,  0.5  +0.j   ,  0.5  +0.j   ,  0.5  +0.j   ,\n",
      "  0.5  +0.j   ,  0.5  +0.j   ,  0.5  +0.j   ,  0.5  +0.j   ,  0.5  +0.j   ,\n",
      "  0.5  +0.j   ,  0.5  +0.j   ,  0.5  +0.j   ,  0.5  +0.j   ,  0.5  +0.j   ,\n",
      "  0.5  +0.j   , -0.5  +0.j   , -0.5  +0.j   , -0.5  +0.j   , -0.5  +0.j   ,\n",
      " -0.5  +0.j   , -0.5  +0.j   , -0.5  +0.j   , -0.5  +0.j   , -0.5  +0.j   ,\n",
      " -0.5  +0.j   , -0.5  +0.j   , -0.5  +0.j   , -0.5  +0.j   , -0.5  +0.j   ,\n",
      " -0.5  +0.j   , -0.5  +0.j   , -0.5  +0.j   , -0.5  +0.j   , -0.5  +0.j   ,\n",
      " -0.5  +0.j   , -0.5  +0.j   , -0.5  +0.j   , -0.5  +0.j   , -0.5  +0.j   ,\n",
      " -0.5  +0.j   , -0.5  +0.j   , -0.5  +0.j   , -0.5  +0.j   , -0.5  +0.j   ,\n",
      " -0.5  +0.j   , -0.5  +0.j   , -0.5  +0.j   , -0.5  +0.j   , -0.5  +0.j   ,\n",
      " -0.5  +0.j   , -0.5  +0.j   , -0.5  +0.j   , -0.5  +0.j   ])\n"
     ]
    }
   ],
   "source": [
    "mapper = JordanWignerMapper()\n",
    "qubit_jw_op = mapper.map(H)\n",
    "print(qubit_jw_op)"
   ]
  },
  {
   "cell_type": "code",
   "execution_count": 49,
   "id": "08cc9232-dc7d-407f-9a4e-a83a0b969554",
   "metadata": {},
   "outputs": [],
   "source": [
    "from qiskit.algorithms import MinimumEigensolver, VQEResult\n",
    "from qiskit.opflow import (\n",
    "    CircuitSampler,\n",
    "    CircuitStateFn,\n",
    "    ExpectationBase,\n",
    "    ExpectationFactory,\n",
    "    ListOp,\n",
    "    OperatorBase,\n",
    "    PauliSumOp,\n",
    "    StateFn,\n",
    ")\n",
    "from typing import Union, List, Dict\n",
    "\n",
    "# Define a custome VQE class to orchestra the ansatz, classical optimizers, \n",
    "# initial point, callback, and final result\n",
    "class CustomVQE(MinimumEigensolver):\n",
    "    \n",
    "    def __init__(self, estimator, circuit, optimizer, callback=None, initial_point = None, sym = True):\n",
    "        self._estimator = estimator\n",
    "        self.ansatz = circuit\n",
    "        self._optimizer = optimizer\n",
    "        self._callback = callback\n",
    "        self._initial_point = initial_point\n",
    "        backend = Aer.get_backend(\"statevector_simulator\")\n",
    "        self._circuit_sampler = CircuitSampler(\n",
    "            backend\n",
    "        )\n",
    "        self._sym = sym\n",
    "     \n",
    "    def _get_eigenstate(self, optimal_parameters) -> Union[List[float], Dict[str, int]]:\n",
    "        \"\"\"Get the simulation outcome of the ansatz, provided with parameters.\"\"\"\n",
    "        optimal_circuit = self.ansatz.bind_parameters(optimal_parameters)\n",
    "        state_fn = self._circuit_sampler.convert(StateFn(optimal_circuit)).eval()\n",
    "        state = state_fn.primitive.data  # VectorStateFn -> Statevector -> np.array\n",
    "        return state\n",
    "    \n",
    "    \n",
    "    def compute_minimum_eigenvalue(self, operators, aux_operators=None):    \n",
    "        num = 0\n",
    "        # Define objective function to classically minimize over\n",
    "        def objective(x, shots = None):\n",
    "            #adjust number of shots\n",
    "            # Execute job with estimator primitive\n",
    "            if shots is not None:\n",
    "                shots = int(shots)\n",
    "                self._estimator.set_options(shots = shots)\n",
    "            else:\n",
    "                self._estimator.set_options(shots = 1024)\n",
    "            print(\"------------------------------\")\n",
    "            print(x)\n",
    "            job = self._estimator.run([self.ansatz], [operators], [x])\n",
    "            print(\"ran\")\n",
    "            print(job)\n",
    "            # Get results from jobs\n",
    "            est_result = job.result()\n",
    "            print(\"Result got\")\n",
    "            # Get the measured energy value\n",
    "            value = est_result.values[0]\n",
    "            if self._sym:\n",
    "                spinop = TotalSpin(self.ansatz.num_qubits)\n",
    "                job_sym = self._estimator.run([self.ansatz], [spinop], [x])\n",
    "                est_result_sym = job_sym.result()\n",
    "                value_sym = est_result_sym.values[0]\n",
    "                value += 0.5*(value_sym)**2\n",
    "            # Save result information using callback function\n",
    "            if self._callback is not None:\n",
    "                self._callback(value)\n",
    "            print(\"value\",value)\n",
    "            return value\n",
    "            \n",
    "        # Select an initial point for the ansatzs' parameters\n",
    "        if self._initial_point is None:  \n",
    "            x0 = np.pi/4 * np.random.rand(self.ansatz.num_parameters)\n",
    "        else:\n",
    "            x0 = self._initial_point\n",
    "        # Run optimization\n",
    "        res = self._optimizer.minimize(objective, x0=x0)\n",
    "        \n",
    "        # Populate VQE result\n",
    "        result = VQEResult()\n",
    "        result.cost_function_evals = res.nit\n",
    "        result.eigenvalue = res.fun[0]\n",
    "        result.optimal_parameters = res.x\n",
    "        result.eigenstate = self._get_eigenstate(result.optimal_parameters)\n",
    "        \n",
    "        return result"
   ]
  },
  {
   "cell_type": "code",
   "execution_count": 50,
   "id": "1ab51ed4-c061-4ea2-b602-86d7fa648415",
   "metadata": {},
   "outputs": [],
   "source": [
    "from qiskit.circuit.library import EfficientSU2\n",
    "\n",
    "    \n",
    "ansatz = EfficientSU2(N, reps=3, skip_final_rotation_layer=True)"
   ]
  },
  {
   "cell_type": "code",
   "execution_count": 51,
   "id": "ddba51df-a5f3-438a-b66a-77a268cecead",
   "metadata": {},
   "outputs": [
    {
     "name": "stderr",
     "output_type": "stream",
     "text": [
      "/var/folders/n_/1wl7_2l52y3g1_82hvk9hw3h0000gn/T/ipykernel_1106/1493983746.py:25: DeprecationWarning: The class ``qiskit.opflow.converters.circuit_sampler.CircuitSampler`` is deprecated as of qiskit-terra 0.24.0. It will be removed no earlier than 3 months after the release date. For code migration guidelines, visit https://qisk.it/opflow_migration.\n",
      "  self._circuit_sampler = CircuitSampler(\n"
     ]
    }
   ],
   "source": [
    "from qiskit.primitives import Estimator\n",
    "from qiskit.algorithms.optimizers import SPSA, COBYLA\n",
    "from qiskit import Aer\n",
    "from math import ceil,floor\n",
    "# Define a simple callback function\n",
    "def callback(value):\n",
    "        intermediate_info.append(value)\n",
    "\n",
    "optimizer = SPSA(maxiter = 400)\n",
    "#optimizer = COBYLA(maxiter = 2000)\n",
    "estimator = Estimator()\n",
    "custom_vqe = CustomVQE(estimator, ansatz, optimizer, callback=callback, sym = False)"
   ]
  },
  {
   "cell_type": "code",
   "execution_count": 52,
   "id": "63b6a1b7-835a-4ac5-827c-ff133ea85ec3",
   "metadata": {},
   "outputs": [
    {
     "name": "stdout",
     "output_type": "stream",
     "text": [
      "------------------------------\n",
      "[ 2.76701977e-01  4.28206734e-01 -9.68739400e-02  4.16203748e-01\n",
      "  4.62701354e-01  9.02946402e-01  2.46167374e-01  1.29725406e-01\n",
      "  4.01625921e-01 -4.97080889e-02  3.69125647e-01 -1.54905012e-01\n",
      "  6.82057424e-01  3.44503947e-01  4.34872306e-01  6.26069190e-01\n",
      "  1.99683359e-01  3.53017065e-02  5.18679731e-01  4.49752085e-01\n",
      "  6.95546529e-01 -1.66948149e-02  5.56085532e-01  5.06542619e-01\n",
      "  2.44051703e-01  1.93547269e-01  1.14821300e-01  2.07093053e-02\n",
      "  7.30739144e-01  7.79915883e-01  4.19919931e-01  4.19094572e-01\n",
      " -1.96913228e-01  3.34202950e-01  8.38765923e-01 -1.14790541e-01\n",
      " -1.06919328e-01  2.21363002e-01  9.71961041e-01  3.87493095e-01\n",
      "  4.64939122e-01  2.82373580e-01  4.16012152e-01  4.42038750e-01\n",
      "  6.43959223e-01 -1.56351123e-01  6.08808552e-01  7.40647056e-01\n",
      "  4.85122971e-01  8.04746343e-01 -1.62908467e-01  4.86570082e-01\n",
      "  8.93990857e-01  3.52336752e-01  6.46571686e-01  4.98629156e-01\n",
      "  2.39051834e-01  9.24203543e-01  1.35889934e-01  2.51341650e-01\n",
      "  2.13403052e-01  6.42864713e-01  8.25525075e-01  3.58237286e-01\n",
      "  2.76879767e-01  2.69186220e-01  5.47954819e-01  8.39821065e-01\n",
      " -6.68520657e-02  4.35047613e-01 -7.56012543e-02  3.56205284e-01\n",
      "  7.21540030e-01  4.14432706e-01  1.64854019e-01  1.87639429e-01\n",
      "  1.65882419e-01  3.50371713e-01  3.98640487e-01  4.53141562e-01\n",
      "  4.05013428e-01  7.40283319e-01  6.09552584e-01  4.16336115e-01\n",
      "  2.33553777e-01  5.17808936e-01  9.82891086e-01 -1.28227888e-01\n",
      " -7.07538647e-02  6.00701071e-01  5.61996940e-01  2.97499389e-01\n",
      "  4.71299540e-01  5.65634995e-01  2.45336547e-01  4.30337923e-01\n",
      "  8.80213124e-01  2.39265860e-04  7.35895670e-01  2.43515181e-01\n",
      "  8.11610019e-01  6.04449234e-01  4.76913224e-01  1.81654577e-01\n",
      "  1.11564869e-01  4.86941972e-01  3.18606324e-01  7.94764499e-01\n",
      "  8.32472967e-01  5.51949005e-01 -1.56227719e-01 -1.83686722e-01\n",
      "  5.15445437e-01  4.99506450e-01  5.51182954e-01  4.92046909e-01\n",
      "  7.50846587e-02  2.16675590e-01  3.69742528e-01  3.52472921e-01]\n",
      "ran\n",
      "<qiskit.primitives.primitive_job.PrimitiveJob object at 0x29ff41f50>\n"
     ]
    },
    {
     "ename": "TypeError",
     "evalue": "Cannot cast scalar from dtype('complex128') to dtype('float64') according to the rule 'safe'",
     "output_type": "error",
     "traceback": [
      "\u001b[0;31m---------------------------------------------------------------------------\u001b[0m",
      "\u001b[0;31mTypeError\u001b[0m                                 Traceback (most recent call last)",
      "Cell \u001b[0;32mIn[52], line 4\u001b[0m\n\u001b[1;32m      2\u001b[0m intermediate_info \u001b[38;5;241m=\u001b[39m []\n\u001b[1;32m      3\u001b[0m start \u001b[38;5;241m=\u001b[39m time()\n\u001b[0;32m----> 4\u001b[0m result \u001b[38;5;241m=\u001b[39m custom_vqe\u001b[38;5;241m.\u001b[39mcompute_minimum_eigenvalue(qubit_jw_op)\n\u001b[1;32m      5\u001b[0m end \u001b[38;5;241m=\u001b[39m time()\n\u001b[1;32m      7\u001b[0m \u001b[38;5;28mprint\u001b[39m(result)\n",
      "Cell \u001b[0;32mIn[49], line 77\u001b[0m, in \u001b[0;36mCustomVQE.compute_minimum_eigenvalue\u001b[0;34m(self, operators, aux_operators)\u001b[0m\n\u001b[1;32m     75\u001b[0m     x0 \u001b[38;5;241m=\u001b[39m \u001b[38;5;28mself\u001b[39m\u001b[38;5;241m.\u001b[39m_initial_point\n\u001b[1;32m     76\u001b[0m \u001b[38;5;66;03m# Run optimization\u001b[39;00m\n\u001b[0;32m---> 77\u001b[0m res \u001b[38;5;241m=\u001b[39m \u001b[38;5;28mself\u001b[39m\u001b[38;5;241m.\u001b[39m_optimizer\u001b[38;5;241m.\u001b[39mminimize(objective, x0\u001b[38;5;241m=\u001b[39mx0)\n\u001b[1;32m     79\u001b[0m \u001b[38;5;66;03m# Populate VQE result\u001b[39;00m\n\u001b[1;32m     80\u001b[0m result \u001b[38;5;241m=\u001b[39m VQEResult()\n",
      "File \u001b[0;32m~/anaconda3/envs/Quantum/lib/python3.11/site-packages/qiskit/algorithms/optimizers/spsa.py:514\u001b[0m, in \u001b[0;36mSPSA.minimize\u001b[0;34m(self, fun, x0, jac, bounds)\u001b[0m\n\u001b[1;32m    504\u001b[0m \u001b[38;5;28;01mdef\u001b[39;00m \u001b[38;5;21mminimize\u001b[39m(\n\u001b[1;32m    505\u001b[0m     \u001b[38;5;28mself\u001b[39m,\n\u001b[1;32m    506\u001b[0m     fun: Callable[[POINT], \u001b[38;5;28mfloat\u001b[39m],\n\u001b[0;32m   (...)\u001b[0m\n\u001b[1;32m    511\u001b[0m     \u001b[38;5;66;03m# ensure learning rate and perturbation are correctly set: either none or both\u001b[39;00m\n\u001b[1;32m    512\u001b[0m     \u001b[38;5;66;03m# this happens only here because for the calibration the loss function is required\u001b[39;00m\n\u001b[1;32m    513\u001b[0m     \u001b[38;5;28;01mif\u001b[39;00m \u001b[38;5;28mself\u001b[39m\u001b[38;5;241m.\u001b[39mlearning_rate \u001b[38;5;129;01mis\u001b[39;00m \u001b[38;5;28;01mNone\u001b[39;00m \u001b[38;5;129;01mand\u001b[39;00m \u001b[38;5;28mself\u001b[39m\u001b[38;5;241m.\u001b[39mperturbation \u001b[38;5;129;01mis\u001b[39;00m \u001b[38;5;28;01mNone\u001b[39;00m:\n\u001b[0;32m--> 514\u001b[0m         get_eta, get_eps \u001b[38;5;241m=\u001b[39m \u001b[38;5;28mself\u001b[39m\u001b[38;5;241m.\u001b[39mcalibrate(fun, x0, max_evals_grouped\u001b[38;5;241m=\u001b[39m\u001b[38;5;28mself\u001b[39m\u001b[38;5;241m.\u001b[39m_max_evals_grouped)\n\u001b[1;32m    515\u001b[0m     \u001b[38;5;28;01melse\u001b[39;00m:\n\u001b[1;32m    516\u001b[0m         get_eta, get_eps \u001b[38;5;241m=\u001b[39m _validate_pert_and_learningrate(\n\u001b[1;32m    517\u001b[0m             \u001b[38;5;28mself\u001b[39m\u001b[38;5;241m.\u001b[39mperturbation, \u001b[38;5;28mself\u001b[39m\u001b[38;5;241m.\u001b[39mlearning_rate\n\u001b[1;32m    518\u001b[0m         )\n",
      "File \u001b[0;32m~/anaconda3/envs/Quantum/lib/python3.11/site-packages/qiskit/algorithms/optimizers/spsa.py:335\u001b[0m, in \u001b[0;36mSPSA.calibrate\u001b[0;34m(loss, initial_point, c, stability_constant, target_magnitude, alpha, gamma, modelspace, max_evals_grouped)\u001b[0m\n\u001b[1;32m    332\u001b[0m     pert \u001b[38;5;241m=\u001b[39m bernoulli_perturbation(dim)\n\u001b[1;32m    333\u001b[0m     points \u001b[38;5;241m+\u001b[39m\u001b[38;5;241m=\u001b[39m [initial_point \u001b[38;5;241m+\u001b[39m c \u001b[38;5;241m*\u001b[39m pert, initial_point \u001b[38;5;241m-\u001b[39m c \u001b[38;5;241m*\u001b[39m pert]\n\u001b[0;32m--> 335\u001b[0m losses \u001b[38;5;241m=\u001b[39m _batch_evaluate(loss, points, max_evals_grouped)\n\u001b[1;32m    337\u001b[0m avg_magnitudes \u001b[38;5;241m=\u001b[39m \u001b[38;5;241m0.0\u001b[39m\n\u001b[1;32m    338\u001b[0m \u001b[38;5;28;01mfor\u001b[39;00m i \u001b[38;5;129;01min\u001b[39;00m \u001b[38;5;28mrange\u001b[39m(steps):\n",
      "File \u001b[0;32m~/anaconda3/envs/Quantum/lib/python3.11/site-packages/qiskit/algorithms/optimizers/spsa.py:733\u001b[0m, in \u001b[0;36m_batch_evaluate\u001b[0;34m(function, points, max_evals_grouped, unpack_points)\u001b[0m\n\u001b[1;32m    730\u001b[0m \u001b[38;5;66;03m# if the function cannot handle lists of points as input, cover this case immediately\u001b[39;00m\n\u001b[1;32m    731\u001b[0m \u001b[38;5;28;01mif\u001b[39;00m max_evals_grouped \u001b[38;5;129;01mis\u001b[39;00m \u001b[38;5;28;01mNone\u001b[39;00m \u001b[38;5;129;01mor\u001b[39;00m max_evals_grouped \u001b[38;5;241m==\u001b[39m \u001b[38;5;241m1\u001b[39m:\n\u001b[1;32m    732\u001b[0m     \u001b[38;5;66;03m# support functions with multiple arguments where the points are given in a tuple\u001b[39;00m\n\u001b[0;32m--> 733\u001b[0m     \u001b[38;5;28;01mreturn\u001b[39;00m [\n\u001b[1;32m    734\u001b[0m         function(\u001b[38;5;241m*\u001b[39mpoint) \u001b[38;5;28;01mif\u001b[39;00m \u001b[38;5;28misinstance\u001b[39m(point, \u001b[38;5;28mtuple\u001b[39m) \u001b[38;5;28;01melse\u001b[39;00m function(point) \u001b[38;5;28;01mfor\u001b[39;00m point \u001b[38;5;129;01min\u001b[39;00m points\n\u001b[1;32m    735\u001b[0m     ]\n\u001b[1;32m    737\u001b[0m num_points \u001b[38;5;241m=\u001b[39m \u001b[38;5;28mlen\u001b[39m(points)\n\u001b[1;32m    739\u001b[0m \u001b[38;5;66;03m# get the number of batches\u001b[39;00m\n",
      "File \u001b[0;32m~/anaconda3/envs/Quantum/lib/python3.11/site-packages/qiskit/algorithms/optimizers/spsa.py:734\u001b[0m, in \u001b[0;36m<listcomp>\u001b[0;34m(.0)\u001b[0m\n\u001b[1;32m    730\u001b[0m \u001b[38;5;66;03m# if the function cannot handle lists of points as input, cover this case immediately\u001b[39;00m\n\u001b[1;32m    731\u001b[0m \u001b[38;5;28;01mif\u001b[39;00m max_evals_grouped \u001b[38;5;129;01mis\u001b[39;00m \u001b[38;5;28;01mNone\u001b[39;00m \u001b[38;5;129;01mor\u001b[39;00m max_evals_grouped \u001b[38;5;241m==\u001b[39m \u001b[38;5;241m1\u001b[39m:\n\u001b[1;32m    732\u001b[0m     \u001b[38;5;66;03m# support functions with multiple arguments where the points are given in a tuple\u001b[39;00m\n\u001b[1;32m    733\u001b[0m     \u001b[38;5;28;01mreturn\u001b[39;00m [\n\u001b[0;32m--> 734\u001b[0m         function(\u001b[38;5;241m*\u001b[39mpoint) \u001b[38;5;28;01mif\u001b[39;00m \u001b[38;5;28misinstance\u001b[39m(point, \u001b[38;5;28mtuple\u001b[39m) \u001b[38;5;28;01melse\u001b[39;00m function(point) \u001b[38;5;28;01mfor\u001b[39;00m point \u001b[38;5;129;01min\u001b[39;00m points\n\u001b[1;32m    735\u001b[0m     ]\n\u001b[1;32m    737\u001b[0m num_points \u001b[38;5;241m=\u001b[39m \u001b[38;5;28mlen\u001b[39m(points)\n\u001b[1;32m    739\u001b[0m \u001b[38;5;66;03m# get the number of batches\u001b[39;00m\n",
      "Cell \u001b[0;32mIn[49], line 55\u001b[0m, in \u001b[0;36mCustomVQE.compute_minimum_eigenvalue.<locals>.objective\u001b[0;34m(x, shots)\u001b[0m\n\u001b[1;32m     53\u001b[0m \u001b[38;5;28mprint\u001b[39m(job)\n\u001b[1;32m     54\u001b[0m \u001b[38;5;66;03m# Get results from jobs\u001b[39;00m\n\u001b[0;32m---> 55\u001b[0m est_result \u001b[38;5;241m=\u001b[39m job\u001b[38;5;241m.\u001b[39mresult()\n\u001b[1;32m     56\u001b[0m \u001b[38;5;28mprint\u001b[39m(\u001b[38;5;124m\"\u001b[39m\u001b[38;5;124mResult got\u001b[39m\u001b[38;5;124m\"\u001b[39m)\n\u001b[1;32m     57\u001b[0m \u001b[38;5;66;03m# Get the measured energy value\u001b[39;00m\n",
      "File \u001b[0;32m~/anaconda3/envs/Quantum/lib/python3.11/site-packages/qiskit/primitives/primitive_job.py:55\u001b[0m, in \u001b[0;36mPrimitiveJob.result\u001b[0;34m(self)\u001b[0m\n\u001b[1;32m     53\u001b[0m \u001b[38;5;250m\u001b[39m\u001b[38;5;124;03m\"\"\"Return the results of the job.\"\"\"\u001b[39;00m\n\u001b[1;32m     54\u001b[0m \u001b[38;5;28mself\u001b[39m\u001b[38;5;241m.\u001b[39m_check_submitted()\n\u001b[0;32m---> 55\u001b[0m \u001b[38;5;28;01mreturn\u001b[39;00m \u001b[38;5;28mself\u001b[39m\u001b[38;5;241m.\u001b[39m_future\u001b[38;5;241m.\u001b[39mresult()\n",
      "File \u001b[0;32m~/anaconda3/envs/Quantum/lib/python3.11/concurrent/futures/_base.py:456\u001b[0m, in \u001b[0;36mFuture.result\u001b[0;34m(self, timeout)\u001b[0m\n\u001b[1;32m    454\u001b[0m     \u001b[38;5;28;01mraise\u001b[39;00m CancelledError()\n\u001b[1;32m    455\u001b[0m \u001b[38;5;28;01melif\u001b[39;00m \u001b[38;5;28mself\u001b[39m\u001b[38;5;241m.\u001b[39m_state \u001b[38;5;241m==\u001b[39m FINISHED:\n\u001b[0;32m--> 456\u001b[0m     \u001b[38;5;28;01mreturn\u001b[39;00m \u001b[38;5;28mself\u001b[39m\u001b[38;5;241m.\u001b[39m__get_result()\n\u001b[1;32m    457\u001b[0m \u001b[38;5;28;01melse\u001b[39;00m:\n\u001b[1;32m    458\u001b[0m     \u001b[38;5;28;01mraise\u001b[39;00m \u001b[38;5;167;01mTimeoutError\u001b[39;00m()\n",
      "File \u001b[0;32m~/anaconda3/envs/Quantum/lib/python3.11/concurrent/futures/_base.py:401\u001b[0m, in \u001b[0;36mFuture.__get_result\u001b[0;34m(self)\u001b[0m\n\u001b[1;32m    399\u001b[0m \u001b[38;5;28;01mif\u001b[39;00m \u001b[38;5;28mself\u001b[39m\u001b[38;5;241m.\u001b[39m_exception:\n\u001b[1;32m    400\u001b[0m     \u001b[38;5;28;01mtry\u001b[39;00m:\n\u001b[0;32m--> 401\u001b[0m         \u001b[38;5;28;01mraise\u001b[39;00m \u001b[38;5;28mself\u001b[39m\u001b[38;5;241m.\u001b[39m_exception\n\u001b[1;32m    402\u001b[0m     \u001b[38;5;28;01mfinally\u001b[39;00m:\n\u001b[1;32m    403\u001b[0m         \u001b[38;5;66;03m# Break a reference cycle with the exception in self._exception\u001b[39;00m\n\u001b[1;32m    404\u001b[0m         \u001b[38;5;28mself\u001b[39m \u001b[38;5;241m=\u001b[39m \u001b[38;5;28;01mNone\u001b[39;00m\n",
      "File \u001b[0;32m~/anaconda3/envs/Quantum/lib/python3.11/concurrent/futures/thread.py:58\u001b[0m, in \u001b[0;36m_WorkItem.run\u001b[0;34m(self)\u001b[0m\n\u001b[1;32m     55\u001b[0m     \u001b[38;5;28;01mreturn\u001b[39;00m\n\u001b[1;32m     57\u001b[0m \u001b[38;5;28;01mtry\u001b[39;00m:\n\u001b[0;32m---> 58\u001b[0m     result \u001b[38;5;241m=\u001b[39m \u001b[38;5;28mself\u001b[39m\u001b[38;5;241m.\u001b[39mfn(\u001b[38;5;241m*\u001b[39m\u001b[38;5;28mself\u001b[39m\u001b[38;5;241m.\u001b[39margs, \u001b[38;5;241m*\u001b[39m\u001b[38;5;241m*\u001b[39m\u001b[38;5;28mself\u001b[39m\u001b[38;5;241m.\u001b[39mkwargs)\n\u001b[1;32m     59\u001b[0m \u001b[38;5;28;01mexcept\u001b[39;00m \u001b[38;5;167;01mBaseException\u001b[39;00m \u001b[38;5;28;01mas\u001b[39;00m exc:\n\u001b[1;32m     60\u001b[0m     \u001b[38;5;28mself\u001b[39m\u001b[38;5;241m.\u001b[39mfuture\u001b[38;5;241m.\u001b[39mset_exception(exc)\n",
      "File \u001b[0;32m~/anaconda3/envs/Quantum/lib/python3.11/site-packages/qiskit/primitives/estimator.py:120\u001b[0m, in \u001b[0;36mEstimator._call\u001b[0;34m(self, circuits, observables, parameter_values, **run_options)\u001b[0m\n\u001b[1;32m    118\u001b[0m variance \u001b[38;5;241m=\u001b[39m \u001b[38;5;28mmax\u001b[39m(variance, \u001b[38;5;241m0\u001b[39m)\n\u001b[1;32m    119\u001b[0m standard_error \u001b[38;5;241m=\u001b[39m np\u001b[38;5;241m.\u001b[39msqrt(variance \u001b[38;5;241m/\u001b[39m shots)\n\u001b[0;32m--> 120\u001b[0m expectation_value_with_error \u001b[38;5;241m=\u001b[39m rng\u001b[38;5;241m.\u001b[39mnormal(expectation_value, standard_error)\n\u001b[1;32m    121\u001b[0m expectation_values\u001b[38;5;241m.\u001b[39mappend(expectation_value_with_error)\n\u001b[1;32m    122\u001b[0m metadatum[\u001b[38;5;124m\"\u001b[39m\u001b[38;5;124mvariance\u001b[39m\u001b[38;5;124m\"\u001b[39m] \u001b[38;5;241m=\u001b[39m variance\n",
      "File \u001b[0;32mnumpy/random/_generator.pyx:1220\u001b[0m, in \u001b[0;36mnumpy.random._generator.Generator.normal\u001b[0;34m()\u001b[0m\n",
      "File \u001b[0;32m_common.pyx:585\u001b[0m, in \u001b[0;36mnumpy.random._common.cont\u001b[0;34m()\u001b[0m\n",
      "\u001b[0;31mTypeError\u001b[0m: Cannot cast scalar from dtype('complex128') to dtype('float64') according to the rule 'safe'"
     ]
    }
   ],
   "source": [
    "from time import time\n",
    "intermediate_info = []\n",
    "start = time()\n",
    "result = custom_vqe.compute_minimum_eigenvalue(qubit_jw_op)\n",
    "end = time()\n",
    "\n",
    "print(result)\n",
    "print(f'execution time (s): {end - start:.2f}')"
   ]
  },
  {
   "cell_type": "code",
   "execution_count": null,
   "id": "811981b4-5e3a-40aa-a18a-89409f884272",
   "metadata": {},
   "outputs": [],
   "source": [
    "plt.plot(intermediate_info, color='purple', lw=2, label='Simulated VQE')\n",
    "plt.ylabel('Energy')\n",
    "plt.xlabel('Iterations')\n",
    "# Exact ground state energy value\n",
    "#plt.axhline(y=gs_energy, color=\"tab:red\", ls=\"--\", lw=2, label=\"Target: \" + str(gs_energy))\n",
    "plt.legend()\n",
    "plt.grid()\n",
    "plt.show()"
   ]
  },
  {
   "cell_type": "code",
   "execution_count": null,
   "id": "b4a4b8d8-3c1b-41c7-93b5-a9b71fe77d94",
   "metadata": {},
   "outputs": [],
   "source": []
  }
 ],
 "metadata": {
  "kernelspec": {
   "display_name": "Python 3",
   "language": "python",
   "name": "python3"
  },
  "language_info": {
   "codemirror_mode": {
    "name": "ipython",
    "version": 3
   },
   "file_extension": ".py",
   "mimetype": "text/x-python",
   "name": "python",
   "nbconvert_exporter": "python",
   "pygments_lexer": "ipython3",
   "version": "3.10.2 (v3.10.2:a58ebcc701, Jan 13 2022, 14:50:16) [Clang 13.0.0 (clang-1300.0.29.30)]"
  },
  "vscode": {
   "interpreter": {
    "hash": "aee8b7b246df8f9039afb4144a1f6fd8d2ca17a180786b69acc140d282b71a49"
   }
  }
 },
 "nbformat": 4,
 "nbformat_minor": 5
}
