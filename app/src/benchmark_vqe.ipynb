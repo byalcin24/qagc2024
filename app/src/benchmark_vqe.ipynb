{
 "cells": [
  {
   "cell_type": "code",
   "execution_count": 71,
   "id": "edb9a9da-ed77-45b7-9610-29760e255987",
   "metadata": {},
   "outputs": [],
   "source": [
    "import numpy as np\n",
    "from qiskit_nature.second_q.operators import FermionicOp\n",
    "from qiskit_nature.second_q.mappers import JordanWignerMapper,BravyiKitaevMapper\n",
    "from qiskit.circuit import QuantumCircuit, ParameterVector, Parameter"
   ]
  },
  {
   "cell_type": "code",
   "execution_count": 52,
   "id": "74b39bc6-64cc-4995-aeed-519147ab9309",
   "metadata": {},
   "outputs": [],
   "source": [
    "n = 4\n",
    "N = 2*n\n",
    "t=1\n",
    "mu=1.5\n",
    "U=3"
   ]
  },
  {
   "cell_type": "code",
   "execution_count": 53,
   "id": "895d5adb-41ba-4dca-8a05-9c738fd3cbf7",
   "metadata": {},
   "outputs": [],
   "source": [
    "op = FermionicOp(\n",
    "    {\n",
    "        \"+_0 -_0\": 1.0,\n",
    "        \"+_1 -_1\": -1.0,\n",
    "    },\n",
    "    num_spin_orbitals=2,\n",
    ")"
   ]
  },
  {
   "cell_type": "code",
   "execution_count": 54,
   "id": "d7c28209-2bc3-4b57-b2c0-147c98953fab",
   "metadata": {},
   "outputs": [
    {
     "name": "stdout",
     "output_type": "stream",
     "text": [
      "Fermionic Operator\n",
      "number spin orbitals=2, number terms=2\n",
      "  1.0 * ( +_0 -_0 )\n",
      "+ -1.0 * ( +_1 -_1 )\n"
     ]
    }
   ],
   "source": [
    "print(op)"
   ]
  },
  {
   "cell_type": "code",
   "execution_count": 55,
   "id": "2827e220-69f9-4561-8d91-dc1d1cad3040",
   "metadata": {},
   "outputs": [],
   "source": [
    "def qOp(i,j,N=8):\n",
    "    return FermionicOp(\n",
    "    {\n",
    "        \"+_{i} -_{j}\".format(i=i%N,j=j%N): 1.0,\n",
    "    },\n",
    "    num_spin_orbitals=N,\n",
    ")"
   ]
  },
  {
   "cell_type": "code",
   "execution_count": 56,
   "id": "7c3ac5f0-65e7-4744-9975-7b0174319094",
   "metadata": {
    "scrolled": true
   },
   "outputs": [
    {
     "name": "stdout",
     "output_type": "stream",
     "text": [
      "Fermionic Operator\n",
      "number spin orbitals=8, number terms=28\n",
      "  3.0 * ( +_0 -_0 +_1 -_1 )\n",
      "+ 3.0 * ( +_2 -_2 +_3 -_3 )\n",
      "+ 3.0 * ( +_4 -_4 +_5 -_5 )\n",
      "+ 3.0 * ( +_6 -_6 +_7 -_7 )\n",
      "+ -1.5 * ( +_6 -_6 )\n",
      "+ -1.5 * ( +_2 -_2 )\n",
      "+ -1.5 * ( +_0 -_0 )\n",
      "+ -1.5 * ( +_7 -_7 )\n",
      "+ -1.5 * ( +_5 -_5 )\n",
      "+ -1.5 * ( +_4 -_4 )\n",
      "+ -1.5 * ( +_1 -_1 )\n",
      "+ -1.5 * ( +_3 -_3 )\n",
      "+ -1.0 * ( +_3 -_1 )\n",
      "+ -1.0 * ( +_5 -_7 )\n",
      "+ -1.0 * ( +_7 -_5 )\n",
      "+ -1.0 * ( +_7 -_1 )\n",
      "+ -1.0 * ( +_6 -_0 )\n",
      "+ -1.0 * ( +_5 -_3 )\n",
      "+ -1.0 * ( +_0 -_2 )\n",
      "+ -1.0 * ( +_1 -_3 )\n",
      "+ -1.0 * ( +_2 -_4 )\n",
      "+ -1.0 * ( +_2 -_0 )\n",
      "+ -1.0 * ( +_3 -_5 )\n",
      "+ -1.0 * ( +_4 -_2 )\n",
      "+ -1.0 * ( +_1 -_7 )\n",
      "+ -1.0 * ( +_4 -_6 )\n",
      "+ -1.0 * ( +_6 -_4 )\n",
      "+ -1.0 * ( +_0 -_6 )\n"
     ]
    }
   ],
   "source": [
    "t_term = 0\n",
    "mu_term =0\n",
    "U_term =0\n",
    "for i in range(n):\n",
    "    t_term+= qOp(2*i,2*i+2) + qOp(2*i+2,2*i) + qOp(2*i+1,2*i+3) + qOp(2*i+3,2*i+1) \n",
    "    mu_term += qOp(2*i,2*i) + qOp(2*i+1,2*i+1)\n",
    "    U_term += (qOp(2*i,2*i) @ qOp(2*i+1, 2*i+1))\n",
    "H = U * U_term - mu * mu_term - t * t_term\n",
    "\n",
    "print(H)"
   ]
  },
  {
   "cell_type": "code",
   "execution_count": 57,
   "id": "8526ada8-9a5c-4f86-a8e7-0979b5c424c8",
   "metadata": {},
   "outputs": [
    {
     "name": "stdout",
     "output_type": "stream",
     "text": [
      "SparsePauliOp(['IIIIIIII', 'IIIIIIZZ', 'IIIIZZII', 'IIZZIIII', 'ZZIIIIII', 'IIIIXZXI', 'IIIIYZYI', 'YZYIIIII', 'XZXIIIII', 'XZZZZZXI', 'YZZZZZYI', 'IXZZZZZX', 'IYZZZZZY', 'IIXZXIII', 'IIYZYIII', 'IIIIIYZY', 'IIIIIXZX', 'IIIYZYII', 'IIIXZXII', 'IYZYIIII', 'IXZXIIII'],\n",
      "              coeffs=[-3.  +0.j,  0.75+0.j,  0.75+0.j,  0.75+0.j,  0.75+0.j, -0.5 +0.j,\n",
      " -0.5 +0.j, -0.5 +0.j, -0.5 +0.j, -0.5 +0.j, -0.5 +0.j, -0.5 +0.j,\n",
      " -0.5 +0.j, -0.5 +0.j, -0.5 +0.j, -0.5 +0.j, -0.5 +0.j, -0.5 +0.j,\n",
      " -0.5 +0.j, -0.5 +0.j, -0.5 +0.j])\n"
     ]
    }
   ],
   "source": [
    "mapper = JordanWignerMapper()\n",
    "qubit_jw_op = mapper.map(H)\n",
    "print(qubit_jw_op)"
   ]
  },
  {
   "cell_type": "code",
   "execution_count": 58,
   "metadata": {},
   "outputs": [
    {
     "name": "stderr",
     "output_type": "stream",
     "text": [
      "/var/folders/n_/1wl7_2l52y3g1_82hvk9hw3h0000gn/T/ipykernel_8243/3524453298.py:6: DeprecationWarning: The class ``qiskit.algorithms.eigen_solvers.numpy_eigen_solver.NumPyEigensolver`` is deprecated as of qiskit-terra 0.24.0. It will be removed no earlier than 3 months after the release date. Instead, use the class ``qiskit.algorithms.eigensolvers.NumPyEigensolver``. See https://qisk.it/algo_migration for a migration guide.\n",
      "  exact_solver = NumPyEigensolver(k=3)\n",
      "/var/folders/n_/1wl7_2l52y3g1_82hvk9hw3h0000gn/T/ipykernel_8243/3524453298.py:7: DeprecationWarning: The class ``qiskit.opflow.primitive_ops.pauli_sum_op.PauliSumOp`` is deprecated as of qiskit-terra 0.24.0. It will be removed no earlier than 3 months after the release date. For code migration guidelines, visit https://qisk.it/opflow_migration.\n",
      "  qubit_jw_op1 = PauliSumOp(qubit_jw_op)\n"
     ]
    }
   ],
   "source": [
    "from qiskit.algorithms import NumPyEigensolver\n",
    "from qiskit.visualization import plot_histogram\n",
    "from qiskit.opflow.primitive_ops import PauliSumOp, PauliOp\n",
    "\n",
    "# find the first three (k=3) eigenvalues\n",
    "exact_solver = NumPyEigensolver(k=3)\n",
    "qubit_jw_op1 = PauliSumOp(qubit_jw_op)\n",
    "exact_result = exact_solver.compute_eigenvalues(qubit_jw_op1)\n",
    "\n",
    "# Save ground state energy for later\n",
    "gs_energy = np.round(exact_result.eigenvalues[0], 4)"
   ]
  },
  {
   "cell_type": "code",
   "execution_count": 59,
   "metadata": {},
   "outputs": [
    {
     "name": "stdout",
     "output_type": "stream",
     "text": [
      "-8.4244\n"
     ]
    }
   ],
   "source": [
    "print(gs_energy)"
   ]
  },
  {
   "cell_type": "code",
   "execution_count": 106,
   "id": "b4a4b8d8-3c1b-41c7-93b5-a9b71fe77d94",
   "metadata": {},
   "outputs": [],
   "source": [
    "from qiskit_algorithms import VQE\n",
    "from qiskit.primitives import Estimator\n",
    "from qiskit.circuit.library import EfficientSU2\n",
    "from qiskit_algorithms.optimizers import SPSA, COBYLA, QNSPSA\n",
    "\n",
    "n = qubit_jw_op.num_qubits\n",
    "est = Estimator()\n",
    "ansatz = EfficientSU2(n)\n",
    "optimizer = SPSA(maxiter = 500)\n",
    "intermediate_info = []\n",
    "params_info = []\n",
    "def callback(eval_count,params,value,meta):\n",
    "        intermediate_info.append(value)\n",
    "        params_info.append(params)\n",
    "\n",
    "vqe = VQE(est,ansatz,optimizer,callback = callback)\n"
   ]
  },
  {
   "cell_type": "code",
   "execution_count": 61,
   "metadata": {},
   "outputs": [],
   "source": [
    "eigen = vqe.compute_minimum_eigenvalue(qubit_jw_op).eigenvalue"
   ]
  },
  {
   "cell_type": "code",
   "execution_count": 62,
   "metadata": {},
   "outputs": [
    {
     "name": "stdout",
     "output_type": "stream",
     "text": [
      "-7.88254495799667\n"
     ]
    }
   ],
   "source": [
    "print(eigen)"
   ]
  },
  {
   "cell_type": "code",
   "execution_count": 63,
   "metadata": {},
   "outputs": [
    {
     "data": {
      "image/png": "[encoded data removed]",
      "text/plain": [
       "<Figure size 640x480 with 1 Axes>"
      ]
     },
     "metadata": {},
     "output_type": "display_data"
    }
   ],
   "source": [
    "import matplotlib.pyplot as plt\n",
    "plt.plot(intermediate_info, color='purple', lw=2, label='Simulated VQE')\n",
    "plt.ylabel('Energy')\n",
    "plt.xlabel('Iterations')\n",
    "# Exact ground state energy value\n",
    "plt.axhline(y=gs_energy, color=\"tab:red\", ls=\"--\", lw=2, label=\"Target: \" + str(gs_energy))\n",
    "plt.legend()\n",
    "plt.grid()\n",
    "plt.show()"
   ]
  },
  {
   "cell_type": "markdown",
   "metadata": {},
   "source": [
    "# Ansatz From: https://arxiv.org/pdf/2112.14077"
   ]
  },
  {
   "cell_type": "code",
   "execution_count": 101,
   "metadata": {},
   "outputs": [],
   "source": [
    "from qiskit.circuit.library import SwapGate\n",
    "from scipy.linalg import expm\n",
    "from qiskit.quantum_info.operators import Operator\n",
    "from qiskit.extensions import HamiltonianGate\n",
    "\n",
    "#eZZ gate\n",
    "theta = 0.7809\n",
    "Smat = SwapGate().to_matrix()\n",
    "Sop = Operator(SwapGate())\n",
    "#print(Sop)\n",
    "#expS = expm(1j*Smat)\n",
    "#def expSt(t):\n",
    "#    return np.power(expS,t)\n",
    "\n",
    "def eSwap(circ,i,j,t):\n",
    "    eSt = HamiltonianGate(Sop,t,label = \"eSwap\")\n",
    "    circ.append(eSt,[i,j])\n",
    "\n",
    "\n",
    "def eZZ(circ,i,j,t):\n",
    "    circ.cx(i,j)\n",
    "    circ.rz(t,j)\n",
    "    circ.cx(i,j)\n",
    "\n",
    "def fij(circ,i,j,t):\n",
    "    eSwap(circ,i,j,t)\n",
    "    circ.cp(t,i,j)\n",
    "\n",
    "def efSwap(circ,i,j,t):\n",
    "    for k in range(j-1,i,-1):\n",
    "        circ.cz(j,k)\n",
    "    fij(circ,i,j,t)\n",
    "    for k in range(i+1,j,1):\n",
    "        circ.cz(j,k)\n",
    "\n",
    "def hopping(circ,r):\n",
    "    n = circ.num_qubits\n",
    "    t_s = ParameterVector(\"t_h{r}\".format(r=r),length = n)\n",
    "    for i in range(n):\n",
    "        efSwap(circ,i,(i+2)%n,t_s[i])\n",
    "\n",
    "def interaction(circ,r):\n",
    "    n = circ.num_qubits\n",
    "    t_s = ParameterVector(\"t_i{r}\".format(r=r),length = n//2)\n",
    "    for i in range(0,n,2):\n",
    "        eZZ(circ,i,i+1,t_s[i//2])\n",
    "\n",
    "def start(circ):\n",
    "    n = circ.num_qubits\n",
    "    for i in range(0,n,2):\n",
    "        circ.x(i)\n",
    "        circ.h(i+1)\n",
    "        circ.cx(i,i+1)\n",
    "\n",
    "def hopint(circ,reps = 3):\n",
    "    for r in range(reps):\n",
    "        hopping(circ,r)\n",
    "        interaction(circ,r)\n",
    "    "
   ]
  },
  {
   "cell_type": "code",
   "execution_count": 102,
   "metadata": {},
   "outputs": [
    {
     "name": "stdout",
     "output_type": "stream",
     "text": [
      "ParameterView([ParameterVectorElement(t_h0[0]), ParameterVectorElement(t_h0[1]), ParameterVectorElement(t_h0[2]), ParameterVectorElement(t_h0[3]), ParameterVectorElement(t_h0[4]), ParameterVectorElement(t_h0[5]), ParameterVectorElement(t_h0[6]), ParameterVectorElement(t_h0[7]), ParameterVectorElement(t_h1[0]), ParameterVectorElement(t_h1[1]), ParameterVectorElement(t_h1[2]), ParameterVectorElement(t_h1[3]), ParameterVectorElement(t_h1[4]), ParameterVectorElement(t_h1[5]), ParameterVectorElement(t_h1[6]), ParameterVectorElement(t_h1[7]), ParameterVectorElement(t_h2[0]), ParameterVectorElement(t_h2[1]), ParameterVectorElement(t_h2[2]), ParameterVectorElement(t_h2[3]), ParameterVectorElement(t_h2[4]), ParameterVectorElement(t_h2[5]), ParameterVectorElement(t_h2[6]), ParameterVectorElement(t_h2[7]), ParameterVectorElement(t_i0[0]), ParameterVectorElement(t_i0[1]), ParameterVectorElement(t_i0[2]), ParameterVectorElement(t_i0[3]), ParameterVectorElement(t_i1[0]), ParameterVectorElement(t_i1[1]), ParameterVectorElement(t_i1[2]), ParameterVectorElement(t_i1[3]), ParameterVectorElement(t_i2[0]), ParameterVectorElement(t_i2[1]), ParameterVectorElement(t_i2[2]), ParameterVectorElement(t_i2[3])])\n"
     ]
    }
   ],
   "source": [
    "circ = QuantumCircuit(N)\n",
    "start(circ)\n",
    "hopint(circ)\n",
    "#circ.draw(style = \"mpl\")\n",
    "print(circ.parameters)"
   ]
  },
  {
   "cell_type": "code",
   "execution_count": 103,
   "metadata": {},
   "outputs": [
    {
     "name": "stdout",
     "output_type": "stream",
     "text": [
      "ParameterView([ParameterVectorElement(t_h0[0]), ParameterVectorElement(t_h0[1]), ParameterVectorElement(t_h0[2]), ParameterVectorElement(t_h0[3]), ParameterVectorElement(t_h0[4]), ParameterVectorElement(t_h0[5]), ParameterVectorElement(t_h0[6]), ParameterVectorElement(t_h0[7]), ParameterVectorElement(t_h1[0]), ParameterVectorElement(t_h1[1]), ParameterVectorElement(t_h1[2]), ParameterVectorElement(t_h1[3]), ParameterVectorElement(t_h1[4]), ParameterVectorElement(t_h1[5]), ParameterVectorElement(t_h1[6]), ParameterVectorElement(t_h1[7]), ParameterVectorElement(t_h2[0]), ParameterVectorElement(t_h2[1]), ParameterVectorElement(t_h2[2]), ParameterVectorElement(t_h2[3]), ParameterVectorElement(t_h2[4]), ParameterVectorElement(t_h2[5]), ParameterVectorElement(t_h2[6]), ParameterVectorElement(t_h2[7]), ParameterVectorElement(t_i0[0]), ParameterVectorElement(t_i0[1]), ParameterVectorElement(t_i0[2]), ParameterVectorElement(t_i0[3]), ParameterVectorElement(t_i1[0]), ParameterVectorElement(t_i1[1]), ParameterVectorElement(t_i1[2]), ParameterVectorElement(t_i1[3]), ParameterVectorElement(t_i2[0]), ParameterVectorElement(t_i2[1]), ParameterVectorElement(t_i2[2]), ParameterVectorElement(t_i2[3])])\n"
     ]
    }
   ],
   "source": [
    "ans1 = circ\n",
    "print(ans1.parameters)"
   ]
  },
  {
   "cell_type": "code",
   "execution_count": 107,
   "metadata": {},
   "outputs": [
    {
     "name": "stdout",
     "output_type": "stream",
     "text": [
      "-4.724284978455656\n",
      "[1.4419678699680685, 3.178320137865737, -2.7848942849873746, -4.606443749253704, 3.775406493143863, 5.758785076015541, 3.081213092430631, -3.032494979921858, -0.033810282250106016, 0.27831916938027507, -0.3712995248744651, 5.682276053938474, -3.4017385886600464, -1.8192991433785923, -3.5546078888823196, -4.893418031957477, 4.013425986953261, -1.5660623283643627, 2.6090516837765856, 2.9146687303244176, 3.5664466748907797, -0.24008045563959096, 3.7082761776017774, 1.6178001343257347, 4.921378306548456, -2.190414906198967, -0.06390494092312266, -6.4580755276339525, -5.909148523110771, -0.8782864268169088, -3.068961307341959, 0.9149565608000765, 1.3155221414941327, 4.44052963027766, -6.000791810483323, 5.460039695783027]\n",
      "[1.8419678699680684, 3.578320137865737, -2.384894284987374, -4.206443749253704, 3.3754064931438625, 6.158785076015541, 3.4812130924306315, -3.4324949799218585, -0.43381028225010604, 0.678319169380275, 0.02870047512553492, 6.082276053938474, -3.8017385886600468, -1.4192991433785924, -3.1546078888823192, -4.493418031957477, 4.4134259869532615, -1.1660623283643627, 3.009051683776586, 3.314668730324418, 3.1664466748907794, -0.6400804556395909, 4.108276177601778, 2.017800134325735, 5.321378306548456, -2.5904149061989674, -0.4639049409231227, -6.058075527633952, -6.309148523110771, -0.47828642681690886, -3.468961307341959, 0.5149565608000766, 1.7155221414941326, 4.04052963027766, -6.400791810483323, 5.860039695783027]\n"
     ]
    }
   ],
   "source": [
    "optimizer = SPSA(maxiter = 500)\n",
    "vqe1 = VQE(est,ans1,optimizer,callback = callback)\n",
    "intermediate_info = []\n",
    "params_info = []\n",
    "eigen = vqe1.compute_minimum_eigenvalue(qubit_jw_op).eigenvalue\n",
    "print(eigen)\n",
    "print(params_info[0])\n",
    "print(params_info[1])"
   ]
  },
  {
   "cell_type": "code",
   "execution_count": 108,
   "metadata": {},
   "outputs": [
    {
     "data": {
      "image/png": "[encoded data removed]",
      "text/plain": [
       "<Figure size 640x480 with 1 Axes>"
      ]
     },
     "metadata": {},
     "output_type": "display_data"
    }
   ],
   "source": [
    "plt.plot(intermediate_info, color='purple', lw=2, label='Simulated VQE')\n",
    "plt.ylabel('Energy')\n",
    "plt.xlabel('Iterations')\n",
    "# Exact ground state energy value\n",
    "plt.axhline(y=gs_energy, color=\"tab:red\", ls=\"--\", lw=2, label=\"Target: \" + str(gs_energy))\n",
    "plt.legend()\n",
    "plt.grid()\n",
    "plt.show()"
   ]
  }
 ],
 "metadata": {
  "kernelspec": {
   "display_name": "Python 3 (ipykernel)",
   "language": "python",
   "name": "python3"
  },
  "language_info": {
   "codemirror_mode": {
    "name": "ipython",
    "version": 3
   },
   "file_extension": ".py",
   "mimetype": "text/x-python",
   "name": "python",
   "nbconvert_exporter": "python",
   "pygments_lexer": "ipython3",
   "version": "3.11.8"
  }
 },
 "nbformat": 4,
 "nbformat_minor": 5
}
