{
 "cells": [
  {
   "cell_type": "code",
   "execution_count": 182,
   "id": "edb9a9da-ed77-45b7-9610-29760e255987",
   "metadata": {},
   "outputs": [],
   "source": [
    "import numpy as np\n",
    "from qiskit_nature.second_q.operators import FermionicOp\n",
    "from qiskit_nature.second_q.mappers import JordanWignerMapper,BravyiKitaevMapper"
   ]
  },
  {
   "cell_type": "code",
   "execution_count": 183,
   "id": "74b39bc6-64cc-4995-aeed-519147ab9309",
   "metadata": {},
   "outputs": [],
   "source": [
    "n = 4\n",
    "N = 2*n\n",
    "t=1\n",
    "mu=1.5\n",
    "U=3"
   ]
  },
  {
   "cell_type": "code",
   "execution_count": 184,
   "id": "895d5adb-41ba-4dca-8a05-9c738fd3cbf7",
   "metadata": {},
   "outputs": [],
   "source": [
    "op = FermionicOp(\n",
    "    {\n",
    "        \"+_0 -_0\": 1.0,\n",
    "        \"+_1 -_1\": -1.0,\n",
    "    },\n",
    "    num_spin_orbitals=2,\n",
    ")"
   ]
  },
  {
   "cell_type": "code",
   "execution_count": 185,
   "id": "d7c28209-2bc3-4b57-b2c0-147c98953fab",
   "metadata": {},
   "outputs": [
    {
     "name": "stdout",
     "output_type": "stream",
     "text": [
      "Fermionic Operator\n",
      "number spin orbitals=2, number terms=2\n",
      "  1.0 * ( +_0 -_0 )\n",
      "+ -1.0 * ( +_1 -_1 )\n"
     ]
    }
   ],
   "source": [
    "print(op)"
   ]
  },
  {
   "cell_type": "code",
   "execution_count": 186,
   "id": "2827e220-69f9-4561-8d91-dc1d1cad3040",
   "metadata": {},
   "outputs": [],
   "source": [
    "def qOp(i,j,N=8):\n",
    "    return FermionicOp(\n",
    "    {\n",
    "        \"+_{i} -_{j}\".format(i=i%N,j=j%N): 1.0,\n",
    "    },\n",
    "    num_spin_orbitals=N,\n",
    ")"
   ]
  },
  {
   "cell_type": "code",
   "execution_count": 190,
   "id": "7c3ac5f0-65e7-4744-9975-7b0174319094",
   "metadata": {
    "scrolled": true
   },
   "outputs": [
    {
     "name": "stdout",
     "output_type": "stream",
     "text": [
      "Fermionic Operator\n",
      "number spin orbitals=8, number terms=28\n",
      "  3.0 * ( +_0 -_0 +_1 -_1 )\n",
      "+ 3.0 * ( +_2 -_2 +_3 -_3 )\n",
      "+ 3.0 * ( +_4 -_4 +_5 -_5 )\n",
      "+ 3.0 * ( +_6 -_6 +_7 -_7 )\n",
      "+ -1.5 * ( +_5 -_5 )\n",
      "+ -1.5 * ( +_6 -_6 )\n",
      "+ -1.5 * ( +_1 -_1 )\n",
      "+ -1.5 * ( +_2 -_2 )\n",
      "+ -1.5 * ( +_3 -_3 )\n",
      "+ -1.5 * ( +_4 -_4 )\n",
      "+ -1.5 * ( +_7 -_7 )\n",
      "+ -1.5 * ( +_0 -_0 )\n",
      "+ -1.0 * ( +_2 -_4 )\n",
      "+ -1.0 * ( +_3 -_1 )\n",
      "+ -1.0 * ( +_4 -_2 )\n",
      "+ -1.0 * ( +_1 -_7 )\n",
      "+ -1.0 * ( +_7 -_1 )\n",
      "+ -1.0 * ( +_0 -_2 )\n",
      "+ -1.0 * ( +_1 -_3 )\n",
      "+ -1.0 * ( +_0 -_6 )\n",
      "+ -1.0 * ( +_7 -_5 )\n",
      "+ -1.0 * ( +_5 -_7 )\n",
      "+ -1.0 * ( +_3 -_5 )\n",
      "+ -1.0 * ( +_6 -_0 )\n",
      "+ -1.0 * ( +_2 -_0 )\n",
      "+ -1.0 * ( +_5 -_3 )\n",
      "+ -1.0 * ( +_6 -_4 )\n",
      "+ -1.0 * ( +_4 -_6 )\n"
     ]
    }
   ],
   "source": [
    "t_term = 0\n",
    "mu_term =0\n",
    "U_term =0\n",
    "for i in range(n):\n",
    "    t_term+= qOp(2*i,2*i+2) + qOp(2*i+2,2*i) + qOp(2*i+1,2*i+3) + qOp(2*i+3,2*i+1) \n",
    "    mu_term += qOp(2*i,2*i) + qOp(2*i+1,2*i+1)\n",
    "    U_term += (qOp(2*i,2*i) @ qOp(2*i+1, 2*i+1))\n",
    "H = U * U_term - mu * mu_term - t * t_term\n",
    "\n",
    "print(H)"
   ]
  },
  {
   "cell_type": "code",
   "execution_count": 191,
   "id": "8526ada8-9a5c-4f86-a8e7-0979b5c424c8",
   "metadata": {},
   "outputs": [
    {
     "name": "stdout",
     "output_type": "stream",
     "text": [
      "SparsePauliOp(['IIIIIIII', 'IIIIIIZZ', 'IIIIZZII', 'IIZZIIII', 'ZZIIIIII', 'IIIYZYII', 'IIIXZXII', 'IIIIXZXI', 'IIIIYZYI', 'YZZZZZYI', 'XZZZZZXI', 'IIIIIYZY', 'IIIIIXZX', 'IYZZZZZY', 'IXZZZZZX', 'XZXIIIII', 'YZYIIIII', 'IIYZYIII', 'IIXZXIII', 'IXZXIIII', 'IYZYIIII'],\n",
      "              coeffs=[-3.  +0.j,  0.75+0.j,  0.75+0.j,  0.75+0.j,  0.75+0.j, -0.5 +0.j,\n",
      " -0.5 +0.j, -0.5 +0.j, -0.5 +0.j, -0.5 +0.j, -0.5 +0.j, -0.5 +0.j,\n",
      " -0.5 +0.j, -0.5 +0.j, -0.5 +0.j, -0.5 +0.j, -0.5 +0.j, -0.5 +0.j,\n",
      " -0.5 +0.j, -0.5 +0.j, -0.5 +0.j])\n"
     ]
    }
   ],
   "source": [
    "mapper = JordanWignerMapper()\n",
    "qubit_jw_op = mapper.map(H)\n",
    "print(qubit_jw_op)"
   ]
  },
  {
   "cell_type": "code",
   "execution_count": 192,
   "metadata": {},
   "outputs": [
    {
     "name": "stderr",
     "output_type": "stream",
     "text": [
      "/var/folders/n_/1wl7_2l52y3g1_82hvk9hw3h0000gn/T/ipykernel_8341/1378709886.py:6: DeprecationWarning: The class ``qiskit.algorithms.eigen_solvers.numpy_eigen_solver.NumPyEigensolver`` is deprecated as of qiskit-terra 0.24.0. It will be removed no earlier than 3 months after the release date. Instead, use the class ``qiskit.algorithms.eigensolvers.NumPyEigensolver``. See https://qisk.it/algo_migration for a migration guide.\n",
      "  exact_solver = NumPyEigensolver(k=3)\n",
      "/var/folders/n_/1wl7_2l52y3g1_82hvk9hw3h0000gn/T/ipykernel_8341/1378709886.py:7: DeprecationWarning: The class ``qiskit.opflow.primitive_ops.pauli_sum_op.PauliSumOp`` is deprecated as of qiskit-terra 0.24.0. It will be removed no earlier than 3 months after the release date. For code migration guidelines, visit https://qisk.it/opflow_migration.\n",
      "  qubit_jw_op1 = PauliSumOp(qubit_jw_op)\n"
     ]
    }
   ],
   "source": [
    "from qiskit.algorithms import NumPyEigensolver\n",
    "from qiskit.visualization import plot_histogram\n",
    "from qiskit.opflow.primitive_ops import PauliSumOp\n",
    "\n",
    "# find the first three (k=3) eigenvalues\n",
    "exact_solver = NumPyEigensolver(k=3)\n",
    "qubit_jw_op1 = PauliSumOp(qubit_jw_op)\n",
    "exact_result = exact_solver.compute_eigenvalues(qubit_jw_op1)\n",
    "\n",
    "# Save ground state energy for later\n",
    "gs_energy = np.round(exact_result.eigenvalues[0], 4)"
   ],
   "id": "31b8867f3bb82b09"
  },
  {
   "cell_type": "code",
   "execution_count": 193,
   "metadata": {},
   "outputs": [
    {
     "name": "stdout",
     "output_type": "stream",
     "text": [
      "-8.4244\n"
     ]
    }
   ],
   "source": [
    "print(gs_energy)"
   ],
   "id": "8b2844c90fdf3735"
  },
  {
   "cell_type": "code",
   "execution_count": 207,
   "id": "b4a4b8d8-3c1b-41c7-93b5-a9b71fe77d94",
   "metadata": {},
   "outputs": [],
   "source": [
    "from qiskit_algorithms import VQE\n",
    "from qiskit.primitives import Estimator\n",
    "from qiskit.circuit.library import EfficientSU2\n",
    "from qiskit_algorithms.optimizers import SPSA, COBYLA\n",
    "\n",
    "n = qubit_jw_op.num_qubits\n",
    "est = Estimator()\n",
    "ansatz = EfficientSU2(n)\n",
    "optimizer = SPSA(maxiter = 500)\n",
    "intermediate_info = []\n",
    "params_info = []\n",
    "def callback(eval_count,params,value,meta):\n",
    "        intermediate_info.append(value)\n",
    "        params_info.append(params)\n",
    "\n",
    "vqe = VQE(est,ansatz,optimizer,callback = callback)\n"
   ]
  },
  {
   "cell_type": "code",
   "execution_count": 208,
   "metadata": {},
   "outputs": [],
   "source": [
    "eigen = vqe.compute_minimum_eigenvalue(qubit_jw_op).eigenvalue"
   ],
   "id": "6511581fe6339a72"
  },
  {
   "cell_type": "code",
   "execution_count": 209,
   "metadata": {},
   "outputs": [
    {
     "name": "stdout",
     "output_type": "stream",
     "text": [
      "-7.028371798183836\n"
     ]
    }
   ],
   "source": [
    "print(eigen)"
   ],
   "id": "fb1e12cfeee5b60"
  },
  {
   "cell_type": "code",
   "execution_count": 210,
   "metadata": {},
   "outputs": [
    {
     "data": {
      "image/png": "[encoded data removed]",
      "text/plain": [
       "<Figure size 640x480 with 1 Axes>"
      ]
     },
     "metadata": {},
     "output_type": "display_data"
    }
   ],
   "source": [
    "import matplotlib.pyplot as plt\n",
    "plt.plot(intermediate_info, color='purple', lw=2, label='Simulated VQE')\n",
    "plt.ylabel('Energy')\n",
    "plt.xlabel('Iterations')\n",
    "# Exact ground state energy value\n",
    "plt.axhline(y=gs_energy, color=\"tab:red\", ls=\"--\", lw=2, label=\"Target: \" + str(gs_energy))\n",
    "plt.legend()\n",
    "plt.grid()\n",
    "plt.show()"
   ],
   "id": "fcdbfb1901e3075e"
  }
 ],
 "metadata": {
  "kernelspec": {
   "display_name": "Python 3 (ipykernel)",
   "language": "python",
   "name": "python3"
  },
  "language_info": {
   "codemirror_mode": {
    "name": "ipython",
    "version": 3
   },
   "file_extension": ".py",
   "mimetype": "text/x-python",
   "name": "python",
   "nbconvert_exporter": "python",
   "pygments_lexer": "ipython3",
   "version": "3.11.8"
  }
 },
 "nbformat": 4,
 "nbformat_minor": 5
}
