{
 "cells": [
  {
   "cell_type": "code",
   "execution_count": 1,
   "id": "edb9a9da-ed77-45b7-9610-29760e255987",
   "metadata": {},
   "outputs": [],
   "source": [
    "import numpy as np\n",
    "from scipy.optimize import minimize\n",
    "import matplotlib.pyplot as plt\n",
    "from qiskit_nature.second_q.operators import FermionicOp\n",
    "from qiskit_nature.second_q.mappers import JordanWignerMapper,BravyiKitaevMapper\n",
    "from qiskit.circuit import QuantumCircuit, ParameterVector, Parameter\n",
    "from qiskit.transpiler.preset_passmanagers import generate_preset_pass_manager\n",
    "import spsa"
   ]
  },
  {
   "cell_type": "code",
   "execution_count": 2,
   "id": "74b39bc6-64cc-4995-aeed-519147ab9309",
   "metadata": {},
   "outputs": [],
   "source": [
    "n = 4\n",
    "N = 2*n\n",
    "t=1\n",
    "mu=1.5\n",
    "U=3"
   ]
  },
  {
   "cell_type": "code",
   "execution_count": 3,
   "id": "895d5adb-41ba-4dca-8a05-9c738fd3cbf7",
   "metadata": {},
   "outputs": [],
   "source": [
    "op = FermionicOp(\n",
    "    {\n",
    "        \"+_0 -_0\": 1.0,\n",
    "        \"+_1 -_1\": -1.0,\n",
    "    },\n",
    "    num_spin_orbitals=2,\n",
    ")"
   ]
  },
  {
   "cell_type": "code",
   "execution_count": 4,
   "id": "d7c28209-2bc3-4b57-b2c0-147c98953fab",
   "metadata": {},
   "outputs": [
    {
     "name": "stdout",
     "output_type": "stream",
     "text": [
      "Fermionic Operator\n",
      "number spin orbitals=2, number terms=2\n",
      "  1.0 * ( +_0 -_0 )\n",
      "+ -1.0 * ( +_1 -_1 )\n"
     ]
    }
   ],
   "source": [
    "print(op)"
   ]
  },
  {
   "cell_type": "code",
   "execution_count": 5,
   "id": "2827e220-69f9-4561-8d91-dc1d1cad3040",
   "metadata": {},
   "outputs": [],
   "source": [
    "def qOp(i,j):\n",
    "    return FermionicOp(\n",
    "    {\n",
    "        \"+_{i} -_{j}\".format(i=i%N,j=j%N): 1.0,\n",
    "    },\n",
    "    num_spin_orbitals=N,\n",
    ")"
   ]
  },
  {
   "cell_type": "code",
   "execution_count": 6,
   "id": "7c3ac5f0-65e7-4744-9975-7b0174319094",
   "metadata": {
    "scrolled": true
   },
   "outputs": [
    {
     "name": "stdout",
     "output_type": "stream",
     "text": [
      "Fermionic Operator\n",
      "number spin orbitals=8, number terms=28\n",
      "  3.0 * ( +_0 -_0 +_1 -_1 )\n",
      "+ 3.0 * ( +_2 -_2 +_3 -_3 )\n",
      "+ 3.0 * ( +_4 -_4 +_5 -_5 )\n",
      "+ 3.0 * ( +_6 -_6 +_7 -_7 )\n",
      "+ -1.5 * ( +_0 -_0 )\n",
      "+ -1.5 * ( +_1 -_1 )\n",
      "+ -1.5 * ( +_2 -_2 )\n",
      "+ -1.5 * ( +_4 -_4 )\n",
      "+ -1.5 * ( +_6 -_6 )\n",
      "+ -1.5 * ( +_3 -_3 )\n",
      "+ -1.5 * ( +_7 -_7 )\n",
      "+ -1.5 * ( +_5 -_5 )\n",
      "+ -1.0 * ( +_7 -_5 )\n",
      "+ -1.0 * ( +_1 -_3 )\n",
      "+ -1.0 * ( +_4 -_6 )\n",
      "+ -1.0 * ( +_6 -_0 )\n",
      "+ -1.0 * ( +_5 -_3 )\n",
      "+ -1.0 * ( +_7 -_1 )\n",
      "+ -1.0 * ( +_2 -_4 )\n",
      "+ -1.0 * ( +_2 -_0 )\n",
      "+ -1.0 * ( +_0 -_6 )\n",
      "+ -1.0 * ( +_1 -_7 )\n",
      "+ -1.0 * ( +_5 -_7 )\n",
      "+ -1.0 * ( +_6 -_4 )\n",
      "+ -1.0 * ( +_0 -_2 )\n",
      "+ -1.0 * ( +_4 -_2 )\n",
      "+ -1.0 * ( +_3 -_1 )\n",
      "+ -1.0 * ( +_3 -_5 )\n"
     ]
    }
   ],
   "source": [
    "t_list = []\n",
    "U_list = []\n",
    "for i in range(n):\n",
    "    t_list.append((2*i,(2*i+2)%N))\n",
    "    t_list.append((2*i+1,(2*i+3)%N))\n",
    "site_list = [2*i for i in range(n)]\n",
    "\n",
    "t_term = 0\n",
    "U_term = 0\n",
    "mu_term = 0\n",
    "\n",
    "for edge in t_list:\n",
    "    t_term += qOp(edge[0],edge[1])\n",
    "    t_term += qOp(edge[1],edge[0])\n",
    "\n",
    "for u in site_list:\n",
    "    mu_term += qOp(u,u) + qOp(u+1,u+1)\n",
    "    U_term += qOp(u,u)@qOp(u+1,u+1)\n",
    "\n",
    "H = U * U_term - mu * mu_term - t * t_term\n",
    "\n",
    "print(H)\n",
    "\n",
    "U_list = [(i,i+1) for i in site_list]"
   ]
  },
  {
   "cell_type": "code",
   "execution_count": 7,
   "id": "8526ada8-9a5c-4f86-a8e7-0979b5c424c8",
   "metadata": {},
   "outputs": [
    {
     "name": "stdout",
     "output_type": "stream",
     "text": [
      "SparsePauliOp(['IIIIIIII', 'IIIIIIZZ', 'IIIIZZII', 'IIZZIIII', 'ZZIIIIII', 'XZXIIIII', 'YZYIIIII', 'IIIIYZYI', 'IIIIXZXI', 'IYZYIIII', 'IXZXIIII', 'IXZZZZZX', 'IYZZZZZY', 'IIXZXIII', 'IIYZYIII', 'XZZZZZXI', 'YZZZZZYI', 'IIIYZYII', 'IIIXZXII', 'IIIIIXZX', 'IIIIIYZY'],\n",
      "              coeffs=[-3.  +0.j,  0.75+0.j,  0.75+0.j,  0.75+0.j,  0.75+0.j, -0.5 +0.j,\n",
      " -0.5 +0.j, -0.5 +0.j, -0.5 +0.j, -0.5 +0.j, -0.5 +0.j, -0.5 +0.j,\n",
      " -0.5 +0.j, -0.5 +0.j, -0.5 +0.j, -0.5 +0.j, -0.5 +0.j, -0.5 +0.j,\n",
      " -0.5 +0.j, -0.5 +0.j, -0.5 +0.j])\n"
     ]
    }
   ],
   "source": [
    "mapper = JordanWignerMapper()\n",
    "qubit_jw_op = mapper.map(H)\n",
    "print(qubit_jw_op)"
   ]
  },
  {
   "cell_type": "code",
   "execution_count": 8,
   "metadata": {},
   "outputs": [],
   "source": [
    "from qiskit.circuit.library import EfficientSU2\n",
    "\n",
    "ansatz = EfficientSU2(N)"
   ]
  },
  {
   "cell_type": "code",
   "execution_count": 9,
   "metadata": {},
   "outputs": [
    {
     "name": "stdout",
     "output_type": "stream",
     "text": [
      "<qiskit.providers.fake_provider.generic_backend_v2.GenericBackendV2 object at 0x1148fb710>\n"
     ]
    }
   ],
   "source": [
    "from qiskit.providers.fake_provider import GenericBackendV2\n",
    "\n",
    "# To run on hardware, select the backend with the fewest number of jobs in the queue\n",
    "backend = GenericBackendV2(num_qubits=N)\n",
    "print(backend)"
   ]
  },
  {
   "cell_type": "code",
   "execution_count": 10,
   "metadata": {},
   "outputs": [],
   "source": [
    "#cost dict\n",
    "cost_history_dict = {\n",
    "    \"prev_vector\": None,\n",
    "    \"iters\": 0,\n",
    "    \"cost_history\": [],\n",
    "}\n",
    "\n",
    "def reset():\n",
    "    cost_history_dict = {\n",
    "    \"prev_vector\": None,\n",
    "    \"iters\": 0,\n",
    "    \"cost_history\": [],\n",
    "}\n",
    "#cost func\n",
    "def cost_func(params, ansatz, hamiltonian, estimator):\n",
    "    \n",
    "    \"\"\"Return estimate of energy from estimator\n",
    "\n",
    "    Parameters:\n",
    "        params (ndarray): Array of ansatz parameters\n",
    "        ansatz (QuantumCircuit): Parameterized ansatz circuit\n",
    "        hamiltonian (SparsePauliOp): Operator representation of Hamiltonian\n",
    "        estimator (EstimatorV2): Estimator primitive instance\n",
    "        cost_history_dict: Dictionary for storing intermediate results\n",
    "\n",
    "    Returns:\n",
    "        float: Energy estimate\n",
    "    \"\"\"\n",
    "    pub = (ansatz, [hamiltonian], [params])\n",
    "    result = estimator.run(pubs=[pub]).result()\n",
    "    energy = result[0].data.evs[0]\n",
    "\n",
    "    cost_history_dict[\"iters\"] += 1\n",
    "    cost_history_dict[\"prev_vector\"] = params\n",
    "    cost_history_dict[\"cost_history\"].append(energy)\n",
    "    if cost_history_dict['iters']%50 == 0:\n",
    "        print(f\"Iters. done: {cost_history_dict['iters']} [Current cost: {energy}]\")\n",
    "\n",
    "    return energy"
   ]
  },
  {
   "cell_type": "code",
   "execution_count": 11,
   "metadata": {},
   "outputs": [],
   "source": [
    "from qiskit.transpiler.preset_passmanagers import generate_preset_pass_manager\n",
    "from qiskit.primitives import BackendEstimatorV2\n",
    "\n",
    "\n",
    "class VQE:\n",
    "\n",
    "    def __init__(self,backend,ansatz, cost_f, x0 = None, optimizer = \"cobyla\",estimator = None,shots = 1024):\n",
    "        #backend\n",
    "        self.backend = backend\n",
    "        #transpiled ansatz\n",
    "        self.num_params = ansatz.num_parameters\n",
    "        self.ansatz = ansatz\n",
    "        self.pm_ansatz = None\n",
    "        #self.ansatz = ansatz\n",
    "        #optimizer\n",
    "        self.optimizer = optimizer\n",
    "        #estimator\n",
    "        if estimator is not None:\n",
    "            self.estimator = estimator\n",
    "        else:\n",
    "            estimator = BackendEstimatorV2(backend=backend)\n",
    "            estimator.options.default_shots = shots\n",
    "            self.estimator = estimator\n",
    "        #cost\n",
    "        self.cost_f = cost_f\n",
    "        if x0 is None:\n",
    "            x0 = 2 * np.pi * np.random.random(self.num_params)\n",
    "        self.x0 = x0\n",
    "\n",
    "    def pass_manage_ansatz(self):\n",
    "        self.num_params = self.ansatz.num_parameters\n",
    "        target = self.backend.target\n",
    "        pm = generate_preset_pass_manager(target=target, optimization_level=3)\n",
    "        self.pm_ansatz = pm.run(self.ansatz)\n",
    "\n",
    "    def compute_minimum_eigenvalue(self,hamiltonian,aux_operators = [],maxiter = 500):\n",
    "        #hamiltonian\n",
    "        self.pass_manage_ansatz()\n",
    "        print(\"Running with\",self.pm_ansatz.num_parameters, \"parameters\")\n",
    "        print(\"Running with the following ansatz:\")\n",
    "        hamiltonian_isa = hamiltonian.apply_layout(layout=self.pm_ansatz.layout)\n",
    "        for i,op in enumerate(aux_operators):\n",
    "            aux_operators[i] = op.apply_layout(layout=self.pm_ansatz.layout)\n",
    "        res = minimize(\n",
    "        self.cost_f,\n",
    "        self.x0,\n",
    "        args=(self.pm_ansatz, hamiltonian_isa, self.estimator),\n",
    "        method=self.optimizer,\n",
    "        options = {\"maxiter\": maxiter}\n",
    "        )\n",
    "        \n",
    "        return res\n"
   ]
  },
  {
   "cell_type": "code",
   "execution_count": 12,
   "metadata": {},
   "outputs": [],
   "source": [
    "def spsa_min(f,x0,args,*arg,**kwargs):\n",
    "    ansatz, hamiltonian, estimator = args\n",
    "    def new_cost(x):\n",
    "        return f(x,ansatz,hamiltonian,estimator)\n",
    "    xx = spsa.minimize(new_cost,x0,iterations=kwargs['maxiter'])\n",
    "    return xx"
   ]
  },
  {
   "cell_type": "code",
   "execution_count": 13,
   "metadata": {},
   "outputs": [],
   "source": [
    "vqe = VQE(backend,ansatz,cost_func,optimizer='cobyla')"
   ]
  },
  {
   "cell_type": "code",
   "execution_count": 14,
   "metadata": {},
   "outputs": [
    {
     "name": "stdout",
     "output_type": "stream",
     "text": [
      "Running with 64 parameters\n",
      "Running with the following ansatz:\n"
     ]
    },
    {
     "name": "stderr",
     "output_type": "stream",
     "text": [
      "/Users/batuyalcin/anaconda3/envs/QiskitNew/lib/python3.11/site-packages/qiskit/providers/fake_provider/generic_backend_v2.py:506: RuntimeWarning: Aer not found using BasicSimulator and no noise\n",
      "  warnings.warn(\"Aer not found using BasicSimulator and no noise\", RuntimeWarning)\n"
     ]
    },
    {
     "name": "stdout",
     "output_type": "stream",
     "text": [
      "Iters. done: 50 [Current cost: -4.1400146484375]\n",
      "Iters. done: 100 [Current cost: -4.918212890625]\n",
      "Iters. done: 150 [Current cost: -5.2530517578125]\n",
      "Iters. done: 200 [Current cost: -5.6558837890625]\n",
      "Iters. done: 250 [Current cost: -5.89990234375]\n",
      "Iters. done: 300 [Current cost: -6.125244140625]\n",
      "Iters. done: 350 [Current cost: -6.1685791015625]\n",
      "Iters. done: 400 [Current cost: -6.15771484375]\n",
      "Iters. done: 450 [Current cost: -6.2852783203125]\n",
      "Iters. done: 500 [Current cost: -6.2113037109375]\n"
     ]
    }
   ],
   "source": [
    "cost_history_dict = {\n",
    "    \"prev_vector\": None,\n",
    "    \"iters\": 0,\n",
    "    \"cost_history\": [],\n",
    "}\n",
    "res = vqe.compute_minimum_eigenvalue(hamiltonian = qubit_jw_op)"
   ]
  },
  {
   "cell_type": "code",
   "execution_count": 15,
   "metadata": {},
   "outputs": [
    {
     "name": "stdout",
     "output_type": "stream",
     "text": [
      "[-8.4244289]\n"
     ]
    }
   ],
   "source": [
    "import scipy.sparse as sp\n",
    "\n",
    "ham_mat = qubit_jw_op.to_matrix(sparse = True)\n",
    "eig = np.real(sp.linalg.eigs(ham_mat,k=1,return_eigenvectors=False))\n",
    "print(eig)"
   ]
  },
  {
   "cell_type": "code",
   "execution_count": 16,
   "metadata": {},
   "outputs": [
    {
     "name": "stdout",
     "output_type": "stream",
     "text": [
      "-6.316650390625\n"
     ]
    }
   ],
   "source": [
    "print(res.fun)"
   ]
  },
  {
   "cell_type": "code",
   "execution_count": 17,
   "metadata": {},
   "outputs": [
    {
     "data": {
      "image/png": "[encoded data removed]",
      "text/plain": [
       "<Figure size 640x480 with 1 Axes>"
      ]
     },
     "metadata": {},
     "output_type": "display_data"
    }
   ],
   "source": [
    "fig, ax = plt.subplots()\n",
    "ax.plot(range(cost_history_dict[\"iters\"]), cost_history_dict[\"cost_history\"])\n",
    "ax.axhline(y=eig, color=\"tab:red\", ls=\"--\", lw=2, label=\"Target: \" + str(eig))\n",
    "ax.set_xlabel(\"Iterations\")\n",
    "ax.set_ylabel(\"Cost\")\n",
    "plt.draw()"
   ]
  },
  {
   "cell_type": "code",
   "execution_count": 18,
   "metadata": {},
   "outputs": [],
   "source": [
    "from qiskit.circuit.library import SwapGate, ExcitationPreserving\n",
    "from scipy.linalg import expm\n",
    "from qiskit.quantum_info import Operator, Clifford, Pauli, PauliList, SparsePauliOp\n",
    "from qiskit.circuit.library import EvolvedOperatorAnsatz, PauliEvolutionGate, HamiltonianGate,UnitaryGate, XXPlusYYGate\n",
    "\n",
    "#eZZ gate\n",
    "theta = 0.7809\n",
    "Smat = SwapGate().to_matrix()\n",
    "Sop = Operator(SwapGate())\n",
    "#print(Sop)\n",
    "#expS = expm(1j*Smat)\n",
    "#def expSt(t):\n",
    "#    return np.power(expS,t)\n",
    "\n",
    "def eSwap(circ,i,j,param):\n",
    "    eSt = HamiltonianGate(Sop,param,label = \"eSWAP\")\n",
    "    circ.append(eSt,[i,j])\n",
    "\n",
    "\n",
    "def eZZ(circ,i,j,t):\n",
    "    circ.cx(i,j)\n",
    "    circ.rz(t,j)\n",
    "    circ.cx(i,j)\n",
    "\n",
    "def fij(circ,i,j,t):\n",
    "    circ.append(XXPlusYYGate(t),[i,j])\n",
    "    circ.cp(t,i,j)\n",
    "\n",
    "\n",
    "def efSwap(circ,i,j,t):\n",
    "    for k in range(j-1,i,-1):\n",
    "        circ.cz(j,k)\n",
    "    fij(circ,i,j,t)\n",
    "    for k in range(i+1,j,1):\n",
    "        circ.cz(j,k)\n",
    "\n",
    "def hopping(circ,r):\n",
    "    n = circ.num_qubits\n",
    "    t_s = ParameterVector(\"t_h{r}\".format(r=r),length = n)\n",
    "    for i in range(n):\n",
    "        efSwap(circ,i,(i+2)%n,t_s[i])\n",
    "\n",
    "def interaction(circ,r):\n",
    "    n = circ.num_qubits\n",
    "    t_s = ParameterVector(\"t_i{r}\".format(r=r),length = n//2)\n",
    "    for i in range(0,n,2):\n",
    "        eZZ(circ,i,i+1,t_s[i//2])\n",
    "\n",
    "\n",
    "li = [i for i in range(0,n,4)]+[i+1 for i in range(0,n,4)]\n",
    "def start(circ):\n",
    "    n = circ.num_qubits\n",
    "    for i in li:\n",
    "        circ.x(i)\n",
    "        circ.h(i+2)\n",
    "        circ.cx(i,i+2)\n",
    "    circ.barrier()\n",
    "\n",
    "def start2(circ):\n",
    "    n = circ.num_qubits\n",
    "    li = [i for i in range(0,n//2,2)]+[n-1-i for i in range(0,n//2,2)]\n",
    "    circ.x(li)\n",
    "    circ.barrier()\n",
    "\n",
    "def makePauliStr(N,idx,gs):\n",
    "    pauli_str = \"\"\n",
    "    for i in range(N):\n",
    "        if i in idx:\n",
    "            pauli_str+=gs[idx.index(i)]\n",
    "        else:\n",
    "            pauli_str+=\"I\"\n",
    "    return pauli_str\n",
    "\n",
    "def ZZ(N,i,j):\n",
    "    zz_str = makePauliStr(N,(i,j),[\"Z\",\"Z\"])\n",
    "    return SparsePauliOp([zz_str],coeffs = [.5])\n",
    "\n",
    "def dZZ(N,i,j,k,l):\n",
    "    zz_str = makePauliStr(N,(i,j,k,l),[\"Z\",\"Z\",\"Z\",\"Z\"])\n",
    "    return SparsePauliOp([zz_str],coeffs = [.5])\n",
    "\n",
    "def XXplusYY(N,i,j):\n",
    "    xx_str = makePauliStr(N,(i,j),[\"X\",\"X\"])\n",
    "    yy_str = makePauliStr(N,(i,j),[\"Y\",\"Y\"])\n",
    "    return SparsePauliOp([xx_str,yy_str],coeffs = [.25,.25])\n",
    "\n",
    "def dXXplusYY(N,i,j,k,l):\n",
    "    ij = XXplusYY(N,i,j)\n",
    "    kl = XXplusYY(N,k,l)\n",
    "    return ij@kl\n",
    "\n",
    "def hopint(circ,reps = 3):\n",
    "    for r in range(reps):\n",
    "        hopping(circ,r)\n",
    "        interaction(circ,r)\n",
    "        #circ.append(EfficientSU2(num_qubits = circ.num_qubits, parameter_prefix=\"t_e{r}\".format(r=r)),[i for i in range(circ.num_qubits)])\n",
    "    \n",
    "def hopint1(circ,reps = 3):\n",
    "    for r in range(reps):\n",
    "        hopping(circ,r)\n",
    "        interaction(circ,r)"
   ]
  },
  {
   "cell_type": "code",
   "execution_count": 19,
   "metadata": {},
   "outputs": [
    {
     "data": {
      "image/png": "[encoded data removed]",
      "text/plain": [
       "<Figure size 2210.55x1454.83 with 1 Axes>"
      ]
     },
     "execution_count": 19,
     "metadata": {},
     "output_type": "execute_result"
    }
   ],
   "source": [
    "circ = QuantumCircuit(N)\n",
    "hopping(circ,1)\n",
    "circ.draw(output=\"mpl\", style=\"iqp\")"
   ]
  },
  {
   "cell_type": "code",
   "execution_count": 20,
   "metadata": {},
   "outputs": [
    {
     "data": {
      "text/html": [
       "<pre style=\"word-wrap: normal;white-space: pre;background: #fff0;line-height: 1.1;font-family: &quot;Courier New&quot;,Courier,monospace\">     ┌───┐ ░ \n",
       "q_0: ┤ X ├─░─\n",
       "     └───┘ ░ \n",
       "q_1: ──────░─\n",
       "     ┌───┐ ░ \n",
       "q_2: ┤ X ├─░─\n",
       "     └───┘ ░ \n",
       "q_3: ──────░─\n",
       "           ░ \n",
       "q_4: ──────░─\n",
       "     ┌───┐ ░ \n",
       "q_5: ┤ X ├─░─\n",
       "     └───┘ ░ \n",
       "q_6: ──────░─\n",
       "     ┌───┐ ░ \n",
       "q_7: ┤ X ├─░─\n",
       "     └───┘ ░ </pre>"
      ],
      "text/plain": [
       "     ┌───┐ ░ \n",
       "q_0: ┤ X ├─░─\n",
       "     └───┘ ░ \n",
       "q_1: ──────░─\n",
       "     ┌───┐ ░ \n",
       "q_2: ┤ X ├─░─\n",
       "     └───┘ ░ \n",
       "q_3: ──────░─\n",
       "           ░ \n",
       "q_4: ──────░─\n",
       "     ┌───┐ ░ \n",
       "q_5: ┤ X ├─░─\n",
       "     └───┘ ░ \n",
       "q_6: ──────░─\n",
       "     ┌───┐ ░ \n",
       "q_7: ┤ X ├─░─\n",
       "     └───┘ ░ "
      ]
     },
     "execution_count": 20,
     "metadata": {},
     "output_type": "execute_result"
    }
   ],
   "source": [
    "ans_hop = QuantumCircuit(N)\n",
    "start2(ans_hop)\n",
    "ans_hop.draw(style = \"mpl\")"
   ]
  },
  {
   "cell_type": "code",
   "execution_count": 21,
   "metadata": {},
   "outputs": [],
   "source": [
    "hopint(ans_hop,reps = 3)"
   ]
  },
  {
   "cell_type": "code",
   "execution_count": 22,
   "metadata": {},
   "outputs": [
    {
     "data": {
      "text/plain": [
       "<qiskit.circuit.instructionset.InstructionSet at 0x298e771f0>"
      ]
     },
     "execution_count": 22,
     "metadata": {},
     "output_type": "execute_result"
    }
   ],
   "source": [
    "ans_h = QuantumCircuit(N)\n",
    "start2(ans_hop)\n",
    "ans_h.append(ExcitationPreserving(num_qubits=N, mode = \"fsim\", entanglement = t_list,reps = 2),[i for i in range(N)])"
   ]
  },
  {
   "cell_type": "code",
   "execution_count": 23,
   "metadata": {},
   "outputs": [],
   "source": [
    "vqe = VQE(backend,ans_h,cost_func,optimizer='cobyla')"
   ]
  },
  {
   "cell_type": "code",
   "execution_count": 24,
   "metadata": {},
   "outputs": [
    {
     "name": "stdout",
     "output_type": "stream",
     "text": [
      "Running with 56 parameters\n",
      "Running with the following ansatz:\n"
     ]
    },
    {
     "name": "stderr",
     "output_type": "stream",
     "text": [
      "/Users/batuyalcin/anaconda3/envs/QiskitNew/lib/python3.11/site-packages/qiskit/providers/fake_provider/generic_backend_v2.py:506: RuntimeWarning: Aer not found using BasicSimulator and no noise\n",
      "  warnings.warn(\"Aer not found using BasicSimulator and no noise\", RuntimeWarning)\n"
     ]
    },
    {
     "name": "stdout",
     "output_type": "stream",
     "text": [
      "Iters. done: 50 [Current cost: -0.0380859375]\n",
      "Iters. done: 100 [Current cost: 0.0078125]\n",
      "Iters. done: 150 [Current cost: 0.045166015625]\n",
      "Iters. done: 200 [Current cost: -0.010498046875]\n",
      "Iters. done: 250 [Current cost: 0.009033203125]\n",
      "Iters. done: 300 [Current cost: 0.073486328125]\n",
      "Iters. done: 350 [Current cost: 0.027099609375]\n",
      "Iters. done: 400 [Current cost: 0.00537109375]\n"
     ]
    }
   ],
   "source": [
    "cost_history_dict = {\n",
    "    \"prev_vector\": None,\n",
    "    \"iters\": 0,\n",
    "    \"cost_history\": [],\n",
    "}\n",
    "res = vqe.compute_minimum_eigenvalue(hamiltonian = qubit_jw_op,maxiter = 500)"
   ]
  },
  {
   "cell_type": "code",
   "execution_count": 25,
   "metadata": {},
   "outputs": [
    {
     "data": {
      "image/png": "[encoded data removed]",
      "text/plain": [
       "<Figure size 640x480 with 1 Axes>"
      ]
     },
     "metadata": {},
     "output_type": "display_data"
    }
   ],
   "source": [
    "fig, ax = plt.subplots()\n",
    "ax.plot(range(cost_history_dict[\"iters\"]), cost_history_dict[\"cost_history\"])\n",
    "ax.axhline(y=eig, color=\"tab:red\", ls=\"--\", lw=2, label=\"Target: \" + str(eig))\n",
    "ax.set_xlabel(\"Iterations\")\n",
    "ax.set_ylabel(\"Cost\")\n",
    "plt.draw()"
   ]
  },
  {
   "cell_type": "code",
   "execution_count": 27,
   "metadata": {},
   "outputs": [],
   "source": []
  },
  {
   "cell_type": "code",
   "execution_count": 26,
   "metadata": {},
   "outputs": [],
   "source": [
    "def commutator(op1, op2):\n",
    "    return op1 @ op2 - op2 @ op1\n",
    "    \n",
    "class AdaptVQE:\n",
    "\n",
    "    def __init__(self,backend,ansatz:EvolvedOperatorAnsatz = None, cost_f=None, optimizer = \"cobyla\",estimator = None,shots = 1024,eps = 1e-5):\n",
    "        if not isinstance(ansatz,EvolvedOperatorAnsatz):\n",
    "            raise Exception(\"Ansatz is not of type EvolvedOperatorAnsatz\")\n",
    "        self.operator_pool = ansatz.operators\n",
    "        #initial_circuit = ansatz.initial_state\n",
    "        self.eps = eps\n",
    "        self._tmp_ansatz = None\n",
    "        self.op_indices = []\n",
    "        self.op_list = []\n",
    "        self.solver = VQE(backend=backend,ansatz=ansatz,cost_f=cost_f,optimizer=optimizer,estimator=estimator,shots = shots)\n",
    "        \n",
    "    def compute_gradient(self,params,ham,op):\n",
    "        comm = 1j*commutator(ham,op)\n",
    "        #print(\"Commutator is\",comm)\n",
    "        pub = (self.solver.pm_ansatz, [comm], [params])\n",
    "        #print(\"Ansatz is\", self.solver.pm_ansatz)\n",
    "        result = self.solver.estimator.run(pubs=[pub]).result()\n",
    "        grad = result[0].data.evs[0]\n",
    "        return grad\n",
    "    \n",
    "    def select_op(self,params,ham):\n",
    "        max_grad_op = None\n",
    "        max_grad = 0\n",
    "        max_grad_ind = 0\n",
    "        for i,op in enumerate(self.operator_pool):\n",
    "            grad = self.compute_gradient(params,ham,op)\n",
    "            #print(\"Gradient\",i,\"is\", grad)\n",
    "            grad = np.abs(grad)\n",
    "            #print(\"With absolute value\",grad)\n",
    "            if grad > max_grad:\n",
    "                max_grad = grad\n",
    "                max_grad_ind = i\n",
    "                max_grad_op = op\n",
    "        if max_grad<self.eps:\n",
    "            return \"AdaptVQE Converged\"\n",
    "        return max_grad_ind,max_grad_op\n",
    "    \n",
    "    def compute_adapt_eigenvalue(self,ham,aux_operators = []):\n",
    "        cost_history_dict = {\n",
    "        \"prev_vector\": None,\n",
    "        \"iters\": 0,\n",
    "        \"cost_history\": [],\n",
    "        }\n",
    "        CONVERGED = False\n",
    "        print(type(self.solver.ansatz))\n",
    "        self._tmp_ansatz = self.solver.ansatz\n",
    "        self.operator_pool = self._tmp_ansatz.operators\n",
    "        self.solver.ansatz = self._tmp_ansatz.initial_state\n",
    "        self.solver.pass_manage_ansatz()\n",
    "        params = [] + [0.0]*self.solver.num_params\n",
    "        history = []\n",
    "        i=0\n",
    "        res = None\n",
    "        while not CONVERGED:\n",
    "            print(\"Iteration\",i)\n",
    "            ind,op = self.select_op(params,ham)\n",
    "            if isinstance(op,str):\n",
    "                print(op)\n",
    "                return res\n",
    "            self.op_list.append(op)\n",
    "            self.op_indices.append(ind)\n",
    "            self._tmp_ansatz.operators = self.op_list\n",
    "            self.solver.ansatz = self._tmp_ansatz\n",
    "            params.append(0.0)\n",
    "            self.solver.x0 = params\n",
    "            self.solver.pass_manage_ansatz()\n",
    "            res = self.solver.compute_minimum_eigenvalue(ham)\n",
    "            params = list(res.x)\n",
    "            history.append(res.fun)\n",
    "            print(\"Operator indices\",self.op_indices)\n",
    "            print(\"Eigenvalue:\",res.fun)\n",
    "            i+=1\n",
    "        return res\n"
   ]
  },
  {
   "cell_type": "code",
   "execution_count": 27,
   "metadata": {},
   "outputs": [
    {
     "name": "stdout",
     "output_type": "stream",
     "text": [
      "SparsePauliOp(['IZIZI'],\n",
      "              coeffs=[0.5+0.j])\n",
      "SparsePauliOp(['IXXXX', 'IXYXY', 'IYXYX', 'IYYYY'],\n",
      "              coeffs=[0.0625+0.j, 0.0625+0.j, 0.0625+0.j, 0.0625+0.j])\n"
     ]
    }
   ],
   "source": [
    "from qiskit.quantum_info import Pauli, PauliList, SparsePauliOp\n",
    "\n",
    "def makePauliStr(N,idx,gs):\n",
    "    pauli_str = \"\"\n",
    "    for i in range(N):\n",
    "        if i in idx:\n",
    "            pauli_str+=gs[idx.index(i)]\n",
    "        else:\n",
    "            pauli_str+=\"I\"\n",
    "    return pauli_str\n",
    "\n",
    "def ZZ(N,i,j):\n",
    "    zz_str = makePauliStr(N,(i,j),[\"Z\",\"Z\"])\n",
    "    return SparsePauliOp([zz_str],coeffs = [.5])\n",
    "\n",
    "def dZZ(N,i,j,k,l):\n",
    "    zz_str = makePauliStr(N,(i,j,k,l),[\"Z\",\"Z\",\"Z\",\"Z\"])\n",
    "    return SparsePauliOp([zz_str],coeffs = [.5])\n",
    "\n",
    "def XXplusYY(N,i,j):\n",
    "    xx_str = makePauliStr(N,(i,j),[\"X\",\"X\"])\n",
    "    yy_str = makePauliStr(N,(i,j),[\"Y\",\"Y\"])\n",
    "    return SparsePauliOp([xx_str,yy_str],coeffs = [.25,.25])\n",
    "\n",
    "def dXXplusYY(N,i,j,k,l):\n",
    "    ij = XXplusYY(N,i,j)\n",
    "    kl = XXplusYY(N,k,l)\n",
    "    return ij@kl\n",
    "\n",
    "print(ZZ(5,1,3))\n",
    "print(dXXplusYY(5,1,3,2,4))\n"
   ]
  },
  {
   "cell_type": "code",
   "execution_count": 28,
   "metadata": {},
   "outputs": [
    {
     "name": "stdout",
     "output_type": "stream",
     "text": [
      "[SparsePauliOp(['XXIIIIIIIIII', 'YYIIIIIIIIII'],\n",
      "              coeffs=[0.25+0.j, 0.25+0.j]), SparsePauliOp(['IIXXIIIIIIII', 'IIYYIIIIIIII'],\n",
      "              coeffs=[0.25+0.j, 0.25+0.j]), SparsePauliOp(['IIIIXXIIIIII', 'IIIIYYIIIIII'],\n",
      "              coeffs=[0.25+0.j, 0.25+0.j]), SparsePauliOp(['IIIIIIXXIIII', 'IIIIIIYYIIII'],\n",
      "              coeffs=[0.25+0.j, 0.25+0.j]), SparsePauliOp(['IIIIIIIIXXII', 'IIIIIIIIYYII'],\n",
      "              coeffs=[0.25+0.j, 0.25+0.j]), SparsePauliOp(['IIIIIIIIIIXX', 'IIIIIIIIIIYY'],\n",
      "              coeffs=[0.25+0.j, 0.25+0.j]), SparsePauliOp(['ZIZIIIIIIIII'],\n",
      "              coeffs=[0.5+0.j]), SparsePauliOp(['IZIZIIIIIIII'],\n",
      "              coeffs=[0.5+0.j]), SparsePauliOp(['IIZIZIIIIIII'],\n",
      "              coeffs=[0.5+0.j]), SparsePauliOp(['IIIZIZIIIIII'],\n",
      "              coeffs=[0.5+0.j]), SparsePauliOp(['IIIIZIZIIIII'],\n",
      "              coeffs=[0.5+0.j]), SparsePauliOp(['IIIIIZIZIIII'],\n",
      "              coeffs=[0.5+0.j]), SparsePauliOp(['IIIIIIZIZIII'],\n",
      "              coeffs=[0.5+0.j]), SparsePauliOp(['IIIIIIIZIZII'],\n",
      "              coeffs=[0.5+0.j]), SparsePauliOp(['IIIIIIIIZIZI'],\n",
      "              coeffs=[0.5+0.j]), SparsePauliOp(['IIIIIIIIIZIZ'],\n",
      "              coeffs=[0.5+0.j]), SparsePauliOp(['ZIIIIIIIIIZI'],\n",
      "              coeffs=[0.5+0.j]), SparsePauliOp(['IZIIIIIIIIIZ'],\n",
      "              coeffs=[0.5+0.j]), SparsePauliOp(['XXXXIIIIIIII', 'YYXXIIIIIIII', 'XXYYIIIIIIII', 'YYYYIIIIIIII'],\n",
      "              coeffs=[0.0625+0.j, 0.0625+0.j, 0.0625+0.j, 0.0625+0.j]), SparsePauliOp(['XXIIXXIIIIII', 'YYIIXXIIIIII', 'XXIIYYIIIIII', 'YYIIYYIIIIII'],\n",
      "              coeffs=[0.0625+0.j, 0.0625+0.j, 0.0625+0.j, 0.0625+0.j]), SparsePauliOp(['IIXXXXIIIIII', 'IIYYXXIIIIII', 'IIXXYYIIIIII', 'IIYYYYIIIIII'],\n",
      "              coeffs=[0.0625+0.j, 0.0625+0.j, 0.0625+0.j, 0.0625+0.j]), SparsePauliOp(['XXIIIIXXIIII', 'YYIIIIXXIIII', 'XXIIIIYYIIII', 'YYIIIIYYIIII'],\n",
      "              coeffs=[0.0625+0.j, 0.0625+0.j, 0.0625+0.j, 0.0625+0.j]), SparsePauliOp(['IIXXIIXXIIII', 'IIYYIIXXIIII', 'IIXXIIYYIIII', 'IIYYIIYYIIII'],\n",
      "              coeffs=[0.0625+0.j, 0.0625+0.j, 0.0625+0.j, 0.0625+0.j]), SparsePauliOp(['IIIIXXXXIIII', 'IIIIYYXXIIII', 'IIIIXXYYIIII', 'IIIIYYYYIIII'],\n",
      "              coeffs=[0.0625+0.j, 0.0625+0.j, 0.0625+0.j, 0.0625+0.j]), SparsePauliOp(['XXIIIIIIXXII', 'YYIIIIIIXXII', 'XXIIIIIIYYII', 'YYIIIIIIYYII'],\n",
      "              coeffs=[0.0625+0.j, 0.0625+0.j, 0.0625+0.j, 0.0625+0.j]), SparsePauliOp(['IIXXIIIIXXII', 'IIYYIIIIXXII', 'IIXXIIIIYYII', 'IIYYIIIIYYII'],\n",
      "              coeffs=[0.0625+0.j, 0.0625+0.j, 0.0625+0.j, 0.0625+0.j]), SparsePauliOp(['IIIIXXIIXXII', 'IIIIYYIIXXII', 'IIIIXXIIYYII', 'IIIIYYIIYYII'],\n",
      "              coeffs=[0.0625+0.j, 0.0625+0.j, 0.0625+0.j, 0.0625+0.j]), SparsePauliOp(['IIIIIIXXXXII', 'IIIIIIYYXXII', 'IIIIIIXXYYII', 'IIIIIIYYYYII'],\n",
      "              coeffs=[0.0625+0.j, 0.0625+0.j, 0.0625+0.j, 0.0625+0.j]), SparsePauliOp(['XXIIIIIIIIXX', 'YYIIIIIIIIXX', 'XXIIIIIIIIYY', 'YYIIIIIIIIYY'],\n",
      "              coeffs=[0.0625+0.j, 0.0625+0.j, 0.0625+0.j, 0.0625+0.j]), SparsePauliOp(['IIXXIIIIIIXX', 'IIYYIIIIIIXX', 'IIXXIIIIIIYY', 'IIYYIIIIIIYY'],\n",
      "              coeffs=[0.0625+0.j, 0.0625+0.j, 0.0625+0.j, 0.0625+0.j]), SparsePauliOp(['IIIIXXIIIIXX', 'IIIIYYIIIIXX', 'IIIIXXIIIIYY', 'IIIIYYIIIIYY'],\n",
      "              coeffs=[0.0625+0.j, 0.0625+0.j, 0.0625+0.j, 0.0625+0.j]), SparsePauliOp(['IIIIIIXXIIXX', 'IIIIIIYYIIXX', 'IIIIIIXXIIYY', 'IIIIIIYYIIYY'],\n",
      "              coeffs=[0.0625+0.j, 0.0625+0.j, 0.0625+0.j, 0.0625+0.j]), SparsePauliOp(['IIIIIIIIXXXX', 'IIIIIIIIYYXX', 'IIIIIIIIXXYY', 'IIIIIIIIYYYY'],\n",
      "              coeffs=[0.0625+0.j, 0.0625+0.j, 0.0625+0.j, 0.0625+0.j]), SparsePauliOp(['ZZZZIIIIIIII'],\n",
      "              coeffs=[0.5+0.j]), SparsePauliOp(['ZIZIZIIIIIII'],\n",
      "              coeffs=[0.5+0.j]), SparsePauliOp(['IZZZZIIIIIII'],\n",
      "              coeffs=[0.5+0.j]), SparsePauliOp(['ZIZZIZIIIIII'],\n",
      "              coeffs=[0.5+0.j]), SparsePauliOp(['IZIZIZIIIIII'],\n",
      "              coeffs=[0.5+0.j]), SparsePauliOp(['IIZZZZIIIIII'],\n",
      "              coeffs=[0.5+0.j]), SparsePauliOp(['ZIZIZIZIIIII'],\n",
      "              coeffs=[0.5+0.j]), SparsePauliOp(['IZIZZIZIIIII'],\n",
      "              coeffs=[0.5+0.j]), SparsePauliOp(['IIZIZIZIIIII'],\n",
      "              coeffs=[0.5+0.j]), SparsePauliOp(['IIIZZZZIIIII'],\n",
      "              coeffs=[0.5+0.j]), SparsePauliOp(['ZIZIIZIZIIII'],\n",
      "              coeffs=[0.5+0.j]), SparsePauliOp(['IZIZIZIZIIII'],\n",
      "              coeffs=[0.5+0.j]), SparsePauliOp(['IIZIZZIZIIII'],\n",
      "              coeffs=[0.5+0.j]), SparsePauliOp(['IIIZIZIZIIII'],\n",
      "              coeffs=[0.5+0.j]), SparsePauliOp(['IIIIZZZZIIII'],\n",
      "              coeffs=[0.5+0.j]), SparsePauliOp(['ZIZIIIZIZIII'],\n",
      "              coeffs=[0.5+0.j]), SparsePauliOp(['IZIZIIZIZIII'],\n",
      "              coeffs=[0.5+0.j]), SparsePauliOp(['IIZIZIZIZIII'],\n",
      "              coeffs=[0.5+0.j]), SparsePauliOp(['IIIZIZZIZIII'],\n",
      "              coeffs=[0.5+0.j]), SparsePauliOp(['IIIIZIZIZIII'],\n",
      "              coeffs=[0.5+0.j]), SparsePauliOp(['IIIIIZZZZIII'],\n",
      "              coeffs=[0.5+0.j]), SparsePauliOp(['ZIZIIIIZIZII'],\n",
      "              coeffs=[0.5+0.j]), SparsePauliOp(['IZIZIIIZIZII'],\n",
      "              coeffs=[0.5+0.j]), SparsePauliOp(['IIZIZIIZIZII'],\n",
      "              coeffs=[0.5+0.j]), SparsePauliOp(['IIIZIZIZIZII'],\n",
      "              coeffs=[0.5+0.j]), SparsePauliOp(['IIIIZIZZIZII'],\n",
      "              coeffs=[0.5+0.j]), SparsePauliOp(['IIIIIZIZIZII'],\n",
      "              coeffs=[0.5+0.j]), SparsePauliOp(['IIIIIIZZZZII'],\n",
      "              coeffs=[0.5+0.j]), SparsePauliOp(['ZIZIIIIIZIZI'],\n",
      "              coeffs=[0.5+0.j]), SparsePauliOp(['IZIZIIIIZIZI'],\n",
      "              coeffs=[0.5+0.j]), SparsePauliOp(['IIZIZIIIZIZI'],\n",
      "              coeffs=[0.5+0.j]), SparsePauliOp(['IIIZIZIIZIZI'],\n",
      "              coeffs=[0.5+0.j]), SparsePauliOp(['IIIIZIZIZIZI'],\n",
      "              coeffs=[0.5+0.j]), SparsePauliOp(['IIIIIZIZZIZI'],\n",
      "              coeffs=[0.5+0.j]), SparsePauliOp(['IIIIIIZIZIZI'],\n",
      "              coeffs=[0.5+0.j]), SparsePauliOp(['IIIIIIIZZZZI'],\n",
      "              coeffs=[0.5+0.j]), SparsePauliOp(['ZIZIIIIIIZIZ'],\n",
      "              coeffs=[0.5+0.j]), SparsePauliOp(['IZIZIIIIIZIZ'],\n",
      "              coeffs=[0.5+0.j]), SparsePauliOp(['IIZIZIIIIZIZ'],\n",
      "              coeffs=[0.5+0.j]), SparsePauliOp(['IIIZIZIIIZIZ'],\n",
      "              coeffs=[0.5+0.j]), SparsePauliOp(['IIIIZIZIIZIZ'],\n",
      "              coeffs=[0.5+0.j]), SparsePauliOp(['IIIIIZIZIZIZ'],\n",
      "              coeffs=[0.5+0.j]), SparsePauliOp(['IIIIIIZIZZIZ'],\n",
      "              coeffs=[0.5+0.j]), SparsePauliOp(['IIIIIIIZIZIZ'],\n",
      "              coeffs=[0.5+0.j]), SparsePauliOp(['IIIIIIIIZZZZ'],\n",
      "              coeffs=[0.5+0.j]), SparsePauliOp(['ZIZIIIIIIIZI'],\n",
      "              coeffs=[0.5+0.j]), SparsePauliOp(['ZZIZIIIIIIZI'],\n",
      "              coeffs=[0.5+0.j]), SparsePauliOp(['ZIZIZIIIIIZI'],\n",
      "              coeffs=[0.5+0.j]), SparsePauliOp(['ZIIZIZIIIIZI'],\n",
      "              coeffs=[0.5+0.j]), SparsePauliOp(['ZIIIZIZIIIZI'],\n",
      "              coeffs=[0.5+0.j]), SparsePauliOp(['ZIIIIZIZIIZI'],\n",
      "              coeffs=[0.5+0.j]), SparsePauliOp(['ZIIIIIZIZIZI'],\n",
      "              coeffs=[0.5+0.j]), SparsePauliOp(['ZIIIIIIZIZZI'],\n",
      "              coeffs=[0.5+0.j]), SparsePauliOp(['ZIIIIIIIZIZI'],\n",
      "              coeffs=[0.5+0.j]), SparsePauliOp(['ZIIIIIIIIZZZ'],\n",
      "              coeffs=[0.5+0.j]), SparsePauliOp(['ZZZIIIIIIIIZ'],\n",
      "              coeffs=[0.5+0.j]), SparsePauliOp(['IZIZIIIIIIIZ'],\n",
      "              coeffs=[0.5+0.j]), SparsePauliOp(['IZZIZIIIIIIZ'],\n",
      "              coeffs=[0.5+0.j]), SparsePauliOp(['IZIZIZIIIIIZ'],\n",
      "              coeffs=[0.5+0.j]), SparsePauliOp(['IZIIZIZIIIIZ'],\n",
      "              coeffs=[0.5+0.j]), SparsePauliOp(['IZIIIZIZIIIZ'],\n",
      "              coeffs=[0.5+0.j]), SparsePauliOp(['IZIIIIZIZIIZ'],\n",
      "              coeffs=[0.5+0.j]), SparsePauliOp(['IZIIIIIZIZIZ'],\n",
      "              coeffs=[0.5+0.j]), SparsePauliOp(['IZIIIIIIZIZZ'],\n",
      "              coeffs=[0.5+0.j]), SparsePauliOp(['IZIIIIIIIZIZ'],\n",
      "              coeffs=[0.5+0.j]), SparsePauliOp(['ZZIIIIIIIIZZ'],\n",
      "              coeffs=[0.5+0.j])]\n"
     ]
    }
   ],
   "source": [
    "def poolXXYY(N,ts):\n",
    "    pool = []\n",
    "    for i,edge in enumerate(ts):\n",
    "        p = XXplusYY(N,edge[0],edge[1])\n",
    "        #print(isinstance(p,Operator))\n",
    "        pool.append(p)\n",
    "    return pool\n",
    "\n",
    "def pooldXXYY(N,ts):\n",
    "    pool = []\n",
    "    for i,edge in enumerate(ts):\n",
    "        for j in range(i):\n",
    "            p = dXXplusYY(N,edge[0],edge[1],ts[j][0],ts[j][1])\n",
    "            #print(isinstance(p,Operator))\n",
    "            pool.append(p)\n",
    "    return pool\n",
    "\n",
    "def poolZZ(N,Us):\n",
    "    pool = []\n",
    "    for edge in Us:\n",
    "        p = ZZ(N,edge[0],edge[1])\n",
    "        pool.append(p)\n",
    "    return pool\n",
    "\n",
    "def pooldZZ(N,Us):\n",
    "    pool = []\n",
    "    for i,edge in enumerate(Us):\n",
    "        for j in range(i):\n",
    "            p = dZZ(N,edge[0],edge[1],Us[j][0],Us[j][1])\n",
    "            #print(isinstance(p,Operator))\n",
    "            pool.append(p)\n",
    "    return pool\n",
    "\n",
    "def totalPool(N,Us,ts):\n",
    "    ZZ = poolZZ(N,Us)\n",
    "    dZZ = pooldZZ(N,Us)\n",
    "    XXYY = poolXXYY(N,ts)\n",
    "    dXXYY = pooldXXYY(N,ts)\n",
    "    return XXYY + ZZ + dXXYY + dZZ\n",
    "\n",
    "pool = totalPool(N,t_list,U_list)\n",
    "print(pool)"
   ]
  },
  {
   "cell_type": "code",
   "execution_count": 29,
   "metadata": {},
   "outputs": [
    {
     "name": "stdout",
     "output_type": "stream",
     "text": [
      "[0, 2, 4, 11, 9, 7]\n",
      "      ┌───────────┐ ░ \n",
      " q_0: ┤ U3(π,0,π) ├─░─\n",
      "      └───────────┘ ░ \n",
      " q_1: ──────────────░─\n",
      "      ┌───────────┐ ░ \n",
      " q_2: ┤ U3(π,0,π) ├─░─\n",
      "      └───────────┘ ░ \n",
      " q_3: ──────────────░─\n",
      "      ┌───────────┐ ░ \n",
      " q_4: ┤ U3(π,0,π) ├─░─\n",
      "      └───────────┘ ░ \n",
      " q_5: ──────────────░─\n",
      "                    ░ \n",
      " q_6: ──────────────░─\n",
      "      ┌───────────┐ ░ \n",
      " q_7: ┤ U3(π,0,π) ├─░─\n",
      "      └───────────┘ ░ \n",
      " q_8: ──────────────░─\n",
      "      ┌───────────┐ ░ \n",
      " q_9: ┤ U3(π,0,π) ├─░─\n",
      "      └───────────┘ ░ \n",
      "q_10: ──────────────░─\n",
      "      ┌───────────┐ ░ \n",
      "q_11: ┤ U3(π,0,π) ├─░─\n",
      "      └───────────┘ ░ \n",
      "[0, 2, 4, 11, 9, 7]\n",
      "      ┌───┐ ░ \n",
      " q_0: ┤ X ├─░─\n",
      "      └───┘ ░ \n",
      " q_1: ──────░─\n",
      "      ┌───┐ ░ \n",
      " q_2: ┤ X ├─░─\n",
      "      └───┘ ░ \n",
      " q_3: ──────░─\n",
      "      ┌───┐ ░ \n",
      " q_4: ┤ X ├─░─\n",
      "      └───┘ ░ \n",
      " q_5: ──────░─\n",
      "            ░ \n",
      " q_6: ──────░─\n",
      "      ┌───┐ ░ \n",
      " q_7: ┤ X ├─░─\n",
      "      └───┘ ░ \n",
      " q_8: ──────░─\n",
      "      ┌───┐ ░ \n",
      " q_9: ┤ X ├─░─\n",
      "      └───┘ ░ \n",
      "q_10: ──────░─\n",
      "      ┌───┐ ░ \n",
      "q_11: ┤ X ├─░─\n",
      "      └───┘ ░ \n"
     ]
    }
   ],
   "source": [
    "def s_circ(N):\n",
    "    qc = QuantumCircuit(N)\n",
    "    li = [i for i in range(0,N//2,2)]+[N-1-i for i in range(0,N//2,2)]\n",
    "    print(li)\n",
    "    qc.x(li)\n",
    "    qc.barrier()\n",
    "    return qc\n",
    "\n",
    "\n",
    "\n",
    "def s_circ2(N):\n",
    "    circ = QuantumCircuit(N)\n",
    "    li = [i for i in range(0,N,4)]+[i+1 for i in range(0,N,4)]\n",
    "    for i in li:\n",
    "        circ.x(i)\n",
    "        circ.x(i+2)\n",
    "        circ.h(i+2)\n",
    "        circ.cx(i,i+2)\n",
    "    circ.barrier()\n",
    "    return circ\n",
    "\n",
    "ans = EvolvedOperatorAnsatz(pool,initial_state=s_circ(N),parameter_prefix=\"b\")\n",
    "ans1 = EvolvedOperatorAnsatz(pool,initial_state=ans)\n",
    "print(ans.initial_state.decompose())\n",
    "print(s_circ(N))\n"
   ]
  },
  {
   "cell_type": "code",
   "execution_count": 30,
   "metadata": {},
   "outputs": [],
   "source": [
    "adapt_vqe = AdaptVQE(backend,ans,cost_func,optimizer='cobyla')"
   ]
  },
  {
   "cell_type": "code",
   "execution_count": 31,
   "metadata": {},
   "outputs": [
    {
     "name": "stdout",
     "output_type": "stream",
     "text": [
      "<class 'qiskit.circuit.library.n_local.evolved_operator_ansatz.EvolvedOperatorAnsatz'>\n",
      "Iteration 0\n",
      "Running with 1 parameters\n",
      "Running with the following ansatz:\n",
      "Operator indices [64]\n",
      "Eigenvalue: -8.998046875\n",
      "Iteration 1\n",
      "Running with 2 parameters\n",
      "Running with the following ansatz:\n",
      "Operator indices [64, 90]\n",
      "Eigenvalue: -8.96142578125\n",
      "Iteration 2\n",
      "Running with 3 parameters\n",
      "Running with the following ansatz:\n",
      "Iters. done: 50 [Current cost: -8.9580078125]\n",
      "Operator indices [64, 90, 35]\n",
      "Eigenvalue: -9.01953125\n",
      "Iteration 3\n",
      "Running with 4 parameters\n",
      "Running with the following ansatz:\n",
      "Iters. done: 100 [Current cost: -8.917236328125]\n",
      "Operator indices [64, 90, 35, 51]\n",
      "Eigenvalue: -9.050048828125\n",
      "Iteration 4\n",
      "Running with 5 parameters\n",
      "Running with the following ansatz:\n",
      "Iters. done: 150 [Current cost: -9.002197265625]\n",
      "Operator indices [64, 90, 35, 51, 53]\n",
      "Eigenvalue: -9.060791015625\n",
      "Iteration 5\n",
      "Running with 6 parameters\n",
      "Running with the following ansatz:\n",
      "Iters. done: 200 [Current cost: -9.033935546875]\n",
      "Operator indices [64, 90, 35, 51, 53, 88]\n",
      "Eigenvalue: -8.994384765625\n",
      "Iteration 6\n",
      "Running with 7 parameters\n",
      "Running with the following ansatz:\n",
      "Iters. done: 250 [Current cost: -8.935791015625]\n",
      "Operator indices [64, 90, 35, 51, 53, 88, 42]\n",
      "Eigenvalue: -9.007568359375\n",
      "Iteration 7\n",
      "Running with 8 parameters\n",
      "Running with the following ansatz:\n",
      "Iters. done: 300 [Current cost: -9.016845703125]\n",
      "Iters. done: 350 [Current cost: -9.035888671875]\n",
      "Operator indices [64, 90, 35, 51, 53, 88, 42, 64]\n",
      "Eigenvalue: -8.975830078125\n",
      "Iteration 8\n",
      "Running with 9 parameters\n",
      "Running with the following ansatz:\n",
      "Iters. done: 400 [Current cost: -8.949462890625]\n",
      "Iters. done: 450 [Current cost: -9.01708984375]\n",
      "Operator indices [64, 90, 35, 51, 53, 88, 42, 64, 75]\n",
      "Eigenvalue: -9.01708984375\n",
      "Iteration 9\n",
      "Running with 10 parameters\n",
      "Running with the following ansatz:\n",
      "Iters. done: 500 [Current cost: -8.953369140625]\n",
      "Iters. done: 550 [Current cost: -8.9482421875]\n",
      "Operator indices [64, 90, 35, 51, 53, 88, 42, 64, 75, 96]\n",
      "Eigenvalue: -8.9482421875\n",
      "Iteration 10\n",
      "Running with 11 parameters\n",
      "Running with the following ansatz:\n",
      "Iters. done: 600 [Current cost: -8.982666015625]\n",
      "Operator indices [64, 90, 35, 51, 53, 88, 42, 64, 75, 96, 56]\n",
      "Eigenvalue: -9.01611328125\n",
      "Iteration 11\n",
      "Running with 12 parameters\n",
      "Running with the following ansatz:\n",
      "Iters. done: 650 [Current cost: -8.998046875]\n",
      "Iters. done: 700 [Current cost: -8.89404296875]\n",
      "Operator indices [64, 90, 35, 51, 53, 88, 42, 64, 75, 96, 56, 96]\n",
      "Eigenvalue: -9.042236328125\n",
      "Iteration 12\n",
      "Running with 13 parameters\n",
      "Running with the following ansatz:\n",
      "Iters. done: 750 [Current cost: -9.025390625]\n",
      "Iters. done: 800 [Current cost: -9.046875]\n",
      "Iters. done: 850 [Current cost: -8.983642578125]\n",
      "Operator indices [64, 90, 35, 51, 53, 88, 42, 64, 75, 96, 56, 96, 71]\n",
      "Eigenvalue: -9.072265625\n",
      "Iteration 13\n",
      "Running with 14 parameters\n",
      "Running with the following ansatz:\n",
      "Iters. done: 900 [Current cost: -8.946044921875]\n",
      "Iters. done: 950 [Current cost: -9.019287109375]\n",
      "Operator indices [64, 90, 35, 51, 53, 88, 42, 64, 75, 96, 56, 96, 71, 94]\n",
      "Eigenvalue: -9.004150390625\n",
      "Iteration 14\n",
      "Running with 15 parameters\n",
      "Running with the following ansatz:\n",
      "Iters. done: 1000 [Current cost: -8.97705078125]\n",
      "Iters. done: 1050 [Current cost: -8.967529296875]\n",
      "Iters. done: 1100 [Current cost: -8.98291015625]\n",
      "Operator indices [64, 90, 35, 51, 53, 88, 42, 64, 75, 96, 56, 96, 71, 94, 49]\n",
      "Eigenvalue: -8.953125\n",
      "Iteration 15\n"
     ]
    },
    {
     "ename": "KeyboardInterrupt",
     "evalue": "",
     "output_type": "error",
     "traceback": [
      "\u001b[0;31m---------------------------------------------------------------------------\u001b[0m",
      "\u001b[0;31mKeyboardInterrupt\u001b[0m                         Traceback (most recent call last)",
      "\u001b[1;32m/Users/batuyalcin/qagc2024/app/src/vqe_scratch.ipynb Cell 30\u001b[0m line \u001b[0;36m6\n\u001b[1;32m      <a href='vscode-notebook-cell:/Users/batuyalcin/qagc2024/app/src/vqe_scratch.ipynb#X36sZmlsZQ%3D%3D?line=0'>1</a>\u001b[0m cost_history_dict \u001b[39m=\u001b[39m {\n\u001b[1;32m      <a href='vscode-notebook-cell:/Users/batuyalcin/qagc2024/app/src/vqe_scratch.ipynb#X36sZmlsZQ%3D%3D?line=1'>2</a>\u001b[0m     \u001b[39m\"\u001b[39m\u001b[39mprev_vector\u001b[39m\u001b[39m\"\u001b[39m: \u001b[39mNone\u001b[39;00m,\n\u001b[1;32m      <a href='vscode-notebook-cell:/Users/batuyalcin/qagc2024/app/src/vqe_scratch.ipynb#X36sZmlsZQ%3D%3D?line=2'>3</a>\u001b[0m     \u001b[39m\"\u001b[39m\u001b[39miters\u001b[39m\u001b[39m\"\u001b[39m: \u001b[39m0\u001b[39m,\n\u001b[1;32m      <a href='vscode-notebook-cell:/Users/batuyalcin/qagc2024/app/src/vqe_scratch.ipynb#X36sZmlsZQ%3D%3D?line=3'>4</a>\u001b[0m     \u001b[39m\"\u001b[39m\u001b[39mcost_history\u001b[39m\u001b[39m\"\u001b[39m: [],\n\u001b[1;32m      <a href='vscode-notebook-cell:/Users/batuyalcin/qagc2024/app/src/vqe_scratch.ipynb#X36sZmlsZQ%3D%3D?line=4'>5</a>\u001b[0m }\n\u001b[0;32m----> <a href='vscode-notebook-cell:/Users/batuyalcin/qagc2024/app/src/vqe_scratch.ipynb#X36sZmlsZQ%3D%3D?line=5'>6</a>\u001b[0m res \u001b[39m=\u001b[39m adapt_vqe\u001b[39m.\u001b[39;49mcompute_adapt_eigenvalue(ham \u001b[39m=\u001b[39;49m qubit_jw_op)\n",
      "\u001b[1;32m/Users/batuyalcin/qagc2024/app/src/vqe_scratch.ipynb Cell 30\u001b[0m line \u001b[0;36m6\n\u001b[1;32m     <a href='vscode-notebook-cell:/Users/batuyalcin/qagc2024/app/src/vqe_scratch.ipynb#X36sZmlsZQ%3D%3D?line=58'>59</a>\u001b[0m \u001b[39mwhile\u001b[39;00m \u001b[39mnot\u001b[39;00m CONVERGED:\n\u001b[1;32m     <a href='vscode-notebook-cell:/Users/batuyalcin/qagc2024/app/src/vqe_scratch.ipynb#X36sZmlsZQ%3D%3D?line=59'>60</a>\u001b[0m     \u001b[39mprint\u001b[39m(\u001b[39m\"\u001b[39m\u001b[39mIteration\u001b[39m\u001b[39m\"\u001b[39m,i)\n\u001b[0;32m---> <a href='vscode-notebook-cell:/Users/batuyalcin/qagc2024/app/src/vqe_scratch.ipynb#X36sZmlsZQ%3D%3D?line=60'>61</a>\u001b[0m     ind,op \u001b[39m=\u001b[39m \u001b[39mself\u001b[39;49m\u001b[39m.\u001b[39;49mselect_op(params,ham)\n\u001b[1;32m     <a href='vscode-notebook-cell:/Users/batuyalcin/qagc2024/app/src/vqe_scratch.ipynb#X36sZmlsZQ%3D%3D?line=61'>62</a>\u001b[0m     \u001b[39mif\u001b[39;00m \u001b[39misinstance\u001b[39m(op,\u001b[39mstr\u001b[39m):\n\u001b[1;32m     <a href='vscode-notebook-cell:/Users/batuyalcin/qagc2024/app/src/vqe_scratch.ipynb#X36sZmlsZQ%3D%3D?line=62'>63</a>\u001b[0m         \u001b[39mprint\u001b[39m(op)\n",
      "\u001b[1;32m/Users/batuyalcin/qagc2024/app/src/vqe_scratch.ipynb Cell 30\u001b[0m line \u001b[0;36m3\n\u001b[1;32m     <a href='vscode-notebook-cell:/Users/batuyalcin/qagc2024/app/src/vqe_scratch.ipynb#X36sZmlsZQ%3D%3D?line=28'>29</a>\u001b[0m max_grad_ind \u001b[39m=\u001b[39m \u001b[39m0\u001b[39m\n\u001b[1;32m     <a href='vscode-notebook-cell:/Users/batuyalcin/qagc2024/app/src/vqe_scratch.ipynb#X36sZmlsZQ%3D%3D?line=29'>30</a>\u001b[0m \u001b[39mfor\u001b[39;00m i,op \u001b[39min\u001b[39;00m \u001b[39menumerate\u001b[39m(\u001b[39mself\u001b[39m\u001b[39m.\u001b[39moperator_pool):\n\u001b[0;32m---> <a href='vscode-notebook-cell:/Users/batuyalcin/qagc2024/app/src/vqe_scratch.ipynb#X36sZmlsZQ%3D%3D?line=30'>31</a>\u001b[0m     grad \u001b[39m=\u001b[39m \u001b[39mself\u001b[39;49m\u001b[39m.\u001b[39;49mcompute_gradient(params,ham,op)\n\u001b[1;32m     <a href='vscode-notebook-cell:/Users/batuyalcin/qagc2024/app/src/vqe_scratch.ipynb#X36sZmlsZQ%3D%3D?line=31'>32</a>\u001b[0m     \u001b[39m#print(\"Gradient\",i,\"is\", grad)\u001b[39;00m\n\u001b[1;32m     <a href='vscode-notebook-cell:/Users/batuyalcin/qagc2024/app/src/vqe_scratch.ipynb#X36sZmlsZQ%3D%3D?line=32'>33</a>\u001b[0m     grad \u001b[39m=\u001b[39m np\u001b[39m.\u001b[39mabs(grad)\n",
      "\u001b[1;32m/Users/batuyalcin/qagc2024/app/src/vqe_scratch.ipynb Cell 30\u001b[0m line \u001b[0;36m2\n\u001b[1;32m     <a href='vscode-notebook-cell:/Users/batuyalcin/qagc2024/app/src/vqe_scratch.ipynb#X36sZmlsZQ%3D%3D?line=19'>20</a>\u001b[0m pub \u001b[39m=\u001b[39m (\u001b[39mself\u001b[39m\u001b[39m.\u001b[39msolver\u001b[39m.\u001b[39mpm_ansatz, [comm], [params])\n\u001b[1;32m     <a href='vscode-notebook-cell:/Users/batuyalcin/qagc2024/app/src/vqe_scratch.ipynb#X36sZmlsZQ%3D%3D?line=20'>21</a>\u001b[0m \u001b[39m#print(\"Ansatz is\", self.solver.pm_ansatz)\u001b[39;00m\n\u001b[0;32m---> <a href='vscode-notebook-cell:/Users/batuyalcin/qagc2024/app/src/vqe_scratch.ipynb#X36sZmlsZQ%3D%3D?line=21'>22</a>\u001b[0m result \u001b[39m=\u001b[39m \u001b[39mself\u001b[39;49m\u001b[39m.\u001b[39;49msolver\u001b[39m.\u001b[39;49mestimator\u001b[39m.\u001b[39;49mrun(pubs\u001b[39m=\u001b[39;49m[pub])\u001b[39m.\u001b[39;49mresult()\n\u001b[1;32m     <a href='vscode-notebook-cell:/Users/batuyalcin/qagc2024/app/src/vqe_scratch.ipynb#X36sZmlsZQ%3D%3D?line=22'>23</a>\u001b[0m grad \u001b[39m=\u001b[39m result[\u001b[39m0\u001b[39m]\u001b[39m.\u001b[39mdata\u001b[39m.\u001b[39mevs[\u001b[39m0\u001b[39m]\n\u001b[1;32m     <a href='vscode-notebook-cell:/Users/batuyalcin/qagc2024/app/src/vqe_scratch.ipynb#X36sZmlsZQ%3D%3D?line=23'>24</a>\u001b[0m \u001b[39mreturn\u001b[39;00m grad\n",
      "File \u001b[0;32m~/anaconda3/envs/QiskitNew/lib/python3.11/site-packages/qiskit/primitives/primitive_job.py:51\u001b[0m, in \u001b[0;36mPrimitiveJob.result\u001b[0;34m(self)\u001b[0m\n\u001b[1;32m     49\u001b[0m \u001b[39mdef\u001b[39;00m \u001b[39mresult\u001b[39m(\u001b[39mself\u001b[39m) \u001b[39m-\u001b[39m\u001b[39m>\u001b[39m ResultT:\n\u001b[1;32m     50\u001b[0m     \u001b[39mself\u001b[39m\u001b[39m.\u001b[39m_check_submitted()\n\u001b[0;32m---> 51\u001b[0m     \u001b[39mreturn\u001b[39;00m \u001b[39mself\u001b[39;49m\u001b[39m.\u001b[39;49m_future\u001b[39m.\u001b[39;49mresult()\n",
      "File \u001b[0;32m~/anaconda3/envs/QiskitNew/lib/python3.11/concurrent/futures/_base.py:451\u001b[0m, in \u001b[0;36mFuture.result\u001b[0;34m(self, timeout)\u001b[0m\n\u001b[1;32m    448\u001b[0m \u001b[39melif\u001b[39;00m \u001b[39mself\u001b[39m\u001b[39m.\u001b[39m_state \u001b[39m==\u001b[39m FINISHED:\n\u001b[1;32m    449\u001b[0m     \u001b[39mreturn\u001b[39;00m \u001b[39mself\u001b[39m\u001b[39m.\u001b[39m__get_result()\n\u001b[0;32m--> 451\u001b[0m \u001b[39mself\u001b[39;49m\u001b[39m.\u001b[39;49m_condition\u001b[39m.\u001b[39;49mwait(timeout)\n\u001b[1;32m    453\u001b[0m \u001b[39mif\u001b[39;00m \u001b[39mself\u001b[39m\u001b[39m.\u001b[39m_state \u001b[39min\u001b[39;00m [CANCELLED, CANCELLED_AND_NOTIFIED]:\n\u001b[1;32m    454\u001b[0m     \u001b[39mraise\u001b[39;00m CancelledError()\n",
      "File \u001b[0;32m~/anaconda3/envs/QiskitNew/lib/python3.11/threading.py:327\u001b[0m, in \u001b[0;36mCondition.wait\u001b[0;34m(self, timeout)\u001b[0m\n\u001b[1;32m    325\u001b[0m \u001b[39mtry\u001b[39;00m:    \u001b[39m# restore state no matter what (e.g., KeyboardInterrupt)\u001b[39;00m\n\u001b[1;32m    326\u001b[0m     \u001b[39mif\u001b[39;00m timeout \u001b[39mis\u001b[39;00m \u001b[39mNone\u001b[39;00m:\n\u001b[0;32m--> 327\u001b[0m         waiter\u001b[39m.\u001b[39;49macquire()\n\u001b[1;32m    328\u001b[0m         gotit \u001b[39m=\u001b[39m \u001b[39mTrue\u001b[39;00m\n\u001b[1;32m    329\u001b[0m     \u001b[39melse\u001b[39;00m:\n",
      "\u001b[0;31mKeyboardInterrupt\u001b[0m: "
     ]
    }
   ],
   "source": [
    "cost_history_dict = {\n",
    "    \"prev_vector\": None,\n",
    "    \"iters\": 0,\n",
    "    \"cost_history\": [],\n",
    "}\n",
    "res = adapt_vqe.compute_adapt_eigenvalue(ham = qubit_jw_op)"
   ]
  }
 ],
 "metadata": {
  "kernelspec": {
   "display_name": "Python 3 (ipykernel)",
   "language": "python",
   "name": "python3"
  },
  "language_info": {
   "codemirror_mode": {
    "name": "ipython",
    "version": 3
   },
   "file_extension": ".py",
   "mimetype": "text/x-python",
   "name": "python",
   "nbconvert_exporter": "python",
   "pygments_lexer": "ipython3",
   "version": "3.11.9"
  }
 },
 "nbformat": 4,
 "nbformat_minor": 5
}
