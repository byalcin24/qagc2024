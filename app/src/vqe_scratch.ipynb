{
 "cells": [
  {
   "cell_type": "code",
   "execution_count": 1,
   "id": "edb9a9da-ed77-45b7-9610-29760e255987",
   "metadata": {},
   "outputs": [],
   "source": [
    "import numpy as np\n",
    "from scipy.optimize import minimize\n",
    "import matplotlib.pyplot as plt\n",
    "from qiskit_nature.second_q.operators import FermionicOp\n",
    "from qiskit_nature.second_q.mappers import JordanWignerMapper,BravyiKitaevMapper\n",
    "from qiskit.circuit import QuantumCircuit, ParameterVector, Parameter\n",
    "from qiskit.transpiler.preset_passmanagers import generate_preset_pass_manager\n",
    "import spsa"
   ]
  },
  {
   "cell_type": "code",
   "execution_count": 2,
   "id": "74b39bc6-64cc-4995-aeed-519147ab9309",
   "metadata": {},
   "outputs": [],
   "source": [
    "n = 4\n",
    "N = 2*n\n",
    "t=1\n",
    "mu=1.5\n",
    "U=3"
   ]
  },
  {
   "cell_type": "code",
   "execution_count": 3,
   "id": "895d5adb-41ba-4dca-8a05-9c738fd3cbf7",
   "metadata": {},
   "outputs": [],
   "source": [
    "op = FermionicOp(\n",
    "    {\n",
    "        \"+_0 -_0\": 1.0,\n",
    "        \"+_1 -_1\": -1.0,\n",
    "    },\n",
    "    num_spin_orbitals=2,\n",
    ")"
   ]
  },
  {
   "cell_type": "code",
   "execution_count": 4,
   "id": "d7c28209-2bc3-4b57-b2c0-147c98953fab",
   "metadata": {},
   "outputs": [
    {
     "name": "stdout",
     "output_type": "stream",
     "text": [
      "Fermionic Operator\n",
      "number spin orbitals=2, number terms=2\n",
      "  1.0 * ( +_0 -_0 )\n",
      "+ -1.0 * ( +_1 -_1 )\n"
     ]
    }
   ],
   "source": [
    "print(op)"
   ]
  },
  {
   "cell_type": "code",
   "execution_count": 5,
   "id": "2827e220-69f9-4561-8d91-dc1d1cad3040",
   "metadata": {},
   "outputs": [],
   "source": [
    "def qOp(i,j):\n",
    "    return FermionicOp(\n",
    "    {\n",
    "        \"+_{i} -_{j}\".format(i=i%N,j=j%N): 1.0,\n",
    "    },\n",
    "    num_spin_orbitals=N,\n",
    ")"
   ]
  },
  {
   "cell_type": "code",
   "execution_count": 6,
   "id": "7c3ac5f0-65e7-4744-9975-7b0174319094",
   "metadata": {
    "scrolled": true
   },
   "outputs": [
    {
     "name": "stdout",
     "output_type": "stream",
     "text": [
      "Fermionic Operator\n",
      "number spin orbitals=8, number terms=28\n",
      "  3.0 * ( +_0 -_0 +_1 -_1 )\n",
      "+ 3.0 * ( +_2 -_2 +_3 -_3 )\n",
      "+ 3.0 * ( +_4 -_4 +_5 -_5 )\n",
      "+ 3.0 * ( +_6 -_6 +_7 -_7 )\n",
      "+ -1.5 * ( +_5 -_5 )\n",
      "+ -1.5 * ( +_0 -_0 )\n",
      "+ -1.5 * ( +_6 -_6 )\n",
      "+ -1.5 * ( +_2 -_2 )\n",
      "+ -1.5 * ( +_3 -_3 )\n",
      "+ -1.5 * ( +_4 -_4 )\n",
      "+ -1.5 * ( +_1 -_1 )\n",
      "+ -1.5 * ( +_7 -_7 )\n",
      "+ -1.0 * ( +_3 -_1 )\n",
      "+ -1.0 * ( +_7 -_5 )\n",
      "+ -1.0 * ( +_5 -_3 )\n",
      "+ -1.0 * ( +_7 -_1 )\n",
      "+ -1.0 * ( +_3 -_5 )\n",
      "+ -1.0 * ( +_4 -_6 )\n",
      "+ -1.0 * ( +_6 -_0 )\n",
      "+ -1.0 * ( +_0 -_2 )\n",
      "+ -1.0 * ( +_0 -_6 )\n",
      "+ -1.0 * ( +_4 -_2 )\n",
      "+ -1.0 * ( +_1 -_3 )\n",
      "+ -1.0 * ( +_2 -_4 )\n",
      "+ -1.0 * ( +_5 -_7 )\n",
      "+ -1.0 * ( +_6 -_4 )\n",
      "+ -1.0 * ( +_2 -_0 )\n",
      "+ -1.0 * ( +_1 -_7 )\n"
     ]
    }
   ],
   "source": [
    "t_list = []\n",
    "U_list = []\n",
    "for i in range(n):\n",
    "    t_list.append((2*i,(2*i+2)%N))\n",
    "    t_list.append((2*i+1,(2*i+3)%N))\n",
    "site_list = [2*i for i in range(n)]\n",
    "\n",
    "t_term = 0\n",
    "U_term = 0\n",
    "mu_term = 0\n",
    "\n",
    "for edge in t_list:\n",
    "    t_term += qOp(edge[0],edge[1])\n",
    "    t_term += qOp(edge[1],edge[0])\n",
    "\n",
    "for u in site_list:\n",
    "    mu_term += qOp(u,u) + qOp(u+1,u+1)\n",
    "    U_term += qOp(u,u)@qOp(u+1,u+1)\n",
    "\n",
    "H = U * U_term - mu * mu_term - t * t_term\n",
    "\n",
    "print(H)\n",
    "\n",
    "U_list = [(i,i+1) for i in site_list]"
   ]
  },
  {
   "cell_type": "code",
   "execution_count": 7,
   "id": "8526ada8-9a5c-4f86-a8e7-0979b5c424c8",
   "metadata": {},
   "outputs": [
    {
     "name": "stdout",
     "output_type": "stream",
     "text": [
      "SparsePauliOp(['IIIIIIII', 'IIIIIIZZ', 'IIIIZZII', 'IIZZIIII', 'ZZIIIIII', 'IIIIXZXI', 'IIIIYZYI', 'XZXIIIII', 'YZYIIIII', 'IIXZXIII', 'IIYZYIII', 'XZZZZZXI', 'YZZZZZYI', 'IYZYIIII', 'IXZXIIII', 'IXZZZZZX', 'IYZZZZZY', 'IIIIIYZY', 'IIIIIXZX', 'IIIXZXII', 'IIIYZYII'],\n",
      "              coeffs=[-3.  +0.j,  0.75+0.j,  0.75+0.j,  0.75+0.j,  0.75+0.j, -0.5 +0.j,\n",
      " -0.5 +0.j, -0.5 +0.j, -0.5 +0.j, -0.5 +0.j, -0.5 +0.j, -0.5 +0.j,\n",
      " -0.5 +0.j, -0.5 +0.j, -0.5 +0.j, -0.5 +0.j, -0.5 +0.j, -0.5 +0.j,\n",
      " -0.5 +0.j, -0.5 +0.j, -0.5 +0.j])\n"
     ]
    }
   ],
   "source": [
    "mapper = JordanWignerMapper()\n",
    "qubit_jw_op = mapper.map(H)\n",
    "print(qubit_jw_op)"
   ]
  },
  {
   "cell_type": "code",
   "execution_count": 8,
   "metadata": {},
   "outputs": [],
   "source": [
    "from qiskit.circuit.library import EfficientSU2\n",
    "\n",
    "ansatz = EfficientSU2(N)"
   ]
  },
  {
   "cell_type": "code",
   "execution_count": 9,
   "metadata": {},
   "outputs": [
    {
     "name": "stdout",
     "output_type": "stream",
     "text": [
      "<qiskit.providers.fake_provider.generic_backend_v2.GenericBackendV2 object at 0x110e18450>\n"
     ]
    }
   ],
   "source": [
    "from qiskit.providers.fake_provider import GenericBackendV2\n",
    "\n",
    "# To run on hardware, select the backend with the fewest number of jobs in the queue\n",
    "backend = GenericBackendV2(num_qubits=N)\n",
    "print(backend)"
   ]
  },
  {
   "cell_type": "code",
   "execution_count": 10,
   "metadata": {},
   "outputs": [],
   "source": [
    "#cost dict\n",
    "cost_history_dict = {\n",
    "    \"prev_vector\": None,\n",
    "    \"iters\": 0,\n",
    "    \"cost_history\": [],\n",
    "}\n",
    "\n",
    "def reset():\n",
    "    cost_history_dict = {\n",
    "    \"prev_vector\": None,\n",
    "    \"iters\": 0,\n",
    "    \"cost_history\": [],\n",
    "}\n",
    "#cost func\n",
    "def cost_func(params, ansatz, hamiltonian, estimator):\n",
    "    \n",
    "    \"\"\"Return estimate of energy from estimator\n",
    "\n",
    "    Parameters:\n",
    "        params (ndarray): Array of ansatz parameters\n",
    "        ansatz (QuantumCircuit): Parameterized ansatz circuit\n",
    "        hamiltonian (SparsePauliOp): Operator representation of Hamiltonian\n",
    "        estimator (EstimatorV2): Estimator primitive instance\n",
    "        cost_history_dict: Dictionary for storing intermediate results\n",
    "\n",
    "    Returns:\n",
    "        float: Energy estimate\n",
    "    \"\"\"\n",
    "    pub = (ansatz, [hamiltonian], [params])\n",
    "    result = estimator.run(pubs=[pub]).result()\n",
    "    energy = result[0].data.evs[0]\n",
    "\n",
    "    cost_history_dict[\"iters\"] += 1\n",
    "    cost_history_dict[\"prev_vector\"] = params\n",
    "    cost_history_dict[\"cost_history\"].append(energy)\n",
    "    if cost_history_dict['iters']%50 == 0:\n",
    "        print(f\"Iters. done: {cost_history_dict['iters']} [Current cost: {energy}]\")\n",
    "\n",
    "    return energy"
   ]
  },
  {
   "cell_type": "code",
   "execution_count": 11,
   "metadata": {},
   "outputs": [],
   "source": [
    "from qiskit.transpiler.preset_passmanagers import generate_preset_pass_manager\n",
    "from qiskit.primitives import BackendEstimatorV2\n",
    "\n",
    "\n",
    "class VQE:\n",
    "\n",
    "    def __init__(self,backend,ansatz, cost_f, x0 = None, optimizer = \"cobyla\",estimator = None,shots = 1024):\n",
    "        #backend\n",
    "        self.backend = backend\n",
    "        #transpiled ansatz\n",
    "        self.num_params = ansatz.num_parameters\n",
    "        self.ansatz = ansatz\n",
    "        self.pm_ansatz = None\n",
    "        #self.ansatz = ansatz\n",
    "        #optimizer\n",
    "        self.optimizer = optimizer\n",
    "        #estimator\n",
    "        if estimator is not None:\n",
    "            self.estimator = estimator\n",
    "        else:\n",
    "            estimator = BackendEstimatorV2(backend=backend)\n",
    "            estimator.options.default_shots = shots\n",
    "            self.estimator = estimator\n",
    "        #cost\n",
    "        self.cost_f = cost_f\n",
    "        if x0 is None:\n",
    "            x0 = 2 * np.pi * np.random.random(self.num_params)\n",
    "        self.x0 = x0\n",
    "\n",
    "    def pass_manage_ansatz(self):\n",
    "        self.num_params = self.ansatz.num_parameters\n",
    "        target = self.backend.target\n",
    "        pm = generate_preset_pass_manager(target=target, optimization_level=3)\n",
    "        self.pm_ansatz = pm.run(self.ansatz)\n",
    "\n",
    "    def compute_minimum_eigenvalue(self,hamiltonian,aux_operators = []):\n",
    "        #hamiltonian\n",
    "        self.pass_manage_ansatz()\n",
    "        print(\"Running with\",self.pm_ansatz.num_parameters, \"parameters\")\n",
    "        print(\"Running with the following ansatz:\")\n",
    "        hamiltonian_isa = hamiltonian.apply_layout(layout=self.pm_ansatz.layout)\n",
    "        for i,op in enumerate(aux_operators):\n",
    "            aux_operators[i] = op.apply_layout(layout=self.pm_ansatz.layout)\n",
    "        res = minimize(\n",
    "        self.cost_f,\n",
    "        self.x0,\n",
    "        args=(self.pm_ansatz, hamiltonian_isa, self.estimator),\n",
    "        method=self.optimizer,\n",
    "        options = {\"maxiter\": 500}\n",
    "        )\n",
    "        \n",
    "        return res\n"
   ]
  },
  {
   "cell_type": "code",
   "execution_count": 12,
   "metadata": {},
   "outputs": [],
   "source": [
    "def spsa_min(f,x0,args,*arg,**kwargs):\n",
    "    ansatz, hamiltonian, estimator = args\n",
    "    def new_cost(x):\n",
    "        return f(x,ansatz,hamiltonian,estimator)\n",
    "    xx = spsa.minimize(new_cost,x0,iterations=kwargs['maxiter'])\n",
    "    return xx"
   ]
  },
  {
   "cell_type": "code",
   "execution_count": 13,
   "metadata": {},
   "outputs": [],
   "source": [
    "vqe = VQE(backend,ansatz,cost_func,optimizer='cobyla')"
   ]
  },
  {
   "cell_type": "code",
   "execution_count": 14,
   "metadata": {},
   "outputs": [
    {
     "name": "stdout",
     "output_type": "stream",
     "text": [
      "Running with 64 parameters\n"
     ]
    },
    {
     "name": "stderr",
     "output_type": "stream",
     "text": [
      "/Users/batuyalcin/anaconda3/envs/QiskitNew/lib/python3.11/site-packages/qiskit/providers/fake_provider/generic_backend_v2.py:506: RuntimeWarning: Aer not found using BasicSimulator and no noise\n",
      "  warnings.warn(\"Aer not found using BasicSimulator and no noise\", RuntimeWarning)\n"
     ]
    },
    {
     "name": "stdout",
     "output_type": "stream",
     "text": [
      "Iters. done: 50 [Current cost: -3.9420166015625]\n",
      "Iters. done: 100 [Current cost: -4.6505126953125]\n",
      "Iters. done: 150 [Current cost: -5.23681640625]\n",
      "Iters. done: 200 [Current cost: -5.6903076171875]\n",
      "Iters. done: 250 [Current cost: -5.819580078125]\n",
      "Iters. done: 300 [Current cost: -5.9100341796875]\n",
      "Iters. done: 350 [Current cost: -5.9124755859375]\n",
      "Iters. done: 400 [Current cost: -5.9691162109375]\n",
      "Iters. done: 450 [Current cost: -5.97265625]\n",
      "Iters. done: 500 [Current cost: -6.0042724609375]\n"
     ]
    }
   ],
   "source": [
    "cost_history_dict = {\n",
    "    \"prev_vector\": None,\n",
    "    \"iters\": 0,\n",
    "    \"cost_history\": [],\n",
    "}\n",
    "res = vqe.compute_minimum_eigenvalue(hamiltonian = qubit_jw_op)"
   ]
  },
  {
   "cell_type": "code",
   "execution_count": 15,
   "metadata": {},
   "outputs": [
    {
     "name": "stdout",
     "output_type": "stream",
     "text": [
      "[-8.4244289]\n"
     ]
    }
   ],
   "source": [
    "import scipy.sparse as sp\n",
    "\n",
    "ham_mat = qubit_jw_op.to_matrix(sparse = True)\n",
    "eig = np.real(sp.linalg.eigs(ham_mat,k=1,return_eigenvectors=False))\n",
    "print(eig)"
   ]
  },
  {
   "cell_type": "code",
   "execution_count": 16,
   "metadata": {},
   "outputs": [
    {
     "name": "stdout",
     "output_type": "stream",
     "text": [
      "-6.0458984375\n"
     ]
    }
   ],
   "source": [
    "print(res.fun)"
   ]
  },
  {
   "cell_type": "code",
   "execution_count": 17,
   "metadata": {},
   "outputs": [
    {
     "data": {
      "image/png": "[encoded data removed]",
      "text/plain": [
       "<Figure size 640x480 with 1 Axes>"
      ]
     },
     "metadata": {},
     "output_type": "display_data"
    }
   ],
   "source": [
    "fig, ax = plt.subplots()\n",
    "ax.plot(range(cost_history_dict[\"iters\"]), cost_history_dict[\"cost_history\"])\n",
    "ax.axhline(y=eig, color=\"tab:red\", ls=\"--\", lw=2, label=\"Target: \" + str(eig))\n",
    "ax.set_xlabel(\"Iterations\")\n",
    "ax.set_ylabel(\"Cost\")\n",
    "plt.draw()"
   ]
  },
  {
   "cell_type": "code",
   "execution_count": 14,
   "metadata": {},
   "outputs": [],
   "source": [
    "from qiskit.circuit.library import SwapGate\n",
    "from scipy.linalg import expm\n",
    "from qiskit.quantum_info import Operator, Clifford\n",
    "from qiskit.circuit.library import EvolvedOperatorAnsatz, PauliEvolutionGate, HamiltonianGate,UnitaryGate, XXPlusYYGate\n",
    "\n",
    "#eZZ gate\n",
    "theta = 0.7809\n",
    "Smat = SwapGate().to_matrix()\n",
    "Sop = Operator(SwapGate())\n",
    "#print(Sop)\n",
    "#expS = expm(1j*Smat)\n",
    "#def expSt(t):\n",
    "#    return np.power(expS,t)\n",
    "\n",
    "def eSwap(circ,i,j,param):\n",
    "    eSt = HamiltonianGate(Sop,param,label = \"eSWAP\")\n",
    "    circ.append(eSt,[i,j])\n",
    "\n",
    "\n",
    "def eZZ(circ,i,j,t):\n",
    "    circ.cx(i,j)\n",
    "    circ.rz(t,j)\n",
    "    circ.cx(i,j)\n",
    "\n",
    "def fij(circ,i,j,t):\n",
    "    circ.append(XXPlusYYGate(t),[i,j])\n",
    "    circ.cp(t,i,j)\n",
    "\n",
    "\n",
    "def efSwap(circ,i,j,t):\n",
    "    for k in range(j-1,i,-1):\n",
    "        circ.cz(j,k)\n",
    "    fij(circ,i,j,t)\n",
    "    for k in range(i+1,j,1):\n",
    "        circ.cz(j,k)\n",
    "\n",
    "def hopping(circ,r):\n",
    "    n = circ.num_qubits\n",
    "    t_s = ParameterVector(\"t_h{r}\".format(r=r),length = n)\n",
    "    for i in range(n):\n",
    "        efSwap(circ,i,(i+2)%n,t_s[i])\n",
    "\n",
    "def interaction(circ,r):\n",
    "    n = circ.num_qubits\n",
    "    t_s = ParameterVector(\"t_i{r}\".format(r=r),length = n//2)\n",
    "    for i in range(0,n,2):\n",
    "        eZZ(circ,i,i+1,t_s[i//2])\n",
    "\n",
    "\n",
    "li = [i for i in range(0,n,4)]+[i+1 for i in range(0,n,4)]\n",
    "def start(circ):\n",
    "    n = circ.num_qubits\n",
    "    for i in li:\n",
    "        circ.x(i)\n",
    "        circ.h(i+2)\n",
    "        circ.cx(i,i+2)\n",
    "    circ.barrier()\n",
    "\n",
    "def start2(circ):\n",
    "    n = circ.num_qubits\n",
    "    li = [i for i in range(0,n//2,2)]+[n-1-i for i in range(0,n//2,2)]\n",
    "    circ.x(li)\n",
    "    circ.barrier()\n",
    "\n",
    "def hopint(circ,reps = 3):\n",
    "    for r in range(reps):\n",
    "        hopping(circ,r)\n",
    "        interaction(circ,r)"
   ]
  },
  {
   "cell_type": "code",
   "execution_count": 19,
   "metadata": {},
   "outputs": [
    {
     "data": {
      "image/png": "[encoded data removed]",
      "text/plain": [
       "<Figure size 2210.55x1454.83 with 1 Axes>"
      ]
     },
     "execution_count": 19,
     "metadata": {},
     "output_type": "execute_result"
    }
   ],
   "source": [
    "circ = QuantumCircuit(N)\n",
    "hopping(circ,1)\n",
    "circ.draw(output=\"mpl\", style=\"iqp\")"
   ]
  },
  {
   "cell_type": "code",
   "execution_count": 20,
   "metadata": {},
   "outputs": [],
   "source": [
    "ans_hop = QuantumCircuit(N)\n",
    "start2(ans_hop)\n",
    "hopint(ans_hop,reps = 3)"
   ]
  },
  {
   "cell_type": "code",
   "execution_count": 21,
   "metadata": {},
   "outputs": [],
   "source": [
    "vqe = VQE(backend,ans_hop,cost_func,optimizer='cobyla')"
   ]
  },
  {
   "cell_type": "code",
   "execution_count": 22,
   "metadata": {},
   "outputs": [
    {
     "name": "stdout",
     "output_type": "stream",
     "text": [
      "Running with 36 parameters\n"
     ]
    },
    {
     "name": "stderr",
     "output_type": "stream",
     "text": [
      "/Users/batuyalcin/anaconda3/envs/QiskitNew/lib/python3.11/site-packages/qiskit/providers/fake_provider/generic_backend_v2.py:506: RuntimeWarning: Aer not found using BasicSimulator and no noise\n",
      "  warnings.warn(\"Aer not found using BasicSimulator and no noise\", RuntimeWarning)\n"
     ]
    },
    {
     "name": "stdout",
     "output_type": "stream",
     "text": [
      "Iters. done: 50 [Current cost: -5.5120849609375]\n",
      "Iters. done: 100 [Current cost: -6.82080078125]\n",
      "Iters. done: 150 [Current cost: -6.94091796875]\n",
      "Iters. done: 200 [Current cost: -6.9788818359375]\n",
      "Iters. done: 250 [Current cost: -6.98681640625]\n",
      "Iters. done: 300 [Current cost: -6.9373779296875]\n",
      "Iters. done: 350 [Current cost: -6.9725341796875]\n"
     ]
    }
   ],
   "source": [
    "cost_history_dict = {\n",
    "    \"prev_vector\": None,\n",
    "    \"iters\": 0,\n",
    "    \"cost_history\": [],\n",
    "}\n",
    "res = vqe.compute_minimum_eigenvalue(hamiltonian = qubit_jw_op)"
   ]
  },
  {
   "cell_type": "code",
   "execution_count": 23,
   "metadata": {},
   "outputs": [
    {
     "data": {
      "image/png": "[encoded data removed]",
      "text/plain": [
       "<Figure size 640x480 with 1 Axes>"
      ]
     },
     "metadata": {},
     "output_type": "display_data"
    }
   ],
   "source": [
    "fig, ax = plt.subplots()\n",
    "ax.plot(range(cost_history_dict[\"iters\"]), cost_history_dict[\"cost_history\"])\n",
    "ax.axhline(y=eig, color=\"tab:red\", ls=\"--\", lw=2, label=\"Target: \" + str(eig))\n",
    "ax.set_xlabel(\"Iterations\")\n",
    "ax.set_ylabel(\"Cost\")\n",
    "plt.draw()"
   ]
  },
  {
   "cell_type": "code",
   "execution_count": 15,
   "metadata": {},
   "outputs": [],
   "source": [
    "def commutator(op1, op2):\n",
    "    return op1 @ op2 - op2 @ op1\n",
    "    \n",
    "class AdaptVQE:\n",
    "\n",
    "    def __init__(self,backend,ansatz:EvolvedOperatorAnsatz = None, cost_f=None, optimizer = \"cobyla\",estimator = None,shots = 1024,eps = 1e-5):\n",
    "        if not isinstance(ansatz,EvolvedOperatorAnsatz):\n",
    "            raise Exception(\"Ansatz is not of type EvolvedOperatorAnsatz\")\n",
    "        self.operator_pool = ansatz.operators\n",
    "        #initial_circuit = ansatz.initial_state\n",
    "        self.eps = eps\n",
    "        self._tmp_ansatz = None\n",
    "        self.op_indices = []\n",
    "        self.op_list = []\n",
    "        self.solver = VQE(backend=backend,ansatz=ansatz,cost_f=cost_f,optimizer=optimizer,estimator=estimator,shots = shots)\n",
    "        \n",
    "    def compute_gradient(self,params,ham,op):\n",
    "        comm = 1j*commutator(ham,op)\n",
    "        #print(\"Commutator is\",comm)\n",
    "        pub = (self.solver.pm_ansatz, [comm], [params])\n",
    "        #print(\"Ansatz is\", self.solver.pm_ansatz)\n",
    "        result = self.solver.estimator.run(pubs=[pub]).result()\n",
    "        grad = result[0].data.evs[0]\n",
    "        return grad\n",
    "    \n",
    "    def select_op(self,params,ham):\n",
    "        max_grad_op = None\n",
    "        max_grad = 0\n",
    "        max_grad_ind = 0\n",
    "        for i,op in enumerate(self.operator_pool):\n",
    "            grad = np.abs(self.compute_gradient(params,ham,op))\n",
    "            if grad > max_grad:\n",
    "                max_grad = grad\n",
    "                max_grad_ind = i\n",
    "                max_grad_op = op\n",
    "        if max_grad<self.eps:\n",
    "            return \"AdaptVQE Converged\"\n",
    "        return max_grad_ind,max_grad_op\n",
    "    \n",
    "    def compute_adapt_eigenvalue(self,ham,aux_operators = []):\n",
    "        cost_history_dict = {\n",
    "        \"prev_vector\": None,\n",
    "        \"iters\": 0,\n",
    "        \"cost_history\": [],\n",
    "        }\n",
    "        CONVERGED = False\n",
    "        print(type(self.solver.ansatz))\n",
    "        self._tmp_ansatz = self.solver.ansatz\n",
    "        self.operator_pool = self._tmp_ansatz.operators\n",
    "        self.solver.ansatz = self._tmp_ansatz.initial_state\n",
    "        self.solver.pass_manage_ansatz()\n",
    "        params = [] + [0.0]*self.solver.num_params\n",
    "        history = []\n",
    "        i=0\n",
    "        res = None\n",
    "        while not CONVERGED:\n",
    "            print(\"Iteration\",i)\n",
    "            ind,op = self.select_op(params,ham)\n",
    "            if isinstance(op,str):\n",
    "                print(op)\n",
    "                return res\n",
    "            self.op_list.append(op)\n",
    "            self.op_indices.append(ind)\n",
    "            self._tmp_ansatz.operators = self.op_list\n",
    "            self.solver.ansatz = self._tmp_ansatz\n",
    "            params.append(0.0)\n",
    "            self.solver.x0 = params\n",
    "            self.solver.pass_manage_ansatz()\n",
    "            res = self.solver.compute_minimum_eigenvalue(ham)\n",
    "            theta = list(res.x)\n",
    "            history.append(res.fun)\n",
    "            print(\"Operator indices\",self.op_indices)\n",
    "            print(\"Eigenvalue:\",res.fun)\n",
    "            i+=1\n",
    "        return res\n"
   ]
  },
  {
   "cell_type": "code",
   "execution_count": 19,
   "metadata": {},
   "outputs": [
    {
     "name": "stdout",
     "output_type": "stream",
     "text": [
      "SparsePauliOp(['IZIZI'],\n",
      "              coeffs=[0.5+0.j])\n",
      "SparsePauliOp(['IXXXX', 'IXYXY', 'IYXYX', 'IYYYY'],\n",
      "              coeffs=[0.0625+0.j, 0.0625+0.j, 0.0625+0.j, 0.0625+0.j])\n"
     ]
    }
   ],
   "source": [
    "from qiskit.quantum_info import Pauli, PauliList, SparsePauliOp\n",
    "\n",
    "def makePauliStr(N,idx,gs):\n",
    "    pauli_str = \"\"\n",
    "    for i in range(N):\n",
    "        if i in idx:\n",
    "            pauli_str+=gs[idx.index(i)]\n",
    "        else:\n",
    "            pauli_str+=\"I\"\n",
    "    return pauli_str\n",
    "\n",
    "def ZZ(N,i,j):\n",
    "    zz_str = makePauliStr(N,(i,j),[\"Z\",\"Z\"])\n",
    "    return SparsePauliOp([zz_str],coeffs = [.5])\n",
    "\n",
    "def dZZ(N,i,j,k,l):\n",
    "    zz_str = makePauliStr(N,(i,j,k,l),[\"Z\",\"Z\",\"Z\",\"Z\"])\n",
    "    return SparsePauliOp([zz_str],coeffs = [.5])\n",
    "\n",
    "def XXplusYY(N,i,j):\n",
    "    xx_str = makePauliStr(N,(i,j),[\"X\",\"X\"])\n",
    "    yy_str = makePauliStr(N,(i,j),[\"Y\",\"Y\"])\n",
    "    return SparsePauliOp([xx_str,yy_str],coeffs = [.25,.25])\n",
    "\n",
    "def dXXplusYY(N,i,j,k,l):\n",
    "    ij = XXplusYY(N,i,j)\n",
    "    kl = XXplusYY(N,k,l)\n",
    "    return ij@kl\n",
    "\n",
    "print(ZZ(5,1,3))\n",
    "print(dXXplusYY(5,1,3,2,4))\n"
   ]
  },
  {
   "cell_type": "code",
   "execution_count": 20,
   "metadata": {},
   "outputs": [
    {
     "name": "stdout",
     "output_type": "stream",
     "text": [
      "[SparsePauliOp(['XXIIIIII', 'YYIIIIII'],\n",
      "              coeffs=[0.25+0.j, 0.25+0.j]), SparsePauliOp(['IIXXIIII', 'IIYYIIII'],\n",
      "              coeffs=[0.25+0.j, 0.25+0.j]), SparsePauliOp(['IIIIXXII', 'IIIIYYII'],\n",
      "              coeffs=[0.25+0.j, 0.25+0.j]), SparsePauliOp(['IIIIIIXX', 'IIIIIIYY'],\n",
      "              coeffs=[0.25+0.j, 0.25+0.j]), SparsePauliOp(['ZIZIIIII'],\n",
      "              coeffs=[0.5+0.j]), SparsePauliOp(['IZIZIIII'],\n",
      "              coeffs=[0.5+0.j]), SparsePauliOp(['IIZIZIII'],\n",
      "              coeffs=[0.5+0.j]), SparsePauliOp(['IIIZIZII'],\n",
      "              coeffs=[0.5+0.j]), SparsePauliOp(['IIIIZIZI'],\n",
      "              coeffs=[0.5+0.j]), SparsePauliOp(['IIIIIZIZ'],\n",
      "              coeffs=[0.5+0.j]), SparsePauliOp(['ZIIIIIZI'],\n",
      "              coeffs=[0.5+0.j]), SparsePauliOp(['IZIIIIIZ'],\n",
      "              coeffs=[0.5+0.j]), SparsePauliOp(['XXXXIIII', 'YYXXIIII', 'XXYYIIII', 'YYYYIIII'],\n",
      "              coeffs=[0.0625+0.j, 0.0625+0.j, 0.0625+0.j, 0.0625+0.j]), SparsePauliOp(['XXIIXXII', 'YYIIXXII', 'XXIIYYII', 'YYIIYYII'],\n",
      "              coeffs=[0.0625+0.j, 0.0625+0.j, 0.0625+0.j, 0.0625+0.j]), SparsePauliOp(['IIXXXXII', 'IIYYXXII', 'IIXXYYII', 'IIYYYYII'],\n",
      "              coeffs=[0.0625+0.j, 0.0625+0.j, 0.0625+0.j, 0.0625+0.j]), SparsePauliOp(['XXIIIIXX', 'YYIIIIXX', 'XXIIIIYY', 'YYIIIIYY'],\n",
      "              coeffs=[0.0625+0.j, 0.0625+0.j, 0.0625+0.j, 0.0625+0.j]), SparsePauliOp(['IIXXIIXX', 'IIYYIIXX', 'IIXXIIYY', 'IIYYIIYY'],\n",
      "              coeffs=[0.0625+0.j, 0.0625+0.j, 0.0625+0.j, 0.0625+0.j]), SparsePauliOp(['IIIIXXXX', 'IIIIYYXX', 'IIIIXXYY', 'IIIIYYYY'],\n",
      "              coeffs=[0.0625+0.j, 0.0625+0.j, 0.0625+0.j, 0.0625+0.j]), SparsePauliOp(['ZZZZIIII'],\n",
      "              coeffs=[0.5+0.j]), SparsePauliOp(['ZIZIZIII'],\n",
      "              coeffs=[0.5+0.j]), SparsePauliOp(['IZZZZIII'],\n",
      "              coeffs=[0.5+0.j]), SparsePauliOp(['ZIZZIZII'],\n",
      "              coeffs=[0.5+0.j]), SparsePauliOp(['IZIZIZII'],\n",
      "              coeffs=[0.5+0.j]), SparsePauliOp(['IIZZZZII'],\n",
      "              coeffs=[0.5+0.j]), SparsePauliOp(['ZIZIZIZI'],\n",
      "              coeffs=[0.5+0.j]), SparsePauliOp(['IZIZZIZI'],\n",
      "              coeffs=[0.5+0.j]), SparsePauliOp(['IIZIZIZI'],\n",
      "              coeffs=[0.5+0.j]), SparsePauliOp(['IIIZZZZI'],\n",
      "              coeffs=[0.5+0.j]), SparsePauliOp(['ZIZIIZIZ'],\n",
      "              coeffs=[0.5+0.j]), SparsePauliOp(['IZIZIZIZ'],\n",
      "              coeffs=[0.5+0.j]), SparsePauliOp(['IIZIZZIZ'],\n",
      "              coeffs=[0.5+0.j]), SparsePauliOp(['IIIZIZIZ'],\n",
      "              coeffs=[0.5+0.j]), SparsePauliOp(['IIIIZZZZ'],\n",
      "              coeffs=[0.5+0.j]), SparsePauliOp(['ZIZIIIZI'],\n",
      "              coeffs=[0.5+0.j]), SparsePauliOp(['ZZIZIIZI'],\n",
      "              coeffs=[0.5+0.j]), SparsePauliOp(['ZIZIZIZI'],\n",
      "              coeffs=[0.5+0.j]), SparsePauliOp(['ZIIZIZZI'],\n",
      "              coeffs=[0.5+0.j]), SparsePauliOp(['ZIIIZIZI'],\n",
      "              coeffs=[0.5+0.j]), SparsePauliOp(['ZIIIIZZZ'],\n",
      "              coeffs=[0.5+0.j]), SparsePauliOp(['ZZZIIIIZ'],\n",
      "              coeffs=[0.5+0.j]), SparsePauliOp(['IZIZIIIZ'],\n",
      "              coeffs=[0.5+0.j]), SparsePauliOp(['IZZIZIIZ'],\n",
      "              coeffs=[0.5+0.j]), SparsePauliOp(['IZIZIZIZ'],\n",
      "              coeffs=[0.5+0.j]), SparsePauliOp(['IZIIZIZZ'],\n",
      "              coeffs=[0.5+0.j]), SparsePauliOp(['IZIIIZIZ'],\n",
      "              coeffs=[0.5+0.j]), SparsePauliOp(['ZZIIIIZZ'],\n",
      "              coeffs=[0.5+0.j])]\n"
     ]
    }
   ],
   "source": [
    "def poolXXYY(N,ts):\n",
    "    pool = []\n",
    "    for i,edge in enumerate(ts):\n",
    "        p = XXplusYY(N,edge[0],edge[1])\n",
    "        #print(isinstance(p,Operator))\n",
    "        pool.append(p)\n",
    "    return pool\n",
    "\n",
    "def pooldXXYY(N,ts):\n",
    "    pool = []\n",
    "    for i,edge in enumerate(ts):\n",
    "        for j in range(i):\n",
    "            p = dXXplusYY(N,edge[0],edge[1],ts[j][0],ts[j][1])\n",
    "            #print(isinstance(p,Operator))\n",
    "            pool.append(p)\n",
    "    return pool\n",
    "\n",
    "def poolZZ(N,Us):\n",
    "    pool = []\n",
    "    for edge in Us:\n",
    "        p = ZZ(N,edge[0],edge[1])\n",
    "        pool.append(p)\n",
    "    return pool\n",
    "\n",
    "def pooldZZ(N,Us):\n",
    "    pool = []\n",
    "    for i,edge in enumerate(Us):\n",
    "        for j in range(i):\n",
    "            p = dZZ(N,edge[0],edge[1],Us[j][0],Us[j][1])\n",
    "            #print(isinstance(p,Operator))\n",
    "            pool.append(p)\n",
    "    return pool\n",
    "\n",
    "def totalPool(N,Us,ts):\n",
    "    ZZ = poolZZ(N,Us)\n",
    "    dZZ = pooldZZ(N,Us)\n",
    "    XXYY = poolXXYY(N,ts)\n",
    "    dXXYY = pooldXXYY(N,ts)\n",
    "    return XXYY + ZZ + dXXYY + dZZ\n",
    "\n",
    "pool = totalPool(N,t_list,U_list)\n",
    "print(pool)"
   ]
  },
  {
   "cell_type": "code",
   "execution_count": 21,
   "metadata": {},
   "outputs": [
    {
     "name": "stdout",
     "output_type": "stream",
     "text": [
      "<class 'qiskit.circuit.library.n_local.evolved_operator_ansatz.EvolvedOperatorAnsatz'>\n"
     ]
    }
   ],
   "source": [
    "def s_circ(N):\n",
    "    qc = QuantumCircuit(N)\n",
    "    li = [i for i in range(0,n//2,2)]+[n-1-i for i in range(0,n//2,2)]\n",
    "    qc.x(li)\n",
    "    qc.barrier()\n",
    "    return qc\n",
    "\n",
    "def s_circ2(N):\n",
    "    circ = QuantumCircuit(N)\n",
    "    li = [i for i in range(0,n,4)]+[i+1 for i in range(0,n,4)]\n",
    "    for i in li:\n",
    "        circ.x(i)\n",
    "        circ.h(i+2)\n",
    "        circ.cx(i,i+2)\n",
    "    circ.barrier()\n",
    "    return circ\n",
    "\n",
    "ans = EvolvedOperatorAnsatz(pool,initial_state=s_circ(N),parameter_prefix=\"b\")\n",
    "ans1 = EvolvedOperatorAnsatz(pool,initial_state=ans)\n",
    "print(type(ans1))"
   ]
  },
  {
   "cell_type": "code",
   "execution_count": 22,
   "metadata": {},
   "outputs": [],
   "source": [
    "adapt_vqe = AdaptVQE(backend,ans,cost_func,optimizer='cobyla')"
   ]
  },
  {
   "cell_type": "code",
   "execution_count": 23,
   "metadata": {},
   "outputs": [
    {
     "name": "stdout",
     "output_type": "stream",
     "text": [
      "<class 'qiskit.circuit.library.n_local.evolved_operator_ansatz.EvolvedOperatorAnsatz'>\n",
      "Iteration 0\n"
     ]
    },
    {
     "name": "stderr",
     "output_type": "stream",
     "text": [
      "/Users/batuyalcin/anaconda3/envs/QiskitNew/lib/python3.11/site-packages/qiskit/providers/fake_provider/generic_backend_v2.py:506: RuntimeWarning: Aer not found using BasicSimulator and no noise\n",
      "  warnings.warn(\"Aer not found using BasicSimulator and no noise\", RuntimeWarning)\n"
     ]
    },
    {
     "name": "stdout",
     "output_type": "stream",
     "text": [
      "Running with 1 parameters\n",
      "Running with the following ansatz:\n",
      "Operator indices [28]\n",
      "Eigenvalue: -2.94189453125\n",
      "Iteration 1\n",
      "Running with 2 parameters\n",
      "Running with the following ansatz:\n",
      "Operator indices [28, 38]\n",
      "Eigenvalue: -3.01904296875\n",
      "Iteration 2\n",
      "Running with 3 parameters\n",
      "Running with the following ansatz:\n",
      "Iters. done: 50 [Current cost: -3.020751953125]\n",
      "Operator indices [28, 38, 23]\n",
      "Eigenvalue: -3.025146484375\n",
      "Iteration 3\n",
      "Running with 4 parameters\n",
      "Running with the following ansatz:\n",
      "Iters. done: 100 [Current cost: -3.00732421875]\n",
      "Operator indices [28, 38, 23, 37]\n",
      "Eigenvalue: -2.99853515625\n",
      "Iteration 4\n",
      "Running with 5 parameters\n",
      "Running with the following ansatz:\n",
      "Iters. done: 150 [Current cost: -3.025634765625]\n",
      "Operator indices [28, 38, 23, 37, 27]\n",
      "Eigenvalue: -3.01806640625\n",
      "Iteration 5\n",
      "Running with 6 parameters\n",
      "Running with the following ansatz:\n",
      "Iters. done: 200 [Current cost: -3.02392578125]\n",
      "Operator indices [28, 38, 23, 37, 27, 25]\n",
      "Eigenvalue: -3.014892578125\n",
      "Iteration 6\n",
      "Running with 7 parameters\n",
      "Running with the following ansatz:\n",
      "Iters. done: 250 [Current cost: -3.0634765625]\n",
      "Operator indices [28, 38, 23, 37, 27, 25, 30]\n",
      "Eigenvalue: -2.95361328125\n",
      "Iteration 7\n",
      "Running with 8 parameters\n",
      "Running with the following ansatz:\n",
      "Iters. done: 300 [Current cost: -2.98388671875]\n",
      "Iters. done: 350 [Current cost: -2.99560546875]\n",
      "Operator indices [28, 38, 23, 37, 27, 25, 30, 36]\n",
      "Eigenvalue: -3.029296875\n",
      "Iteration 8\n"
     ]
    }
   ],
   "source": [
    "cost_history_dict = {\n",
    "    \"prev_vector\": None,\n",
    "    \"iters\": 0,\n",
    "    \"cost_history\": [],\n",
    "}\n",
    "res = adapt_vqe.compute_adapt_eigenvalue(ham = qubit_jw_op)"
   ]
  }
 ],
 "metadata": {
  "kernelspec": {
   "display_name": "Python 3 (ipykernel)",
   "language": "python",
   "name": "python3"
  },
  "language_info": {
   "codemirror_mode": {
    "name": "ipython",
    "version": 3
   },
   "file_extension": ".py",
   "mimetype": "text/x-python",
   "name": "python",
   "nbconvert_exporter": "python",
   "pygments_lexer": "ipython3",
   "version": "3.11.9"
  }
 },
 "nbformat": 4,
 "nbformat_minor": 5
}
