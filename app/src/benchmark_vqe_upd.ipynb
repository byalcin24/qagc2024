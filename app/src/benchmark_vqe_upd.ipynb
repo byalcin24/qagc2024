{
 "cells": [
  {
   "cell_type": "code",
   "id": "edb9a9da-ed77-45b7-9610-29760e255987",
   "metadata": {
    "ExecuteTime": {
     "end_time": "2024-06-29T20:00:35.331384Z",
     "start_time": "2024-06-29T20:00:35.328456Z"
    }
   },
   "source": [
    "import numpy as np\n",
    "from qiskit_nature.second_q.operators import FermionicOp\n",
    "from qiskit_nature.second_q.mappers import JordanWignerMapper,BravyiKitaevMapper\n",
    "from qiskit.circuit import QuantumCircuit, ParameterVector, Parameter, QuantumRegister"
   ],
   "outputs": [],
   "execution_count": 90
  },
  {
   "cell_type": "code",
   "id": "74b39bc6-64cc-4995-aeed-519147ab9309",
   "metadata": {
    "ExecuteTime": {
     "end_time": "2024-06-29T20:00:35.397103Z",
     "start_time": "2024-06-29T20:00:35.395210Z"
    }
   },
   "source": [
    "n = 4\n",
    "N = 2*n\n",
    "t = 1\n",
    "mu = 1.5\n",
    "U = 3"
   ],
   "outputs": [],
   "execution_count": 91
  },
  {
   "cell_type": "code",
   "id": "895d5adb-41ba-4dca-8a05-9c738fd3cbf7",
   "metadata": {
    "ExecuteTime": {
     "end_time": "2024-06-29T20:00:35.405054Z",
     "start_time": "2024-06-29T20:00:35.403234Z"
    }
   },
   "source": [
    "op = FermionicOp(\n",
    "    {\n",
    "        \"+_0 -_0\": 1.0,\n",
    "        \"+_1 -_1\": -1.0,\n",
    "    },\n",
    "    num_spin_orbitals=2,\n",
    ")"
   ],
   "outputs": [],
   "execution_count": 92
  },
  {
   "cell_type": "code",
   "id": "d7c28209-2bc3-4b57-b2c0-147c98953fab",
   "metadata": {
    "ExecuteTime": {
     "end_time": "2024-06-29T20:00:35.407489Z",
     "start_time": "2024-06-29T20:00:35.405919Z"
    }
   },
   "source": [
    "print(op)"
   ],
   "outputs": [
    {
     "name": "stdout",
     "output_type": "stream",
     "text": [
      "Fermionic Operator\n",
      "number spin orbitals=2, number terms=2\n",
      "  1.0 * ( +_0 -_0 )\n",
      "+ -1.0 * ( +_1 -_1 )\n"
     ]
    }
   ],
   "execution_count": 93
  },
  {
   "cell_type": "code",
   "id": "2827e220-69f9-4561-8d91-dc1d1cad3040",
   "metadata": {
    "ExecuteTime": {
     "end_time": "2024-06-29T20:00:35.410559Z",
     "start_time": "2024-06-29T20:00:35.408942Z"
    }
   },
   "source": [
    "def qOp(i,j):\n",
    "    return FermionicOp(\n",
    "    {\n",
    "        \"+_{i} -_{j}\".format(i=i%N,j=j%N): 1.0,\n",
    "    },\n",
    "    num_spin_orbitals=N,\n",
    ")"
   ],
   "outputs": [],
   "execution_count": 94
  },
  {
   "cell_type": "code",
   "id": "7c3ac5f0-65e7-4744-9975-7b0174319094",
   "metadata": {
    "scrolled": true,
    "ExecuteTime": {
     "end_time": "2024-06-29T20:00:35.414883Z",
     "start_time": "2024-06-29T20:00:35.412231Z"
    }
   },
   "source": [
    "t_term = 0\n",
    "mu_term = 0\n",
    "U_term = 0\n",
    "for i in range(n):\n",
    "    t_term+= qOp(2*i,2*i+2) + qOp(2*i+2,2*i) + qOp(2*i+1,2*i+3) + qOp(2*i+3,2*i+1) \n",
    "    mu_term += qOp(2*i,2*i) + qOp(2*i+1,2*i+1)\n",
    "    U_term += (qOp(2*i,2*i) @ qOp(2*i+1, 2*i+1))\n",
    "H = U * U_term - mu * mu_term - t * t_term\n",
    "\n",
    "print(H)"
   ],
   "outputs": [
    {
     "name": "stdout",
     "output_type": "stream",
     "text": [
      "Fermionic Operator\n",
      "number spin orbitals=8, number terms=28\n",
      "  3.0 * ( +_0 -_0 +_1 -_1 )\n",
      "+ 3.0 * ( +_2 -_2 +_3 -_3 )\n",
      "+ 3.0 * ( +_4 -_4 +_5 -_5 )\n",
      "+ 3.0 * ( +_6 -_6 +_7 -_7 )\n",
      "+ -1.5 * ( +_4 -_4 )\n",
      "+ -1.5 * ( +_2 -_2 )\n",
      "+ -1.5 * ( +_3 -_3 )\n",
      "+ -1.5 * ( +_5 -_5 )\n",
      "+ -1.5 * ( +_0 -_0 )\n",
      "+ -1.5 * ( +_7 -_7 )\n",
      "+ -1.5 * ( +_1 -_1 )\n",
      "+ -1.5 * ( +_6 -_6 )\n",
      "+ -1.0 * ( +_4 -_2 )\n",
      "+ -1.0 * ( +_4 -_6 )\n",
      "+ -1.0 * ( +_3 -_5 )\n",
      "+ -1.0 * ( +_6 -_4 )\n",
      "+ -1.0 * ( +_3 -_1 )\n",
      "+ -1.0 * ( +_0 -_2 )\n",
      "+ -1.0 * ( +_5 -_7 )\n",
      "+ -1.0 * ( +_5 -_3 )\n",
      "+ -1.0 * ( +_1 -_7 )\n",
      "+ -1.0 * ( +_7 -_5 )\n",
      "+ -1.0 * ( +_1 -_3 )\n",
      "+ -1.0 * ( +_6 -_0 )\n",
      "+ -1.0 * ( +_0 -_6 )\n",
      "+ -1.0 * ( +_7 -_1 )\n",
      "+ -1.0 * ( +_2 -_0 )\n",
      "+ -1.0 * ( +_2 -_4 )\n"
     ]
    }
   ],
   "execution_count": 95
  },
  {
   "cell_type": "code",
   "id": "8526ada8-9a5c-4f86-a8e7-0979b5c424c8",
   "metadata": {
    "ExecuteTime": {
     "end_time": "2024-06-29T20:00:35.429732Z",
     "start_time": "2024-06-29T20:00:35.420204Z"
    }
   },
   "source": [
    "mapper = JordanWignerMapper()\n",
    "qubit_jw_op = mapper.map(H)\n",
    "print(qubit_jw_op)"
   ],
   "outputs": [
    {
     "name": "stdout",
     "output_type": "stream",
     "text": [
      "SparsePauliOp(['IIIIIIII', 'IIIIIIZZ', 'IIIIZZII', 'IIZZIIII', 'ZZIIIIII', 'IIIXZXII', 'IIIYZYII', 'IYZYIIII', 'IXZXIIII', 'IIYZYIII', 'IIXZXIII', 'IIIIXZXI', 'IIIIYZYI', 'IIIIIYZY', 'IIIIIXZX', 'YZYIIIII', 'XZXIIIII', 'YZZZZZYI', 'XZZZZZXI', 'IXZZZZZX', 'IYZZZZZY'],\n",
      "              coeffs=[-3.  +0.j,  0.75+0.j,  0.75+0.j,  0.75+0.j,  0.75+0.j, -0.5 +0.j,\n",
      " -0.5 +0.j, -0.5 +0.j, -0.5 +0.j, -0.5 +0.j, -0.5 +0.j, -0.5 +0.j,\n",
      " -0.5 +0.j, -0.5 +0.j, -0.5 +0.j, -0.5 +0.j, -0.5 +0.j, -0.5 +0.j,\n",
      " -0.5 +0.j, -0.5 +0.j, -0.5 +0.j])\n"
     ]
    }
   ],
   "execution_count": 96
  },
  {
   "cell_type": "code",
   "metadata": {
    "ExecuteTime": {
     "end_time": "2024-06-29T20:00:35.460974Z",
     "start_time": "2024-06-29T20:00:35.436666Z"
    }
   },
   "source": [
    "from qiskit_algorithms import NumPyEigensolver\n",
    "# from qiskit.visualization import plot_histogram\n",
    "# from qiskit.opflow.primitive_ops import PauliSumOp, PauliOp\n",
    "# from qiskit.quantum_info import SparsePauliOp\n",
    "\n",
    "print(qubit_jw_op) ###?!??!\n",
    "\n",
    "# find the first three (k=3) eigenvalues\n",
    "exact_solver = NumPyEigensolver(k=1)\n",
    "qubit_jw_op1 = qubit_jw_op\n",
    "exact_result = exact_solver.compute_eigenvalues(qubit_jw_op1)\n",
    "\n",
    "# Save ground state energy for later\n",
    "gs_energy = np.round(exact_result.eigenvalues[0], 4)\n",
    "\n",
    "gvec = exact_result.eigenstates[0].primitive.data\n",
    "\n",
    "print(bin(np.argmax(gvec)))\n",
    "for i,g in enumerate(gvec):\n",
    "    if np.abs(g) > 1e-10:\n",
    "        print(np.abs(g))\n",
    "        print(bin(i))\n",
    "        print(bin(i).count(\"1\")) # counts the number of filled orbitals"
   ],
   "id": "27af974610d5ebaa",
   "outputs": [
    {
     "name": "stdout",
     "output_type": "stream",
     "text": [
      "SparsePauliOp(['IIIIIIII', 'IIIIIIZZ', 'IIIIZZII', 'IIZZIIII', 'ZZIIIIII', 'IIIXZXII', 'IIIYZYII', 'IYZYIIII', 'IXZXIIII', 'IIYZYIII', 'IIXZXIII', 'IIIIXZXI', 'IIIIYZYI', 'IIIIIYZY', 'IIIIIXZX', 'YZYIIIII', 'XZXIIIII', 'YZZZZZYI', 'XZZZZZXI', 'IXZZZZZX', 'IYZZZZZY'],\n",
      "              coeffs=[-3.  +0.j,  0.75+0.j,  0.75+0.j,  0.75+0.j,  0.75+0.j, -0.5 +0.j,\n",
      " -0.5 +0.j, -0.5 +0.j, -0.5 +0.j, -0.5 +0.j, -0.5 +0.j, -0.5 +0.j,\n",
      " -0.5 +0.j, -0.5 +0.j, -0.5 +0.j, -0.5 +0.j, -0.5 +0.j, -0.5 +0.j,\n",
      " -0.5 +0.j, -0.5 +0.j, -0.5 +0.j])\n"
     ]
    },
    {
     "ename": "AttributeError",
     "evalue": "'csr_matrix' object has no attribute 'H'",
     "output_type": "error",
     "traceback": [
      "\u001B[0;31m---------------------------------------------------------------------------\u001B[0m",
      "\u001B[0;31mAttributeError\u001B[0m                            Traceback (most recent call last)",
      "Cell \u001B[0;32mIn[97], line 11\u001B[0m\n\u001B[1;32m      9\u001B[0m exact_solver \u001B[38;5;241m=\u001B[39m NumPyEigensolver(k\u001B[38;5;241m=\u001B[39m\u001B[38;5;241m1\u001B[39m)\n\u001B[1;32m     10\u001B[0m qubit_jw_op1 \u001B[38;5;241m=\u001B[39m qubit_jw_op\n\u001B[0;32m---> 11\u001B[0m exact_result \u001B[38;5;241m=\u001B[39m \u001B[43mexact_solver\u001B[49m\u001B[38;5;241;43m.\u001B[39;49m\u001B[43mcompute_eigenvalues\u001B[49m\u001B[43m(\u001B[49m\u001B[43mqubit_jw_op1\u001B[49m\u001B[43m)\u001B[49m\n\u001B[1;32m     13\u001B[0m \u001B[38;5;66;03m# Save ground state energy for later\u001B[39;00m\n\u001B[1;32m     14\u001B[0m gs_energy \u001B[38;5;241m=\u001B[39m np\u001B[38;5;241m.\u001B[39mround(exact_result\u001B[38;5;241m.\u001B[39meigenvalues[\u001B[38;5;241m0\u001B[39m], \u001B[38;5;241m4\u001B[39m)\n",
      "File \u001B[0;32m~/PycharmProjects/qagc2024-original/.venv/lib/python3.10/site-packages/qiskit_algorithms/eigensolvers/numpy_eigensolver.py:258\u001B[0m, in \u001B[0;36mNumPyEigensolver.compute_eigenvalues\u001B[0;34m(self, operator, aux_operators)\u001B[0m\n\u001B[1;32m    254\u001B[0m \u001B[38;5;28;01mif\u001B[39;00m \u001B[38;5;28mself\u001B[39m\u001B[38;5;241m.\u001B[39m_filter_criterion:\n\u001B[1;32m    255\u001B[0m     \u001B[38;5;66;03m# need to consider all elements if a filter is set\u001B[39;00m\n\u001B[1;32m    256\u001B[0m     \u001B[38;5;28mself\u001B[39m\u001B[38;5;241m.\u001B[39m_k \u001B[38;5;241m=\u001B[39m \u001B[38;5;241m2\u001B[39m\u001B[38;5;241m*\u001B[39m\u001B[38;5;241m*\u001B[39moperator\u001B[38;5;241m.\u001B[39mnum_qubits\n\u001B[0;32m--> 258\u001B[0m eigvals, eigvecs \u001B[38;5;241m=\u001B[39m \u001B[38;5;28;43mself\u001B[39;49m\u001B[38;5;241;43m.\u001B[39;49m\u001B[43m_solve\u001B[49m\u001B[43m(\u001B[49m\u001B[43moperator\u001B[49m\u001B[43m)\u001B[49m\n\u001B[1;32m    260\u001B[0m \u001B[38;5;66;03m# compute energies before filtering, as this also evaluates the aux operators\u001B[39;00m\n\u001B[1;32m    261\u001B[0m \u001B[38;5;28;01mif\u001B[39;00m aux_operators \u001B[38;5;129;01mis\u001B[39;00m \u001B[38;5;129;01mnot\u001B[39;00m \u001B[38;5;28;01mNone\u001B[39;00m:\n",
      "File \u001B[0;32m~/PycharmProjects/qagc2024-original/.venv/lib/python3.10/site-packages/qiskit_algorithms/eigensolvers/numpy_eigensolver.py:143\u001B[0m, in \u001B[0;36mNumPyEigensolver._solve\u001B[0;34m(self, operator)\u001B[0m\n\u001B[1;32m    141\u001B[0m             eigval, eigvec \u001B[38;5;241m=\u001B[39m \u001B[38;5;28mself\u001B[39m\u001B[38;5;241m.\u001B[39m_solve_dense(operator\u001B[38;5;241m.\u001B[39mto_matrix())\n\u001B[1;32m    142\u001B[0m         \u001B[38;5;28;01melse\u001B[39;00m:\n\u001B[0;32m--> 143\u001B[0m             eigval, eigvec \u001B[38;5;241m=\u001B[39m \u001B[38;5;28;43mself\u001B[39;49m\u001B[38;5;241;43m.\u001B[39;49m\u001B[43m_solve_sparse\u001B[49m\u001B[43m(\u001B[49m\u001B[43mop_matrix\u001B[49m\u001B[43m,\u001B[49m\u001B[43m \u001B[49m\u001B[38;5;28;43mself\u001B[39;49m\u001B[38;5;241;43m.\u001B[39;49m\u001B[43m_k\u001B[49m\u001B[43m)\u001B[49m\n\u001B[1;32m    144\u001B[0m \u001B[38;5;28;01melse\u001B[39;00m:\n\u001B[1;32m    145\u001B[0m     \u001B[38;5;66;03m# Sparse SciPy matrix not supported, use dense NumPy computation.\u001B[39;00m\n\u001B[1;32m    146\u001B[0m     eigval, eigvec \u001B[38;5;241m=\u001B[39m \u001B[38;5;28mself\u001B[39m\u001B[38;5;241m.\u001B[39m_solve_dense(operator\u001B[38;5;241m.\u001B[39mto_matrix())\n",
      "File \u001B[0;32m~/PycharmProjects/qagc2024-original/.venv/lib/python3.10/site-packages/qiskit_algorithms/eigensolvers/numpy_eigensolver.py:155\u001B[0m, in \u001B[0;36mNumPyEigensolver._solve_sparse\u001B[0;34m(op_matrix, k)\u001B[0m\n\u001B[1;32m    153\u001B[0m \u001B[38;5;129m@staticmethod\u001B[39m\n\u001B[1;32m    154\u001B[0m \u001B[38;5;28;01mdef\u001B[39;00m \u001B[38;5;21m_solve_sparse\u001B[39m(op_matrix: scisparse\u001B[38;5;241m.\u001B[39mcsr_matrix, k: \u001B[38;5;28mint\u001B[39m) \u001B[38;5;241m-\u001B[39m\u001B[38;5;241m>\u001B[39m \u001B[38;5;28mtuple\u001B[39m[np\u001B[38;5;241m.\u001B[39mndarray, np\u001B[38;5;241m.\u001B[39mndarray]:\n\u001B[0;32m--> 155\u001B[0m     \u001B[38;5;28;01mif\u001B[39;00m (op_matrix \u001B[38;5;241m!=\u001B[39m \u001B[43mop_matrix\u001B[49m\u001B[38;5;241;43m.\u001B[39;49m\u001B[43mH\u001B[49m)\u001B[38;5;241m.\u001B[39mnnz \u001B[38;5;241m==\u001B[39m \u001B[38;5;241m0\u001B[39m:\n\u001B[1;32m    156\u001B[0m         \u001B[38;5;66;03m# Operator is Hermitian\u001B[39;00m\n\u001B[1;32m    157\u001B[0m         \u001B[38;5;28;01mreturn\u001B[39;00m scisparse\u001B[38;5;241m.\u001B[39mlinalg\u001B[38;5;241m.\u001B[39meigsh(op_matrix, k\u001B[38;5;241m=\u001B[39mk, which\u001B[38;5;241m=\u001B[39m\u001B[38;5;124m\"\u001B[39m\u001B[38;5;124mSA\u001B[39m\u001B[38;5;124m\"\u001B[39m)\n\u001B[1;32m    158\u001B[0m     \u001B[38;5;28;01melse\u001B[39;00m:\n",
      "\u001B[0;31mAttributeError\u001B[0m: 'csr_matrix' object has no attribute 'H'"
     ]
    }
   ],
   "execution_count": 97
  },
  {
   "cell_type": "code",
   "metadata": {},
   "source": [
    "print(gs_energy)"
   ],
   "id": "936788ae642bc97b",
   "outputs": [],
   "execution_count": null
  },
  {
   "cell_type": "code",
   "id": "b4a4b8d8-3c1b-41c7-93b5-a9b71fe77d94",
   "metadata": {},
   "source": [
    "from qiskit_algorithms import VQE\n",
    "from qiskit.primitives import Estimator, Sampler\n",
    "from qiskit.circuit.library import EfficientSU2\n",
    "from qiskit_algorithms.optimizers import SPSA, COBYLA, QNSPSA\n",
    "# SLSQP\n",
    "\n",
    "n = qubit_jw_op.num_qubits\n",
    "est = Estimator()\n",
    "ansatz = EfficientSU2(n)\n",
    "optimizer = COBYLA(maxiter = 1000)\n",
    "intermediate_info = []\n",
    "params_info = []\n",
    "def callback(eval_count,params,value,meta):\n",
    "        intermediate_info.append(value)\n",
    "        params_info.append(params)\n",
    "\n",
    "vqe = VQE(est,ansatz,optimizer,callback = callback)\n"
   ],
   "outputs": [],
   "execution_count": null
  },
  {
   "cell_type": "code",
   "metadata": {},
   "source": [
    "eigen = vqe.compute_minimum_eigenvalue(qubit_jw_op).eigenvalue"
   ],
   "id": "e51f370fdace562f",
   "outputs": [],
   "execution_count": null
  },
  {
   "cell_type": "code",
   "metadata": {
    "ExecuteTime": {
     "end_time": "2024-06-29T20:00:35.465778Z",
     "start_time": "2024-06-29T20:00:35.464239Z"
    }
   },
   "source": [
    "print(eigen)"
   ],
   "id": "1cd65a825202a255",
   "outputs": [
    {
     "name": "stdout",
     "output_type": "stream",
     "text": [
      "-7.1965030757092565\n"
     ]
    }
   ],
   "execution_count": 98
  },
  {
   "cell_type": "code",
   "metadata": {
    "ExecuteTime": {
     "end_time": "2024-06-29T20:00:35.531830Z",
     "start_time": "2024-06-29T20:00:35.471131Z"
    }
   },
   "source": [
    "import matplotlib.pyplot as plt\n",
    "plt.plot(intermediate_info, color='purple', lw=2, label='Simulated VQE')\n",
    "plt.ylabel('Energy')\n",
    "plt.xlabel('Iterations')\n",
    "# Exact ground state energy value\n",
    "plt.axhline(y=gs_energy, color=\"tab:red\", ls=\"--\", lw=2, label=\"Target: \" + str(gs_energy))\n",
    "plt.legend()\n",
    "plt.grid()\n",
    "plt.show()"
   ],
   "id": "782f19a3eb8e628e",
   "outputs": [
    {
     "ename": "NameError",
     "evalue": "name 'gs_energy' is not defined",
     "output_type": "error",
     "traceback": [
      "\u001B[0;31m---------------------------------------------------------------------------\u001B[0m",
      "\u001B[0;31mNameError\u001B[0m                                 Traceback (most recent call last)",
      "Cell \u001B[0;32mIn[99], line 6\u001B[0m\n\u001B[1;32m      4\u001B[0m plt\u001B[38;5;241m.\u001B[39mxlabel(\u001B[38;5;124m'\u001B[39m\u001B[38;5;124mIterations\u001B[39m\u001B[38;5;124m'\u001B[39m)\n\u001B[1;32m      5\u001B[0m \u001B[38;5;66;03m# Exact ground state energy value\u001B[39;00m\n\u001B[0;32m----> 6\u001B[0m plt\u001B[38;5;241m.\u001B[39maxhline(y\u001B[38;5;241m=\u001B[39m\u001B[43mgs_energy\u001B[49m, color\u001B[38;5;241m=\u001B[39m\u001B[38;5;124m\"\u001B[39m\u001B[38;5;124mtab:red\u001B[39m\u001B[38;5;124m\"\u001B[39m, ls\u001B[38;5;241m=\u001B[39m\u001B[38;5;124m\"\u001B[39m\u001B[38;5;124m--\u001B[39m\u001B[38;5;124m\"\u001B[39m, lw\u001B[38;5;241m=\u001B[39m\u001B[38;5;241m2\u001B[39m, label\u001B[38;5;241m=\u001B[39m\u001B[38;5;124m\"\u001B[39m\u001B[38;5;124mTarget: \u001B[39m\u001B[38;5;124m\"\u001B[39m \u001B[38;5;241m+\u001B[39m \u001B[38;5;28mstr\u001B[39m(gs_energy))\n\u001B[1;32m      7\u001B[0m plt\u001B[38;5;241m.\u001B[39mlegend()\n\u001B[1;32m      8\u001B[0m plt\u001B[38;5;241m.\u001B[39mgrid()\n",
      "\u001B[0;31mNameError\u001B[0m: name 'gs_energy' is not defined"
     ]
    },
    {
     "data": {
      "text/plain": [
       "<Figure size 640x480 with 1 Axes>"
      ],
      "image/png": "[encoded data removed]"
     },
     "metadata": {},
     "output_type": "display_data"
    }
   ],
   "execution_count": 99
  },
  {
   "cell_type": "markdown",
   "metadata": {},
   "source": [
    "# Ansatz From: https://arxiv.org/pdf/2112.14077\n",
    "\n",
    "## Notes:\n",
    "start2: -7.4 descent\n",
    "start: barren plateau around -4"
   ],
   "id": "8de292d38db0284c"
  },
  {
   "cell_type": "code",
   "metadata": {
    "ExecuteTime": {
     "end_time": "2024-06-29T20:00:35.532721Z",
     "start_time": "2024-06-29T20:00:35.532663Z"
    }
   },
   "source": [
    "from qiskit.circuit.library import SwapGate\n",
    "from scipy.linalg import expm\n",
    "from qiskit.quantum_info.operators import Operator\n",
    "from qiskit.extensions import HamiltonianGate\n",
    "\n",
    "# eZZ gate\n",
    "theta = 0.7809\n",
    "Smat = SwapGate().to_matrix()\n",
    "Sop = Operator(SwapGate())\n",
    "# print(Sop)\n",
    "# expS = expm(1j*Smat)\n",
    "# def expSt(t):\n",
    "#   return np.power(expS,t)\n",
    "\n",
    "def eSwap(circ,i,j,t):\n",
    "    eSt = HamiltonianGate(Sop,t,label = \"eSwap\")\n",
    "    circ.append(eSt,[i,j])\n",
    "\n",
    "\n",
    "def eZZ(circ,i,j,t):\n",
    "    circ.cx(i,j)\n",
    "    circ.rz(t,j)\n",
    "    circ.cx(i,j)\n",
    "\n",
    "def fij(circ,i,j,t):\n",
    "    eSwap(circ,i,j,t)\n",
    "    circ.cp(t,i,j)\n",
    "\n",
    "def efSwap(circ,i,j,t):\n",
    "    for k in range(j-1,i,-1):\n",
    "        circ.cz(j,k)\n",
    "    fij(circ,i,j,t)\n",
    "    for k in range(i+1,j,1):\n",
    "        circ.cz(j,k)\n",
    "\n",
    "def hopping(circ,r):\n",
    "    n = circ.num_qubits\n",
    "    t_s = ParameterVector(\"t_h{r}\".format(r=r),length = n)\n",
    "    for i in range(n):\n",
    "        efSwap(circ,i,(i+2)%n,t_s[i])\n",
    "\n",
    "def interaction(circ,r):\n",
    "    n = circ.num_qubits\n",
    "    t_s = ParameterVector(\"t_i{r}\".format(r=r),length = n//2)\n",
    "    for i in range(0,n,2):\n",
    "        eZZ(circ,i,i+1,t_s[i//2])\n",
    "\n",
    "\n",
    "li = [i for i in range(0,n,4)]+[i+1 for i in range(0,n,4)]\n",
    "def start(circ):\n",
    "    n = circ.num_qubits\n",
    "    for i in li:\n",
    "        circ.x(i)\n",
    "        circ.h(i+2)\n",
    "        circ.cx(i,i+2)\n",
    "    circ.barrier()\n",
    "\n",
    "def start2(circ):\n",
    "    n = circ.num_qubits\n",
    "    li = [i for i in range(0,n//2,2)]+[n-1-i for i in range(0,n//2,2)]\n",
    "    circ.x(li)\n",
    "    circ.barrier()\n",
    "\n",
    "def hopint(circ,reps = 3):\n",
    "    for r in range(reps):\n",
    "        hopping(circ,r)\n",
    "        interaction(circ,r)\n",
    "    "
   ],
   "id": "9a7c0986131e1c75",
   "outputs": [],
   "execution_count": null
  },
  {
   "cell_type": "code",
   "metadata": {},
   "source": [
    "circ = QuantumCircuit(N)\n",
    "start2(circ)\n",
    "hopint(circ,reps = 3)\n",
    "circ.draw(style = \"mpl\")\n"
   ],
   "id": "5bdf24a85b8f370b",
   "outputs": [],
   "execution_count": null
  },
  {
   "cell_type": "code",
   "metadata": {
    "ExecuteTime": {
     "end_time": "2024-06-29T20:00:35.547048Z",
     "start_time": "2024-06-29T20:00:35.538849Z"
    }
   },
   "source": [
    "ans1 = circ\n",
    "print(ans1.num_qubits)"
   ],
   "id": "b63d10c1c29949ab",
   "outputs": [
    {
     "ename": "NameError",
     "evalue": "name 'circ' is not defined",
     "output_type": "error",
     "traceback": [
      "\u001B[0;31m---------------------------------------------------------------------------\u001B[0m",
      "\u001B[0;31mNameError\u001B[0m                                 Traceback (most recent call last)",
      "Cell \u001B[0;32mIn[100], line 1\u001B[0m\n\u001B[0;32m----> 1\u001B[0m ans1 \u001B[38;5;241m=\u001B[39m \u001B[43mcirc\u001B[49m\n\u001B[1;32m      2\u001B[0m \u001B[38;5;28mprint\u001B[39m(ans1\u001B[38;5;241m.\u001B[39mnum_qubits)\n",
      "\u001B[0;31mNameError\u001B[0m: name 'circ' is not defined"
     ]
    }
   ],
   "execution_count": 100
  },
  {
   "cell_type": "code",
   "metadata": {
    "ExecuteTime": {
     "end_time": "2024-06-29T20:00:35.580805Z",
     "start_time": "2024-06-29T20:00:35.572161Z"
    }
   },
   "source": [
    "from qiskit.opflow.gradients import NaturalGradient"
   ],
   "id": "68275b8f719edd13",
   "outputs": [
    {
     "ename": "ModuleNotFoundError",
     "evalue": "No module named 'qiskit.opflow'",
     "output_type": "error",
     "traceback": [
      "\u001B[0;31m---------------------------------------------------------------------------\u001B[0m",
      "\u001B[0;31mModuleNotFoundError\u001B[0m                       Traceback (most recent call last)",
      "Cell \u001B[0;32mIn[101], line 1\u001B[0m\n\u001B[0;32m----> 1\u001B[0m \u001B[38;5;28;01mfrom\u001B[39;00m \u001B[38;5;21;01mqiskit\u001B[39;00m\u001B[38;5;21;01m.\u001B[39;00m\u001B[38;5;21;01mopflow\u001B[39;00m\u001B[38;5;21;01m.\u001B[39;00m\u001B[38;5;21;01mgradients\u001B[39;00m \u001B[38;5;28;01mimport\u001B[39;00m NaturalGradient\n",
      "\u001B[0;31mModuleNotFoundError\u001B[0m: No module named 'qiskit.opflow'"
     ]
    }
   ],
   "execution_count": 101
  },
  {
   "cell_type": "code",
   "metadata": {
    "ExecuteTime": {
     "end_time": "2024-06-29T20:00:35.581449Z",
     "start_time": "2024-06-29T20:00:35.581407Z"
    }
   },
   "source": [
    "ngrad = NaturalGradient(grad_method=\"param_shift\",qfi_method='overlap_block_diag')"
   ],
   "id": "c15397b1cb6a79fe",
   "outputs": [],
   "execution_count": null
  },
  {
   "cell_type": "code",
   "metadata": {
    "ExecuteTime": {
     "end_time": "2024-06-29T20:00:35.642169Z",
     "start_time": "2024-06-29T20:00:35.583477Z"
    }
   },
   "source": [
    "sampler = Sampler()\n",
    "param_count = ans1.num_parameters\n",
    "initial_point = np.random.random(param_count)*np.pi\n",
    "#fidelity = QNSPSA.get_fidelity(ans1, sampler = sampler)\n",
    "#optimizer = QNSPSA(fidelity,maxiter = 100)\n",
    "optimizer = COBYLA(maxiter = 1000)\n",
    "intermediate_info = []\n",
    "params_info = []\n",
    "vqe1 = VQE(est,ans1,optimizer,callback = callback,initial_point = initial_point)\n",
    "eigen = vqe1.compute_minimum_eigenvalue(qubit_jw_op).eigenvalue\n",
    "print(eigen)"
   ],
   "id": "728066ef150749e0",
   "outputs": [
    {
     "ename": "NameError",
     "evalue": "name 'ans1' is not defined",
     "output_type": "error",
     "traceback": [
      "\u001B[0;31m---------------------------------------------------------------------------\u001B[0m",
      "\u001B[0;31mNameError\u001B[0m                                 Traceback (most recent call last)",
      "Cell \u001B[0;32mIn[102], line 2\u001B[0m\n\u001B[1;32m      1\u001B[0m sampler \u001B[38;5;241m=\u001B[39m Sampler()\n\u001B[0;32m----> 2\u001B[0m param_count \u001B[38;5;241m=\u001B[39m \u001B[43mans1\u001B[49m\u001B[38;5;241m.\u001B[39mnum_parameters\n\u001B[1;32m      3\u001B[0m initial_point \u001B[38;5;241m=\u001B[39m np\u001B[38;5;241m.\u001B[39mrandom\u001B[38;5;241m.\u001B[39mrandom(param_count)\u001B[38;5;241m*\u001B[39mnp\u001B[38;5;241m.\u001B[39mpi\n\u001B[1;32m      4\u001B[0m \u001B[38;5;66;03m#fidelity = QNSPSA.get_fidelity(ans1, sampler = sampler)\u001B[39;00m\n\u001B[1;32m      5\u001B[0m \u001B[38;5;66;03m#optimizer = QNSPSA(fidelity,maxiter = 100)\u001B[39;00m\n",
      "\u001B[0;31mNameError\u001B[0m: name 'ans1' is not defined"
     ]
    }
   ],
   "execution_count": 102
  },
  {
   "cell_type": "code",
   "metadata": {
    "ExecuteTime": {
     "end_time": "2024-06-29T20:00:35.643270Z",
     "start_time": "2024-06-29T20:00:35.643226Z"
    }
   },
   "source": [
    "plt.plot(intermediate_info, color='purple', lw=2, label='Simulated VQE')\n",
    "plt.ylabel('Energy')\n",
    "plt.xlabel('Iterations')\n",
    "# Exact ground state energy value\n",
    "plt.axhline(y=gs_energy, color=\"tab:red\", ls=\"--\", lw=2, label=\"Target: \" + str(gs_energy))\n",
    "plt.legend()\n",
    "plt.grid()\n",
    "plt.show()"
   ],
   "id": "430a302bc648a571",
   "outputs": [],
   "execution_count": null
  },
  {
   "cell_type": "code",
   "metadata": {},
   "source": [
    "from qiskit.circuit import Gate\n",
    "class ParticleSym(Gate):\n",
    "    def __init__(self,params,rev = True,label = None):\n",
    "        \n",
    "        self._rev = rev\n",
    "        self._params = list(params)\n",
    "        \n",
    "        if self._rev:\n",
    "            self._params[1] = 0\n",
    "        super().__init__(\"A\",2,self._params)\n",
    "    \n",
    "    def _define(self):\n",
    "        q = QuantumRegister(2, \"q\")\n",
    "        circ = QuantumCircuit(q,name = self.name)\n",
    "        p = self._params[1]+np.pi\n",
    "        t = self._params[0]+np.pi/2\n",
    "        circ.cx(1,0)\n",
    "        '''theta = 2*self._params[0]\n",
    "        lam = self._params[1]+np.pi\n",
    "        phi = -self._params[1]\n",
    "        circ.cu(theta,phi,lam,0,0,1)\n",
    "        '''\n",
    "        circ.rz(-p,1)\n",
    "        circ.ry(-t,1)\n",
    "        circ.cx(0,1)\n",
    "        circ.ry(t,1)\n",
    "        circ.rz(p,1)\n",
    "        circ.cx(1,0)\n",
    "        self.definition = circ"
   ],
   "id": "ea98fc91304a6cc",
   "outputs": [],
   "execution_count": null
  },
  {
   "cell_type": "code",
   "metadata": {},
   "source": [
    "from math import factorial \n",
    "from qiskit.circuit import ParameterVector\n",
    "from qiskit.circuit import QuantumRegister\n",
    "\n",
    "def comb(n,m):\n",
    "    return factorial(n)//(factorial(n-m)*factorial(m))\n",
    "\n",
    "mapping = [(i,(i+1)%N) for i in range(N)]+ [(i,(i+2)%N) for i in range(N)]\n",
    "\n",
    "def dimer(circ,r=1):\n",
    "    a2 = []\n",
    "    for i in range(len(mapping)):\n",
    "        a2.append(ParameterVector(\"ß\"+str(i)+str(r),2))\n",
    "\n",
    "    for i in range(len(mapping)):\n",
    "        circ.append(ParticleSym(a2[i]),mapping[i]) "
   ],
   "id": "eb89e46fc4dcbce7",
   "outputs": [],
   "execution_count": null
  },
  {
   "cell_type": "code",
   "metadata": {},
   "source": [
    "def hopintans(circ,reps = 3):\n",
    "    for r in range(reps):\n",
    "        hopping(circ,r)\n",
    "        interaction(circ,r)\n",
    "        dimer(circ,r)"
   ],
   "id": "c660c2d033ce54dd",
   "outputs": [],
   "execution_count": null
  },
  {
   "cell_type": "code",
   "metadata": {},
   "source": [
    "ans2 = QuantumCircuit(N)\n",
    "start2(ans2)\n",
    "#dimer(ans2)\n",
    "hopint(ans2,reps = 2)\n",
    "ans2.draw(style = \"mpl\")"
   ],
   "id": "aaa6ffe1e3325ef3",
   "outputs": [],
   "execution_count": null
  },
  {
   "cell_type": "code",
   "metadata": {},
   "source": [
    "sampler = Sampler()\n",
    "param_count = ans2.num_parameters\n",
    "initial_point = np.random.random(param_count)*np.pi\n",
    "fidelity = QNSPSA.get_fidelity(ans2, sampler = sampler)\n",
    "optimizer = QNSPSA(fidelity,maxiter = 100)\n",
    "#optimizer = SPSA(maxiter = 1000)\n",
    "intermediate_info = []\n",
    "params_info = []\n",
    "vqe2 = VQE(est,ans2,optimizer,callback = callback,initial_point = initial_point)\n",
    "eigen = vqe2.compute_minimum_eigenvalue(qubit_jw_op).eigenvalue\n",
    "print(eigen)"
   ],
   "id": "2dfa9174c89002fc",
   "outputs": [],
   "execution_count": null
  },
  {
   "cell_type": "code",
   "metadata": {},
   "source": [
    "plt.plot(intermediate_info, color='purple', lw=2, label='Simulated VQE')\n",
    "plt.ylabel('Energy')\n",
    "plt.xlabel('Iterations')\n",
    "# Exact ground state energy value\n",
    "plt.axhline(y=gs_energy, color=\"tab:red\", ls=\"--\", lw=2, label=\"Target: \" + str(gs_energy))\n",
    "plt.legend()\n",
    "plt.grid()\n",
    "plt.show()"
   ],
   "id": "69d95385ecb32ca3",
   "outputs": [],
   "execution_count": null
  },
  {
   "cell_type": "code",
   "metadata": {},
   "source": [
    "from qiskit.quantum_info import PauliList,Pauli,SparsePauliOp\n",
    "\n",
    "\n",
    "\n",
    "def TotalSpin(num):\n",
    "    pl = []\n",
    "    for i in range(num):\n",
    "        I_beg = \"I\"*i\n",
    "        I_beg += \"Z\"\n",
    "        I_beg += \"I\"*(num-i-1)\n",
    "        pl.append(I_beg)\n",
    "\n",
    "    p_list = PauliList(pl)\n",
    "    sp_list = SparsePauliOp(p_list)\n",
    "    tSpin = PauliSumOp(sp_list)\n",
    "    return tSpin\n",
    "print(TotalSpin(N))"
   ],
   "id": "21f700fb1e2c41bc",
   "outputs": [],
   "execution_count": null
  },
  {
   "cell_type": "markdown",
   "metadata": {},
   "source": [
    "# Add Symmetry Penalty\n",
    "\n",
    "## Notes:\n",
    "Does not work very well. Slows things down."
   ],
   "id": "4dfb3f58ae3e58fc"
  },
  {
   "cell_type": "code",
   "metadata": {},
   "source": [
    "from qiskit.algorithms import MinimumEigensolver, VQEResult\n",
    "from qiskit.opflow import (\n",
    "    CircuitSampler,\n",
    "    CircuitStateFn,\n",
    "    ExpectationBase,\n",
    "    ExpectationFactory,\n",
    "    ListOp,\n",
    "    OperatorBase,\n",
    "    PauliSumOp,\n",
    "    StateFn,\n",
    ")\n",
    "from typing import Union, List, Dict\n",
    "\n",
    "# Define a custome VQE class to orchestra the ansatz, classical optimizers, \n",
    "# initial point, callback, and final result\n",
    "class CustomVQE(MinimumEigensolver):\n",
    "    \n",
    "    def __init__(self, estimator, circuit, optimizer, callback=None, initial_point = None, sym = True):\n",
    "        self._estimator = estimator\n",
    "        self.ansatz = circuit\n",
    "        self._optimizer = optimizer\n",
    "        self._callback = callback\n",
    "        self._initial_point = initial_point\n",
    "        #backend = Aer.get_backend(\"statevector_simulator\")\n",
    "        #self._circuit_sampler = CircuitSampler(\n",
    "        #    backend\n",
    "        #)\n",
    "        self._sym = sym\n",
    "     \n",
    "    '''def _get_eigenstate(self, optimal_parameters) -> Union[List[float], Dict[str, int]]:\n",
    "        \"\"\"Get the simulation outcome of the ansatz, provided with parameters.\"\"\"\n",
    "        optimal_circuit = self.ansatz.bind_parameters(optimal_parameters)\n",
    "        state_fn = self._circuit_sampler.convert(StateFn(optimal_circuit)).eval()\n",
    "        state = state_fn.primitive.data  # VectorStateFn -> Statevector -> np.array\n",
    "        return state'''\n",
    "    \n",
    "    \n",
    "    def compute_minimum_eigenvalue(self, operators, aux_operators=None):    \n",
    "        num = 0\n",
    "        # Define objective function to classically minimize over\n",
    "        def objective(x, shots = None):\n",
    "            #adjust number of shots\n",
    "            # Execute job with estimator primitive\n",
    "            if shots is not None:\n",
    "                shots = int(shots)\n",
    "                self._estimator.set_options(shots = shots)\n",
    "            else:\n",
    "                self._estimator.set_options(shots = 1024)\n",
    "            job = self._estimator.run([self.ansatz], [operators], [x])\n",
    "            # Get results from jobs\n",
    "            est_result = job.result()\n",
    "            # Get the measured energy value\n",
    "            value = est_result.values[0]\n",
    "            if self._sym:\n",
    "                spinop = TotalSpin(self.ansatz.num_qubits)\n",
    "                job_sym = self._estimator.run([self.ansatz], [spinop], [x])\n",
    "                est_result_sym = job_sym.result()\n",
    "                value_sym = est_result_sym.values[0]\n",
    "                value += 0.5*(value_sym)**2\n",
    "            # Save result information using callback function\n",
    "            if self._callback is not None:\n",
    "                self._callback(value)\n",
    "            return value\n",
    "            \n",
    "        # Select an initial point for the ansatzs' parameters\n",
    "        if self._initial_point is None:  \n",
    "            x0 = np.pi/4 * np.random.rand(self.ansatz.num_parameters)\n",
    "        else:\n",
    "            x0 = self._initial_point\n",
    "        # Run optimization\n",
    "        res = self._optimizer.minimize(objective, x0=x0)\n",
    "        \n",
    "        # Populate VQE result\n",
    "        result = VQEResult()\n",
    "        result.cost_function_evals = res.nit\n",
    "        result.eigenvalue = res.fun\n",
    "        result.optimal_parameters = res.x\n",
    "        result.eigenstate = None #self._get_eigenstate(result.optimal_parameters)\n",
    "        \n",
    "        return result"
   ],
   "id": "3355f673d3621226",
   "outputs": [],
   "execution_count": null
  },
  {
   "cell_type": "code",
   "metadata": {},
   "source": [
    "param_count = ans2.num_parameters\n",
    "initial_point = np.random.random(param_count)*np.pi\n",
    "#fidelity = QNSPSA.get_fidelity(ans2, sampler = sampler)\n",
    "#optimizer = QNSPSA(fidelity,maxiter = 100)\n",
    "optimizer = SPSA(maxiter = 1000)\n",
    "intermediate_info = []\n",
    "def callback(value):\n",
    "        intermediate_info.append(value)\n",
    "vqe3 = CustomVQE(est,ans2,optimizer,callback = callback,initial_point = initial_point,sym = True)\n",
    "eigen = vqe3.compute_minimum_eigenvalue(qubit_jw_op).eigenvalue\n",
    "print(eigen)"
   ],
   "id": "1922efcbcd3b171c",
   "outputs": [],
   "execution_count": null
  },
  {
   "cell_type": "code",
   "metadata": {},
   "source": [
    "plt.plot(intermediate_info, color='purple', lw=2, label='Simulated VQE')\n",
    "plt.ylabel('Energy')\n",
    "plt.xlabel('Iterations')\n",
    "# Exact ground state energy value\n",
    "plt.axhline(y=gs_energy, color=\"tab:red\", ls=\"--\", lw=2, label=\"Target: \" + str(gs_energy))\n",
    "plt.legend()\n",
    "plt.grid()\n",
    "plt.show()"
   ],
   "id": "b6d85a5a03f8568e",
   "outputs": [],
   "execution_count": null
  },
  {
   "metadata": {},
   "cell_type": "code",
   "source": "",
   "id": "5dcebe21b21ac4c9",
   "outputs": [],
   "execution_count": null
  }
 ],
 "metadata": {
  "kernelspec": {
   "display_name": "Python 3 (ipykernel)",
   "language": "python",
   "name": "python3"
  },
  "language_info": {
   "codemirror_mode": {
    "name": "ipython",
    "version": 3
   },
   "file_extension": ".py",
   "mimetype": "text/x-python",
   "name": "python",
   "nbconvert_exporter": "python",
   "pygments_lexer": "ipython3",
   "version": "3.11.8"
  }
 },
 "nbformat": 4,
 "nbformat_minor": 5
}
