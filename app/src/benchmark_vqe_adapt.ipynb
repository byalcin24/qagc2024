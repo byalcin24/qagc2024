{
 "cells": [
  {
   "cell_type": "code",
   "id": "edb9a9da-ed77-45b7-9610-29760e255987",
   "metadata": {
    "ExecuteTime": {
     "end_time": "2024-06-29T17:58:06.372022Z",
     "start_time": "2024-06-29T17:58:06.369070Z"
    }
   },
   "source": [
    "import numpy as np\n",
    "from qiskit_nature.second_q.operators import FermionicOp\n",
    "from qiskit_nature.second_q.mappers import JordanWignerMapper,BravyiKitaevMapper\n",
    "from qiskit.circuit import QuantumCircuit, ParameterVector, Parameter, QuantumRegister"
   ],
   "outputs": [],
   "execution_count": 61
  },
  {
   "cell_type": "code",
   "metadata": {
    "ExecuteTime": {
     "end_time": "2024-06-29T17:58:06.479979Z",
     "start_time": "2024-06-29T17:58:06.478208Z"
    }
   },
   "source": [],
   "id": "ea5b09484e664fbf",
   "outputs": [],
   "execution_count": 61
  },
  {
   "cell_type": "code",
   "id": "74b39bc6-64cc-4995-aeed-519147ab9309",
   "metadata": {
    "ExecuteTime": {
     "end_time": "2024-06-29T17:58:06.494900Z",
     "start_time": "2024-06-29T17:58:06.492263Z"
    }
   },
   "source": [
    "n = 2\n",
    "N = 2*n\n",
    "t=1\n",
    "mu=1.5\n",
    "U=3"
   ],
   "outputs": [],
   "execution_count": 62
  },
  {
   "cell_type": "code",
   "id": "895d5adb-41ba-4dca-8a05-9c738fd3cbf7",
   "metadata": {
    "ExecuteTime": {
     "end_time": "2024-06-29T17:58:06.504080Z",
     "start_time": "2024-06-29T17:58:06.501834Z"
    }
   },
   "source": [
    "op = FermionicOp(\n",
    "    {\n",
    "        \"+_0 -_0\": 1.0,\n",
    "        \"+_1 -_1\": -1.0,\n",
    "    },\n",
    "    num_spin_orbitals=2,\n",
    ")"
   ],
   "outputs": [],
   "execution_count": 63
  },
  {
   "cell_type": "code",
   "id": "d7c28209-2bc3-4b57-b2c0-147c98953fab",
   "metadata": {
    "ExecuteTime": {
     "end_time": "2024-06-29T17:58:06.517272Z",
     "start_time": "2024-06-29T17:58:06.514907Z"
    }
   },
   "source": [
    "print(op)"
   ],
   "outputs": [
    {
     "name": "stdout",
     "output_type": "stream",
     "text": [
      "Fermionic Operator\n",
      "number spin orbitals=2, number terms=2\n",
      "  1.0 * ( +_0 -_0 )\n",
      "+ -1.0 * ( +_1 -_1 )\n"
     ]
    }
   ],
   "execution_count": 64
  },
  {
   "cell_type": "code",
   "id": "2827e220-69f9-4561-8d91-dc1d1cad3040",
   "metadata": {
    "ExecuteTime": {
     "end_time": "2024-06-29T17:58:06.530754Z",
     "start_time": "2024-06-29T17:58:06.528109Z"
    }
   },
   "source": [
    "def qOp(i,j):\n",
    "    return FermionicOp(\n",
    "    {\n",
    "        \"+_{i} -_{j}\".format(i=i%N,j=j%N): 1.0,\n",
    "    },\n",
    "    num_spin_orbitals=N,\n",
    ")"
   ],
   "outputs": [],
   "execution_count": 65
  },
  {
   "cell_type": "code",
   "id": "7c3ac5f0-65e7-4744-9975-7b0174319094",
   "metadata": {
    "scrolled": true,
    "ExecuteTime": {
     "end_time": "2024-06-29T17:58:06.546905Z",
     "start_time": "2024-06-29T17:58:06.541157Z"
    }
   },
   "source": [
    "t_list = []\n",
    "U_list = []\n",
    "for i in range(n):\n",
    "    t_list.append((2*i,(2*i+2)%N))\n",
    "    t_list.append((2*i+1,(2*i+3)%N))\n",
    "site_list = [2*i for i in range(n)]\n",
    "\n",
    "t_term = 0\n",
    "U_term = 0\n",
    "mu_term = 0\n",
    "\n",
    "for edge in t_list:\n",
    "    t_term += qOp(edge[0],edge[1])\n",
    "    t_term += qOp(edge[1],edge[0])\n",
    "\n",
    "for u in site_list:\n",
    "    mu_term += qOp(u,u) + qOp(u+1,u+1)\n",
    "    U_term += qOp(u,u)@qOp(u+1,u+1)\n",
    "\n",
    "H = U * U_term - mu * mu_term - t * t_term\n",
    "\n",
    "print(H)\n",
    "\n",
    "U_list = [(i,i+1) for i in site_list]"
   ],
   "outputs": [
    {
     "name": "stdout",
     "output_type": "stream",
     "text": [
      "Fermionic Operator\n",
      "number spin orbitals=4, number terms=10\n",
      "  3.0 * ( +_0 -_0 +_1 -_1 )\n",
      "+ 3.0 * ( +_2 -_2 +_3 -_3 )\n",
      "+ -1.5 * ( +_0 -_0 )\n",
      "+ -1.5 * ( +_1 -_1 )\n",
      "+ -1.5 * ( +_2 -_2 )\n",
      "+ -1.5 * ( +_3 -_3 )\n",
      "+ -2.0 * ( +_2 -_0 )\n",
      "+ -2.0 * ( +_1 -_3 )\n",
      "+ -2.0 * ( +_0 -_2 )\n",
      "+ -2.0 * ( +_3 -_1 )\n"
     ]
    }
   ],
   "execution_count": 66
  },
  {
   "cell_type": "code",
   "id": "8526ada8-9a5c-4f86-a8e7-0979b5c424c8",
   "metadata": {
    "ExecuteTime": {
     "end_time": "2024-06-29T17:58:06.574425Z",
     "start_time": "2024-06-29T17:58:06.566204Z"
    }
   },
   "source": [
    "mapper = JordanWignerMapper()\n",
    "qubit_jw_op = mapper.map(H)\n",
    "print(qubit_jw_op)"
   ],
   "outputs": [
    {
     "name": "stdout",
     "output_type": "stream",
     "text": [
      "-1.5 * IIII\n",
      "+ 0.75 * IIZZ\n",
      "+ 0.75 * ZZII\n",
      "- 1.0 * IXZX\n",
      "- 1.0 * IYZY\n",
      "- 1.0 * YZYI\n",
      "- 1.0 * XZXI\n"
     ]
    }
   ],
   "execution_count": 67
  },
  {
   "cell_type": "code",
   "metadata": {
    "ExecuteTime": {
     "end_time": "2024-06-29T17:58:06.587769Z",
     "start_time": "2024-06-29T17:58:06.582009Z"
    }
   },
   "source": [
    "from qiskit.algorithms import NumPyEigensolver\n",
    "from qiskit.visualization import plot_histogram\n",
    "from qiskit.opflow.primitive_ops import PauliSumOp, PauliOp\n",
    "\n",
    "# find the groundstate eigenvalue\n",
    "exact_solver = NumPyEigensolver(k=1)\n",
    "qubit_jw_op1 = qubit_jw_op\n",
    "exact_result = exact_solver.compute_eigenvalues(qubit_jw_op1)\n",
    "\n",
    "# Save ground state energy for later\n",
    "gs_energy = np.round(exact_result.eigenvalues[0], 4)"
   ],
   "id": "86251b01c08c1beb",
   "outputs": [],
   "execution_count": 68
  },
  {
   "cell_type": "code",
   "metadata": {
    "ExecuteTime": {
     "end_time": "2024-06-29T17:58:06.602814Z",
     "start_time": "2024-06-29T17:58:06.600568Z"
    }
   },
   "source": [
    "print(gs_energy)"
   ],
   "id": "6fe2bca2e25485e2",
   "outputs": [
    {
     "name": "stdout",
     "output_type": "stream",
     "text": [
      "-5.772\n"
     ]
    }
   ],
   "execution_count": 69
  },
  {
   "cell_type": "markdown",
   "metadata": {},
   "source": [
    "# Operator Pool"
   ],
   "id": "f91932bc2a6cbaf2"
  },
  {
   "cell_type": "code",
   "metadata": {
    "ExecuteTime": {
     "end_time": "2024-06-29T17:58:06.642716Z",
     "start_time": "2024-06-29T17:58:06.637905Z"
    }
   },
   "source": [
    "from qiskit.quantum_info import Pauli,Operator\n",
    "\n",
    "def makePauli(N,idx,gs):\n",
    "    pauli_str = \"\"\n",
    "    for i in range(N):\n",
    "        if i in idx:\n",
    "            pauli_str+=gs[idx.index(i)]\n",
    "        else:\n",
    "            pauli_str+=\"I\"\n",
    "    return Pauli(pauli_str)\n",
    "\n",
    "def makeZZ(N,i,j):\n",
    "    qc = QuantumCircuit(N)\n",
    "\n",
    "    return qc\n",
    "\n",
    "makePauli(5,(1,2),[\"Z\",\"Z\"])"
   ],
   "id": "1d4cb362b013507c",
   "outputs": [
    {
     "data": {
      "text/plain": [
       "Pauli('IZZII')"
      ]
     },
     "execution_count": 70,
     "metadata": {},
     "output_type": "execute_result"
    }
   ],
   "execution_count": 70
  },
  {
   "cell_type": "code",
   "metadata": {
    "ExecuteTime": {
     "end_time": "2024-06-29T17:58:06.657872Z",
     "start_time": "2024-06-29T17:58:06.652084Z"
    }
   },
   "source": [
    "from qiskit.circuit.library import SwapGate\n",
    "from scipy.linalg import expm\n",
    "from qiskit.quantum_info.operators import Operator\n",
    "from qiskit.extensions import HamiltonianGate\n",
    "\n",
    "#eZZ gate\n",
    "theta = 0.7809\n",
    "Smat = SwapGate().to_matrix()\n",
    "Sop = Operator(SwapGate())\n",
    "#print(Sop)\n",
    "#expS = expm(1j*Smat)\n",
    "#def expSt(t):\n",
    "#    return np.power(expS,t)\n",
    "\n",
    "def eZZ(N,i,j,t):\n",
    "    circ = QuantumCircuit(N)\n",
    "    circ.cx(i,j)\n",
    "    circ.rz(t,j)\n",
    "    circ.cx(i,j)\n",
    "    return circ\n",
    "\n",
    "\n",
    "def eSwap(circ,i,j,t):\n",
    "    eSt = HamiltonianGate(Sop,t,label = \"eSwap\")\n",
    "    circ.append(eSt,[i,j])\n",
    "\n",
    "def fij(circ,i,j,t):\n",
    "    eSwap(circ,i,j,t)\n",
    "    circ.cp(t,i,j)\n",
    "\n",
    "def efSwap(N,i,j,t):\n",
    "    circ = QuantumCircuit(N)\n",
    "    for k in range(j-1,i,-1):\n",
    "        circ.cz(j,k)\n",
    "    fij(circ,i,j,t)\n",
    "    for k in range(i+1,j,1):\n",
    "        circ.cz(j,k)\n",
    "    return circ\n",
    "    "
   ],
   "id": "fb68dbd06e235262",
   "outputs": [],
   "execution_count": 71
  },
  {
   "cell_type": "code",
   "metadata": {
    "ExecuteTime": {
     "end_time": "2024-06-29T17:58:06.680347Z",
     "start_time": "2024-06-29T17:58:06.675540Z"
    }
   },
   "source": [
    "def poolZZ(N,Us):\n",
    "    pool = []\n",
    "    for edge in Us:\n",
    "        p = makePauli(N,edge,[\"Z\",\"Z\"])\n",
    "        pool.append(p)\n",
    "    return pool\n",
    "\n",
    "'''def poolZZ(N,Us):\n",
    "    pool = []\n",
    "    ts = ParameterVector(\"t\",length = len(Us))\n",
    "    for i,edge in enumerate(Us):\n",
    "        p = eZZ(N,edge[0],edge[1],ts[i])\n",
    "        pool.append(p)\n",
    "    return pool'''\n",
    "\n",
    "poolZZ(N,U_list)\n",
    "#poolZZ(N,U_list)[1].draw(style = \"mpl\")"
   ],
   "id": "538dffabf497f494",
   "outputs": [
    {
     "data": {
      "text/plain": [
       "[Pauli('ZZII'), Pauli('IIZZ')]"
      ]
     },
     "execution_count": 72,
     "metadata": {},
     "output_type": "execute_result"
    }
   ],
   "execution_count": 72
  },
  {
   "cell_type": "code",
   "metadata": {
    "ExecuteTime": {
     "end_time": "2024-06-29T17:58:06.698350Z",
     "start_time": "2024-06-29T17:58:06.690444Z"
    }
   },
   "source": [
    "import scipy.sparse as sp\n",
    "from qiskit.opflow import OperatorBase\n",
    "\n",
    "def fSwap(N,i,j):\n",
    "    qc = QuantumCircuit(N)\n",
    "    for k in range(j-1,i,-1):\n",
    "        qc.cz(j,k)\n",
    "    qc.cz(j,i)\n",
    "    qc.swap(i,j)\n",
    "    for k in range(i+1,j):\n",
    "        qc.cz(j,k)\n",
    "\n",
    "    return Operator.from_circuit(qc)\n",
    "\n",
    "'''def fSwap(N,i,j):\n",
    "    qc = QuantumCircuit(N)\n",
    "    for k in range(j-1,i,-1):\n",
    "        qc.cz(j,k)\n",
    "    qc.cz(j,i)\n",
    "    qc.swap(i,j)\n",
    "    for k in range(i+1,j):\n",
    "        qc.cz(j,k)\n",
    "\n",
    "    return qc'''\n",
    "\n",
    "fSwap(N,1,2)"
   ],
   "id": "277d98b484f98de7",
   "outputs": [
    {
     "data": {
      "text/plain": [
       "Operator([[ 1.+0.j,  0.+0.j,  0.+0.j,  0.+0.j,  0.+0.j,  0.+0.j,  0.+0.j,\n",
       "            0.+0.j,  0.+0.j,  0.+0.j,  0.+0.j,  0.+0.j,  0.+0.j,  0.+0.j,\n",
       "            0.+0.j,  0.+0.j],\n",
       "          [ 0.+0.j,  1.+0.j,  0.+0.j,  0.+0.j,  0.+0.j,  0.+0.j,  0.+0.j,\n",
       "            0.+0.j,  0.+0.j,  0.+0.j,  0.+0.j,  0.+0.j,  0.+0.j,  0.+0.j,\n",
       "            0.+0.j,  0.+0.j],\n",
       "          [ 0.+0.j,  0.+0.j,  0.+0.j,  0.+0.j,  1.+0.j,  0.+0.j,  0.+0.j,\n",
       "            0.+0.j,  0.+0.j,  0.+0.j,  0.+0.j,  0.+0.j,  0.+0.j,  0.+0.j,\n",
       "            0.+0.j,  0.+0.j],\n",
       "          [ 0.+0.j,  0.+0.j,  0.+0.j,  0.+0.j,  0.+0.j,  1.+0.j,  0.+0.j,\n",
       "            0.+0.j,  0.+0.j,  0.+0.j,  0.+0.j,  0.+0.j,  0.+0.j,  0.+0.j,\n",
       "            0.+0.j,  0.+0.j],\n",
       "          [ 0.+0.j,  0.+0.j,  1.+0.j,  0.+0.j,  0.+0.j,  0.+0.j,  0.+0.j,\n",
       "            0.+0.j,  0.+0.j,  0.+0.j,  0.+0.j,  0.+0.j,  0.+0.j,  0.+0.j,\n",
       "            0.+0.j,  0.+0.j],\n",
       "          [ 0.+0.j,  0.+0.j,  0.+0.j,  1.+0.j,  0.+0.j,  0.+0.j,  0.+0.j,\n",
       "            0.+0.j,  0.+0.j,  0.+0.j,  0.+0.j,  0.+0.j,  0.+0.j,  0.+0.j,\n",
       "            0.+0.j,  0.+0.j],\n",
       "          [ 0.+0.j,  0.+0.j,  0.+0.j,  0.+0.j,  0.+0.j,  0.+0.j, -1.+0.j,\n",
       "            0.+0.j,  0.+0.j,  0.+0.j,  0.+0.j,  0.+0.j,  0.+0.j,  0.+0.j,\n",
       "            0.+0.j,  0.+0.j],\n",
       "          [ 0.+0.j,  0.+0.j,  0.+0.j,  0.+0.j,  0.+0.j,  0.+0.j,  0.+0.j,\n",
       "           -1.+0.j,  0.+0.j,  0.+0.j,  0.+0.j,  0.+0.j,  0.+0.j,  0.+0.j,\n",
       "            0.+0.j,  0.+0.j],\n",
       "          [ 0.+0.j,  0.+0.j,  0.+0.j,  0.+0.j,  0.+0.j,  0.+0.j,  0.+0.j,\n",
       "            0.+0.j,  1.+0.j,  0.+0.j,  0.+0.j,  0.+0.j,  0.+0.j,  0.+0.j,\n",
       "            0.+0.j,  0.+0.j],\n",
       "          [ 0.+0.j,  0.+0.j,  0.+0.j,  0.+0.j,  0.+0.j,  0.+0.j,  0.+0.j,\n",
       "            0.+0.j,  0.+0.j,  1.+0.j,  0.+0.j,  0.+0.j,  0.+0.j,  0.+0.j,\n",
       "            0.+0.j,  0.+0.j],\n",
       "          [ 0.+0.j,  0.+0.j,  0.+0.j,  0.+0.j,  0.+0.j,  0.+0.j,  0.+0.j,\n",
       "            0.+0.j,  0.+0.j,  0.+0.j,  0.+0.j,  0.+0.j,  1.+0.j,  0.+0.j,\n",
       "            0.+0.j,  0.+0.j],\n",
       "          [ 0.+0.j,  0.+0.j,  0.+0.j,  0.+0.j,  0.+0.j,  0.+0.j,  0.+0.j,\n",
       "            0.+0.j,  0.+0.j,  0.+0.j,  0.+0.j,  0.+0.j,  0.+0.j,  1.+0.j,\n",
       "            0.+0.j,  0.+0.j],\n",
       "          [ 0.+0.j,  0.+0.j,  0.+0.j,  0.+0.j,  0.+0.j,  0.+0.j,  0.+0.j,\n",
       "            0.+0.j,  0.+0.j,  0.+0.j,  1.+0.j,  0.+0.j,  0.+0.j,  0.+0.j,\n",
       "            0.+0.j,  0.+0.j],\n",
       "          [ 0.+0.j,  0.+0.j,  0.+0.j,  0.+0.j,  0.+0.j,  0.+0.j,  0.+0.j,\n",
       "            0.+0.j,  0.+0.j,  0.+0.j,  0.+0.j,  1.+0.j,  0.+0.j,  0.+0.j,\n",
       "            0.+0.j,  0.+0.j],\n",
       "          [ 0.+0.j,  0.+0.j,  0.+0.j,  0.+0.j,  0.+0.j,  0.+0.j,  0.+0.j,\n",
       "            0.+0.j,  0.+0.j,  0.+0.j,  0.+0.j,  0.+0.j,  0.+0.j,  0.+0.j,\n",
       "           -1.+0.j,  0.+0.j],\n",
       "          [ 0.+0.j,  0.+0.j,  0.+0.j,  0.+0.j,  0.+0.j,  0.+0.j,  0.+0.j,\n",
       "            0.+0.j,  0.+0.j,  0.+0.j,  0.+0.j,  0.+0.j,  0.+0.j,  0.+0.j,\n",
       "            0.+0.j, -1.+0.j]],\n",
       "         input_dims=(2, 2, 2, 2), output_dims=(2, 2, 2, 2))"
      ]
     },
     "execution_count": 73,
     "metadata": {},
     "output_type": "execute_result"
    }
   ],
   "execution_count": 73
  },
  {
   "cell_type": "code",
   "metadata": {
    "ExecuteTime": {
     "end_time": "2024-06-29T17:58:06.712517Z",
     "start_time": "2024-06-29T17:58:06.703867Z"
    }
   },
   "source": [
    "print(t_list)\n",
    "def poolFS(N,ts):\n",
    "    pool = []\n",
    "    #bs = ParameterVector(\"b\", length = len(ts))\n",
    "    for i,edge in enumerate(ts):\n",
    "        p = fSwap(N,edge[0],edge[1])\n",
    "        print(isinstance(p,Operator))\n",
    "        pool.append(p)\n",
    "    return pool\n",
    "\n",
    "poolFS(N,t_list)[3]"
   ],
   "id": "ad30f9b84608729d",
   "outputs": [
    {
     "name": "stdout",
     "output_type": "stream",
     "text": [
      "[(0, 2), (1, 3), (2, 0), (3, 1)]\n",
      "True\n",
      "True\n",
      "True\n",
      "True\n"
     ]
    },
    {
     "data": {
      "text/plain": [
       "Operator([[ 1.+0.j,  0.+0.j,  0.+0.j,  0.+0.j,  0.+0.j,  0.+0.j,  0.+0.j,\n",
       "            0.+0.j,  0.+0.j,  0.+0.j,  0.+0.j,  0.+0.j,  0.+0.j,  0.+0.j,\n",
       "            0.+0.j,  0.+0.j],\n",
       "          [ 0.+0.j,  1.+0.j,  0.+0.j,  0.+0.j,  0.+0.j,  0.+0.j,  0.+0.j,\n",
       "            0.+0.j,  0.+0.j,  0.+0.j,  0.+0.j,  0.+0.j,  0.+0.j,  0.+0.j,\n",
       "            0.+0.j,  0.+0.j],\n",
       "          [ 0.+0.j,  0.+0.j,  0.+0.j,  0.+0.j,  0.+0.j,  0.+0.j,  0.+0.j,\n",
       "            0.+0.j,  1.+0.j,  0.+0.j,  0.+0.j,  0.+0.j,  0.+0.j,  0.+0.j,\n",
       "            0.+0.j,  0.+0.j],\n",
       "          [ 0.+0.j,  0.+0.j,  0.+0.j,  0.+0.j,  0.+0.j,  0.+0.j,  0.+0.j,\n",
       "            0.+0.j,  0.+0.j,  1.+0.j,  0.+0.j,  0.+0.j,  0.+0.j,  0.+0.j,\n",
       "            0.+0.j,  0.+0.j],\n",
       "          [ 0.+0.j,  0.+0.j,  0.+0.j,  0.+0.j,  1.+0.j,  0.+0.j,  0.+0.j,\n",
       "            0.+0.j,  0.+0.j,  0.+0.j,  0.+0.j,  0.+0.j,  0.+0.j,  0.+0.j,\n",
       "            0.+0.j,  0.+0.j],\n",
       "          [ 0.+0.j,  0.+0.j,  0.+0.j,  0.+0.j,  0.+0.j,  1.+0.j,  0.+0.j,\n",
       "            0.+0.j,  0.+0.j,  0.+0.j,  0.+0.j,  0.+0.j,  0.+0.j,  0.+0.j,\n",
       "            0.+0.j,  0.+0.j],\n",
       "          [ 0.+0.j,  0.+0.j,  0.+0.j,  0.+0.j,  0.+0.j,  0.+0.j,  0.+0.j,\n",
       "            0.+0.j,  0.+0.j,  0.+0.j,  0.+0.j,  0.+0.j,  1.+0.j,  0.+0.j,\n",
       "            0.+0.j,  0.+0.j],\n",
       "          [ 0.+0.j,  0.+0.j,  0.+0.j,  0.+0.j,  0.+0.j,  0.+0.j,  0.+0.j,\n",
       "            0.+0.j,  0.+0.j,  0.+0.j,  0.+0.j,  0.+0.j,  0.+0.j,  1.+0.j,\n",
       "            0.+0.j,  0.+0.j],\n",
       "          [ 0.+0.j,  0.+0.j,  1.+0.j,  0.+0.j,  0.+0.j,  0.+0.j,  0.+0.j,\n",
       "            0.+0.j,  0.+0.j,  0.+0.j,  0.+0.j,  0.+0.j,  0.+0.j,  0.+0.j,\n",
       "            0.+0.j,  0.+0.j],\n",
       "          [ 0.+0.j,  0.+0.j,  0.+0.j,  1.+0.j,  0.+0.j,  0.+0.j,  0.+0.j,\n",
       "            0.+0.j,  0.+0.j,  0.+0.j,  0.+0.j,  0.+0.j,  0.+0.j,  0.+0.j,\n",
       "            0.+0.j,  0.+0.j],\n",
       "          [ 0.+0.j,  0.+0.j,  0.+0.j,  0.+0.j,  0.+0.j,  0.+0.j,  0.+0.j,\n",
       "            0.+0.j,  0.+0.j,  0.+0.j, -1.+0.j,  0.+0.j,  0.+0.j,  0.+0.j,\n",
       "            0.+0.j,  0.+0.j],\n",
       "          [ 0.+0.j,  0.+0.j,  0.+0.j,  0.+0.j,  0.+0.j,  0.+0.j,  0.+0.j,\n",
       "            0.+0.j,  0.+0.j,  0.+0.j,  0.+0.j, -1.+0.j,  0.+0.j,  0.+0.j,\n",
       "            0.+0.j,  0.+0.j],\n",
       "          [ 0.+0.j,  0.+0.j,  0.+0.j,  0.+0.j,  0.+0.j,  0.+0.j,  1.+0.j,\n",
       "            0.+0.j,  0.+0.j,  0.+0.j,  0.+0.j,  0.+0.j,  0.+0.j,  0.+0.j,\n",
       "            0.+0.j,  0.+0.j],\n",
       "          [ 0.+0.j,  0.+0.j,  0.+0.j,  0.+0.j,  0.+0.j,  0.+0.j,  0.+0.j,\n",
       "            1.+0.j,  0.+0.j,  0.+0.j,  0.+0.j,  0.+0.j,  0.+0.j,  0.+0.j,\n",
       "            0.+0.j,  0.+0.j],\n",
       "          [ 0.+0.j,  0.+0.j,  0.+0.j,  0.+0.j,  0.+0.j,  0.+0.j,  0.+0.j,\n",
       "            0.+0.j,  0.+0.j,  0.+0.j,  0.+0.j,  0.+0.j,  0.+0.j,  0.+0.j,\n",
       "           -1.+0.j,  0.+0.j],\n",
       "          [ 0.+0.j,  0.+0.j,  0.+0.j,  0.+0.j,  0.+0.j,  0.+0.j,  0.+0.j,\n",
       "            0.+0.j,  0.+0.j,  0.+0.j,  0.+0.j,  0.+0.j,  0.+0.j,  0.+0.j,\n",
       "            0.+0.j, -1.+0.j]],\n",
       "         input_dims=(2, 2, 2, 2), output_dims=(2, 2, 2, 2))"
      ]
     },
     "execution_count": 74,
     "metadata": {},
     "output_type": "execute_result"
    }
   ],
   "execution_count": 74
  },
  {
   "cell_type": "code",
   "metadata": {
    "ExecuteTime": {
     "end_time": "2024-06-29T17:58:06.749807Z",
     "start_time": "2024-06-29T17:58:06.734993Z"
    }
   },
   "source": [
    "def totalPool(N,ts,Us):\n",
    "    zz = poolZZ(N,Us)\n",
    "    fswap = poolFS(N,ts)\n",
    "    return fswap+zz\n",
    "\n",
    "pool = totalPool(N,t_list,U_list)\n",
    "p_zz = poolZZ(N,U_list)\n",
    "p_fs = poolFS(N,t_list)\n",
    "print(pool)"
   ],
   "id": "8c519b2cb0e89b91",
   "outputs": [
    {
     "name": "stdout",
     "output_type": "stream",
     "text": [
      "True\n",
      "True\n",
      "True\n",
      "True\n",
      "True\n",
      "True\n",
      "True\n",
      "True\n",
      "[Operator([[ 1.+0.j,  0.+0.j,  0.+0.j,  0.+0.j,  0.+0.j,  0.+0.j,  0.+0.j,\n",
      "            0.+0.j,  0.+0.j,  0.+0.j,  0.+0.j,  0.+0.j,  0.+0.j,  0.+0.j,\n",
      "            0.+0.j,  0.+0.j],\n",
      "          [ 0.+0.j,  0.+0.j,  0.+0.j,  0.+0.j,  1.+0.j,  0.+0.j,  0.+0.j,\n",
      "            0.+0.j,  0.+0.j,  0.+0.j,  0.+0.j,  0.+0.j,  0.+0.j,  0.+0.j,\n",
      "            0.+0.j,  0.+0.j],\n",
      "          [ 0.+0.j,  0.+0.j,  1.+0.j,  0.+0.j,  0.+0.j,  0.+0.j,  0.+0.j,\n",
      "            0.+0.j,  0.+0.j,  0.+0.j,  0.+0.j,  0.+0.j,  0.+0.j,  0.+0.j,\n",
      "            0.+0.j,  0.+0.j],\n",
      "          [ 0.+0.j,  0.+0.j,  0.+0.j,  0.+0.j,  0.+0.j,  0.+0.j, -1.+0.j,\n",
      "            0.+0.j,  0.+0.j,  0.+0.j,  0.+0.j,  0.+0.j,  0.+0.j,  0.+0.j,\n",
      "            0.+0.j,  0.+0.j],\n",
      "          [ 0.+0.j,  1.+0.j,  0.+0.j,  0.+0.j,  0.+0.j,  0.+0.j,  0.+0.j,\n",
      "            0.+0.j,  0.+0.j,  0.+0.j,  0.+0.j,  0.+0.j,  0.+0.j,  0.+0.j,\n",
      "            0.+0.j,  0.+0.j],\n",
      "          [ 0.+0.j,  0.+0.j,  0.+0.j,  0.+0.j,  0.+0.j, -1.+0.j,  0.+0.j,\n",
      "            0.+0.j,  0.+0.j,  0.+0.j,  0.+0.j,  0.+0.j,  0.+0.j,  0.+0.j,\n",
      "            0.+0.j,  0.+0.j],\n",
      "          [ 0.+0.j,  0.+0.j,  0.+0.j, -1.+0.j,  0.+0.j,  0.+0.j,  0.+0.j,\n",
      "            0.+0.j,  0.+0.j,  0.+0.j,  0.+0.j,  0.+0.j,  0.+0.j,  0.+0.j,\n",
      "            0.+0.j,  0.+0.j],\n",
      "          [ 0.+0.j,  0.+0.j,  0.+0.j,  0.+0.j,  0.+0.j,  0.+0.j,  0.+0.j,\n",
      "           -1.+0.j,  0.+0.j,  0.+0.j,  0.+0.j,  0.+0.j,  0.+0.j,  0.+0.j,\n",
      "            0.+0.j,  0.+0.j],\n",
      "          [ 0.+0.j,  0.+0.j,  0.+0.j,  0.+0.j,  0.+0.j,  0.+0.j,  0.+0.j,\n",
      "            0.+0.j,  1.+0.j,  0.+0.j,  0.+0.j,  0.+0.j,  0.+0.j,  0.+0.j,\n",
      "            0.+0.j,  0.+0.j],\n",
      "          [ 0.+0.j,  0.+0.j,  0.+0.j,  0.+0.j,  0.+0.j,  0.+0.j,  0.+0.j,\n",
      "            0.+0.j,  0.+0.j,  0.+0.j,  0.+0.j,  0.+0.j,  1.+0.j,  0.+0.j,\n",
      "            0.+0.j,  0.+0.j],\n",
      "          [ 0.+0.j,  0.+0.j,  0.+0.j,  0.+0.j,  0.+0.j,  0.+0.j,  0.+0.j,\n",
      "            0.+0.j,  0.+0.j,  0.+0.j,  1.+0.j,  0.+0.j,  0.+0.j,  0.+0.j,\n",
      "            0.+0.j,  0.+0.j],\n",
      "          [ 0.+0.j,  0.+0.j,  0.+0.j,  0.+0.j,  0.+0.j,  0.+0.j,  0.+0.j,\n",
      "            0.+0.j,  0.+0.j,  0.+0.j,  0.+0.j,  0.+0.j,  0.+0.j,  0.+0.j,\n",
      "           -1.+0.j,  0.+0.j],\n",
      "          [ 0.+0.j,  0.+0.j,  0.+0.j,  0.+0.j,  0.+0.j,  0.+0.j,  0.+0.j,\n",
      "            0.+0.j,  0.+0.j,  1.+0.j,  0.+0.j,  0.+0.j,  0.+0.j,  0.+0.j,\n",
      "            0.+0.j,  0.+0.j],\n",
      "          [ 0.+0.j,  0.+0.j,  0.+0.j,  0.+0.j,  0.+0.j,  0.+0.j,  0.+0.j,\n",
      "            0.+0.j,  0.+0.j,  0.+0.j,  0.+0.j,  0.+0.j,  0.+0.j, -1.+0.j,\n",
      "            0.+0.j,  0.+0.j],\n",
      "          [ 0.+0.j,  0.+0.j,  0.+0.j,  0.+0.j,  0.+0.j,  0.+0.j,  0.+0.j,\n",
      "            0.+0.j,  0.+0.j,  0.+0.j,  0.+0.j, -1.+0.j,  0.+0.j,  0.+0.j,\n",
      "            0.+0.j,  0.+0.j],\n",
      "          [ 0.+0.j,  0.+0.j,  0.+0.j,  0.+0.j,  0.+0.j,  0.+0.j,  0.+0.j,\n",
      "            0.+0.j,  0.+0.j,  0.+0.j,  0.+0.j,  0.+0.j,  0.+0.j,  0.+0.j,\n",
      "            0.+0.j, -1.+0.j]],\n",
      "         input_dims=(2, 2, 2, 2), output_dims=(2, 2, 2, 2)), Operator([[ 1.+0.j,  0.+0.j,  0.+0.j,  0.+0.j,  0.+0.j,  0.+0.j,  0.+0.j,\n",
      "            0.+0.j,  0.+0.j,  0.+0.j,  0.+0.j,  0.+0.j,  0.+0.j,  0.+0.j,\n",
      "            0.+0.j,  0.+0.j],\n",
      "          [ 0.+0.j,  1.+0.j,  0.+0.j,  0.+0.j,  0.+0.j,  0.+0.j,  0.+0.j,\n",
      "            0.+0.j,  0.+0.j,  0.+0.j,  0.+0.j,  0.+0.j,  0.+0.j,  0.+0.j,\n",
      "            0.+0.j,  0.+0.j],\n",
      "          [ 0.+0.j,  0.+0.j,  0.+0.j,  0.+0.j,  0.+0.j,  0.+0.j,  0.+0.j,\n",
      "            0.+0.j,  1.+0.j,  0.+0.j,  0.+0.j,  0.+0.j,  0.+0.j,  0.+0.j,\n",
      "            0.+0.j,  0.+0.j],\n",
      "          [ 0.+0.j,  0.+0.j,  0.+0.j,  0.+0.j,  0.+0.j,  0.+0.j,  0.+0.j,\n",
      "            0.+0.j,  0.+0.j,  1.+0.j,  0.+0.j,  0.+0.j,  0.+0.j,  0.+0.j,\n",
      "            0.+0.j,  0.+0.j],\n",
      "          [ 0.+0.j,  0.+0.j,  0.+0.j,  0.+0.j,  1.+0.j,  0.+0.j,  0.+0.j,\n",
      "            0.+0.j,  0.+0.j,  0.+0.j,  0.+0.j,  0.+0.j,  0.+0.j,  0.+0.j,\n",
      "            0.+0.j,  0.+0.j],\n",
      "          [ 0.+0.j,  0.+0.j,  0.+0.j,  0.+0.j,  0.+0.j,  1.+0.j,  0.+0.j,\n",
      "            0.+0.j,  0.+0.j,  0.+0.j,  0.+0.j,  0.+0.j,  0.+0.j,  0.+0.j,\n",
      "            0.+0.j,  0.+0.j],\n",
      "          [ 0.+0.j,  0.+0.j,  0.+0.j,  0.+0.j,  0.+0.j,  0.+0.j,  0.+0.j,\n",
      "            0.+0.j,  0.+0.j,  0.+0.j,  0.+0.j,  0.+0.j, -1.+0.j,  0.+0.j,\n",
      "            0.+0.j,  0.+0.j],\n",
      "          [ 0.+0.j,  0.+0.j,  0.+0.j,  0.+0.j,  0.+0.j,  0.+0.j,  0.+0.j,\n",
      "            0.+0.j,  0.+0.j,  0.+0.j,  0.+0.j,  0.+0.j,  0.+0.j, -1.+0.j,\n",
      "            0.+0.j,  0.+0.j],\n",
      "          [ 0.+0.j,  0.+0.j,  1.+0.j,  0.+0.j,  0.+0.j,  0.+0.j,  0.+0.j,\n",
      "            0.+0.j,  0.+0.j,  0.+0.j,  0.+0.j,  0.+0.j,  0.+0.j,  0.+0.j,\n",
      "            0.+0.j,  0.+0.j],\n",
      "          [ 0.+0.j,  0.+0.j,  0.+0.j,  1.+0.j,  0.+0.j,  0.+0.j,  0.+0.j,\n",
      "            0.+0.j,  0.+0.j,  0.+0.j,  0.+0.j,  0.+0.j,  0.+0.j,  0.+0.j,\n",
      "            0.+0.j,  0.+0.j],\n",
      "          [ 0.+0.j,  0.+0.j,  0.+0.j,  0.+0.j,  0.+0.j,  0.+0.j,  0.+0.j,\n",
      "            0.+0.j,  0.+0.j,  0.+0.j, -1.+0.j,  0.+0.j,  0.+0.j,  0.+0.j,\n",
      "            0.+0.j,  0.+0.j],\n",
      "          [ 0.+0.j,  0.+0.j,  0.+0.j,  0.+0.j,  0.+0.j,  0.+0.j,  0.+0.j,\n",
      "            0.+0.j,  0.+0.j,  0.+0.j,  0.+0.j, -1.+0.j,  0.+0.j,  0.+0.j,\n",
      "            0.+0.j,  0.+0.j],\n",
      "          [ 0.+0.j,  0.+0.j,  0.+0.j,  0.+0.j,  0.+0.j,  0.+0.j, -1.+0.j,\n",
      "            0.+0.j,  0.+0.j,  0.+0.j,  0.+0.j,  0.+0.j,  0.+0.j,  0.+0.j,\n",
      "            0.+0.j,  0.+0.j],\n",
      "          [ 0.+0.j,  0.+0.j,  0.+0.j,  0.+0.j,  0.+0.j,  0.+0.j,  0.+0.j,\n",
      "           -1.+0.j,  0.+0.j,  0.+0.j,  0.+0.j,  0.+0.j,  0.+0.j,  0.+0.j,\n",
      "            0.+0.j,  0.+0.j],\n",
      "          [ 0.+0.j,  0.+0.j,  0.+0.j,  0.+0.j,  0.+0.j,  0.+0.j,  0.+0.j,\n",
      "            0.+0.j,  0.+0.j,  0.+0.j,  0.+0.j,  0.+0.j,  0.+0.j,  0.+0.j,\n",
      "           -1.+0.j,  0.+0.j],\n",
      "          [ 0.+0.j,  0.+0.j,  0.+0.j,  0.+0.j,  0.+0.j,  0.+0.j,  0.+0.j,\n",
      "            0.+0.j,  0.+0.j,  0.+0.j,  0.+0.j,  0.+0.j,  0.+0.j,  0.+0.j,\n",
      "            0.+0.j, -1.+0.j]],\n",
      "         input_dims=(2, 2, 2, 2), output_dims=(2, 2, 2, 2)), Operator([[ 1.+0.j,  0.+0.j,  0.+0.j,  0.+0.j,  0.+0.j,  0.+0.j,  0.+0.j,\n",
      "            0.+0.j,  0.+0.j,  0.+0.j,  0.+0.j,  0.+0.j,  0.+0.j,  0.+0.j,\n",
      "            0.+0.j,  0.+0.j],\n",
      "          [ 0.+0.j,  0.+0.j,  0.+0.j,  0.+0.j,  1.+0.j,  0.+0.j,  0.+0.j,\n",
      "            0.+0.j,  0.+0.j,  0.+0.j,  0.+0.j,  0.+0.j,  0.+0.j,  0.+0.j,\n",
      "            0.+0.j,  0.+0.j],\n",
      "          [ 0.+0.j,  0.+0.j,  1.+0.j,  0.+0.j,  0.+0.j,  0.+0.j,  0.+0.j,\n",
      "            0.+0.j,  0.+0.j,  0.+0.j,  0.+0.j,  0.+0.j,  0.+0.j,  0.+0.j,\n",
      "            0.+0.j,  0.+0.j],\n",
      "          [ 0.+0.j,  0.+0.j,  0.+0.j,  0.+0.j,  0.+0.j,  0.+0.j,  1.+0.j,\n",
      "            0.+0.j,  0.+0.j,  0.+0.j,  0.+0.j,  0.+0.j,  0.+0.j,  0.+0.j,\n",
      "            0.+0.j,  0.+0.j],\n",
      "          [ 0.+0.j,  1.+0.j,  0.+0.j,  0.+0.j,  0.+0.j,  0.+0.j,  0.+0.j,\n",
      "            0.+0.j,  0.+0.j,  0.+0.j,  0.+0.j,  0.+0.j,  0.+0.j,  0.+0.j,\n",
      "            0.+0.j,  0.+0.j],\n",
      "          [ 0.+0.j,  0.+0.j,  0.+0.j,  0.+0.j,  0.+0.j, -1.+0.j,  0.+0.j,\n",
      "            0.+0.j,  0.+0.j,  0.+0.j,  0.+0.j,  0.+0.j,  0.+0.j,  0.+0.j,\n",
      "            0.+0.j,  0.+0.j],\n",
      "          [ 0.+0.j,  0.+0.j,  0.+0.j,  1.+0.j,  0.+0.j,  0.+0.j,  0.+0.j,\n",
      "            0.+0.j,  0.+0.j,  0.+0.j,  0.+0.j,  0.+0.j,  0.+0.j,  0.+0.j,\n",
      "            0.+0.j,  0.+0.j],\n",
      "          [ 0.+0.j,  0.+0.j,  0.+0.j,  0.+0.j,  0.+0.j,  0.+0.j,  0.+0.j,\n",
      "           -1.+0.j,  0.+0.j,  0.+0.j,  0.+0.j,  0.+0.j,  0.+0.j,  0.+0.j,\n",
      "            0.+0.j,  0.+0.j],\n",
      "          [ 0.+0.j,  0.+0.j,  0.+0.j,  0.+0.j,  0.+0.j,  0.+0.j,  0.+0.j,\n",
      "            0.+0.j,  1.+0.j,  0.+0.j,  0.+0.j,  0.+0.j,  0.+0.j,  0.+0.j,\n",
      "            0.+0.j,  0.+0.j],\n",
      "          [ 0.+0.j,  0.+0.j,  0.+0.j,  0.+0.j,  0.+0.j,  0.+0.j,  0.+0.j,\n",
      "            0.+0.j,  0.+0.j,  0.+0.j,  0.+0.j,  0.+0.j,  1.+0.j,  0.+0.j,\n",
      "            0.+0.j,  0.+0.j],\n",
      "          [ 0.+0.j,  0.+0.j,  0.+0.j,  0.+0.j,  0.+0.j,  0.+0.j,  0.+0.j,\n",
      "            0.+0.j,  0.+0.j,  0.+0.j,  1.+0.j,  0.+0.j,  0.+0.j,  0.+0.j,\n",
      "            0.+0.j,  0.+0.j],\n",
      "          [ 0.+0.j,  0.+0.j,  0.+0.j,  0.+0.j,  0.+0.j,  0.+0.j,  0.+0.j,\n",
      "            0.+0.j,  0.+0.j,  0.+0.j,  0.+0.j,  0.+0.j,  0.+0.j,  0.+0.j,\n",
      "            1.+0.j,  0.+0.j],\n",
      "          [ 0.+0.j,  0.+0.j,  0.+0.j,  0.+0.j,  0.+0.j,  0.+0.j,  0.+0.j,\n",
      "            0.+0.j,  0.+0.j,  1.+0.j,  0.+0.j,  0.+0.j,  0.+0.j,  0.+0.j,\n",
      "            0.+0.j,  0.+0.j],\n",
      "          [ 0.+0.j,  0.+0.j,  0.+0.j,  0.+0.j,  0.+0.j,  0.+0.j,  0.+0.j,\n",
      "            0.+0.j,  0.+0.j,  0.+0.j,  0.+0.j,  0.+0.j,  0.+0.j, -1.+0.j,\n",
      "            0.+0.j,  0.+0.j],\n",
      "          [ 0.+0.j,  0.+0.j,  0.+0.j,  0.+0.j,  0.+0.j,  0.+0.j,  0.+0.j,\n",
      "            0.+0.j,  0.+0.j,  0.+0.j,  0.+0.j,  1.+0.j,  0.+0.j,  0.+0.j,\n",
      "            0.+0.j,  0.+0.j],\n",
      "          [ 0.+0.j,  0.+0.j,  0.+0.j,  0.+0.j,  0.+0.j,  0.+0.j,  0.+0.j,\n",
      "            0.+0.j,  0.+0.j,  0.+0.j,  0.+0.j,  0.+0.j,  0.+0.j,  0.+0.j,\n",
      "            0.+0.j, -1.+0.j]],\n",
      "         input_dims=(2, 2, 2, 2), output_dims=(2, 2, 2, 2)), Operator([[ 1.+0.j,  0.+0.j,  0.+0.j,  0.+0.j,  0.+0.j,  0.+0.j,  0.+0.j,\n",
      "            0.+0.j,  0.+0.j,  0.+0.j,  0.+0.j,  0.+0.j,  0.+0.j,  0.+0.j,\n",
      "            0.+0.j,  0.+0.j],\n",
      "          [ 0.+0.j,  1.+0.j,  0.+0.j,  0.+0.j,  0.+0.j,  0.+0.j,  0.+0.j,\n",
      "            0.+0.j,  0.+0.j,  0.+0.j,  0.+0.j,  0.+0.j,  0.+0.j,  0.+0.j,\n",
      "            0.+0.j,  0.+0.j],\n",
      "          [ 0.+0.j,  0.+0.j,  0.+0.j,  0.+0.j,  0.+0.j,  0.+0.j,  0.+0.j,\n",
      "            0.+0.j,  1.+0.j,  0.+0.j,  0.+0.j,  0.+0.j,  0.+0.j,  0.+0.j,\n",
      "            0.+0.j,  0.+0.j],\n",
      "          [ 0.+0.j,  0.+0.j,  0.+0.j,  0.+0.j,  0.+0.j,  0.+0.j,  0.+0.j,\n",
      "            0.+0.j,  0.+0.j,  1.+0.j,  0.+0.j,  0.+0.j,  0.+0.j,  0.+0.j,\n",
      "            0.+0.j,  0.+0.j],\n",
      "          [ 0.+0.j,  0.+0.j,  0.+0.j,  0.+0.j,  1.+0.j,  0.+0.j,  0.+0.j,\n",
      "            0.+0.j,  0.+0.j,  0.+0.j,  0.+0.j,  0.+0.j,  0.+0.j,  0.+0.j,\n",
      "            0.+0.j,  0.+0.j],\n",
      "          [ 0.+0.j,  0.+0.j,  0.+0.j,  0.+0.j,  0.+0.j,  1.+0.j,  0.+0.j,\n",
      "            0.+0.j,  0.+0.j,  0.+0.j,  0.+0.j,  0.+0.j,  0.+0.j,  0.+0.j,\n",
      "            0.+0.j,  0.+0.j],\n",
      "          [ 0.+0.j,  0.+0.j,  0.+0.j,  0.+0.j,  0.+0.j,  0.+0.j,  0.+0.j,\n",
      "            0.+0.j,  0.+0.j,  0.+0.j,  0.+0.j,  0.+0.j,  1.+0.j,  0.+0.j,\n",
      "            0.+0.j,  0.+0.j],\n",
      "          [ 0.+0.j,  0.+0.j,  0.+0.j,  0.+0.j,  0.+0.j,  0.+0.j,  0.+0.j,\n",
      "            0.+0.j,  0.+0.j,  0.+0.j,  0.+0.j,  0.+0.j,  0.+0.j,  1.+0.j,\n",
      "            0.+0.j,  0.+0.j],\n",
      "          [ 0.+0.j,  0.+0.j,  1.+0.j,  0.+0.j,  0.+0.j,  0.+0.j,  0.+0.j,\n",
      "            0.+0.j,  0.+0.j,  0.+0.j,  0.+0.j,  0.+0.j,  0.+0.j,  0.+0.j,\n",
      "            0.+0.j,  0.+0.j],\n",
      "          [ 0.+0.j,  0.+0.j,  0.+0.j,  1.+0.j,  0.+0.j,  0.+0.j,  0.+0.j,\n",
      "            0.+0.j,  0.+0.j,  0.+0.j,  0.+0.j,  0.+0.j,  0.+0.j,  0.+0.j,\n",
      "            0.+0.j,  0.+0.j],\n",
      "          [ 0.+0.j,  0.+0.j,  0.+0.j,  0.+0.j,  0.+0.j,  0.+0.j,  0.+0.j,\n",
      "            0.+0.j,  0.+0.j,  0.+0.j, -1.+0.j,  0.+0.j,  0.+0.j,  0.+0.j,\n",
      "            0.+0.j,  0.+0.j],\n",
      "          [ 0.+0.j,  0.+0.j,  0.+0.j,  0.+0.j,  0.+0.j,  0.+0.j,  0.+0.j,\n",
      "            0.+0.j,  0.+0.j,  0.+0.j,  0.+0.j, -1.+0.j,  0.+0.j,  0.+0.j,\n",
      "            0.+0.j,  0.+0.j],\n",
      "          [ 0.+0.j,  0.+0.j,  0.+0.j,  0.+0.j,  0.+0.j,  0.+0.j,  1.+0.j,\n",
      "            0.+0.j,  0.+0.j,  0.+0.j,  0.+0.j,  0.+0.j,  0.+0.j,  0.+0.j,\n",
      "            0.+0.j,  0.+0.j],\n",
      "          [ 0.+0.j,  0.+0.j,  0.+0.j,  0.+0.j,  0.+0.j,  0.+0.j,  0.+0.j,\n",
      "            1.+0.j,  0.+0.j,  0.+0.j,  0.+0.j,  0.+0.j,  0.+0.j,  0.+0.j,\n",
      "            0.+0.j,  0.+0.j],\n",
      "          [ 0.+0.j,  0.+0.j,  0.+0.j,  0.+0.j,  0.+0.j,  0.+0.j,  0.+0.j,\n",
      "            0.+0.j,  0.+0.j,  0.+0.j,  0.+0.j,  0.+0.j,  0.+0.j,  0.+0.j,\n",
      "           -1.+0.j,  0.+0.j],\n",
      "          [ 0.+0.j,  0.+0.j,  0.+0.j,  0.+0.j,  0.+0.j,  0.+0.j,  0.+0.j,\n",
      "            0.+0.j,  0.+0.j,  0.+0.j,  0.+0.j,  0.+0.j,  0.+0.j,  0.+0.j,\n",
      "            0.+0.j, -1.+0.j]],\n",
      "         input_dims=(2, 2, 2, 2), output_dims=(2, 2, 2, 2)), Pauli('ZZII'), Pauli('IIZZ')]\n"
     ]
    }
   ],
   "execution_count": 75
  },
  {
   "cell_type": "code",
   "metadata": {
    "ExecuteTime": {
     "end_time": "2024-06-29T17:58:06.754044Z",
     "start_time": "2024-06-29T17:58:06.751272Z"
    }
   },
   "source": [
    "from qiskit.circuit.library import EvolvedOperatorAnsatz\n",
    "from qiskit.circuit.library import SwapGate\n",
    "from scipy.linalg import expm\n",
    "from qiskit.quantum_info.operators import Operator\n",
    "from qiskit.extensions import HamiltonianGate"
   ],
   "id": "ff3538a46e522791",
   "outputs": [],
   "execution_count": 76
  },
  {
   "cell_type": "markdown",
   "metadata": {},
   "source": [
    "# Ansatz From: https://arxiv.org/pdf/2112.14077\n",
    "\n",
    "## Notes:\n",
    "start2: -7.4 descent\n",
    "start: barren plateau around -4"
   ],
   "id": "e88eb9ce784fcf84"
  },
  {
   "cell_type": "code",
   "metadata": {
    "ExecuteTime": {
     "end_time": "2024-06-29T17:58:06.776807Z",
     "start_time": "2024-06-29T17:58:06.771935Z"
    }
   },
   "source": [
    "li = [i for i in range(0,n,4)]+[i+1 for i in range(0,n,4)]\n",
    "def start(circ):\n",
    "    n = circ.num_qubits\n",
    "    for i in li:\n",
    "        circ.x(i)\n",
    "        circ.h(i+2)\n",
    "        circ.cx(i,i+2)\n",
    "    circ.barrier()\n",
    "\n",
    "def start2(circ):\n",
    "    n = circ.num_qubits\n",
    "    li = [i for i in range(0,n//2,2)]+[n-1-i for i in range(0,n//2,2)]\n",
    "    circ.x(li)\n",
    "    circ.barrier()\n",
    "\n",
    "def s_circ(N):\n",
    "    qc = QuantumCircuit(N)\n",
    "    li = [i for i in range(0,n//2,2)]+[n-1-i for i in range(0,n//2,2)]\n",
    "    qc.x(li)\n",
    "    qc.barrier()\n",
    "    return qc\n",
    "\n",
    "    "
   ],
   "id": "b30a07cacacd3574",
   "outputs": [],
   "execution_count": 77
  },
  {
   "cell_type": "code",
   "metadata": {
    "ExecuteTime": {
     "end_time": "2024-06-29T17:58:12.850545Z",
     "start_time": "2024-06-29T17:58:12.840516Z"
    }
   },
   "source": [
    "ev_ans = EvolvedOperatorAnsatz(pool)#, initial_state=s_circ(N))\n",
    "print(ev_ans.operators)\n",
    "print(qubit_jw_op)"
   ],
   "id": "574649407475efed",
   "outputs": [
    {
     "name": "stdout",
     "output_type": "stream",
     "text": [
      "[Operator([[ 1.+0.j,  0.+0.j,  0.+0.j,  0.+0.j,  0.+0.j,  0.+0.j,  0.+0.j,\n",
      "            0.+0.j,  0.+0.j,  0.+0.j,  0.+0.j,  0.+0.j,  0.+0.j,  0.+0.j,\n",
      "            0.+0.j,  0.+0.j],\n",
      "          [ 0.+0.j,  0.+0.j,  0.+0.j,  0.+0.j,  1.+0.j,  0.+0.j,  0.+0.j,\n",
      "            0.+0.j,  0.+0.j,  0.+0.j,  0.+0.j,  0.+0.j,  0.+0.j,  0.+0.j,\n",
      "            0.+0.j,  0.+0.j],\n",
      "          [ 0.+0.j,  0.+0.j,  1.+0.j,  0.+0.j,  0.+0.j,  0.+0.j,  0.+0.j,\n",
      "            0.+0.j,  0.+0.j,  0.+0.j,  0.+0.j,  0.+0.j,  0.+0.j,  0.+0.j,\n",
      "            0.+0.j,  0.+0.j],\n",
      "          [ 0.+0.j,  0.+0.j,  0.+0.j,  0.+0.j,  0.+0.j,  0.+0.j, -1.+0.j,\n",
      "            0.+0.j,  0.+0.j,  0.+0.j,  0.+0.j,  0.+0.j,  0.+0.j,  0.+0.j,\n",
      "            0.+0.j,  0.+0.j],\n",
      "          [ 0.+0.j,  1.+0.j,  0.+0.j,  0.+0.j,  0.+0.j,  0.+0.j,  0.+0.j,\n",
      "            0.+0.j,  0.+0.j,  0.+0.j,  0.+0.j,  0.+0.j,  0.+0.j,  0.+0.j,\n",
      "            0.+0.j,  0.+0.j],\n",
      "          [ 0.+0.j,  0.+0.j,  0.+0.j,  0.+0.j,  0.+0.j, -1.+0.j,  0.+0.j,\n",
      "            0.+0.j,  0.+0.j,  0.+0.j,  0.+0.j,  0.+0.j,  0.+0.j,  0.+0.j,\n",
      "            0.+0.j,  0.+0.j],\n",
      "          [ 0.+0.j,  0.+0.j,  0.+0.j, -1.+0.j,  0.+0.j,  0.+0.j,  0.+0.j,\n",
      "            0.+0.j,  0.+0.j,  0.+0.j,  0.+0.j,  0.+0.j,  0.+0.j,  0.+0.j,\n",
      "            0.+0.j,  0.+0.j],\n",
      "          [ 0.+0.j,  0.+0.j,  0.+0.j,  0.+0.j,  0.+0.j,  0.+0.j,  0.+0.j,\n",
      "           -1.+0.j,  0.+0.j,  0.+0.j,  0.+0.j,  0.+0.j,  0.+0.j,  0.+0.j,\n",
      "            0.+0.j,  0.+0.j],\n",
      "          [ 0.+0.j,  0.+0.j,  0.+0.j,  0.+0.j,  0.+0.j,  0.+0.j,  0.+0.j,\n",
      "            0.+0.j,  1.+0.j,  0.+0.j,  0.+0.j,  0.+0.j,  0.+0.j,  0.+0.j,\n",
      "            0.+0.j,  0.+0.j],\n",
      "          [ 0.+0.j,  0.+0.j,  0.+0.j,  0.+0.j,  0.+0.j,  0.+0.j,  0.+0.j,\n",
      "            0.+0.j,  0.+0.j,  0.+0.j,  0.+0.j,  0.+0.j,  1.+0.j,  0.+0.j,\n",
      "            0.+0.j,  0.+0.j],\n",
      "          [ 0.+0.j,  0.+0.j,  0.+0.j,  0.+0.j,  0.+0.j,  0.+0.j,  0.+0.j,\n",
      "            0.+0.j,  0.+0.j,  0.+0.j,  1.+0.j,  0.+0.j,  0.+0.j,  0.+0.j,\n",
      "            0.+0.j,  0.+0.j],\n",
      "          [ 0.+0.j,  0.+0.j,  0.+0.j,  0.+0.j,  0.+0.j,  0.+0.j,  0.+0.j,\n",
      "            0.+0.j,  0.+0.j,  0.+0.j,  0.+0.j,  0.+0.j,  0.+0.j,  0.+0.j,\n",
      "           -1.+0.j,  0.+0.j],\n",
      "          [ 0.+0.j,  0.+0.j,  0.+0.j,  0.+0.j,  0.+0.j,  0.+0.j,  0.+0.j,\n",
      "            0.+0.j,  0.+0.j,  1.+0.j,  0.+0.j,  0.+0.j,  0.+0.j,  0.+0.j,\n",
      "            0.+0.j,  0.+0.j],\n",
      "          [ 0.+0.j,  0.+0.j,  0.+0.j,  0.+0.j,  0.+0.j,  0.+0.j,  0.+0.j,\n",
      "            0.+0.j,  0.+0.j,  0.+0.j,  0.+0.j,  0.+0.j,  0.+0.j, -1.+0.j,\n",
      "            0.+0.j,  0.+0.j],\n",
      "          [ 0.+0.j,  0.+0.j,  0.+0.j,  0.+0.j,  0.+0.j,  0.+0.j,  0.+0.j,\n",
      "            0.+0.j,  0.+0.j,  0.+0.j,  0.+0.j, -1.+0.j,  0.+0.j,  0.+0.j,\n",
      "            0.+0.j,  0.+0.j],\n",
      "          [ 0.+0.j,  0.+0.j,  0.+0.j,  0.+0.j,  0.+0.j,  0.+0.j,  0.+0.j,\n",
      "            0.+0.j,  0.+0.j,  0.+0.j,  0.+0.j,  0.+0.j,  0.+0.j,  0.+0.j,\n",
      "            0.+0.j, -1.+0.j]],\n",
      "         input_dims=(2, 2, 2, 2), output_dims=(2, 2, 2, 2)), Operator([[ 1.+0.j,  0.+0.j,  0.+0.j,  0.+0.j,  0.+0.j,  0.+0.j,  0.+0.j,\n",
      "            0.+0.j,  0.+0.j,  0.+0.j,  0.+0.j,  0.+0.j,  0.+0.j,  0.+0.j,\n",
      "            0.+0.j,  0.+0.j],\n",
      "          [ 0.+0.j,  1.+0.j,  0.+0.j,  0.+0.j,  0.+0.j,  0.+0.j,  0.+0.j,\n",
      "            0.+0.j,  0.+0.j,  0.+0.j,  0.+0.j,  0.+0.j,  0.+0.j,  0.+0.j,\n",
      "            0.+0.j,  0.+0.j],\n",
      "          [ 0.+0.j,  0.+0.j,  0.+0.j,  0.+0.j,  0.+0.j,  0.+0.j,  0.+0.j,\n",
      "            0.+0.j,  1.+0.j,  0.+0.j,  0.+0.j,  0.+0.j,  0.+0.j,  0.+0.j,\n",
      "            0.+0.j,  0.+0.j],\n",
      "          [ 0.+0.j,  0.+0.j,  0.+0.j,  0.+0.j,  0.+0.j,  0.+0.j,  0.+0.j,\n",
      "            0.+0.j,  0.+0.j,  1.+0.j,  0.+0.j,  0.+0.j,  0.+0.j,  0.+0.j,\n",
      "            0.+0.j,  0.+0.j],\n",
      "          [ 0.+0.j,  0.+0.j,  0.+0.j,  0.+0.j,  1.+0.j,  0.+0.j,  0.+0.j,\n",
      "            0.+0.j,  0.+0.j,  0.+0.j,  0.+0.j,  0.+0.j,  0.+0.j,  0.+0.j,\n",
      "            0.+0.j,  0.+0.j],\n",
      "          [ 0.+0.j,  0.+0.j,  0.+0.j,  0.+0.j,  0.+0.j,  1.+0.j,  0.+0.j,\n",
      "            0.+0.j,  0.+0.j,  0.+0.j,  0.+0.j,  0.+0.j,  0.+0.j,  0.+0.j,\n",
      "            0.+0.j,  0.+0.j],\n",
      "          [ 0.+0.j,  0.+0.j,  0.+0.j,  0.+0.j,  0.+0.j,  0.+0.j,  0.+0.j,\n",
      "            0.+0.j,  0.+0.j,  0.+0.j,  0.+0.j,  0.+0.j, -1.+0.j,  0.+0.j,\n",
      "            0.+0.j,  0.+0.j],\n",
      "          [ 0.+0.j,  0.+0.j,  0.+0.j,  0.+0.j,  0.+0.j,  0.+0.j,  0.+0.j,\n",
      "            0.+0.j,  0.+0.j,  0.+0.j,  0.+0.j,  0.+0.j,  0.+0.j, -1.+0.j,\n",
      "            0.+0.j,  0.+0.j],\n",
      "          [ 0.+0.j,  0.+0.j,  1.+0.j,  0.+0.j,  0.+0.j,  0.+0.j,  0.+0.j,\n",
      "            0.+0.j,  0.+0.j,  0.+0.j,  0.+0.j,  0.+0.j,  0.+0.j,  0.+0.j,\n",
      "            0.+0.j,  0.+0.j],\n",
      "          [ 0.+0.j,  0.+0.j,  0.+0.j,  1.+0.j,  0.+0.j,  0.+0.j,  0.+0.j,\n",
      "            0.+0.j,  0.+0.j,  0.+0.j,  0.+0.j,  0.+0.j,  0.+0.j,  0.+0.j,\n",
      "            0.+0.j,  0.+0.j],\n",
      "          [ 0.+0.j,  0.+0.j,  0.+0.j,  0.+0.j,  0.+0.j,  0.+0.j,  0.+0.j,\n",
      "            0.+0.j,  0.+0.j,  0.+0.j, -1.+0.j,  0.+0.j,  0.+0.j,  0.+0.j,\n",
      "            0.+0.j,  0.+0.j],\n",
      "          [ 0.+0.j,  0.+0.j,  0.+0.j,  0.+0.j,  0.+0.j,  0.+0.j,  0.+0.j,\n",
      "            0.+0.j,  0.+0.j,  0.+0.j,  0.+0.j, -1.+0.j,  0.+0.j,  0.+0.j,\n",
      "            0.+0.j,  0.+0.j],\n",
      "          [ 0.+0.j,  0.+0.j,  0.+0.j,  0.+0.j,  0.+0.j,  0.+0.j, -1.+0.j,\n",
      "            0.+0.j,  0.+0.j,  0.+0.j,  0.+0.j,  0.+0.j,  0.+0.j,  0.+0.j,\n",
      "            0.+0.j,  0.+0.j],\n",
      "          [ 0.+0.j,  0.+0.j,  0.+0.j,  0.+0.j,  0.+0.j,  0.+0.j,  0.+0.j,\n",
      "           -1.+0.j,  0.+0.j,  0.+0.j,  0.+0.j,  0.+0.j,  0.+0.j,  0.+0.j,\n",
      "            0.+0.j,  0.+0.j],\n",
      "          [ 0.+0.j,  0.+0.j,  0.+0.j,  0.+0.j,  0.+0.j,  0.+0.j,  0.+0.j,\n",
      "            0.+0.j,  0.+0.j,  0.+0.j,  0.+0.j,  0.+0.j,  0.+0.j,  0.+0.j,\n",
      "           -1.+0.j,  0.+0.j],\n",
      "          [ 0.+0.j,  0.+0.j,  0.+0.j,  0.+0.j,  0.+0.j,  0.+0.j,  0.+0.j,\n",
      "            0.+0.j,  0.+0.j,  0.+0.j,  0.+0.j,  0.+0.j,  0.+0.j,  0.+0.j,\n",
      "            0.+0.j, -1.+0.j]],\n",
      "         input_dims=(2, 2, 2, 2), output_dims=(2, 2, 2, 2)), Operator([[ 1.+0.j,  0.+0.j,  0.+0.j,  0.+0.j,  0.+0.j,  0.+0.j,  0.+0.j,\n",
      "            0.+0.j,  0.+0.j,  0.+0.j,  0.+0.j,  0.+0.j,  0.+0.j,  0.+0.j,\n",
      "            0.+0.j,  0.+0.j],\n",
      "          [ 0.+0.j,  0.+0.j,  0.+0.j,  0.+0.j,  1.+0.j,  0.+0.j,  0.+0.j,\n",
      "            0.+0.j,  0.+0.j,  0.+0.j,  0.+0.j,  0.+0.j,  0.+0.j,  0.+0.j,\n",
      "            0.+0.j,  0.+0.j],\n",
      "          [ 0.+0.j,  0.+0.j,  1.+0.j,  0.+0.j,  0.+0.j,  0.+0.j,  0.+0.j,\n",
      "            0.+0.j,  0.+0.j,  0.+0.j,  0.+0.j,  0.+0.j,  0.+0.j,  0.+0.j,\n",
      "            0.+0.j,  0.+0.j],\n",
      "          [ 0.+0.j,  0.+0.j,  0.+0.j,  0.+0.j,  0.+0.j,  0.+0.j,  1.+0.j,\n",
      "            0.+0.j,  0.+0.j,  0.+0.j,  0.+0.j,  0.+0.j,  0.+0.j,  0.+0.j,\n",
      "            0.+0.j,  0.+0.j],\n",
      "          [ 0.+0.j,  1.+0.j,  0.+0.j,  0.+0.j,  0.+0.j,  0.+0.j,  0.+0.j,\n",
      "            0.+0.j,  0.+0.j,  0.+0.j,  0.+0.j,  0.+0.j,  0.+0.j,  0.+0.j,\n",
      "            0.+0.j,  0.+0.j],\n",
      "          [ 0.+0.j,  0.+0.j,  0.+0.j,  0.+0.j,  0.+0.j, -1.+0.j,  0.+0.j,\n",
      "            0.+0.j,  0.+0.j,  0.+0.j,  0.+0.j,  0.+0.j,  0.+0.j,  0.+0.j,\n",
      "            0.+0.j,  0.+0.j],\n",
      "          [ 0.+0.j,  0.+0.j,  0.+0.j,  1.+0.j,  0.+0.j,  0.+0.j,  0.+0.j,\n",
      "            0.+0.j,  0.+0.j,  0.+0.j,  0.+0.j,  0.+0.j,  0.+0.j,  0.+0.j,\n",
      "            0.+0.j,  0.+0.j],\n",
      "          [ 0.+0.j,  0.+0.j,  0.+0.j,  0.+0.j,  0.+0.j,  0.+0.j,  0.+0.j,\n",
      "           -1.+0.j,  0.+0.j,  0.+0.j,  0.+0.j,  0.+0.j,  0.+0.j,  0.+0.j,\n",
      "            0.+0.j,  0.+0.j],\n",
      "          [ 0.+0.j,  0.+0.j,  0.+0.j,  0.+0.j,  0.+0.j,  0.+0.j,  0.+0.j,\n",
      "            0.+0.j,  1.+0.j,  0.+0.j,  0.+0.j,  0.+0.j,  0.+0.j,  0.+0.j,\n",
      "            0.+0.j,  0.+0.j],\n",
      "          [ 0.+0.j,  0.+0.j,  0.+0.j,  0.+0.j,  0.+0.j,  0.+0.j,  0.+0.j,\n",
      "            0.+0.j,  0.+0.j,  0.+0.j,  0.+0.j,  0.+0.j,  1.+0.j,  0.+0.j,\n",
      "            0.+0.j,  0.+0.j],\n",
      "          [ 0.+0.j,  0.+0.j,  0.+0.j,  0.+0.j,  0.+0.j,  0.+0.j,  0.+0.j,\n",
      "            0.+0.j,  0.+0.j,  0.+0.j,  1.+0.j,  0.+0.j,  0.+0.j,  0.+0.j,\n",
      "            0.+0.j,  0.+0.j],\n",
      "          [ 0.+0.j,  0.+0.j,  0.+0.j,  0.+0.j,  0.+0.j,  0.+0.j,  0.+0.j,\n",
      "            0.+0.j,  0.+0.j,  0.+0.j,  0.+0.j,  0.+0.j,  0.+0.j,  0.+0.j,\n",
      "            1.+0.j,  0.+0.j],\n",
      "          [ 0.+0.j,  0.+0.j,  0.+0.j,  0.+0.j,  0.+0.j,  0.+0.j,  0.+0.j,\n",
      "            0.+0.j,  0.+0.j,  1.+0.j,  0.+0.j,  0.+0.j,  0.+0.j,  0.+0.j,\n",
      "            0.+0.j,  0.+0.j],\n",
      "          [ 0.+0.j,  0.+0.j,  0.+0.j,  0.+0.j,  0.+0.j,  0.+0.j,  0.+0.j,\n",
      "            0.+0.j,  0.+0.j,  0.+0.j,  0.+0.j,  0.+0.j,  0.+0.j, -1.+0.j,\n",
      "            0.+0.j,  0.+0.j],\n",
      "          [ 0.+0.j,  0.+0.j,  0.+0.j,  0.+0.j,  0.+0.j,  0.+0.j,  0.+0.j,\n",
      "            0.+0.j,  0.+0.j,  0.+0.j,  0.+0.j,  1.+0.j,  0.+0.j,  0.+0.j,\n",
      "            0.+0.j,  0.+0.j],\n",
      "          [ 0.+0.j,  0.+0.j,  0.+0.j,  0.+0.j,  0.+0.j,  0.+0.j,  0.+0.j,\n",
      "            0.+0.j,  0.+0.j,  0.+0.j,  0.+0.j,  0.+0.j,  0.+0.j,  0.+0.j,\n",
      "            0.+0.j, -1.+0.j]],\n",
      "         input_dims=(2, 2, 2, 2), output_dims=(2, 2, 2, 2)), Operator([[ 1.+0.j,  0.+0.j,  0.+0.j,  0.+0.j,  0.+0.j,  0.+0.j,  0.+0.j,\n",
      "            0.+0.j,  0.+0.j,  0.+0.j,  0.+0.j,  0.+0.j,  0.+0.j,  0.+0.j,\n",
      "            0.+0.j,  0.+0.j],\n",
      "          [ 0.+0.j,  1.+0.j,  0.+0.j,  0.+0.j,  0.+0.j,  0.+0.j,  0.+0.j,\n",
      "            0.+0.j,  0.+0.j,  0.+0.j,  0.+0.j,  0.+0.j,  0.+0.j,  0.+0.j,\n",
      "            0.+0.j,  0.+0.j],\n",
      "          [ 0.+0.j,  0.+0.j,  0.+0.j,  0.+0.j,  0.+0.j,  0.+0.j,  0.+0.j,\n",
      "            0.+0.j,  1.+0.j,  0.+0.j,  0.+0.j,  0.+0.j,  0.+0.j,  0.+0.j,\n",
      "            0.+0.j,  0.+0.j],\n",
      "          [ 0.+0.j,  0.+0.j,  0.+0.j,  0.+0.j,  0.+0.j,  0.+0.j,  0.+0.j,\n",
      "            0.+0.j,  0.+0.j,  1.+0.j,  0.+0.j,  0.+0.j,  0.+0.j,  0.+0.j,\n",
      "            0.+0.j,  0.+0.j],\n",
      "          [ 0.+0.j,  0.+0.j,  0.+0.j,  0.+0.j,  1.+0.j,  0.+0.j,  0.+0.j,\n",
      "            0.+0.j,  0.+0.j,  0.+0.j,  0.+0.j,  0.+0.j,  0.+0.j,  0.+0.j,\n",
      "            0.+0.j,  0.+0.j],\n",
      "          [ 0.+0.j,  0.+0.j,  0.+0.j,  0.+0.j,  0.+0.j,  1.+0.j,  0.+0.j,\n",
      "            0.+0.j,  0.+0.j,  0.+0.j,  0.+0.j,  0.+0.j,  0.+0.j,  0.+0.j,\n",
      "            0.+0.j,  0.+0.j],\n",
      "          [ 0.+0.j,  0.+0.j,  0.+0.j,  0.+0.j,  0.+0.j,  0.+0.j,  0.+0.j,\n",
      "            0.+0.j,  0.+0.j,  0.+0.j,  0.+0.j,  0.+0.j,  1.+0.j,  0.+0.j,\n",
      "            0.+0.j,  0.+0.j],\n",
      "          [ 0.+0.j,  0.+0.j,  0.+0.j,  0.+0.j,  0.+0.j,  0.+0.j,  0.+0.j,\n",
      "            0.+0.j,  0.+0.j,  0.+0.j,  0.+0.j,  0.+0.j,  0.+0.j,  1.+0.j,\n",
      "            0.+0.j,  0.+0.j],\n",
      "          [ 0.+0.j,  0.+0.j,  1.+0.j,  0.+0.j,  0.+0.j,  0.+0.j,  0.+0.j,\n",
      "            0.+0.j,  0.+0.j,  0.+0.j,  0.+0.j,  0.+0.j,  0.+0.j,  0.+0.j,\n",
      "            0.+0.j,  0.+0.j],\n",
      "          [ 0.+0.j,  0.+0.j,  0.+0.j,  1.+0.j,  0.+0.j,  0.+0.j,  0.+0.j,\n",
      "            0.+0.j,  0.+0.j,  0.+0.j,  0.+0.j,  0.+0.j,  0.+0.j,  0.+0.j,\n",
      "            0.+0.j,  0.+0.j],\n",
      "          [ 0.+0.j,  0.+0.j,  0.+0.j,  0.+0.j,  0.+0.j,  0.+0.j,  0.+0.j,\n",
      "            0.+0.j,  0.+0.j,  0.+0.j, -1.+0.j,  0.+0.j,  0.+0.j,  0.+0.j,\n",
      "            0.+0.j,  0.+0.j],\n",
      "          [ 0.+0.j,  0.+0.j,  0.+0.j,  0.+0.j,  0.+0.j,  0.+0.j,  0.+0.j,\n",
      "            0.+0.j,  0.+0.j,  0.+0.j,  0.+0.j, -1.+0.j,  0.+0.j,  0.+0.j,\n",
      "            0.+0.j,  0.+0.j],\n",
      "          [ 0.+0.j,  0.+0.j,  0.+0.j,  0.+0.j,  0.+0.j,  0.+0.j,  1.+0.j,\n",
      "            0.+0.j,  0.+0.j,  0.+0.j,  0.+0.j,  0.+0.j,  0.+0.j,  0.+0.j,\n",
      "            0.+0.j,  0.+0.j],\n",
      "          [ 0.+0.j,  0.+0.j,  0.+0.j,  0.+0.j,  0.+0.j,  0.+0.j,  0.+0.j,\n",
      "            1.+0.j,  0.+0.j,  0.+0.j,  0.+0.j,  0.+0.j,  0.+0.j,  0.+0.j,\n",
      "            0.+0.j,  0.+0.j],\n",
      "          [ 0.+0.j,  0.+0.j,  0.+0.j,  0.+0.j,  0.+0.j,  0.+0.j,  0.+0.j,\n",
      "            0.+0.j,  0.+0.j,  0.+0.j,  0.+0.j,  0.+0.j,  0.+0.j,  0.+0.j,\n",
      "           -1.+0.j,  0.+0.j],\n",
      "          [ 0.+0.j,  0.+0.j,  0.+0.j,  0.+0.j,  0.+0.j,  0.+0.j,  0.+0.j,\n",
      "            0.+0.j,  0.+0.j,  0.+0.j,  0.+0.j,  0.+0.j,  0.+0.j,  0.+0.j,\n",
      "            0.+0.j, -1.+0.j]],\n",
      "         input_dims=(2, 2, 2, 2), output_dims=(2, 2, 2, 2)), Pauli('ZZII'), Pauli('IIZZ')]\n",
      "-1.5 * IIII\n",
      "+ 0.75 * IIZZ\n",
      "+ 0.75 * ZZII\n",
      "- 1.0 * IXZX\n",
      "- 1.0 * IYZY\n",
      "- 1.0 * YZYI\n",
      "- 1.0 * XZXI\n"
     ]
    }
   ],
   "execution_count": 86
  },
  {
   "cell_type": "code",
   "metadata": {
    "ExecuteTime": {
     "end_time": "2024-06-29T18:11:56.421164Z",
     "start_time": "2024-06-29T18:11:56.337317Z"
    }
   },
   "source": [
    "from qiskit_algorithms import VQE, AdaptVQE\n",
    "from qiskit.primitives import Estimator, Sampler\n",
    "from qiskit.circuit.library import EfficientSU2\n",
    "from qiskit_algorithms.optimizers import SPSA, COBYLA, QNSPSA, SLSQP\n",
    "\n",
    "est = Estimator()\n",
    "intermediate_info = []\n",
    "params_info = []\n",
    "def callback(eval_count,params,value,meta):\n",
    "        intermediate_info.append(value)\n",
    "        params_info.append(params)\n",
    "param_count = 322\n",
    "initial_point = np.random.random(param_count)*np.pi\n",
    "#sampler = Sampler()\n",
    "#fidelity = QNSPSA.get_fidelity(ans1, sampler = sampler)\n",
    "#optimizer = QNSPSA(fidelity,maxiter = 100)\n",
    "print(type(qubit_jw_op.to_spmatrix()))\n",
    "optimizer = COBYLA(maxiter = 500)\n",
    "vqe = VQE(est,ev_ans,optimizer,callback = callback,initial_point = initial_point)\n",
    "adapt_vqe = AdaptVQE(vqe)\n",
    "\n",
    "eigen = adapt_vqe.compute_minimum_eigenvalue(qubit_jw_op1).eigenvalue\n",
    "print(eigen)"
   ],
   "id": "6333df571e71dd05",
   "outputs": [
    {
     "name": "stdout",
     "output_type": "stream",
     "text": [
      "<class 'scipy.sparse._csr.csr_matrix'>\n"
     ]
    },
    {
     "ename": "TypeError",
     "evalue": "ListOp expecting objects of type OperatorBase, got Operator([[ 1.+0.j,  0.+0.j,  0.+0.j,  0.+0.j,  0.+0.j,  0.+0.j,  0.+0.j,\n            0.+0.j,  0.+0.j,  0.+0.j,  0.+0.j,  0.+0.j,  0.+0.j,  0.+0.j,\n            0.+0.j,  0.+0.j],\n          [ 0.+0.j,  0.+0.j,  0.+0.j,  0.+0.j,  1.+0.j,  0.+0.j,  0.+0.j,\n            0.+0.j,  0.+0.j,  0.+0.j,  0.+0.j,  0.+0.j,  0.+0.j,  0.+0.j,\n            0.+0.j,  0.+0.j],\n          [ 0.+0.j,  0.+0.j,  1.+0.j,  0.+0.j,  0.+0.j,  0.+0.j,  0.+0.j,\n            0.+0.j,  0.+0.j,  0.+0.j,  0.+0.j,  0.+0.j,  0.+0.j,  0.+0.j,\n            0.+0.j,  0.+0.j],\n          [ 0.+0.j,  0.+0.j,  0.+0.j,  0.+0.j,  0.+0.j,  0.+0.j, -1.+0.j,\n            0.+0.j,  0.+0.j,  0.+0.j,  0.+0.j,  0.+0.j,  0.+0.j,  0.+0.j,\n            0.+0.j,  0.+0.j],\n          [ 0.+0.j,  1.+0.j,  0.+0.j,  0.+0.j,  0.+0.j,  0.+0.j,  0.+0.j,\n            0.+0.j,  0.+0.j,  0.+0.j,  0.+0.j,  0.+0.j,  0.+0.j,  0.+0.j,\n            0.+0.j,  0.+0.j],\n          [ 0.+0.j,  0.+0.j,  0.+0.j,  0.+0.j,  0.+0.j, -1.+0.j,  0.+0.j,\n            0.+0.j,  0.+0.j,  0.+0.j,  0.+0.j,  0.+0.j,  0.+0.j,  0.+0.j,\n            0.+0.j,  0.+0.j],\n          [ 0.+0.j,  0.+0.j,  0.+0.j, -1.+0.j,  0.+0.j,  0.+0.j,  0.+0.j,\n            0.+0.j,  0.+0.j,  0.+0.j,  0.+0.j,  0.+0.j,  0.+0.j,  0.+0.j,\n            0.+0.j,  0.+0.j],\n          [ 0.+0.j,  0.+0.j,  0.+0.j,  0.+0.j,  0.+0.j,  0.+0.j,  0.+0.j,\n           -1.+0.j,  0.+0.j,  0.+0.j,  0.+0.j,  0.+0.j,  0.+0.j,  0.+0.j,\n            0.+0.j,  0.+0.j],\n          [ 0.+0.j,  0.+0.j,  0.+0.j,  0.+0.j,  0.+0.j,  0.+0.j,  0.+0.j,\n            0.+0.j,  1.+0.j,  0.+0.j,  0.+0.j,  0.+0.j,  0.+0.j,  0.+0.j,\n            0.+0.j,  0.+0.j],\n          [ 0.+0.j,  0.+0.j,  0.+0.j,  0.+0.j,  0.+0.j,  0.+0.j,  0.+0.j,\n            0.+0.j,  0.+0.j,  0.+0.j,  0.+0.j,  0.+0.j,  1.+0.j,  0.+0.j,\n            0.+0.j,  0.+0.j],\n          [ 0.+0.j,  0.+0.j,  0.+0.j,  0.+0.j,  0.+0.j,  0.+0.j,  0.+0.j,\n            0.+0.j,  0.+0.j,  0.+0.j,  1.+0.j,  0.+0.j,  0.+0.j,  0.+0.j,\n            0.+0.j,  0.+0.j],\n          [ 0.+0.j,  0.+0.j,  0.+0.j,  0.+0.j,  0.+0.j,  0.+0.j,  0.+0.j,\n            0.+0.j,  0.+0.j,  0.+0.j,  0.+0.j,  0.+0.j,  0.+0.j,  0.+0.j,\n           -1.+0.j,  0.+0.j],\n          [ 0.+0.j,  0.+0.j,  0.+0.j,  0.+0.j,  0.+0.j,  0.+0.j,  0.+0.j,\n            0.+0.j,  0.+0.j,  1.+0.j,  0.+0.j,  0.+0.j,  0.+0.j,  0.+0.j,\n            0.+0.j,  0.+0.j],\n          [ 0.+0.j,  0.+0.j,  0.+0.j,  0.+0.j,  0.+0.j,  0.+0.j,  0.+0.j,\n            0.+0.j,  0.+0.j,  0.+0.j,  0.+0.j,  0.+0.j,  0.+0.j, -1.+0.j,\n            0.+0.j,  0.+0.j],\n          [ 0.+0.j,  0.+0.j,  0.+0.j,  0.+0.j,  0.+0.j,  0.+0.j,  0.+0.j,\n            0.+0.j,  0.+0.j,  0.+0.j,  0.+0.j, -1.+0.j,  0.+0.j,  0.+0.j,\n            0.+0.j,  0.+0.j],\n          [ 0.+0.j,  0.+0.j,  0.+0.j,  0.+0.j,  0.+0.j,  0.+0.j,  0.+0.j,\n            0.+0.j,  0.+0.j,  0.+0.j,  0.+0.j,  0.+0.j,  0.+0.j,  0.+0.j,\n            0.+0.j, -1.+0.j]],\n         input_dims=(2, 2, 2, 2), output_dims=(2, 2, 2, 2))",
     "output_type": "error",
     "traceback": [
      "\u001B[0;31m---------------------------------------------------------------------------\u001B[0m",
      "\u001B[0;31mTypeError\u001B[0m                                 Traceback (most recent call last)",
      "Cell \u001B[0;32mIn[115], line 22\u001B[0m\n\u001B[1;32m     19\u001B[0m vqe \u001B[38;5;241m=\u001B[39m VQE(est,ev_ans,optimizer,callback \u001B[38;5;241m=\u001B[39m callback,initial_point \u001B[38;5;241m=\u001B[39m initial_point)\n\u001B[1;32m     20\u001B[0m adapt_vqe \u001B[38;5;241m=\u001B[39m AdaptVQE(vqe)\n\u001B[0;32m---> 22\u001B[0m eigen \u001B[38;5;241m=\u001B[39m \u001B[43madapt_vqe\u001B[49m\u001B[38;5;241;43m.\u001B[39;49m\u001B[43mcompute_minimum_eigenvalue\u001B[49m\u001B[43m(\u001B[49m\u001B[43mqubit_jw_op1\u001B[49m\u001B[43m)\u001B[49m\u001B[38;5;241m.\u001B[39meigenvalue\n\u001B[1;32m     23\u001B[0m \u001B[38;5;28mprint\u001B[39m(eigen)\n",
      "File \u001B[0;32m~/PycharmProjects/qagc2024/venv/lib/python3.10/site-packages/qiskit_algorithms/minimum_eigensolvers/adapt_vqe.py:235\u001B[0m, in \u001B[0;36mAdaptVQE.compute_minimum_eigenvalue\u001B[0;34m(self, operator, aux_operators)\u001B[0m\n\u001B[1;32m    233\u001B[0m \u001B[38;5;66;03m# compute gradients\u001B[39;00m\n\u001B[1;32m    234\u001B[0m logger\u001B[38;5;241m.\u001B[39mdebug(\u001B[38;5;124m\"\u001B[39m\u001B[38;5;124mComputing gradients\u001B[39m\u001B[38;5;124m\"\u001B[39m)\n\u001B[0;32m--> 235\u001B[0m cur_grads \u001B[38;5;241m=\u001B[39m \u001B[38;5;28;43mself\u001B[39;49m\u001B[38;5;241;43m.\u001B[39;49m\u001B[43m_compute_gradients\u001B[49m\u001B[43m(\u001B[49m\u001B[43mtheta\u001B[49m\u001B[43m,\u001B[49m\u001B[43m \u001B[49m\u001B[43moperator\u001B[49m\u001B[43m)\u001B[49m\n\u001B[1;32m    236\u001B[0m \u001B[38;5;66;03m# pick maximum gradient\u001B[39;00m\n\u001B[1;32m    237\u001B[0m max_grad_index, max_grad \u001B[38;5;241m=\u001B[39m \u001B[38;5;28mmax\u001B[39m(  \u001B[38;5;66;03m# type: ignore[assignment]\u001B[39;00m\n\u001B[1;32m    238\u001B[0m     \u001B[38;5;28menumerate\u001B[39m(cur_grads),\n\u001B[1;32m    239\u001B[0m     key\u001B[38;5;241m=\u001B[39m\u001B[38;5;28;01mlambda\u001B[39;00m item: np\u001B[38;5;241m.\u001B[39mabs(item[\u001B[38;5;241m1\u001B[39m][\u001B[38;5;241m0\u001B[39m]),  \u001B[38;5;66;03m# type: ignore[call-overload]\u001B[39;00m\n\u001B[1;32m    240\u001B[0m )\n",
      "File \u001B[0;32m~/PycharmProjects/qagc2024/venv/lib/python3.10/site-packages/qiskit_algorithms/minimum_eigensolvers/adapt_vqe.py:162\u001B[0m, in \u001B[0;36mAdaptVQE._compute_gradients\u001B[0;34m(self, theta, operator)\u001B[0m\n\u001B[1;32m    151\u001B[0m \u001B[38;5;250m\u001B[39m\u001B[38;5;124;03m\"\"\"\u001B[39;00m\n\u001B[1;32m    152\u001B[0m \u001B[38;5;124;03mComputes the gradients for all available excitation operators.\u001B[39;00m\n\u001B[1;32m    153\u001B[0m \n\u001B[0;32m   (...)\u001B[0m\n\u001B[1;32m    158\u001B[0m \u001B[38;5;124;03m    List of pairs consisting of the computed gradient and excitation operator.\u001B[39;00m\n\u001B[1;32m    159\u001B[0m \u001B[38;5;124;03m\"\"\"\u001B[39;00m\n\u001B[1;32m    160\u001B[0m \u001B[38;5;66;03m# The excitations operators are applied later as exp(i*theta*excitation).\u001B[39;00m\n\u001B[1;32m    161\u001B[0m \u001B[38;5;66;03m# For this commutator, we need to explicitly pull in the imaginary phase.\u001B[39;00m\n\u001B[0;32m--> 162\u001B[0m commutators \u001B[38;5;241m=\u001B[39m [\u001B[38;5;241m1\u001B[39mj \u001B[38;5;241m*\u001B[39m (operator \u001B[38;5;241m@\u001B[39m exc \u001B[38;5;241m-\u001B[39m exc \u001B[38;5;241m@\u001B[39m operator) \u001B[38;5;28;01mfor\u001B[39;00m exc \u001B[38;5;129;01min\u001B[39;00m \u001B[38;5;28mself\u001B[39m\u001B[38;5;241m.\u001B[39m_excitation_pool]\n\u001B[1;32m    163\u001B[0m res \u001B[38;5;241m=\u001B[39m estimate_observables(\u001B[38;5;28mself\u001B[39m\u001B[38;5;241m.\u001B[39msolver\u001B[38;5;241m.\u001B[39mestimator, \u001B[38;5;28mself\u001B[39m\u001B[38;5;241m.\u001B[39msolver\u001B[38;5;241m.\u001B[39mansatz, commutators, theta)\n\u001B[1;32m    164\u001B[0m \u001B[38;5;28;01mreturn\u001B[39;00m res\n",
      "File \u001B[0;32m~/PycharmProjects/qagc2024/venv/lib/python3.10/site-packages/qiskit_algorithms/minimum_eigensolvers/adapt_vqe.py:162\u001B[0m, in \u001B[0;36m<listcomp>\u001B[0;34m(.0)\u001B[0m\n\u001B[1;32m    151\u001B[0m \u001B[38;5;250m\u001B[39m\u001B[38;5;124;03m\"\"\"\u001B[39;00m\n\u001B[1;32m    152\u001B[0m \u001B[38;5;124;03mComputes the gradients for all available excitation operators.\u001B[39;00m\n\u001B[1;32m    153\u001B[0m \n\u001B[0;32m   (...)\u001B[0m\n\u001B[1;32m    158\u001B[0m \u001B[38;5;124;03m    List of pairs consisting of the computed gradient and excitation operator.\u001B[39;00m\n\u001B[1;32m    159\u001B[0m \u001B[38;5;124;03m\"\"\"\u001B[39;00m\n\u001B[1;32m    160\u001B[0m \u001B[38;5;66;03m# The excitations operators are applied later as exp(i*theta*excitation).\u001B[39;00m\n\u001B[1;32m    161\u001B[0m \u001B[38;5;66;03m# For this commutator, we need to explicitly pull in the imaginary phase.\u001B[39;00m\n\u001B[0;32m--> 162\u001B[0m commutators \u001B[38;5;241m=\u001B[39m [\u001B[38;5;241m1\u001B[39mj \u001B[38;5;241m*\u001B[39m (\u001B[43moperator\u001B[49m\u001B[43m \u001B[49m\u001B[38;5;241;43m@\u001B[39;49m\u001B[43m \u001B[49m\u001B[43mexc\u001B[49m \u001B[38;5;241m-\u001B[39m exc \u001B[38;5;241m@\u001B[39m operator) \u001B[38;5;28;01mfor\u001B[39;00m exc \u001B[38;5;129;01min\u001B[39;00m \u001B[38;5;28mself\u001B[39m\u001B[38;5;241m.\u001B[39m_excitation_pool]\n\u001B[1;32m    163\u001B[0m res \u001B[38;5;241m=\u001B[39m estimate_observables(\u001B[38;5;28mself\u001B[39m\u001B[38;5;241m.\u001B[39msolver\u001B[38;5;241m.\u001B[39mestimator, \u001B[38;5;28mself\u001B[39m\u001B[38;5;241m.\u001B[39msolver\u001B[38;5;241m.\u001B[39mansatz, commutators, theta)\n\u001B[1;32m    164\u001B[0m \u001B[38;5;28;01mreturn\u001B[39;00m res\n",
      "File \u001B[0;32m~/PycharmProjects/qagc2024/venv/lib/python3.10/site-packages/qiskit/opflow/mixins/star_algebra.py:107\u001B[0m, in \u001B[0;36mStarAlgebraMixin.__matmul__\u001B[0;34m(self, other)\u001B[0m\n\u001B[1;32m    106\u001B[0m \u001B[38;5;28;01mdef\u001B[39;00m \u001B[38;5;21m__matmul__\u001B[39m(\u001B[38;5;28mself\u001B[39m, other):\n\u001B[0;32m--> 107\u001B[0m     \u001B[38;5;28;01mreturn\u001B[39;00m \u001B[38;5;28;43mself\u001B[39;49m\u001B[38;5;241;43m.\u001B[39;49m\u001B[43mcompose\u001B[49m\u001B[43m(\u001B[49m\u001B[43mother\u001B[49m\u001B[43m)\u001B[49m\n",
      "File \u001B[0;32m~/PycharmProjects/qagc2024/venv/lib/python3.10/site-packages/qiskit/opflow/primitive_ops/pauli_sum_op.py:261\u001B[0m, in \u001B[0;36mPauliSumOp.compose\u001B[0;34m(self, other, permutation, front)\u001B[0m\n\u001B[1;32m    258\u001B[0m     pauli_op \u001B[38;5;241m=\u001B[39m cast(Union[PauliOp, SummedOp], new_self\u001B[38;5;241m.\u001B[39mto_pauli_op())\n\u001B[1;32m    259\u001B[0m     \u001B[38;5;28;01mreturn\u001B[39;00m pauli_op\u001B[38;5;241m.\u001B[39mto_circuit_op()\u001B[38;5;241m.\u001B[39mcompose(other)\n\u001B[0;32m--> 261\u001B[0m \u001B[38;5;28;01mreturn\u001B[39;00m \u001B[38;5;28;43msuper\u001B[39;49m\u001B[43m(\u001B[49m\u001B[43mPauliSumOp\u001B[49m\u001B[43m,\u001B[49m\u001B[43m \u001B[49m\u001B[43mnew_self\u001B[49m\u001B[43m)\u001B[49m\u001B[38;5;241;43m.\u001B[39;49m\u001B[43mcompose\u001B[49m\u001B[43m(\u001B[49m\u001B[43mother\u001B[49m\u001B[43m)\u001B[49m\n",
      "File \u001B[0;32m~/PycharmProjects/qagc2024/venv/lib/python3.10/site-packages/qiskit/opflow/primitive_ops/primitive_op.py:186\u001B[0m, in \u001B[0;36mPrimitiveOp.compose\u001B[0;34m(self, other, permutation, front)\u001B[0m\n\u001B[1;32m    183\u001B[0m         \u001B[38;5;28;01mreturn\u001B[39;00m ComposedOp(new_oplist, coeff\u001B[38;5;241m=\u001B[39mother\u001B[38;5;241m.\u001B[39mcoeff)\n\u001B[1;32m    184\u001B[0m     \u001B[38;5;28;01mreturn\u001B[39;00m ComposedOp([new_self] \u001B[38;5;241m+\u001B[39m other\u001B[38;5;241m.\u001B[39moplist, coeff\u001B[38;5;241m=\u001B[39mother\u001B[38;5;241m.\u001B[39mcoeff)\n\u001B[0;32m--> 186\u001B[0m \u001B[38;5;28;01mreturn\u001B[39;00m \u001B[43mComposedOp\u001B[49m\u001B[43m(\u001B[49m\u001B[43m[\u001B[49m\u001B[43mnew_self\u001B[49m\u001B[43m,\u001B[49m\u001B[43m \u001B[49m\u001B[43mother\u001B[49m\u001B[43m]\u001B[49m\u001B[43m)\u001B[49m\n",
      "File \u001B[0;32m~/PycharmProjects/qagc2024/venv/lib/python3.10/site-packages/qiskit/opflow/list_ops/composed_op.py:48\u001B[0m, in \u001B[0;36mComposedOp.__init__\u001B[0;34m(self, oplist, coeff, abelian)\u001B[0m\n\u001B[1;32m     36\u001B[0m \u001B[38;5;28;01mdef\u001B[39;00m \u001B[38;5;21m__init__\u001B[39m(\n\u001B[1;32m     37\u001B[0m     \u001B[38;5;28mself\u001B[39m,\n\u001B[1;32m     38\u001B[0m     oplist: List[OperatorBase],\n\u001B[1;32m     39\u001B[0m     coeff: Union[\u001B[38;5;28mcomplex\u001B[39m, ParameterExpression] \u001B[38;5;241m=\u001B[39m \u001B[38;5;241m1.0\u001B[39m,\n\u001B[1;32m     40\u001B[0m     abelian: \u001B[38;5;28mbool\u001B[39m \u001B[38;5;241m=\u001B[39m \u001B[38;5;28;01mFalse\u001B[39;00m,\n\u001B[1;32m     41\u001B[0m ) \u001B[38;5;241m-\u001B[39m\u001B[38;5;241m>\u001B[39m \u001B[38;5;28;01mNone\u001B[39;00m:\n\u001B[1;32m     42\u001B[0m \u001B[38;5;250m    \u001B[39m\u001B[38;5;124;03m\"\"\"\u001B[39;00m\n\u001B[1;32m     43\u001B[0m \u001B[38;5;124;03m    Args:\u001B[39;00m\n\u001B[1;32m     44\u001B[0m \u001B[38;5;124;03m        oplist: The Operators being composed.\u001B[39;00m\n\u001B[1;32m     45\u001B[0m \u001B[38;5;124;03m        coeff: A coefficient multiplying the operator\u001B[39;00m\n\u001B[1;32m     46\u001B[0m \u001B[38;5;124;03m        abelian: Indicates whether the Operators in ``oplist`` are known to mutually commute.\u001B[39;00m\n\u001B[1;32m     47\u001B[0m \u001B[38;5;124;03m    \"\"\"\u001B[39;00m\n\u001B[0;32m---> 48\u001B[0m     \u001B[38;5;28;43msuper\u001B[39;49m\u001B[43m(\u001B[49m\u001B[43m)\u001B[49m\u001B[38;5;241;43m.\u001B[39;49m\u001B[38;5;21;43m__init__\u001B[39;49m\u001B[43m(\u001B[49m\u001B[43moplist\u001B[49m\u001B[43m,\u001B[49m\u001B[43m \u001B[49m\u001B[43mcombo_fn\u001B[49m\u001B[38;5;241;43m=\u001B[39;49m\u001B[43mpartial\u001B[49m\u001B[43m(\u001B[49m\u001B[43mreduce\u001B[49m\u001B[43m,\u001B[49m\u001B[43m \u001B[49m\u001B[43mnp\u001B[49m\u001B[38;5;241;43m.\u001B[39;49m\u001B[43mdot\u001B[49m\u001B[43m)\u001B[49m\u001B[43m,\u001B[49m\u001B[43m \u001B[49m\u001B[43mcoeff\u001B[49m\u001B[38;5;241;43m=\u001B[39;49m\u001B[43mcoeff\u001B[49m\u001B[43m,\u001B[49m\u001B[43m \u001B[49m\u001B[43mabelian\u001B[49m\u001B[38;5;241;43m=\u001B[39;49m\u001B[43mabelian\u001B[49m\u001B[43m)\u001B[49m\n",
      "File \u001B[0;32m~/PycharmProjects/qagc2024/venv/lib/python3.10/site-packages/qiskit/opflow/list_ops/list_op.py:76\u001B[0m, in \u001B[0;36mListOp.__init__\u001B[0;34m(self, oplist, combo_fn, coeff, abelian, grad_combo_fn)\u001B[0m\n\u001B[1;32m     63\u001B[0m \u001B[38;5;250m\u001B[39m\u001B[38;5;124;03m\"\"\"\u001B[39;00m\n\u001B[1;32m     64\u001B[0m \u001B[38;5;124;03mArgs:\u001B[39;00m\n\u001B[1;32m     65\u001B[0m \u001B[38;5;124;03m    oplist: The list of ``OperatorBases`` defining this Operator's underlying function.\u001B[39;00m\n\u001B[0;32m   (...)\u001B[0m\n\u001B[1;32m     73\u001B[0m \u001B[38;5;124;03m    identity - it accepts the list of values, and returns them in a list.\u001B[39;00m\n\u001B[1;32m     74\u001B[0m \u001B[38;5;124;03m\"\"\"\u001B[39;00m\n\u001B[1;32m     75\u001B[0m \u001B[38;5;28msuper\u001B[39m()\u001B[38;5;241m.\u001B[39m\u001B[38;5;21m__init__\u001B[39m()\n\u001B[0;32m---> 76\u001B[0m \u001B[38;5;28mself\u001B[39m\u001B[38;5;241m.\u001B[39m_oplist \u001B[38;5;241m=\u001B[39m \u001B[38;5;28;43mself\u001B[39;49m\u001B[38;5;241;43m.\u001B[39;49m\u001B[43m_check_input_types\u001B[49m\u001B[43m(\u001B[49m\u001B[43moplist\u001B[49m\u001B[43m)\u001B[49m\n\u001B[1;32m     77\u001B[0m \u001B[38;5;28mself\u001B[39m\u001B[38;5;241m.\u001B[39m_combo_fn \u001B[38;5;241m=\u001B[39m combo_fn\n\u001B[1;32m     78\u001B[0m \u001B[38;5;28mself\u001B[39m\u001B[38;5;241m.\u001B[39m_coeff \u001B[38;5;241m=\u001B[39m coeff\n",
      "File \u001B[0;32m~/PycharmProjects/qagc2024/venv/lib/python3.10/site-packages/qiskit/opflow/list_ops/list_op.py:87\u001B[0m, in \u001B[0;36mListOp._check_input_types\u001B[0;34m(self, oplist)\u001B[0m\n\u001B[1;32m     85\u001B[0m \u001B[38;5;28;01melse\u001B[39;00m:\n\u001B[1;32m     86\u001B[0m     badval \u001B[38;5;241m=\u001B[39m \u001B[38;5;28mnext\u001B[39m(x \u001B[38;5;28;01mfor\u001B[39;00m x \u001B[38;5;129;01min\u001B[39;00m oplist \u001B[38;5;28;01mif\u001B[39;00m \u001B[38;5;129;01mnot\u001B[39;00m \u001B[38;5;28misinstance\u001B[39m(x, OperatorBase))\n\u001B[0;32m---> 87\u001B[0m     \u001B[38;5;28;01mraise\u001B[39;00m \u001B[38;5;167;01mTypeError\u001B[39;00m(\u001B[38;5;124mf\u001B[39m\u001B[38;5;124m\"\u001B[39m\u001B[38;5;124mListOp expecting objects of type OperatorBase, got \u001B[39m\u001B[38;5;132;01m{\u001B[39;00mbadval\u001B[38;5;132;01m}\u001B[39;00m\u001B[38;5;124m\"\u001B[39m)\n",
      "\u001B[0;31mTypeError\u001B[0m: ListOp expecting objects of type OperatorBase, got Operator([[ 1.+0.j,  0.+0.j,  0.+0.j,  0.+0.j,  0.+0.j,  0.+0.j,  0.+0.j,\n            0.+0.j,  0.+0.j,  0.+0.j,  0.+0.j,  0.+0.j,  0.+0.j,  0.+0.j,\n            0.+0.j,  0.+0.j],\n          [ 0.+0.j,  0.+0.j,  0.+0.j,  0.+0.j,  1.+0.j,  0.+0.j,  0.+0.j,\n            0.+0.j,  0.+0.j,  0.+0.j,  0.+0.j,  0.+0.j,  0.+0.j,  0.+0.j,\n            0.+0.j,  0.+0.j],\n          [ 0.+0.j,  0.+0.j,  1.+0.j,  0.+0.j,  0.+0.j,  0.+0.j,  0.+0.j,\n            0.+0.j,  0.+0.j,  0.+0.j,  0.+0.j,  0.+0.j,  0.+0.j,  0.+0.j,\n            0.+0.j,  0.+0.j],\n          [ 0.+0.j,  0.+0.j,  0.+0.j,  0.+0.j,  0.+0.j,  0.+0.j, -1.+0.j,\n            0.+0.j,  0.+0.j,  0.+0.j,  0.+0.j,  0.+0.j,  0.+0.j,  0.+0.j,\n            0.+0.j,  0.+0.j],\n          [ 0.+0.j,  1.+0.j,  0.+0.j,  0.+0.j,  0.+0.j,  0.+0.j,  0.+0.j,\n            0.+0.j,  0.+0.j,  0.+0.j,  0.+0.j,  0.+0.j,  0.+0.j,  0.+0.j,\n            0.+0.j,  0.+0.j],\n          [ 0.+0.j,  0.+0.j,  0.+0.j,  0.+0.j,  0.+0.j, -1.+0.j,  0.+0.j,\n            0.+0.j,  0.+0.j,  0.+0.j,  0.+0.j,  0.+0.j,  0.+0.j,  0.+0.j,\n            0.+0.j,  0.+0.j],\n          [ 0.+0.j,  0.+0.j,  0.+0.j, -1.+0.j,  0.+0.j,  0.+0.j,  0.+0.j,\n            0.+0.j,  0.+0.j,  0.+0.j,  0.+0.j,  0.+0.j,  0.+0.j,  0.+0.j,\n            0.+0.j,  0.+0.j],\n          [ 0.+0.j,  0.+0.j,  0.+0.j,  0.+0.j,  0.+0.j,  0.+0.j,  0.+0.j,\n           -1.+0.j,  0.+0.j,  0.+0.j,  0.+0.j,  0.+0.j,  0.+0.j,  0.+0.j,\n            0.+0.j,  0.+0.j],\n          [ 0.+0.j,  0.+0.j,  0.+0.j,  0.+0.j,  0.+0.j,  0.+0.j,  0.+0.j,\n            0.+0.j,  1.+0.j,  0.+0.j,  0.+0.j,  0.+0.j,  0.+0.j,  0.+0.j,\n            0.+0.j,  0.+0.j],\n          [ 0.+0.j,  0.+0.j,  0.+0.j,  0.+0.j,  0.+0.j,  0.+0.j,  0.+0.j,\n            0.+0.j,  0.+0.j,  0.+0.j,  0.+0.j,  0.+0.j,  1.+0.j,  0.+0.j,\n            0.+0.j,  0.+0.j],\n          [ 0.+0.j,  0.+0.j,  0.+0.j,  0.+0.j,  0.+0.j,  0.+0.j,  0.+0.j,\n            0.+0.j,  0.+0.j,  0.+0.j,  1.+0.j,  0.+0.j,  0.+0.j,  0.+0.j,\n            0.+0.j,  0.+0.j],\n          [ 0.+0.j,  0.+0.j,  0.+0.j,  0.+0.j,  0.+0.j,  0.+0.j,  0.+0.j,\n            0.+0.j,  0.+0.j,  0.+0.j,  0.+0.j,  0.+0.j,  0.+0.j,  0.+0.j,\n           -1.+0.j,  0.+0.j],\n          [ 0.+0.j,  0.+0.j,  0.+0.j,  0.+0.j,  0.+0.j,  0.+0.j,  0.+0.j,\n            0.+0.j,  0.+0.j,  1.+0.j,  0.+0.j,  0.+0.j,  0.+0.j,  0.+0.j,\n            0.+0.j,  0.+0.j],\n          [ 0.+0.j,  0.+0.j,  0.+0.j,  0.+0.j,  0.+0.j,  0.+0.j,  0.+0.j,\n            0.+0.j,  0.+0.j,  0.+0.j,  0.+0.j,  0.+0.j,  0.+0.j, -1.+0.j,\n            0.+0.j,  0.+0.j],\n          [ 0.+0.j,  0.+0.j,  0.+0.j,  0.+0.j,  0.+0.j,  0.+0.j,  0.+0.j,\n            0.+0.j,  0.+0.j,  0.+0.j,  0.+0.j, -1.+0.j,  0.+0.j,  0.+0.j,\n            0.+0.j,  0.+0.j],\n          [ 0.+0.j,  0.+0.j,  0.+0.j,  0.+0.j,  0.+0.j,  0.+0.j,  0.+0.j,\n            0.+0.j,  0.+0.j,  0.+0.j,  0.+0.j,  0.+0.j,  0.+0.j,  0.+0.j,\n            0.+0.j, -1.+0.j]],\n         input_dims=(2, 2, 2, 2), output_dims=(2, 2, 2, 2))"
     ]
    }
   ],
   "execution_count": 115
  },
  {
   "cell_type": "code",
   "metadata": {
    "ExecuteTime": {
     "end_time": "2024-06-29T17:58:49.120628Z",
     "start_time": "2024-06-29T17:58:48.588766Z"
    }
   },
   "source": [
    "import matplotlib.pyplot as plt\n",
    "\n",
    "plt.plot(intermediate_info, color='purple', lw=2, label='Simulated VQE')\n",
    "plt.ylabel('Energy')\n",
    "plt.xlabel('Iterations')\n",
    "# Exact ground state energy value \n",
    "plt.axhline(y=gs_energy, color=\"tab:red\", ls=\"--\", lw=2, label=\"Target: \" + str(gs_energy))\n",
    "plt.legend()\n",
    "plt.grid()\n",
    "plt.show()"
   ],
   "id": "6ccdb26e31c1c4da",
   "outputs": [
    {
     "data": {
      "text/plain": [
       "<Figure size 640x480 with 1 Axes>"
      ],
      "image/png": "[encoded data removed]"
     },
     "metadata": {},
     "output_type": "display_data"
    }
   ],
   "execution_count": 88
  },
  {
   "cell_type": "code",
   "metadata": {
    "ExecuteTime": {
     "end_time": "2024-06-29T18:07:32.500068Z",
     "start_time": "2024-06-29T18:07:32.495026Z"
    }
   },
   "source": [
    "from qiskit.circuit import Gate\n",
    "class ParticleSym(Gate):\n",
    "    def __init__(self,params,rev = True,label = None):\n",
    "        \n",
    "        self._rev = rev\n",
    "        self._params = list(params)\n",
    "        \n",
    "        if self._rev:\n",
    "            self._params[1] = 0\n",
    "        super().__init__(\"A\",2,self._params)\n",
    "    \n",
    "    def _define(self):\n",
    "        q = QuantumRegister(2, \"q\")\n",
    "        circ = QuantumCircuit(q,name = self.name)\n",
    "        p = self._params[1]+np.pi\n",
    "        t = self._params[0]+np.pi/2\n",
    "        circ.cx(1,0)\n",
    "        '''theta = 2*self._params[0]\n",
    "        lam = self._params[1]+np.pi\n",
    "        phi = -self._params[1]\n",
    "        circ.cu(theta,phi,lam,0,0,1)\n",
    "        '''\n",
    "        circ.rz(-p,1)\n",
    "        circ.ry(-t,1)\n",
    "        circ.cx(0,1)\n",
    "        circ.ry(t,1)\n",
    "        circ.rz(p,1)\n",
    "        circ.cx(1,0)\n",
    "        self.definition = circ"
   ],
   "id": "903df33e9a43e66c",
   "outputs": [],
   "execution_count": 104
  },
  {
   "cell_type": "code",
   "metadata": {
    "ExecuteTime": {
     "end_time": "2024-06-29T18:07:33.221114Z",
     "start_time": "2024-06-29T18:07:33.214584Z"
    }
   },
   "source": [
    "from math import factorial \n",
    "from qiskit.circuit import ParameterVector\n",
    "from qiskit.circuit import QuantumRegister\n",
    "\n",
    "def comb(n,m):\n",
    "    return factorial(n)//(factorial(n-m)*factorial(m))\n",
    "\n",
    "mapping = [(i,(i+1)%N) for i in range(N)]+ [(i,(i+2)%N) for i in range(N)]\n",
    "\n",
    "def dimer(circ,r=1):\n",
    "    a2 = []\n",
    "    for i in range(len(mapping)):\n",
    "        a2.append(ParameterVector(\"ß\"+str(i)+str(r),2))\n",
    "\n",
    "    for i in range(len(mapping)):\n",
    "        circ.append(ParticleSym(a2[i]),mapping[i]) "
   ],
   "id": "44041ced6354d807",
   "outputs": [],
   "execution_count": 105
  },
  {
   "cell_type": "code",
   "metadata": {
    "ExecuteTime": {
     "end_time": "2024-06-29T18:07:34.080761Z",
     "start_time": "2024-06-29T18:07:34.076356Z"
    }
   },
   "source": [
    "def hopintans(circ,reps = 3):\n",
    "    for r in range(reps):\n",
    "        hopping(circ,r)\n",
    "        interaction(circ,r)\n",
    "        dimer(circ,r)"
   ],
   "id": "5b36eee2c63a922e",
   "outputs": [],
   "execution_count": 106
  },
  {
   "cell_type": "code",
   "metadata": {
    "ExecuteTime": {
     "end_time": "2024-06-29T18:08:51.032523Z",
     "start_time": "2024-06-29T18:08:51.026898Z"
    }
   },
   "source": [
    "ans2 = QuantumCircuit(N)\n",
    "start2(ans2)\n",
    "\n",
    "def hopint(circ,reps = 3):\n",
    "    pass\n",
    "#dimer(ans2)\n",
    "hopint(ans2,reps = 2)\n",
    "ans2.draw(style = \"mpl\")"
   ],
   "id": "c47cf6b150461b12",
   "outputs": [
    {
     "data": {
      "text/plain": [
       "     ┌───┐ ░ \n",
       "q_0: ┤ X ├─░─\n",
       "     └───┘ ░ \n",
       "q_1: ──────░─\n",
       "           ░ \n",
       "q_2: ──────░─\n",
       "     ┌───┐ ░ \n",
       "q_3: ┤ X ├─░─\n",
       "     └───┘ ░ "
      ],
      "text/html": [
       "<pre style=\"word-wrap: normal;white-space: pre;background: #fff0;line-height: 1.1;font-family: &quot;Courier New&quot;,Courier,monospace\">     ┌───┐ ░ \n",
       "q_0: ┤ X ├─░─\n",
       "     └───┘ ░ \n",
       "q_1: ──────░─\n",
       "           ░ \n",
       "q_2: ──────░─\n",
       "     ┌───┐ ░ \n",
       "q_3: ┤ X ├─░─\n",
       "     └───┘ ░ </pre>"
      ]
     },
     "execution_count": 110,
     "metadata": {},
     "output_type": "execute_result"
    }
   ],
   "execution_count": 110
  },
  {
   "cell_type": "code",
   "metadata": {
    "ExecuteTime": {
     "end_time": "2024-06-29T18:08:52.121197Z",
     "start_time": "2024-06-29T18:08:52.092544Z"
    }
   },
   "source": [
    "sampler = Sampler()\n",
    "param_count = ans2.num_parameters\n",
    "initial_point = np.random.random(param_count)*np.pi\n",
    "fidelity = QNSPSA.get_fidelity(ans2, sampler = sampler)\n",
    "optimizer = QNSPSA(fidelity,maxiter = 100)\n",
    "#optimizer = SPSA(maxiter = 1000)\n",
    "intermediate_info = []\n",
    "params_info = []\n",
    "vqe2 = VQE(est,ans2,optimizer,callback = callback,initial_point = initial_point)\n",
    "eigen = vqe2.compute_minimum_eigenvalue(qubit_jw_op).eigenvalue\n",
    "print(eigen)"
   ],
   "id": "c2e37822773f67eb",
   "outputs": [
    {
     "ename": "AlgorithmError",
     "evalue": "'The ansatz must be parameterized, but has no free parameters.'",
     "output_type": "error",
     "traceback": [
      "\u001B[0;31m---------------------------------------------------------------------------\u001B[0m",
      "\u001B[0;31mAlgorithmError\u001B[0m                            Traceback (most recent call last)",
      "Cell \u001B[0;32mIn[111], line 10\u001B[0m\n\u001B[1;32m      8\u001B[0m params_info \u001B[38;5;241m=\u001B[39m []\n\u001B[1;32m      9\u001B[0m vqe2 \u001B[38;5;241m=\u001B[39m VQE(est,ans2,optimizer,callback \u001B[38;5;241m=\u001B[39m callback,initial_point \u001B[38;5;241m=\u001B[39m initial_point)\n\u001B[0;32m---> 10\u001B[0m eigen \u001B[38;5;241m=\u001B[39m \u001B[43mvqe2\u001B[49m\u001B[38;5;241;43m.\u001B[39;49m\u001B[43mcompute_minimum_eigenvalue\u001B[49m\u001B[43m(\u001B[49m\u001B[43mqubit_jw_op\u001B[49m\u001B[43m)\u001B[49m\u001B[38;5;241m.\u001B[39meigenvalue\n\u001B[1;32m     11\u001B[0m \u001B[38;5;28mprint\u001B[39m(eigen)\n",
      "File \u001B[0;32m~/PycharmProjects/qagc2024/venv/lib/python3.10/site-packages/qiskit_algorithms/minimum_eigensolvers/vqe.py:166\u001B[0m, in \u001B[0;36mVQE.compute_minimum_eigenvalue\u001B[0;34m(self, operator, aux_operators)\u001B[0m\n\u001B[1;32m    161\u001B[0m \u001B[38;5;28;01mdef\u001B[39;00m \u001B[38;5;21mcompute_minimum_eigenvalue\u001B[39m(\n\u001B[1;32m    162\u001B[0m     \u001B[38;5;28mself\u001B[39m,\n\u001B[1;32m    163\u001B[0m     operator: BaseOperator,\n\u001B[1;32m    164\u001B[0m     aux_operators: ListOrDict[BaseOperator] \u001B[38;5;241m|\u001B[39m \u001B[38;5;28;01mNone\u001B[39;00m \u001B[38;5;241m=\u001B[39m \u001B[38;5;28;01mNone\u001B[39;00m,\n\u001B[1;32m    165\u001B[0m ) \u001B[38;5;241m-\u001B[39m\u001B[38;5;241m>\u001B[39m VQEResult:\n\u001B[0;32m--> 166\u001B[0m     \u001B[38;5;28;43mself\u001B[39;49m\u001B[38;5;241;43m.\u001B[39;49m\u001B[43m_check_operator_ansatz\u001B[49m\u001B[43m(\u001B[49m\u001B[43moperator\u001B[49m\u001B[43m)\u001B[49m\n\u001B[1;32m    168\u001B[0m     initial_point \u001B[38;5;241m=\u001B[39m validate_initial_point(\u001B[38;5;28mself\u001B[39m\u001B[38;5;241m.\u001B[39minitial_point, \u001B[38;5;28mself\u001B[39m\u001B[38;5;241m.\u001B[39mansatz)\n\u001B[1;32m    170\u001B[0m     bounds \u001B[38;5;241m=\u001B[39m validate_bounds(\u001B[38;5;28mself\u001B[39m\u001B[38;5;241m.\u001B[39mansatz)\n",
      "File \u001B[0;32m~/PycharmProjects/qagc2024/venv/lib/python3.10/site-packages/qiskit_algorithms/minimum_eigensolvers/vqe.py:334\u001B[0m, in \u001B[0;36mVQE._check_operator_ansatz\u001B[0;34m(self, operator)\u001B[0m\n\u001B[1;32m    327\u001B[0m         \u001B[38;5;28;01mraise\u001B[39;00m AlgorithmError(\n\u001B[1;32m    328\u001B[0m             \u001B[38;5;124m\"\u001B[39m\u001B[38;5;124mThe number of qubits of the ansatz does not match the \u001B[39m\u001B[38;5;124m\"\u001B[39m\n\u001B[1;32m    329\u001B[0m             \u001B[38;5;124m\"\u001B[39m\u001B[38;5;124moperator, and the ansatz does not allow setting the \u001B[39m\u001B[38;5;124m\"\u001B[39m\n\u001B[1;32m    330\u001B[0m             \u001B[38;5;124m\"\u001B[39m\u001B[38;5;124mnumber of qubits using `num_qubits`.\u001B[39m\u001B[38;5;124m\"\u001B[39m\n\u001B[1;32m    331\u001B[0m         ) \u001B[38;5;28;01mfrom\u001B[39;00m \u001B[38;5;21;01merror\u001B[39;00m\n\u001B[1;32m    333\u001B[0m \u001B[38;5;28;01mif\u001B[39;00m \u001B[38;5;28mself\u001B[39m\u001B[38;5;241m.\u001B[39mansatz\u001B[38;5;241m.\u001B[39mnum_parameters \u001B[38;5;241m==\u001B[39m \u001B[38;5;241m0\u001B[39m:\n\u001B[0;32m--> 334\u001B[0m     \u001B[38;5;28;01mraise\u001B[39;00m AlgorithmError(\u001B[38;5;124m\"\u001B[39m\u001B[38;5;124mThe ansatz must be parameterized, but has no free parameters.\u001B[39m\u001B[38;5;124m\"\u001B[39m)\n",
      "\u001B[0;31mAlgorithmError\u001B[0m: 'The ansatz must be parameterized, but has no free parameters.'"
     ]
    }
   ],
   "execution_count": 111
  },
  {
   "cell_type": "code",
   "metadata": {},
   "source": [
    "plt.plot(intermediate_info, color='purple', lw=2, label='Simulated VQE')\n",
    "plt.ylabel('Energy')\n",
    "plt.xlabel('Iterations')\n",
    "# Exact ground state energy value\n",
    "plt.axhline(y=gs_energy, color=\"tab:red\", ls=\"--\", lw=2, label=\"Target: \" + str(gs_energy))\n",
    "plt.legend()\n",
    "plt.grid()\n",
    "plt.show()"
   ],
   "id": "3b171328a687ab30",
   "outputs": [],
   "execution_count": null
  },
  {
   "cell_type": "code",
   "metadata": {},
   "source": [
    "from qiskit.quantum_info import PauliList,Pauli,SparsePauliOp\n",
    "\n",
    "\n",
    "\n",
    "def TotalSpin(num):\n",
    "    pl = []\n",
    "    for i in range(num):\n",
    "        I_beg = \"I\"*i\n",
    "        I_beg += \"Z\"\n",
    "        I_beg += \"I\"*(num-i-1)\n",
    "        pl.append(I_beg)\n",
    "\n",
    "    p_list = PauliList(pl)\n",
    "    sp_list = SparsePauliOp(p_list)\n",
    "    tSpin = PauliSumOp(sp_list)\n",
    "    return tSpin\n",
    "print(TotalSpin(N))"
   ],
   "id": "deb8ae3ed610d27",
   "outputs": [],
   "execution_count": null
  },
  {
   "cell_type": "markdown",
   "metadata": {},
   "source": [
    "# Add Symmetry Penalty\n",
    "\n",
    "## Notes:\n",
    "Does not work very well. Slows things down."
   ],
   "id": "d74097d201afe8f6"
  },
  {
   "cell_type": "code",
   "metadata": {
    "ExecuteTime": {
     "end_time": "2024-06-29T18:09:01.457758Z",
     "start_time": "2024-06-29T18:09:01.449202Z"
    }
   },
   "source": [
    "from qiskit.algorithms import MinimumEigensolver, VQEResult\n",
    "from qiskit.opflow import (\n",
    "    CircuitSampler,\n",
    "    CircuitStateFn,\n",
    "    ExpectationBase,\n",
    "    ExpectationFactory,\n",
    "    ListOp,\n",
    "    OperatorBase,\n",
    "    PauliSumOp,\n",
    "    StateFn,\n",
    ")\n",
    "from typing import Union, List, Dict\n",
    "\n",
    "# Define a custome VQE class to orchestra the ansatz, classical optimizers, \n",
    "# initial point, callback, and final result\n",
    "class CustomVQE(MinimumEigensolver):\n",
    "    \n",
    "    def __init__(self, estimator, circuit, optimizer, callback=None, initial_point = None, sym = True):\n",
    "        self._estimator = estimator\n",
    "        self.ansatz = circuit\n",
    "        self._optimizer = optimizer\n",
    "        self._callback = callback\n",
    "        self._initial_point = initial_point\n",
    "        #backend = Aer.get_backend(\"statevector_simulator\")\n",
    "        #self._circuit_sampler = CircuitSampler(\n",
    "        #    backend\n",
    "        #)\n",
    "        self._sym = sym\n",
    "     \n",
    "    '''def _get_eigenstate(self, optimal_parameters) -> Union[List[float], Dict[str, int]]:\n",
    "        \"\"\"Get the simulation outcome of the ansatz, provided with parameters.\"\"\"\n",
    "        optimal_circuit = self.ansatz.bind_parameters(optimal_parameters)\n",
    "        state_fn = self._circuit_sampler.convert(StateFn(optimal_circuit)).eval()\n",
    "        state = state_fn.primitive.data  # VectorStateFn -> Statevector -> np.array\n",
    "        return state'''\n",
    "    \n",
    "    \n",
    "    def compute_minimum_eigenvalue(self, operators, aux_operators=None):    \n",
    "        num = 0\n",
    "        # Define objective function to classically minimize over\n",
    "        def objective(x, shots = None):\n",
    "            #adjust number of shots\n",
    "            # Execute job with estimator primitive\n",
    "            if shots is not None:\n",
    "                shots = int(shots)\n",
    "                self._estimator.set_options(shots = shots)\n",
    "            else:\n",
    "                self._estimator.set_options(shots = 1024)\n",
    "            job = self._estimator.run([self.ansatz], [operators], [x])\n",
    "            # Get results from jobs\n",
    "            est_result = job.result()\n",
    "            # Get the measured energy value\n",
    "            value = est_result.values[0]\n",
    "            if self._sym:\n",
    "                spinop = TotalSpin(self.ansatz.num_qubits)\n",
    "                job_sym = self._estimator.run([self.ansatz], [spinop], [x])\n",
    "                est_result_sym = job_sym.result()\n",
    "                value_sym = est_result_sym.values[0]\n",
    "                value += 0.5*(value_sym)**2\n",
    "            # Save result information using callback function\n",
    "            if self._callback is not None:\n",
    "                self._callback(value)\n",
    "            return value\n",
    "            \n",
    "        # Select an initial point for the ansatzs' parameters\n",
    "        if self._initial_point is None:  \n",
    "            x0 = np.pi/4 * np.random.rand(self.ansatz.num_parameters)\n",
    "        else:\n",
    "            x0 = self._initial_point\n",
    "        # Run optimization\n",
    "        res = self._optimizer.minimize(objective, x0=x0)\n",
    "        \n",
    "        # Populate VQE result\n",
    "        result = VQEResult()\n",
    "        result.cost_function_evals = res.nit\n",
    "        result.eigenvalue = res.fun\n",
    "        result.optimal_parameters = res.x\n",
    "        result.eigenstate = None #self._get_eigenstate(result.optimal_parameters)\n",
    "        \n",
    "        return result"
   ],
   "id": "3d471604b3961526",
   "outputs": [],
   "execution_count": 112
  },
  {
   "cell_type": "code",
   "metadata": {
    "ExecuteTime": {
     "end_time": "2024-06-29T18:09:07.609681Z",
     "start_time": "2024-06-29T18:09:02.991102Z"
    }
   },
   "source": [
    "param_count = ans2.num_parameters\n",
    "initial_point = np.random.random(param_count)*np.pi\n",
    "#fidelity = QNSPSA.get_fidelity(ans2, sampler = sampler)\n",
    "#optimizer = QNSPSA(fidelity,maxiter = 100)\n",
    "optimizer = SPSA(maxiter = 1000)\n",
    "intermediate_info = []\n",
    "def callback(value):\n",
    "        intermediate_info.append(value)\n",
    "vqe3 = CustomVQE(est,ans2,optimizer,callback = callback,initial_point = initial_point,sym = True)\n",
    "eigen = vqe3.compute_minimum_eigenvalue(qubit_jw_op).eigenvalue\n",
    "print(eigen)"
   ],
   "id": "463ef625cc44911b",
   "outputs": [
    {
     "name": "stdout",
     "output_type": "stream",
     "text": [
      "-2.95020258933422\n"
     ]
    }
   ],
   "execution_count": 113
  },
  {
   "cell_type": "code",
   "metadata": {
    "ExecuteTime": {
     "end_time": "2024-06-29T18:09:18.141179Z",
     "start_time": "2024-06-29T18:09:18.024396Z"
    }
   },
   "source": [
    "import matplotlib.pyplot as plt\n",
    "\n",
    "plt.plot(intermediate_info, color='purple', lw=2, label='Simulated VQE')\n",
    "plt.ylabel('Energy')\n",
    "plt.xlabel('Iterations')\n",
    "# Exact ground state energy value\n",
    "plt.axhline(y=gs_energy, color=\"tab:red\", ls=\"--\", lw=2, label=\"Target: \" + str(gs_energy))\n",
    "plt.legend()\n",
    "plt.grid()\n",
    "plt.show()"
   ],
   "id": "49847492ece88871",
   "outputs": [
    {
     "data": {
      "text/plain": [
       "<Figure size 640x480 with 1 Axes>"
      ],
      "image/png": "[encoded data removed]"
     },
     "metadata": {},
     "output_type": "display_data"
    }
   ],
   "execution_count": 114
  },
  {
   "metadata": {
    "ExecuteTime": {
     "end_time": "2024-06-29T18:09:19.159708Z",
     "start_time": "2024-06-29T18:09:19.156790Z"
    }
   },
   "cell_type": "code",
   "source": "",
   "id": "df55af799bede534",
   "outputs": [],
   "execution_count": 114
  },
  {
   "metadata": {},
   "cell_type": "code",
   "outputs": [],
   "execution_count": null,
   "source": "",
   "id": "69d0f0167d5a65c2"
  }
 ],
 "metadata": {
  "kernelspec": {
   "display_name": "Python 3 (ipykernel)",
   "language": "python",
   "name": "python3"
  },
  "language_info": {
   "codemirror_mode": {
    "name": "ipython",
    "version": 3
   },
   "file_extension": ".py",
   "mimetype": "text/x-python",
   "name": "python",
   "nbconvert_exporter": "python",
   "pygments_lexer": "ipython3",
   "version": "3.11.8"
  }
 },
 "nbformat": 4,
 "nbformat_minor": 5
}
