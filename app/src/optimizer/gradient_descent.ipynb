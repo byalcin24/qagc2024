{
 "cells": [
  {
   "cell_type": "code",
   "id": "initial_id",
   "metadata": {
    "collapsed": true,
    "ExecuteTime": {
     "end_time": "2024-06-29T16:13:55.841664Z",
     "start_time": "2024-06-29T16:13:55.837875Z"
    }
   },
   "source": [
    "import numpy as np\n",
    "from qiskit import QuantumCircuit\n",
    "from qiskit.circuit.library import EvolvedOperatorAnsatz\n",
    "from qiskit.quantum_info import SparsePauliOp\n",
    "# from qiskit.quantum_info import Pauli, Statevector\n",
    "from qiskit_nature.second_q.operators import FermionicOp\n",
    "from qiskit.circuit.library import UnitaryGate\n",
    "# from qiskit.primitives import Estimator"
   ],
   "outputs": [],
   "execution_count": 9
  },
  {
   "metadata": {
    "ExecuteTime": {
     "end_time": "2024-06-29T16:13:55.845750Z",
     "start_time": "2024-06-29T16:13:55.843534Z"
    }
   },
   "cell_type": "code",
   "source": [
    "n = 4\n",
    "N = 2*n\n",
    "t = 1\n",
    "mu = 1.5\n",
    "U = 3"
   ],
   "id": "72125a63ddb9107a",
   "outputs": [],
   "execution_count": 10
  },
  {
   "metadata": {
    "ExecuteTime": {
     "end_time": "2024-06-29T16:13:55.849157Z",
     "start_time": "2024-06-29T16:13:55.846781Z"
    }
   },
   "cell_type": "code",
   "source": [
    "def qOp(i,j):\n",
    "    return FermionicOp(\n",
    "    {\n",
    "        \"+_{i} -_{j}\".format(i=i%N,j=j%N): 1.0,\n",
    "    },\n",
    "    num_spin_orbitals=N,\n",
    ")"
   ],
   "id": "e690f18ea1bec551",
   "outputs": [],
   "execution_count": 11
  },
  {
   "metadata": {
    "ExecuteTime": {
     "end_time": "2024-06-29T16:13:55.854998Z",
     "start_time": "2024-06-29T16:13:55.850688Z"
    }
   },
   "cell_type": "code",
   "source": [
    "t_list = []\n",
    "U_list = []\n",
    "for i in range(n):\n",
    "    t_list.append((2*i,(2*i+2)%N))\n",
    "    t_list.append((2*i+1,(2*i+3)%N))\n",
    "site_list = [2*i for i in range(n)]\n",
    "\n",
    "t_term = 0\n",
    "U_term = 0\n",
    "mu_term = 0\n",
    "\n",
    "for edge in t_list:\n",
    "    t_term += qOp(edge[0],edge[1])\n",
    "    t_term += qOp(edge[1],edge[0])\n",
    "\n",
    "for u in site_list:\n",
    "    mu_term += qOp(u,u) + qOp(u+1,u+1)\n",
    "    U_term += qOp(u,u)@qOp(u+1,u+1)\n",
    "\n",
    "H = U * U_term - mu * mu_term - t * t_term\n",
    "\n",
    "U_list = [(i,i+1) for i in site_list]"
   ],
   "id": "6f53bce54a799a04",
   "outputs": [],
   "execution_count": 12
  },
  {
   "metadata": {
    "ExecuteTime": {
     "end_time": "2024-06-29T16:13:55.859827Z",
     "start_time": "2024-06-29T16:13:55.856044Z"
    }
   },
   "cell_type": "code",
   "source": [
    "def makePauliStr(N,idx,gs):\n",
    "    pauli_str = \"\"\n",
    "    for i in range(N):\n",
    "        if i in idx:\n",
    "            pauli_str+=gs[idx.index(i)]\n",
    "        else:\n",
    "            pauli_str+=\"I\"\n",
    "    return pauli_str\n",
    "\n",
    "def ZZ(N,i,j):\n",
    "    zz_str = makePauliStr(N,(i,j),[\"Z\",\"Z\"])\n",
    "    return SparsePauliOp([zz_str],coeffs = [.5])\n",
    "\n",
    "def dZZ(N,i,j,k,l):\n",
    "    zz_str = makePauliStr(N,(i,j,k,l),[\"Z\",\"Z\",\"Z\",\"Z\"])\n",
    "    return SparsePauliOp([zz_str],coeffs = [.5])\n",
    "\n",
    "def XXplusYY(N,i,j):\n",
    "    xx_str = makePauliStr(N,(i,j),[\"X\",\"X\"])\n",
    "    yy_str = makePauliStr(N,(i,j),[\"Y\",\"Y\"])\n",
    "    return SparsePauliOp([xx_str,yy_str],coeffs = [.25,.25])\n",
    "\n",
    "def dXXplusYY(N,i,j,k,l):\n",
    "    ij = XXplusYY(N,i,j)\n",
    "    kl = XXplusYY(N,k,l)\n",
    "    return ij@kl"
   ],
   "id": "71d0837e0c75d3a1",
   "outputs": [],
   "execution_count": 13
  },
  {
   "metadata": {
    "ExecuteTime": {
     "end_time": "2024-06-29T16:13:55.867912Z",
     "start_time": "2024-06-29T16:13:55.860681Z"
    }
   },
   "cell_type": "code",
   "source": [
    "def poolXXYY(N,ts):\n",
    "    pool = []\n",
    "    for i,edge in enumerate(ts):\n",
    "        p = XXplusYY(N,edge[0],edge[1])\n",
    "        # print(isinstance(p,Operator))\n",
    "        pool.append(p)\n",
    "    return pool\n",
    "\n",
    "def pooldXXYY(N,ts):\n",
    "    pool = []\n",
    "    for i,edge in enumerate(ts):\n",
    "        for j in range(i):\n",
    "            p = dXXplusYY(N,edge[0],edge[1],ts[j][0],ts[j][1])\n",
    "            # print(isinstance(p,Operator))\n",
    "            pool.append(p)\n",
    "    return pool\n",
    "\n",
    "def poolZZ(N,Us):\n",
    "    pool = []\n",
    "    for edge in Us:\n",
    "        p = ZZ(N,edge[0],edge[1])\n",
    "        pool.append(p)\n",
    "    return pool\n",
    "\n",
    "def pooldZZ(N,Us):\n",
    "    pool = []\n",
    "    for i,edge in enumerate(Us):\n",
    "        for j in range(i):\n",
    "            p = dZZ(N,edge[0],edge[1],Us[j][0],Us[j][1])\n",
    "            # print(isinstance(p,Operator))\n",
    "            pool.append(p)\n",
    "    return pool\n",
    "\n",
    "def totalPool(N,Us,ts):\n",
    "    ZZ = poolZZ(N,Us)\n",
    "    dZZ = pooldZZ(N,Us)\n",
    "    XXYY = poolXXYY(N,ts)\n",
    "    dXXYY = pooldXXYY(N,ts)\n",
    "    return XXYY + ZZ + dXXYY + dZZ\n",
    "\n",
    "pool = totalPool(N,t_list,U_list)"
   ],
   "id": "9e0cc95cdbd0af22",
   "outputs": [],
   "execution_count": 14
  }
 ],
 "metadata": {
  "kernelspec": {
   "display_name": "Python 3",
   "language": "python",
   "name": "python3"
  },
  "language_info": {
   "codemirror_mode": {
    "name": "ipython",
    "version": 2
   },
   "file_extension": ".py",
   "mimetype": "text/x-python",
   "name": "python",
   "nbconvert_exporter": "python",
   "pygments_lexer": "ipython2",
   "version": "2.7.6"
  }
 },
 "nbformat": 4,
 "nbformat_minor": 5
}
