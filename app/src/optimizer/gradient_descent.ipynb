{
 "cells": [
  {
   "cell_type": "code",
   "id": "initial_id",
   "metadata": {
    "collapsed": true,
    "ExecuteTime": {
     "end_time": "2024-06-29T14:48:58.778758Z",
     "start_time": "2024-06-29T14:48:58.775816Z"
    }
   },
   "source": [
    "import numpy as np\n",
    "from qiskit import QuantumCircuit\n",
    "from qiskit.circuit.library import EvolvedOperatorAnsatz\n",
    "from qiskit.quantum_info import SparsePauliOp\n",
    "# from qiskit.quantum_info import Pauli, Statevector\n",
    "from qiskit_nature.second_q.operators import FermionicOp\n",
    "from qiskit.circuit.library import UnitaryGate\n",
    "# from qiskit.primitives import Estimator"
   ],
   "outputs": [],
   "execution_count": 17
  },
  {
   "metadata": {
    "ExecuteTime": {
     "end_time": "2024-06-29T14:48:58.783356Z",
     "start_time": "2024-06-29T14:48:58.781357Z"
    }
   },
   "cell_type": "code",
   "source": [
    "n = 4\n",
    "N = 2*n\n",
    "t = 1\n",
    "mu = 1.5\n",
    "U = 3"
   ],
   "id": "72125a63ddb9107a",
   "outputs": [],
   "execution_count": 18
  },
  {
   "metadata": {
    "ExecuteTime": {
     "end_time": "2024-06-29T14:48:58.786483Z",
     "start_time": "2024-06-29T14:48:58.784535Z"
    }
   },
   "cell_type": "code",
   "source": [
    "def qOp(i,j):\n",
    "    return FermionicOp(\n",
    "    {\n",
    "        \"+_{i} -_{j}\".format(i=i%N,j=j%N): 1.0,\n",
    "    },\n",
    "    num_spin_orbitals=N,\n",
    ")"
   ],
   "id": "e690f18ea1bec551",
   "outputs": [],
   "execution_count": 19
  },
  {
   "metadata": {
    "ExecuteTime": {
     "end_time": "2024-06-29T14:48:58.791020Z",
     "start_time": "2024-06-29T14:48:58.787250Z"
    }
   },
   "cell_type": "code",
   "source": [
    "t_list = []\n",
    "U_list = []\n",
    "for i in range(n):\n",
    "    t_list.append((2*i,(2*i+2)%N))\n",
    "    t_list.append((2*i+1,(2*i+3)%N))\n",
    "site_list = [2*i for i in range(n)]\n",
    "\n",
    "t_term = 0\n",
    "U_term = 0\n",
    "mu_term = 0\n",
    "\n",
    "for edge in t_list:\n",
    "    t_term += qOp(edge[0],edge[1])\n",
    "    t_term += qOp(edge[1],edge[0])\n",
    "\n",
    "for u in site_list:\n",
    "    mu_term += qOp(u,u) + qOp(u+1,u+1)\n",
    "    U_term += qOp(u,u)@qOp(u+1,u+1)\n",
    "\n",
    "H = U * U_term - mu * mu_term - t * t_term\n",
    "\n",
    "U_list = [(i,i+1) for i in site_list]"
   ],
   "id": "6f53bce54a799a04",
   "outputs": [],
   "execution_count": 20
  },
  {
   "metadata": {
    "ExecuteTime": {
     "end_time": "2024-06-29T14:48:58.795538Z",
     "start_time": "2024-06-29T14:48:58.792318Z"
    }
   },
   "cell_type": "code",
   "source": [
    "def makePauliStr(N,idx,gs):\n",
    "    pauli_str = \"\"\n",
    "    for i in range(N):\n",
    "        if i in idx:\n",
    "            pauli_str+=gs[idx.index(i)]\n",
    "        else:\n",
    "            pauli_str+=\"I\"\n",
    "    return pauli_str\n",
    "\n",
    "def ZZ(N,i,j):\n",
    "    zz_str = makePauliStr(N,(i,j),[\"Z\",\"Z\"])\n",
    "    return SparsePauliOp([zz_str],coeffs = [.5])\n",
    "\n",
    "def dZZ(N,i,j,k,l):\n",
    "    zz_str = makePauliStr(N,(i,j,k,l),[\"Z\",\"Z\",\"Z\",\"Z\"])\n",
    "    return SparsePauliOp([zz_str],coeffs = [.5])\n",
    "\n",
    "def XXplusYY(N,i,j):\n",
    "    xx_str = makePauliStr(N,(i,j),[\"X\",\"X\"])\n",
    "    yy_str = makePauliStr(N,(i,j),[\"Y\",\"Y\"])\n",
    "    return SparsePauliOp([xx_str,yy_str],coeffs = [.25,.25])\n",
    "\n",
    "def dXXplusYY(N,i,j,k,l):\n",
    "    ij = XXplusYY(N,i,j)\n",
    "    kl = XXplusYY(N,k,l)\n",
    "    return ij@kl"
   ],
   "id": "71d0837e0c75d3a1",
   "outputs": [],
   "execution_count": 21
  },
  {
   "metadata": {
    "ExecuteTime": {
     "end_time": "2024-06-29T14:48:58.802598Z",
     "start_time": "2024-06-29T14:48:58.796235Z"
    }
   },
   "cell_type": "code",
   "source": [
    "def poolXXYY(N,ts):\n",
    "    pool = []\n",
    "    for i,edge in enumerate(ts):\n",
    "        p = XXplusYY(N,edge[0],edge[1])\n",
    "        # print(isinstance(p,Operator))\n",
    "        pool.append(p)\n",
    "    return pool\n",
    "\n",
    "def pooldXXYY(N,ts):\n",
    "    pool = []\n",
    "    for i,edge in enumerate(ts):\n",
    "        for j in range(i):\n",
    "            p = dXXplusYY(N,edge[0],edge[1],ts[j][0],ts[j][1])\n",
    "            # print(isinstance(p,Operator))\n",
    "            pool.append(p)\n",
    "    return pool\n",
    "\n",
    "def poolZZ(N,Us):\n",
    "    pool = []\n",
    "    for edge in Us:\n",
    "        p = ZZ(N,edge[0],edge[1])\n",
    "        pool.append(p)\n",
    "    return pool\n",
    "\n",
    "def pooldZZ(N,Us):\n",
    "    pool = []\n",
    "    for i,edge in enumerate(Us):\n",
    "        for j in range(i):\n",
    "            p = dZZ(N,edge[0],edge[1],Us[j][0],Us[j][1])\n",
    "            # print(isinstance(p,Operator))\n",
    "            pool.append(p)\n",
    "    return pool\n",
    "\n",
    "def totalPool(N,Us,ts):\n",
    "    ZZ = poolZZ(N,Us)\n",
    "    dZZ = pooldZZ(N,Us)\n",
    "    XXYY = poolXXYY(N,ts)\n",
    "    dXXYY = pooldXXYY(N,ts)\n",
    "    return XXYY + ZZ + dXXYY + dZZ\n",
    "\n",
    "pool = totalPool(N,t_list,U_list)"
   ],
   "id": "9e0cc95cdbd0af22",
   "outputs": [],
   "execution_count": 22
  },
  {
   "metadata": {
    "ExecuteTime": {
     "end_time": "2024-06-29T14:48:58.807426Z",
     "start_time": "2024-06-29T14:48:58.803301Z"
    }
   },
   "cell_type": "code",
   "source": [
    "li = [i for i in range(0, N // 2, 2)] + [N - 1 - i for i in range(0, N // 2, 2)]\n",
    "def s_circ(N):\n",
    "    qc = QuantumCircuit(N)\n",
    "    print(li)\n",
    "    qc.x(li)\n",
    "    qc.barrier()\n",
    "    return qc\n",
    "\n",
    "def get_evolved_operator_ansatz(pool, N):\n",
    "    ans = EvolvedOperatorAnsatz(pool, initial_state=s_circ(N), parameter_prefix=\"b\")\n",
    "    ans1 = EvolvedOperatorAnsatz(pool, initial_state=ans)\n",
    "    print_ans = ans.initial_state.decompose()\n",
    "    print(print_ans)\n",
    "    return ans, ans1\n",
    "\n",
    "print(get_evolved_operator_ansatz(pool=pool, N=N))"
   ],
   "id": "e07158be650485af",
   "outputs": [
    {
     "name": "stdout",
     "output_type": "stream",
     "text": [
      "[0, 2, 7, 5]\n",
      "     ┌───────────┐ ░ \n",
      "q_0: ┤ U3(π,0,π) ├─░─\n",
      "     └───────────┘ ░ \n",
      "q_1: ──────────────░─\n",
      "     ┌───────────┐ ░ \n",
      "q_2: ┤ U3(π,0,π) ├─░─\n",
      "     └───────────┘ ░ \n",
      "q_3: ──────────────░─\n",
      "                   ░ \n",
      "q_4: ──────────────░─\n",
      "     ┌───────────┐ ░ \n",
      "q_5: ┤ U3(π,0,π) ├─░─\n",
      "     └───────────┘ ░ \n",
      "q_6: ──────────────░─\n",
      "     ┌───────────┐ ░ \n",
      "q_7: ┤ U3(π,0,π) ├─░─\n",
      "     └───────────┘ ░ \n",
      "(<qiskit.circuit.library.n_local.evolved_operator_ansatz.EvolvedOperatorAnsatz object at 0x32b6a9910>, <qiskit.circuit.library.n_local.evolved_operator_ansatz.EvolvedOperatorAnsatz object at 0x32b7b2a50>)\n"
     ]
    }
   ],
   "execution_count": 23
  },
  {
   "metadata": {
    "ExecuteTime": {
     "end_time": "2024-06-29T14:48:58.812201Z",
     "start_time": "2024-06-29T14:48:58.808114Z"
    }
   },
   "cell_type": "code",
   "source": [
    "i = 1j\n",
    "theta = 0.7809\n",
    "\n",
    "def transform_circuit(N):\n",
    "    qc = QuantumCircuit(N)\n",
    "    print(li)\n",
    "    qc.x(li)\n",
    "    qc.barrier()\n",
    "    return qc\n",
    "\n",
    "ans = EvolvedOperatorAnsatz(pool, initial_state=transform_circuit(N), parameter_prefix=\"b\")\n",
    "ans1 = EvolvedOperatorAnsatz(pool, initial_state=ans)\n",
    "print(ans.initial_state.decompose())\n",
    "print(transform_circuit(N))"
   ],
   "id": "611d54b129b69bcd",
   "outputs": [
    {
     "name": "stdout",
     "output_type": "stream",
     "text": [
      "[0, 2, 7, 5]\n",
      "     ┌───────────┐ ░ \n",
      "q_0: ┤ U3(π,0,π) ├─░─\n",
      "     └───────────┘ ░ \n",
      "q_1: ──────────────░─\n",
      "     ┌───────────┐ ░ \n",
      "q_2: ┤ U3(π,0,π) ├─░─\n",
      "     └───────────┘ ░ \n",
      "q_3: ──────────────░─\n",
      "                   ░ \n",
      "q_4: ──────────────░─\n",
      "     ┌───────────┐ ░ \n",
      "q_5: ┤ U3(π,0,π) ├─░─\n",
      "     └───────────┘ ░ \n",
      "q_6: ──────────────░─\n",
      "     ┌───────────┐ ░ \n",
      "q_7: ┤ U3(π,0,π) ├─░─\n",
      "     └───────────┘ ░ \n",
      "[0, 2, 7, 5]\n",
      "     ┌───┐ ░ \n",
      "q_0: ┤ X ├─░─\n",
      "     └───┘ ░ \n",
      "q_1: ──────░─\n",
      "     ┌───┐ ░ \n",
      "q_2: ┤ X ├─░─\n",
      "     └───┘ ░ \n",
      "q_3: ──────░─\n",
      "           ░ \n",
      "q_4: ──────░─\n",
      "     ┌───┐ ░ \n",
      "q_5: ┤ X ├─░─\n",
      "     └───┘ ░ \n",
      "q_6: ──────░─\n",
      "     ┌───┐ ░ \n",
      "q_7: ┤ X ├─░─\n",
      "     └───┘ ░ \n"
     ]
    }
   ],
   "execution_count": 24
  }
 ],
 "metadata": {
  "kernelspec": {
   "display_name": "Python 3",
   "language": "python",
   "name": "python3"
  },
  "language_info": {
   "codemirror_mode": {
    "name": "ipython",
    "version": 2
   },
   "file_extension": ".py",
   "mimetype": "text/x-python",
   "name": "python",
   "nbconvert_exporter": "python",
   "pygments_lexer": "ipython2",
   "version": "2.7.6"
  }
 },
 "nbformat": 4,
 "nbformat_minor": 5
}
