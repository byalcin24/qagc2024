{
 "cells": [
  {
   "metadata": {
    "ExecuteTime": {
     "end_time": "2024-06-29T16:13:59.613838Z",
     "start_time": "2024-06-29T16:13:59.610571Z"
    }
   },
   "cell_type": "code",
   "source": [
    "import numpy as np\n",
    "from qiskit import QuantumCircuit\n",
    "from qiskit.circuit.library import EvolvedOperatorAnsatz\n",
    "from qiskit.quantum_info import SparsePauliOp\n",
    "from qiskit.quantum_info import Pauli, Statevector\n",
    "from qiskit_nature.second_q.operators import FermionicOp\n",
    "from qiskit.circuit.library import UnitaryGate\n",
    "from qiskit.primitives import Estimator"
   ],
   "id": "initial_id",
   "outputs": [],
   "execution_count": 10
  },
  {
   "metadata": {
    "ExecuteTime": {
     "end_time": "2024-06-29T16:13:59.617684Z",
     "start_time": "2024-06-29T16:13:59.615324Z"
    }
   },
   "cell_type": "code",
   "source": [
    "n = 4\n",
    "N = 2*n\n",
    "t = 1\n",
    "mu = 1.5\n",
    "U = 3"
   ],
   "id": "42be668f4c9201b6",
   "outputs": [],
   "execution_count": 11
  },
  {
   "metadata": {
    "ExecuteTime": {
     "end_time": "2024-06-29T16:13:59.621052Z",
     "start_time": "2024-06-29T16:13:59.618726Z"
    }
   },
   "cell_type": "code",
   "source": [
    "def qOp(i,j):\n",
    "    return FermionicOp(\n",
    "    {\n",
    "        \"+_{i} -_{j}\".format(i=i%N,j=j%N): 1.0,\n",
    "    },\n",
    "    num_spin_orbitals=N,\n",
    ")"
   ],
   "id": "d360d0e49a957ffe",
   "outputs": [],
   "execution_count": 12
  },
  {
   "metadata": {
    "ExecuteTime": {
     "end_time": "2024-06-29T16:13:59.626315Z",
     "start_time": "2024-06-29T16:13:59.622697Z"
    }
   },
   "cell_type": "code",
   "source": [
    "t_list = []\n",
    "U_list = []\n",
    "for i in range(n):\n",
    "    t_list.append((2*i,(2*i+2)%N))\n",
    "    t_list.append((2*i+1,(2*i+3)%N))\n",
    "site_list = [2*i for i in range(n)]\n",
    "\n",
    "t_term = 0\n",
    "U_term = 0\n",
    "mu_term = 0\n",
    "\n",
    "for edge in t_list:\n",
    "    t_term += qOp(edge[0],edge[1])\n",
    "    t_term += qOp(edge[1],edge[0])\n",
    "\n",
    "for u in site_list:\n",
    "    mu_term += qOp(u,u) + qOp(u+1,u+1)\n",
    "    U_term += qOp(u,u)@qOp(u+1,u+1)\n",
    "\n",
    "H = U * U_term - mu * mu_term - t * t_term\n",
    "\n",
    "U_list = [(i,i+1) for i in site_list]"
   ],
   "id": "17188c9059d2a1e4",
   "outputs": [],
   "execution_count": 13
  },
  {
   "metadata": {
    "ExecuteTime": {
     "end_time": "2024-06-29T16:13:59.630738Z",
     "start_time": "2024-06-29T16:13:59.627223Z"
    }
   },
   "cell_type": "code",
   "source": [
    "def makePauliStr(N,idx,gs):\n",
    "    pauli_str = \"\"\n",
    "    for i in range(N):\n",
    "        if i in idx:\n",
    "            pauli_str+=gs[idx.index(i)]\n",
    "        else:\n",
    "            pauli_str+=\"I\"\n",
    "    return pauli_str\n",
    "\n",
    "def ZZ(N,i,j):\n",
    "    zz_str = makePauliStr(N,(i,j),[\"Z\",\"Z\"])\n",
    "    return SparsePauliOp([zz_str],coeffs = [.5])\n",
    "\n",
    "def dZZ(N,i,j,k,l):\n",
    "    zz_str = makePauliStr(N,(i,j,k,l),[\"Z\",\"Z\",\"Z\",\"Z\"])\n",
    "    return SparsePauliOp([zz_str],coeffs = [.5])\n",
    "\n",
    "def XXplusYY(N,i,j):\n",
    "    xx_str = makePauliStr(N,(i,j),[\"X\",\"X\"])\n",
    "    yy_str = makePauliStr(N,(i,j),[\"Y\",\"Y\"])\n",
    "    return SparsePauliOp([xx_str,yy_str],coeffs = [.25,.25])\n",
    "\n",
    "def dXXplusYY(N,i,j,k,l):\n",
    "    ij = XXplusYY(N,i,j)\n",
    "    kl = XXplusYY(N,k,l)\n",
    "    return ij@kl"
   ],
   "id": "35970c63ef5374cb",
   "outputs": [],
   "execution_count": 14
  },
  {
   "metadata": {
    "ExecuteTime": {
     "end_time": "2024-06-29T16:13:59.638428Z",
     "start_time": "2024-06-29T16:13:59.631465Z"
    }
   },
   "cell_type": "code",
   "source": [
    "def poolXXYY(N,ts):\n",
    "    pool = []\n",
    "    for i,edge in enumerate(ts):\n",
    "        p = XXplusYY(N,edge[0],edge[1])\n",
    "        #print(isinstance(p,Operator))\n",
    "        pool.append(p)\n",
    "    return pool\n",
    "\n",
    "def pooldXXYY(N,ts):\n",
    "    pool = []\n",
    "    for i,edge in enumerate(ts):\n",
    "        for j in range(i):\n",
    "            p = dXXplusYY(N,edge[0],edge[1],ts[j][0],ts[j][1])\n",
    "            # print(isinstance(p,Operator))\n",
    "            pool.append(p)\n",
    "    return pool\n",
    "\n",
    "def poolZZ(N,Us):\n",
    "    pool = []\n",
    "    for edge in Us:\n",
    "        p = ZZ(N,edge[0],edge[1])\n",
    "        pool.append(p)\n",
    "    return pool\n",
    "\n",
    "def pooldZZ(N,Us):\n",
    "    pool = []\n",
    "    for i,edge in enumerate(Us):\n",
    "        for j in range(i):\n",
    "            p = dZZ(N,edge[0],edge[1],Us[j][0],Us[j][1])\n",
    "            # print(isinstance(p,Operator))\n",
    "            pool.append(p)\n",
    "    return pool\n",
    "\n",
    "def totalPool(N,Us,ts):\n",
    "    ZZ = poolZZ(N,Us)\n",
    "    dZZ = pooldZZ(N,Us)\n",
    "    XXYY = poolXXYY(N,ts)\n",
    "    dXXYY = pooldXXYY(N,ts)\n",
    "    return XXYY + ZZ + dXXYY + dZZ\n",
    "\n",
    "pool = totalPool(N,t_list,U_list)"
   ],
   "id": "8fd6b78747ec8523",
   "outputs": [],
   "execution_count": 15
  },
  {
   "metadata": {
    "ExecuteTime": {
     "end_time": "2024-06-29T16:13:59.644017Z",
     "start_time": "2024-06-29T16:13:59.639312Z"
    }
   },
   "cell_type": "code",
   "source": [
    "li = [i for i in range(0, N // 2, 2)] + [N - 1 - i for i in range(0, N // 2, 2)]\n",
    "def s_circ(N):\n",
    "    qc = QuantumCircuit(N)\n",
    "    print(li)\n",
    "    qc.x(li)\n",
    "    qc.barrier()\n",
    "    return qc\n",
    "\n",
    "def get_evolved_operator_ansatz(pool, N):\n",
    "    ans = EvolvedOperatorAnsatz(pool, initial_state=s_circ(N), parameter_prefix=\"b\")\n",
    "    ans1 = EvolvedOperatorAnsatz(pool, initial_state=ans)\n",
    "    print_ans = ans.initial_state.decompose()\n",
    "    print(print_ans)\n",
    "    return ans, ans1\n",
    "\n",
    "print(get_evolved_operator_ansatz(pool=pool, N=N))"
   ],
   "id": "124e5da4e265419b",
   "outputs": [
    {
     "name": "stdout",
     "output_type": "stream",
     "text": [
      "[0, 2, 7, 5]\n",
      "     ┌───────────┐ ░ \n",
      "q_0: ┤ U3(π,0,π) ├─░─\n",
      "     └───────────┘ ░ \n",
      "q_1: ──────────────░─\n",
      "     ┌───────────┐ ░ \n",
      "q_2: ┤ U3(π,0,π) ├─░─\n",
      "     └───────────┘ ░ \n",
      "q_3: ──────────────░─\n",
      "                   ░ \n",
      "q_4: ──────────────░─\n",
      "     ┌───────────┐ ░ \n",
      "q_5: ┤ U3(π,0,π) ├─░─\n",
      "     └───────────┘ ░ \n",
      "q_6: ──────────────░─\n",
      "     ┌───────────┐ ░ \n",
      "q_7: ┤ U3(π,0,π) ├─░─\n",
      "     └───────────┘ ░ \n",
      "(<qiskit.circuit.library.n_local.evolved_operator_ansatz.EvolvedOperatorAnsatz object at 0x1648a6b90>, <qiskit.circuit.library.n_local.evolved_operator_ansatz.EvolvedOperatorAnsatz object at 0x1648a6ef0>)\n"
     ]
    }
   ],
   "execution_count": 16
  },
  {
   "metadata": {
    "ExecuteTime": {
     "end_time": "2024-06-29T16:13:59.651178Z",
     "start_time": "2024-06-29T16:13:59.644933Z"
    }
   },
   "cell_type": "code",
   "source": [
    "i = 1j\n",
    "theta = 0.7809\n",
    "M = np.array([[0, np.exp(-i * (theta / 2))], [np.exp(i * (theta / 2)), 0]])\n",
    "\n",
    "def transform_circuit(N):\n",
    "    qc = QuantumCircuit(N)\n",
    "    unitary_gate = UnitaryGate(M, label=\"M\")\n",
    "    print(li)\n",
    "    qc.x(li)\n",
    "    qc.append(unitary_gate, [li])\n",
    "    qc.barrier()\n",
    "    return qc\n",
    "\n",
    "def transform_circuit_exp(N):\n",
    "    qc = QuantumCircuit(N)\n",
    "    unitary_gate = UnitaryGate(M, label=\"M\")\n",
    "    print(li)\n",
    "    qc.append(unitary_gate, [li])\n",
    "    qc.barrier()\n",
    "    return qc\n",
    "\n",
    "ans = EvolvedOperatorAnsatz(pool, initial_state=transform_circuit(N), parameter_prefix=\"b\")\n",
    "ans1 = EvolvedOperatorAnsatz(pool, initial_state=ans)\n",
    "print(ans.initial_state.decompose())\n",
    "print(transform_circuit_exp(N))"
   ],
   "id": "e86f17b2f62be829",
   "outputs": [
    {
     "name": "stdout",
     "output_type": "stream",
     "text": [
      "[0, 2, 7, 5]\n",
      "     ┌───────────┐┌───────────────────────┐ ░ \n",
      "q_0: ┤ U3(π,0,π) ├┤ U(π,-2.7511,-0.39045) ├─░─\n",
      "     └───────────┘└───────────────────────┘ ░ \n",
      "q_1: ───────────────────────────────────────░─\n",
      "     ┌───────────┐┌───────────────────────┐ ░ \n",
      "q_2: ┤ U3(π,0,π) ├┤ U(π,-2.7511,-0.39045) ├─░─\n",
      "     └───────────┘└───────────────────────┘ ░ \n",
      "q_3: ───────────────────────────────────────░─\n",
      "                                            ░ \n",
      "q_4: ───────────────────────────────────────░─\n",
      "     ┌───────────┐┌───────────────────────┐ ░ \n",
      "q_5: ┤ U3(π,0,π) ├┤ U(π,-2.7511,-0.39045) ├─░─\n",
      "     └───────────┘└───────────────────────┘ ░ \n",
      "q_6: ───────────────────────────────────────░─\n",
      "     ┌───────────┐┌───────────────────────┐ ░ \n",
      "q_7: ┤ U3(π,0,π) ├┤ U(π,-2.7511,-0.39045) ├─░─\n",
      "     └───────────┘└───────────────────────┘ ░ \n",
      "[0, 2, 7, 5]\n",
      "     ┌───┐ ░ \n",
      "q_0: ┤ M ├─░─\n",
      "     └───┘ ░ \n",
      "q_1: ──────░─\n",
      "     ┌───┐ ░ \n",
      "q_2: ┤ M ├─░─\n",
      "     └───┘ ░ \n",
      "q_3: ──────░─\n",
      "           ░ \n",
      "q_4: ──────░─\n",
      "     ┌───┐ ░ \n",
      "q_5: ┤ M ├─░─\n",
      "     └───┘ ░ \n",
      "q_6: ──────░─\n",
      "     ┌───┐ ░ \n",
      "q_7: ┤ M ├─░─\n",
      "     └───┘ ░ \n"
     ]
    }
   ],
   "execution_count": 17
  },
  {
   "metadata": {},
   "cell_type": "markdown",
   "source": "",
   "id": "9259ae996dc6b05d"
  },
  {
   "metadata": {
    "ExecuteTime": {
     "end_time": "2024-06-29T16:13:59.670204Z",
     "start_time": "2024-06-29T16:13:59.652814Z"
    }
   },
   "cell_type": "code",
   "source": [
    "estimator = Estimator()\n",
    "state_vector = Statevector.from_instruction(ans.initial_state.decompose())\n",
    "PauliX = Pauli('X' * N)\n",
    "PauliY = Pauli('Y' * N)\n",
    "\n",
    "results = {}\n",
    "for i in li:\n",
    "    print(f\"#{i} qubit\")\n",
    "\n",
    "    M_op = np.cos(theta / 2) * SparsePauliOp.from_list([(PauliX.to_label(), i + 1)]) - 1j * np.sin(theta / 2) * SparsePauliOp.from_list([(PauliY.to_label(), i + 1)])\n",
    "    M_op_squared = M_op @ M_op\n",
    "\n",
    "    if i != 0:\n",
    "        expectation_value_M_op = estimator.run([ans.initial_state.decompose()], [M_op]).result().values[0].real\n",
    "        expectation_value_M_op_squared = estimator.run([ans.initial_state.decompose()], [M_op_squared]).result().values[0].real\n",
    "        print(\"Expectation value of M_op:\", expectation_value_M_op)\n",
    "        print(\"Expectation value of M_op_squared:\", expectation_value_M_op_squared)\n",
    "        res = np.round((expectation_value_M_op_squared - expectation_value_M_op ** 2).real, 8)\n",
    "        results[f'res_{i}'] = res\n",
    "        print(\"* Result:\", res, \"*\")\n",
    "\n",
    "        element = np.round(state_vector.data[2 ** (N - 1) + (i - 1)].real, 8)\n",
    "        print(f\"** {i}th qubit | {i}th row | {i}th column:\", element, \"**\\n\")\n",
    "    else:\n",
    "        M_op_0 = np.cos(theta / 2) * SparsePauliOp.from_list([(PauliX.to_label(), 1)]) - 1j * np.sin(theta / 2) * SparsePauliOp.from_list([(PauliY.to_label(), 1)])\n",
    "        M_op_0_squared = M_op_0 @ M_op_0\n",
    "\n",
    "        expectation_value_M_op_0 = estimator.run([ans.initial_state.decompose()], [M_op_0]).result().values[0].real\n",
    "        expectation_value_M_op_0_squared = estimator.run([ans.initial_state.decompose()], [M_op_0_squared]).result().values[0].real\n",
    "        res_0_0_0 = np.round((expectation_value_M_op_0_squared - expectation_value_M_op_0 ** 2).real, 8)\n",
    "        results[f'res_{i}'] = res_0_0_0\n",
    "        print(\"Expectation value of M_op_0:\", expectation_value_M_op_0)\n",
    "        print(\"Expectation value of M_op_0_squared:\", expectation_value_M_op_0_squared)\n",
    "        print(\"* Result:\", res_0_0_0, \"*\")\n",
    "\n",
    "        element_0_0_0 = state_vector.data[0].real\n",
    "        print(\"** 0th qubit | 0th row | 0th column:\", element_0_0_0, \"**\\n\")\n",
    "\n",
    "res_0 = results.get('res_0', 0)\n",
    "res_2 = results.get('res_2', 0)\n",
    "res_7 = results.get('res_7', 0)\n",
    "res_5 = results.get('res_5', 0)\n",
    "\n",
    "G = np.matrix([\n",
    "    [res_0, 0, 0, 0],\n",
    "    [0, res_2, 0, 0],\n",
    "    [0, 0, res_7, 0],\n",
    "    [0, 0, 0, res_5]\n",
    "])\n",
    "\n",
    "for key, value in results.items():\n",
    "    print(f\"{key}: {value}\")\n",
    "\n",
    "print(\"\\nMatrix G:\")\n",
    "print(G) "
   ],
   "id": "11adcc6cee646ccb",
   "outputs": [
    {
     "name": "stdout",
     "output_type": "stream",
     "text": [
      "#0 qubit\n",
      "Expectation value of M_op_0: 0.0\n",
      "Expectation value of M_op_0_squared: 0.7102802987004819\n",
      "* Result: 0.7102803 *\n",
      "** 0th qubit | 0th row | 0th column: 0.008996205444091503 **\n",
      "\n",
      "#2 qubit\n",
      "Expectation value of M_op: 0.0\n",
      "Expectation value of M_op_squared: 6.392522688304337\n",
      "* Result: 6.39252269 *\n",
      "** 2th qubit | 2th row | 2th column: 0.0 **\n",
      "\n",
      "#7 qubit\n",
      "Expectation value of M_op: 0.0\n",
      "Expectation value of M_op_squared: 45.45793911683084\n",
      "* Result: 45.45793912 *\n",
      "** 7th qubit | 7th row | 7th column: 0.0 **\n",
      "\n",
      "#5 qubit\n",
      "Expectation value of M_op: 0.0\n",
      "Expectation value of M_op_squared: 25.570090753217347\n",
      "* Result: 25.57009075 *\n",
      "** 5th qubit | 5th row | 5th column: 0.0 **\n",
      "\n",
      "res_0: 0.7102803\n",
      "res_2: 6.39252269\n",
      "res_7: 45.45793912\n",
      "res_5: 25.57009075\n",
      "\n",
      "Matrix G:\n",
      "[[ 0.7102803   0.          0.          0.        ]\n",
      " [ 0.          6.39252269  0.          0.        ]\n",
      " [ 0.          0.         45.45793912  0.        ]\n",
      " [ 0.          0.          0.         25.57009075]]\n"
     ]
    }
   ],
   "execution_count": 18
  }
 ],
 "metadata": {
  "kernelspec": {
   "display_name": "Python 3",
   "language": "python",
   "name": "python3"
  },
  "language_info": {
   "codemirror_mode": {
    "name": "ipython",
    "version": 2
   },
   "file_extension": ".py",
   "mimetype": "text/x-python",
   "name": "python",
   "nbconvert_exporter": "python",
   "pygments_lexer": "ipython2",
   "version": "2.7.6"
  }
 },
 "nbformat": 4,
 "nbformat_minor": 5
}
