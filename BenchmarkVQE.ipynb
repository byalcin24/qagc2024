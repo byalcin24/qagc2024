{
 "cells": [
  {
   "cell_type": "code",
   "execution_count": 17,
   "id": "edb9a9da-ed77-45b7-9610-29760e255987",
   "metadata": {
    "ExecuteTime": {
     "end_time": "2024-05-30T07:00:48.447054Z",
     "start_time": "2024-05-30T07:00:48.443947Z"
    }
   },
   "outputs": [],
   "source": [
    "import numpy as np\n",
    "from qiskit_nature.second_q.operators import FermionicOp\n",
    "from qiskit_nature.second_q.mappers import JordanWignerMapper, BravyiKitaevMapper"
   ]
  },
  {
   "cell_type": "code",
   "execution_count": 18,
   "id": "74b39bc6-64cc-4995-aeed-519147ab9309",
   "metadata": {
    "ExecuteTime": {
     "end_time": "2024-05-30T07:00:48.453294Z",
     "start_time": "2024-05-30T07:00:48.451187Z"
    }
   },
   "outputs": [],
   "source": [
    "n = 4\n",
    "N = 2*n\n",
    "t=1\n",
    "mu=1.5\n",
    "U=3"
   ]
  },
  {
   "cell_type": "code",
   "execution_count": 19,
   "id": "895d5adb-41ba-4dca-8a05-9c738fd3cbf7",
   "metadata": {
    "ExecuteTime": {
     "end_time": "2024-05-30T07:00:48.456781Z",
     "start_time": "2024-05-30T07:00:48.454721Z"
    }
   },
   "outputs": [],
   "source": [
    "op = FermionicOp(\n",
    "    {\n",
    "        \"+_0 -_0\": 1.0,\n",
    "        \"+_1 -_1\": -1.0,\n",
    "    },\n",
    "    num_spin_orbitals=2,\n",
    ")"
   ]
  },
  {
   "cell_type": "code",
   "execution_count": 20,
   "id": "d7c28209-2bc3-4b57-b2c0-147c98953fab",
   "metadata": {
    "ExecuteTime": {
     "end_time": "2024-05-30T07:00:48.459631Z",
     "start_time": "2024-05-30T07:00:48.457656Z"
    }
   },
   "outputs": [
    {
     "name": "stdout",
     "output_type": "stream",
     "text": [
      "Fermionic Operator\n",
      "number spin orbitals=2, number terms=2\n",
      "  1.0 * ( +_0 -_0 )\n",
      "+ -1.0 * ( +_1 -_1 )\n"
     ]
    }
   ],
   "source": [
    "print(op)"
   ]
  },
  {
   "cell_type": "code",
   "execution_count": 21,
   "id": "2827e220-69f9-4561-8d91-dc1d1cad3040",
   "metadata": {
    "ExecuteTime": {
     "end_time": "2024-05-30T07:00:48.463341Z",
     "start_time": "2024-05-30T07:00:48.461137Z"
    }
   },
   "outputs": [],
   "source": [
    "def qOp(i,j,N=8):\n",
    "    return FermionicOp(\n",
    "    {\n",
    "        \"+_{i} -_{j}\".format(i=i%N,j=j%N): 1.0,\n",
    "    },\n",
    "    num_spin_orbitals=N,\n",
    ")"
   ]
  },
  {
   "cell_type": "code",
   "execution_count": 22,
   "id": "7c3ac5f0-65e7-4744-9975-7b0174319094",
   "metadata": {
    "scrolled": true,
    "ExecuteTime": {
     "end_time": "2024-05-30T07:00:48.467240Z",
     "start_time": "2024-05-30T07:00:48.464269Z"
    }
   },
   "outputs": [
    {
     "name": "stdout",
     "output_type": "stream",
     "text": [
      "Fermionic Operator\n",
      "number spin orbitals=8, number terms=28\n",
      "  3.0 * ( +_0 -_0 +_1 -_1 )\n",
      "+ 3.0 * ( +_2 -_2 +_3 -_3 )\n",
      "+ 3.0 * ( +_4 -_4 +_5 -_5 )\n",
      "+ 3.0 * ( +_6 -_6 +_7 -_7 )\n",
      "+ -1.5 * ( +_5 -_5 )\n",
      "+ -1.5 * ( +_1 -_1 )\n",
      "+ -1.5 * ( +_6 -_6 )\n",
      "+ -1.5 * ( +_2 -_2 )\n",
      "+ -1.5 * ( +_7 -_7 )\n",
      "+ -1.5 * ( +_4 -_4 )\n",
      "+ -1.5 * ( +_0 -_0 )\n",
      "+ -1.5 * ( +_3 -_3 )\n",
      "+ -1.0 * ( +_4 -_6 )\n",
      "+ -1.0 * ( +_2 -_4 )\n",
      "+ -1.0 * ( +_1 -_7 )\n",
      "+ -1.0 * ( +_5 -_3 )\n",
      "+ -1.0 * ( +_2 -_0 )\n",
      "+ -1.0 * ( +_6 -_0 )\n",
      "+ -1.0 * ( +_0 -_2 )\n",
      "+ -1.0 * ( +_4 -_2 )\n",
      "+ -1.0 * ( +_0 -_6 )\n",
      "+ -1.0 * ( +_3 -_1 )\n",
      "+ -1.0 * ( +_7 -_1 )\n",
      "+ -1.0 * ( +_3 -_5 )\n",
      "+ -1.0 * ( +_5 -_7 )\n",
      "+ -1.0 * ( +_6 -_4 )\n",
      "+ -1.0 * ( +_1 -_3 )\n",
      "+ -1.0 * ( +_7 -_5 )\n"
     ]
    }
   ],
   "source": [
    "t_term = 0\n",
    "mu_term =0\n",
    "U_term =0\n",
    "for i in range(n):\n",
    "    t_term+= qOp(2*i,2*i+2) + qOp(2*i+2,2*i) + qOp(2*i+1,2*i+3) + qOp(2*i+3,2*i+1) \n",
    "    mu_term += qOp(2*i,2*i) + qOp(2*i+1,2*i+1)\n",
    "    U_term += (qOp(2*i,2*i) @ qOp(2*i+1, 2*i+1))\n",
    "H = U * U_term - mu * mu_term - t * t_term\n",
    "\n",
    "print(H)"
   ]
  },
  {
   "cell_type": "code",
   "execution_count": 23,
   "id": "8526ada8-9a5c-4f86-a8e7-0979b5c424c8",
   "metadata": {
    "ExecuteTime": {
     "end_time": "2024-05-30T07:00:48.480387Z",
     "start_time": "2024-05-30T07:00:48.468073Z"
    }
   },
   "outputs": [
    {
     "name": "stdout",
     "output_type": "stream",
     "text": [
      "SparsePauliOp(['IIIIIIII', 'IIIIIIZZ', 'IIIIZZII', 'IIZZIIII', 'ZZIIIIII', 'IYZYIIII', 'IXZXIIII', 'IIIYZYII', 'IIIXZXII', 'YZZZZZYI', 'XZZZZZXI', 'IIXZXIII', 'IIYZYIII', 'IIIIIXZX', 'IIIIIYZY', 'IXZZZZZX', 'IYZZZZZY', 'IIIIXZXI', 'IIIIYZYI', 'YZYIIIII', 'XZXIIIII'],\n",
      "              coeffs=[-3.  +0.j,  0.75+0.j,  0.75+0.j,  0.75+0.j,  0.75+0.j, -0.5 +0.j,\n",
      " -0.5 +0.j, -0.5 +0.j, -0.5 +0.j, -0.5 +0.j, -0.5 +0.j, -0.5 +0.j,\n",
      " -0.5 +0.j, -0.5 +0.j, -0.5 +0.j, -0.5 +0.j, -0.5 +0.j, -0.5 +0.j,\n",
      " -0.5 +0.j, -0.5 +0.j, -0.5 +0.j])\n"
     ]
    }
   ],
   "source": [
    "mapper = JordanWignerMapper()\n",
    "qubit_jw_op = mapper.map(H)\n",
    "print(qubit_jw_op)"
   ]
  },
  {
   "cell_type": "code",
   "execution_count": 24,
   "metadata": {
    "ExecuteTime": {
     "end_time": "2024-05-30T07:00:48.491493Z",
     "start_time": "2024-05-30T07:00:48.481972Z"
    }
   },
   "outputs": [
    {
     "ename": "ModuleNotFoundError",
     "evalue": "No module named 'qiskit.algorithms'",
     "output_type": "error",
     "traceback": [
      "\u001B[0;31m---------------------------------------------------------------------------\u001B[0m",
      "\u001B[0;31mModuleNotFoundError\u001B[0m                       Traceback (most recent call last)",
      "Cell \u001B[0;32mIn[24], line 1\u001B[0m\n\u001B[0;32m----> 1\u001B[0m \u001B[38;5;28;01mfrom\u001B[39;00m \u001B[38;5;21;01mqiskit\u001B[39;00m\u001B[38;5;21;01m.\u001B[39;00m\u001B[38;5;21;01malgorithms\u001B[39;00m \u001B[38;5;28;01mimport\u001B[39;00m NumPyEigensolver\n\u001B[1;32m      2\u001B[0m \u001B[38;5;28;01mfrom\u001B[39;00m \u001B[38;5;21;01mqiskit\u001B[39;00m\u001B[38;5;21;01m.\u001B[39;00m\u001B[38;5;21;01mvisualization\u001B[39;00m \u001B[38;5;28;01mimport\u001B[39;00m plot_histogram\n\u001B[1;32m      3\u001B[0m \u001B[38;5;28;01mfrom\u001B[39;00m \u001B[38;5;21;01mqiskit\u001B[39;00m\u001B[38;5;21;01m.\u001B[39;00m\u001B[38;5;21;01mopflow\u001B[39;00m\u001B[38;5;21;01m.\u001B[39;00m\u001B[38;5;21;01mprimitive_ops\u001B[39;00m \u001B[38;5;28;01mimport\u001B[39;00m PauliSumOp\n",
      "\u001B[0;31mModuleNotFoundError\u001B[0m: No module named 'qiskit.algorithms'"
     ]
    }
   ],
   "source": [
    "from qiskit.algorithms import NumPyEigensolver\n",
    "from qiskit.visualization import plot_histogram\n",
    "from qiskit.opflow.primitive_ops import PauliSumOp\n",
    "\n",
    "# find the first three (k=3) eigenvalues\n",
    "exact_solver = NumPyEigensolver(k=3)\n",
    "qubit_jw_op1 = PauliSumOp(qubit_jw_op)\n",
    "exact_result = exact_solver.compute_eigenvalues(qubit_jw_op1)\n",
    "\n",
    "# Save ground state energy for later\n",
    "gs_energy = np.round(exact_result.eigenvalues[0], 4)"
   ],
   "id": "fef13b7ddd16d12e"
  },
  {
   "cell_type": "code",
   "execution_count": null,
   "metadata": {
    "ExecuteTime": {
     "end_time": "2024-05-30T07:00:48.492302Z",
     "start_time": "2024-05-30T07:00:48.492236Z"
    }
   },
   "outputs": [],
   "source": [
    "print(gs_energy)"
   ],
   "id": "3de4cdfb4eab4640"
  },
  {
   "cell_type": "code",
   "execution_count": null,
   "id": "b4a4b8d8-3c1b-41c7-93b5-a9b71fe77d94",
   "metadata": {
    "ExecuteTime": {
     "end_time": "2024-05-30T07:00:48.492864Z",
     "start_time": "2024-05-30T07:00:48.492809Z"
    }
   },
   "outputs": [],
   "source": [
    "from qiskit_algorithms import VQE\n",
    "from qiskit.primitives import Estimator\n",
    "from qiskit.circuit.library import EfficientSU2\n",
    "from qiskit_algorithms.optimizers import SPSA, COBYLA\n",
    "\n",
    "n = qubit_jw_op.num_qubits\n",
    "est = Estimator()\n",
    "ansatz = EfficientSU2(n)\n",
    "optimizer = SPSA(maxiter = 500)\n",
    "intermediate_info = []\n",
    "params_info = []\n",
    "def callback(eval_count,params,value,meta):\n",
    "        intermediate_info.append(value)\n",
    "        params_info.append(params)\n",
    "\n",
    "vqe = VQE(est,ansatz,optimizer,callback = callback)\n"
   ]
  },
  {
   "cell_type": "code",
   "execution_count": null,
   "metadata": {},
   "outputs": [],
   "source": [
    "eigen = vqe.compute_minimum_eigenvalue(qubit_jw_op).eigenvalue"
   ],
   "id": "45bc4e7ca7c932c"
  },
  {
   "cell_type": "code",
   "execution_count": null,
   "metadata": {},
   "outputs": [],
   "source": [
    "print(eigen)"
   ],
   "id": "4f74d13917b7d913"
  },
  {
   "cell_type": "code",
   "execution_count": null,
   "metadata": {},
   "outputs": [],
   "source": [
    "import matplotlib.pyplot as plt\n",
    "plt.plot(intermediate_info, color='purple', lw=2, label='Simulated VQE')\n",
    "plt.ylabel('Energy')\n",
    "plt.xlabel('Iterations')\n",
    "# Exact ground state energy value\n",
    "plt.axhline(y=gs_energy, color=\"tab:red\", ls=\"--\", lw=2, label=\"Target: \" + str(gs_energy))\n",
    "plt.legend()\n",
    "plt.grid()\n",
    "plt.show()"
   ],
   "id": "9e2f08723683014a"
  }
 ],
 "metadata": {
  "kernelspec": {
   "display_name": "Python 3 (ipykernel)",
   "language": "python",
   "name": "python3"
  },
  "language_info": {
   "codemirror_mode": {
    "name": "ipython",
    "version": 3
   },
   "file_extension": ".py",
   "mimetype": "text/x-python",
   "name": "python",
   "nbconvert_exporter": "python",
   "pygments_lexer": "ipython3",
   "version": "3.11.8"
  }
 },
 "nbformat": 4,
 "nbformat_minor": 5
}
